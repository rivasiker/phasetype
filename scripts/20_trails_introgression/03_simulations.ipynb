{
 "cells": [
  {
   "cell_type": "code",
   "execution_count": 333,
   "metadata": {},
   "outputs": [
    {
     "name": "stdout",
     "output_type": "stream",
     "text": [
      "The rpy2.ipython extension is already loaded. To reload it, use:\n",
      "  %reload_ext rpy2.ipython\n"
     ]
    }
   ],
   "source": [
    "import msprime\n",
    "from trails.cutpoints import cutpoints_ABC\n",
    "import re\n",
    "from trails.cutpoints import cutpoints_ABC, cutpoints_AB\n",
    "%load_ext rpy2.ipython"
   ]
  },
  {
   "cell_type": "code",
   "execution_count": 334,
   "metadata": {},
   "outputs": [],
   "source": [
    "import pandas as pd\n",
    "import numpy as np\n",
    "\n",
    "n_int_AB = 1\n",
    "n_int_ABC = 1\n",
    "mu = 2e-8\n",
    "\n",
    "g = 25\n",
    "N_AB = 10_000*2*mu\n",
    "N_ABC = 10_000*2*mu\n",
    "N_ref = N_ABC\n",
    "t_1 = 60_000/g*mu\n",
    "t_2 = (600_000-t_1)/g*mu\n",
    "t_3 = (6_000_000-t_2)/g*mu\n",
    "t_A = t_1\n",
    "t_B = t_1\n",
    "t_C = t_1+t_2\n",
    "t_m = t_1-40_000/g*mu\n",
    "t_upper = t_3-cutpoints_ABC(n_int_ABC,  1/N_ABC)[-2]\n",
    "t_out = t_1+t_2+t_3+2*N_ABC\n",
    "r = 1e-8/mu\n",
    "\n",
    "m = 0.05\n",
    "\n",
    "seed = 3"
   ]
  },
  {
   "cell_type": "code",
   "execution_count": 335,
   "metadata": {},
   "outputs": [
    {
     "data": {
      "text/plain": [
       "0.20040247482826834"
      ]
     },
     "execution_count": 335,
     "metadata": {},
     "output_type": "execute_result"
    }
   ],
   "source": [
    "m*(2/3)*np.exp(-(t_2+t_m)/(N_AB))+(1-m)*(2/3)*np.exp(-(t_2)/(N_AB))"
   ]
  },
  {
   "cell_type": "code",
   "execution_count": 336,
   "metadata": {},
   "outputs": [],
   "source": [
    "n_sites = 10_000_000\n",
    "\n",
    "demography = msprime.Demography()\n",
    "demography.add_population(name=\"A\", initial_size=N_AB, default_sampling_time=t_1-t_A)\n",
    "demography.add_population(name=\"B\", initial_size=N_AB, default_sampling_time=t_1-t_B)\n",
    "demography.add_population(name=\"B_anc\", initial_size=N_AB, initially_active=False)\n",
    "demography.add_population(name=\"C\", initial_size=N_AB, default_sampling_time=t_1+t_2-t_C)\n",
    "demography.add_population(name=\"D\", initial_size=N_AB, default_sampling_time=t_1-t_1)\n",
    "demography.add_population(name=\"AB\", initial_size=N_AB)\n",
    "demography.add_population(name=\"ABC\", initial_size=N_ABC)\n",
    "demography.add_population(name=\"ABCD\", initial_size=N_ABC)\n",
    "demography.add_admixture(time = t_1-t_m, derived=\"B\", ancestral=[\"B_anc\", \"C\"], proportions=(1-m, m))\n",
    "demography.add_population_split(time=t_1, derived=[\"A\", \"B_anc\"], ancestral=\"AB\")\n",
    "demography.add_population_split(time=t_1+t_2, derived=[\"AB\", \"C\"], ancestral=\"ABC\")\n",
    "demography.add_population_split(time=t_1+t_2+t_3, derived=[\"ABC\", \"D\"], ancestral=\"ABCD\")\n",
    "\n",
    "# demography.debug()\n",
    "\n",
    "ts = msprime.sim_ancestry(\n",
    "    {\"A\": 1, \"B\": 1, \"C\": 1,\n",
    "     \"D\": 1\n",
    "    },\n",
    "    demography=demography,\n",
    "    recombination_rate=r,\n",
    "    sequence_length=n_sites,\n",
    "    ploidy=1,\n",
    "    random_seed=seed\n",
    ")"
   ]
  },
  {
   "cell_type": "code",
   "execution_count": 337,
   "metadata": {},
   "outputs": [],
   "source": [
    "import demesdraw\n",
    "import matplotlib.pyplot as plt"
   ]
  },
  {
   "cell_type": "code",
   "execution_count": 338,
   "metadata": {},
   "outputs": [
    {
     "data": {
      "image/png": "[encoded data removed]",
      "text/plain": [
       "<Figure size 432x288 with 1 Axes>"
      ]
     },
     "metadata": {
      "needs_background": "light"
     },
     "output_type": "display_data"
    }
   ],
   "source": [
    "graph = msprime.Demography.to_demes(demography)\n",
    "fig, ax = plt.subplots()  # use plt.rcParams[\"figure.figsize\"]\n",
    "demesdraw.tubes(graph, ax=ax, seed=1)\n",
    "plt.show()"
   ]
  },
  {
   "cell_type": "code",
   "execution_count": 339,
   "metadata": {},
   "outputs": [],
   "source": [
    "# ts.draw_svg(y_axis=True)"
   ]
  },
  {
   "cell_type": "code",
   "execution_count": 340,
   "metadata": {},
   "outputs": [],
   "source": [
    "coal_ABC = N_ref/N_ABC\n",
    "coal_AB = N_ref/N_AB\n",
    "cut_ABC = t_1+t_2+cutpoints_ABC(n_int_ABC, coal_ABC)\n",
    "cut_AB = t_1+cutpoints_AB(n_int_AB, t_2, coal_AB)\n",
    "cut_AB_2 = np.array([t_1-t_m]+list(cut_AB)[1::])\n",
    "\n",
    "left_lst = []\n",
    "right_lst = []\n",
    "tree_state = []\n",
    "t_AB_vec = []\n",
    "t_ABC_vec = []\n",
    "for t in ts.trees():\n",
    "    # Append start coordinate\n",
    "    left_lst.append(t.interval.left)\n",
    "    # Append end coordinate\n",
    "    right_lst.append(t.interval.right-1)\n",
    "    # Get all non-zero coalescent times\n",
    "    ntimes = [ts.nodes()[n].time for n in t.nodes() if ts.nodes()[n].time not in [0, t_1-t_A, t_1-t_B, t_1-t_C]]\n",
    "    ntimes = sorted(ntimes)\n",
    "    # Get time of the first event\n",
    "    mint = ntimes[0]\n",
    "    mint2 = ntimes[1]\n",
    "    # Find topology\n",
    "    find_re = re.findall(\"n\\d,n\\d\", t.as_newick(include_branch_lengths=False))[0]\n",
    "    # Sort species within topology\n",
    "    find_re = sorted(find_re.split(','))\n",
    "    # If V0 or V1\n",
    "    if find_re == ['n0', 'n1']:\n",
    "        # If the time of the first coalescent is larger than the deepest speciation event\n",
    "        if mint>=(t_1+t_2):\n",
    "            state = (1, (mint>cut_ABC).sum()-1, (mint2>cut_ABC).sum()-1)\n",
    "            # Append V1 state\n",
    "        else:\n",
    "            state = (0, (mint>cut_AB).sum()-1, (mint2>cut_ABC).sum()-1)\n",
    "            # Append V0 state\n",
    "    # If V2\n",
    "    elif find_re == ['n0', 'n2']:\n",
    "        state = (2, (mint>cut_ABC).sum()-1, (mint2>cut_ABC).sum()-1)\n",
    "    # If V3\n",
    "    elif find_re == ['n1', 'n2']:\n",
    "        if mint>=(t_1+t_2):\n",
    "            state = (3, (mint>cut_ABC).sum()-1, (mint2>cut_ABC).sum()-1)\n",
    "        else:\n",
    "            state = (4, (mint>cut_AB_2).sum()-1, (mint2>cut_ABC).sum()-1)\n",
    "    else:\n",
    "        state = (5, (mint>cut_ABC).sum()-1, (mint2>cut_ABC).sum()-1)\n",
    "    tree_state.append(state)\n",
    "    t_AB_vec.append(mint)\n",
    "    t_ABC_vec.append(mint2)"
   ]
  },
  {
   "cell_type": "code",
   "execution_count": 341,
   "metadata": {},
   "outputs": [
    {
     "data": {
      "text/plain": [
       "{(0, 0, 0), (1, 0, 0), (2, 0, 0), (3, 0, 0), (4, 0, 0)}"
      ]
     },
     "execution_count": 341,
     "metadata": {},
     "output_type": "execute_result"
    }
   ],
   "source": [
    "set(tree_state)"
   ]
  },
  {
   "cell_type": "code",
   "execution_count": 342,
   "metadata": {},
   "outputs": [
    {
     "data": {
      "text/html": [
       "<div>\n",
       "<style scoped>\n",
       "    .dataframe tbody tr th:only-of-type {\n",
       "        vertical-align: middle;\n",
       "    }\n",
       "\n",
       "    .dataframe tbody tr th {\n",
       "        vertical-align: top;\n",
       "    }\n",
       "\n",
       "    .dataframe thead th {\n",
       "        text-align: right;\n",
       "    }\n",
       "</style>\n",
       "<table border=\"1\" class=\"dataframe\">\n",
       "  <thead>\n",
       "    <tr style=\"text-align: right;\">\n",
       "      <th></th>\n",
       "      <th>state</th>\n",
       "      <th>start</th>\n",
       "      <th>end</th>\n",
       "    </tr>\n",
       "  </thead>\n",
       "  <tbody>\n",
       "    <tr>\n",
       "      <th>0</th>\n",
       "      <td>(0, 0, 0)</td>\n",
       "      <td>0.0</td>\n",
       "      <td>3234.0</td>\n",
       "    </tr>\n",
       "    <tr>\n",
       "      <th>1</th>\n",
       "      <td>(0, 0, 0)</td>\n",
       "      <td>3235.0</td>\n",
       "      <td>5848.0</td>\n",
       "    </tr>\n",
       "    <tr>\n",
       "      <th>2</th>\n",
       "      <td>(0, 0, 0)</td>\n",
       "      <td>5849.0</td>\n",
       "      <td>6317.0</td>\n",
       "    </tr>\n",
       "    <tr>\n",
       "      <th>3</th>\n",
       "      <td>(0, 0, 0)</td>\n",
       "      <td>6318.0</td>\n",
       "      <td>7224.0</td>\n",
       "    </tr>\n",
       "    <tr>\n",
       "      <th>4</th>\n",
       "      <td>(2, 0, 0)</td>\n",
       "      <td>7225.0</td>\n",
       "      <td>8109.0</td>\n",
       "    </tr>\n",
       "    <tr>\n",
       "      <th>...</th>\n",
       "      <td>...</td>\n",
       "      <td>...</td>\n",
       "      <td>...</td>\n",
       "    </tr>\n",
       "    <tr>\n",
       "      <th>12626</th>\n",
       "      <td>(2, 0, 0)</td>\n",
       "      <td>9994894.0</td>\n",
       "      <td>9997579.0</td>\n",
       "    </tr>\n",
       "    <tr>\n",
       "      <th>12627</th>\n",
       "      <td>(1, 0, 0)</td>\n",
       "      <td>9997580.0</td>\n",
       "      <td>9998369.0</td>\n",
       "    </tr>\n",
       "    <tr>\n",
       "      <th>12628</th>\n",
       "      <td>(1, 0, 0)</td>\n",
       "      <td>9998370.0</td>\n",
       "      <td>9998899.0</td>\n",
       "    </tr>\n",
       "    <tr>\n",
       "      <th>12629</th>\n",
       "      <td>(2, 0, 0)</td>\n",
       "      <td>9998900.0</td>\n",
       "      <td>9999144.0</td>\n",
       "    </tr>\n",
       "    <tr>\n",
       "      <th>12630</th>\n",
       "      <td>(0, 0, 0)</td>\n",
       "      <td>9999145.0</td>\n",
       "      <td>9999999.0</td>\n",
       "    </tr>\n",
       "  </tbody>\n",
       "</table>\n",
       "<p>12631 rows × 3 columns</p>\n",
       "</div>"
      ],
      "text/plain": [
       "           state      start        end\n",
       "0      (0, 0, 0)        0.0     3234.0\n",
       "1      (0, 0, 0)     3235.0     5848.0\n",
       "2      (0, 0, 0)     5849.0     6317.0\n",
       "3      (0, 0, 0)     6318.0     7224.0\n",
       "4      (2, 0, 0)     7225.0     8109.0\n",
       "...          ...        ...        ...\n",
       "12626  (2, 0, 0)  9994894.0  9997579.0\n",
       "12627  (1, 0, 0)  9997580.0  9998369.0\n",
       "12628  (1, 0, 0)  9998370.0  9998899.0\n",
       "12629  (2, 0, 0)  9998900.0  9999144.0\n",
       "12630  (0, 0, 0)  9999145.0  9999999.0\n",
       "\n",
       "[12631 rows x 3 columns]"
      ]
     },
     "execution_count": 342,
     "metadata": {},
     "output_type": "execute_result"
    }
   ],
   "source": [
    "df = pd.DataFrame()\n",
    "df['state'] = [str(i) for i in tree_state]\n",
    "df['start'] = left_lst\n",
    "df['end'] = right_lst\n",
    "df"
   ]
  },
  {
   "cell_type": "code",
   "execution_count": 343,
   "metadata": {},
   "outputs": [
    {
     "name": "stdout",
     "output_type": "stream",
     "text": [
      "# A tibble: 5 × 2\n",
      "  state      total\n",
      "  <chr>      <dbl>\n",
      "1 (0, 0, 0) 0.644 \n",
      "2 (1, 0, 0) 0.118 \n",
      "3 (2, 0, 0) 0.0997\n",
      "4 (3, 0, 0) 0.113 \n",
      "5 (4, 0, 0) 0.0240\n"
     ]
    }
   ],
   "source": [
    "%%R -i df -i n_sites\n",
    "\n",
    "library(tidyverse)\n",
    "\n",
    "tibble(df) %>%\n",
    "    group_by(state) %>%\n",
    "    summarize(total = sum(end-start)/n_sites)"
   ]
  },
  {
   "cell_type": "code",
   "execution_count": 344,
   "metadata": {},
   "outputs": [
    {
     "data": {
      "text/plain": [
       "array([0.6638655 , 0.10020124, 0.10020124, 0.10020124, 0.03553079])"
      ]
     },
     "execution_count": 344,
     "metadata": {},
     "output_type": "execute_result"
    }
   ],
   "source": [
    "from trails.optimizer import trans_emiss_calc_introgression\n",
    "\n",
    "transitions, emissions, starting, hidden_states, observed_states = trans_emiss_calc_introgression(\n",
    "    t_1, t_1, t_1+t_2, t_2, t_upper, t_out, t_m,\n",
    "    N_AB, N_ABC, r, m, n_int_AB, n_int_ABC)\n",
    "\n",
    "starting"
   ]
  }
 ],
 "metadata": {
  "kernelspec": {
   "display_name": "phasetype",
   "language": "python",
   "name": "python3"
  },
  "language_info": {
   "codemirror_mode": {
    "name": "ipython",
    "version": 3
   },
   "file_extension": ".py",
   "mimetype": "text/x-python",
   "name": "python",
   "nbconvert_exporter": "python",
   "pygments_lexer": "ipython3",
   "version": "3.8.10"
  },
  "orig_nbformat": 4
 },
 "nbformat": 4,
 "nbformat_minor": 2
}
