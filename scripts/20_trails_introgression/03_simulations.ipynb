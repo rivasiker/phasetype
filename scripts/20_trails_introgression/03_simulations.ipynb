{
 "cells": [
  {
   "cell_type": "code",
   "execution_count": 5,
   "metadata": {},
   "outputs": [
    {
     "name": "stdout",
     "output_type": "stream",
     "text": [
      "The rpy2.ipython extension is already loaded. To reload it, use:\n",
      "  %reload_ext rpy2.ipython\n"
     ]
    }
   ],
   "source": [
    "import msprime\n",
    "from trails.cutpoints import cutpoints_ABC\n",
    "import re\n",
    "from trails.cutpoints import cutpoints_ABC, cutpoints_AB\n",
    "%load_ext rpy2.ipython"
   ]
  },
  {
   "cell_type": "code",
   "execution_count": 6,
   "metadata": {},
   "outputs": [],
   "source": [
    "import pandas as pd\n",
    "import numpy as np\n",
    "\n",
    "n_int_AB = 1\n",
    "n_int_ABC = 1\n",
    "\n",
    "# mu = 2e-8\n",
    "# g = 25\n",
    "# N_AB = 30_000*2*mu\n",
    "# N_ABC = 30_000*2*mu\n",
    "# N_ref = N_ABC\n",
    "# t_1 = 60_000/g*mu\n",
    "# t_2 = (600_000-t_1)/g*mu\n",
    "# t_3 = (20_000_000-t_2)/g*mu\n",
    "# t_A = t_1\n",
    "# t_B = t_1\n",
    "# t_C = t_1+t_2\n",
    "# t_m = t_1-40_000/g*mu\n",
    "# t_upper = t_3-cutpoints_ABC(n_int_ABC,  1/N_ABC)[-2]\n",
    "# t_out = t_1+t_2+t_3+2*N_ABC\n",
    "# r = 1e-8/mu\n",
    "# mu = mu/mu\n",
    "# m = 0.20\n",
    "# seed = 2\n",
    "\n",
    "mu = 1.25e-8\n",
    "g = 29\n",
    "N_AB = 7_000*2*mu\n",
    "N_ABC = 7_000*2*mu\n",
    "N_ref = N_ABC\n",
    "t_1 = 62_041/g*mu\n",
    "t_2 = (580_000-t_1)/g*mu\n",
    "t_3 = (6_000_000-t_2)/g*mu\n",
    "t_A = t_1\n",
    "t_B = t_1\n",
    "t_C = t_1+t_2\n",
    "t_m = t_1-54_000/g*mu\n",
    "t_upper = t_3-cutpoints_ABC(n_int_ABC,  1/N_ABC)[-2]\n",
    "t_out = t_1+t_2+t_3+2*N_ABC\n",
    "r = 1e-8/mu\n",
    "mu = mu/mu\n",
    "m = 0.02\n",
    "\n",
    "seed = 2"
   ]
  },
  {
   "cell_type": "code",
   "execution_count": 7,
   "metadata": {},
   "outputs": [
    {
     "data": {
      "text/plain": [
       "0.1597046950279733"
      ]
     },
     "execution_count": 7,
     "metadata": {},
     "output_type": "execute_result"
    }
   ],
   "source": [
    "m*(2/3)*np.exp(-(t_2+t_m)/(N_AB))+(1-m)*(2/3)*np.exp(-(t_2)/(N_AB))"
   ]
  },
  {
   "cell_type": "code",
   "execution_count": 8,
   "metadata": {},
   "outputs": [
    {
     "data": {
      "text/plain": [
       "array([0.74514198, 0.07985235, 0.07985235, 0.07985235, 0.01530097])"
      ]
     },
     "execution_count": 8,
     "metadata": {},
     "output_type": "execute_result"
    }
   ],
   "source": [
    "from trails.optimizer import trans_emiss_calc_introgression\n",
    "\n",
    "# t_A_bis = 9.760626404331717e-06\t\n",
    "# t_B_bis = 1.3972830597438445e-05\t\n",
    "# t_C_bis = 0.00042886096228597425\t\n",
    "# t_2_bis = 0.0004058914048049397\t\n",
    "# t_upper_bis = 0.0048043513891500795\t\n",
    "# t_m_bis = 1.5577290776046196e-05\t\n",
    "# N_AB_bis = 0.00046680278025359567\t\n",
    "# N_ABC_bis = 0.000465186413352549\t\n",
    "# r_bis = 0.4066869848559081\t\n",
    "# m_bis = 0.0530950550095846\n",
    "# cut_ABC = cutpoints_ABC(n_int_ABC, 1)\n",
    "# t_out_bis = (((t_A_bis+t_B_bis)/2+t_2_bis)+t_C_bis)/2 + cut_ABC[n_int_ABC-1]*N_ABC_bis + t_upper_bis + 2*N_ABC_bis\n",
    "# transitions, emissions, starting, hidden_states, observed_states = trans_emiss_calc_introgression(\n",
    "#     t_A_bis, t_B_bis, t_C_bis, t_2_bis, t_upper_bis, t_out_bis, t_m_bis,\n",
    "#     N_AB_bis, N_ABC_bis, r_bis, m_bis, n_int_AB, n_int_ABC)\n",
    "\n",
    "transitions, emissions, starting, hidden_states, observed_states = trans_emiss_calc_introgression(\n",
    "    t_1, t_1, t_1+t_2, t_2, t_upper, t_out, t_m,\n",
    "    N_AB, N_ABC, r, m, n_int_AB, n_int_ABC)\n",
    "\n",
    "starting"
   ]
  },
  {
   "cell_type": "code",
   "execution_count": 9,
   "metadata": {},
   "outputs": [],
   "source": [
    "n_sites = 1_000_000\n",
    "\n",
    "demography = msprime.Demography()\n",
    "demography.add_population(name=\"A\", initial_size=N_AB, default_sampling_time=t_1-t_A)\n",
    "demography.add_population(name=\"B\", initial_size=N_AB, default_sampling_time=t_1-t_B)\n",
    "demography.add_population(name=\"B_anc\", initial_size=N_AB, initially_active=False)\n",
    "demography.add_population(name=\"C\", initial_size=N_AB, default_sampling_time=t_1+t_2-t_C)\n",
    "demography.add_population(name=\"D\", initial_size=N_AB, default_sampling_time=t_1-t_1)\n",
    "demography.add_population(name=\"AB\", initial_size=N_AB)\n",
    "demography.add_population(name=\"ABC\", initial_size=N_ABC)\n",
    "demography.add_population(name=\"ABCD\", initial_size=N_ABC)\n",
    "demography.add_admixture(time = t_1-t_m, derived=\"B\", ancestral=[\"B_anc\", \"C\"], proportions=(1-m, m))\n",
    "demography.add_population_split(time=t_1, derived=[\"A\", \"B_anc\"], ancestral=\"AB\")\n",
    "demography.add_population_split(time=t_1+t_2, derived=[\"AB\", \"C\"], ancestral=\"ABC\")\n",
    "demography.add_population_split(time=t_1+t_2+t_3, derived=[\"ABC\", \"D\"], ancestral=\"ABCD\")\n",
    "\n",
    "# demography.debug()\n",
    "\n",
    "ts = msprime.sim_ancestry(\n",
    "    {\"A\": 1, \"B\": 1, \"C\": 1,\n",
    "     \"D\": 1\n",
    "    },\n",
    "    demography=demography,\n",
    "    recombination_rate=r,\n",
    "    sequence_length=n_sites,\n",
    "    ploidy=1,\n",
    "    random_seed=seed\n",
    ")\n",
    "\n"
   ]
  },
  {
   "cell_type": "code",
   "execution_count": 10,
   "metadata": {},
   "outputs": [],
   "source": [
    "# Add mutations\n",
    "dct = {v: k for k, v in observed_states.items()}\n",
    "\n",
    "mutated_ts = msprime.sim_mutations(ts, rate=mu, random_seed=seed)\n",
    "\n",
    "nochange_lst = [dct['AAAA'], dct['CCCC'], dct['TTTT'], dct['GGGG']]\n",
    "sim_genome = np.random.choice(nochange_lst, n_sites)\n",
    "\n",
    "mut_lst = []\n",
    "mut_loc = []\n",
    "for variant in mutated_ts.variants():\n",
    "    mut_loc.append(variant.site.position)\n",
    "    mut_lst.append(''.join([variant.alleles[i] for i in variant.genotypes]))\n",
    "\n",
    "for i in range(len(mut_loc)):\n",
    "    sim_genome[int(mut_loc[i])] = dct[mut_lst[i]]\n",
    "\n",
    "E = sim_genome"
   ]
  },
  {
   "cell_type": "code",
   "execution_count": 11,
   "metadata": {},
   "outputs": [],
   "source": [
    "# from trails.optimizer import loglik_wrapper\n",
    "\n",
    "# loglik = loglik_wrapper(transitions, emissions, starting, [E])\n",
    "\n",
    "# loglik"
   ]
  },
  {
   "cell_type": "code",
   "execution_count": 12,
   "metadata": {},
   "outputs": [],
   "source": [
    "# from numba.typed import List\n",
    "# from trails.read_data import get_idx_state\n",
    "# from trails.optimizer import forward\n",
    "\n",
    "# order = List()\n",
    "# for i in range(624+1):\n",
    "#     order.append(get_idx_state(i))\n",
    "\n",
    "# alpha = forward(transitions, emissions, starting, E, order)\n"
   ]
  },
  {
   "cell_type": "code",
   "execution_count": 13,
   "metadata": {},
   "outputs": [],
   "source": [
    "from trails.optimizer import post_prob_wrapper\n",
    "\n",
    "postprobs = post_prob_wrapper(transitions, emissions, starting, [E])\n"
   ]
  },
  {
   "cell_type": "code",
   "execution_count": 14,
   "metadata": {},
   "outputs": [],
   "source": [
    "postprobs_df = pd.DataFrame(postprobs[0], columns=[str(i) for i in hidden_states.values()])\n",
    "postprobs_df = postprobs_df[0:1000000]"
   ]
  },
  {
   "cell_type": "code",
   "execution_count": 15,
   "metadata": {},
   "outputs": [
    {
     "data": {
      "text/html": [
       "<div>\n",
       "<style scoped>\n",
       "    .dataframe tbody tr th:only-of-type {\n",
       "        vertical-align: middle;\n",
       "    }\n",
       "\n",
       "    .dataframe tbody tr th {\n",
       "        vertical-align: top;\n",
       "    }\n",
       "\n",
       "    .dataframe thead th {\n",
       "        text-align: right;\n",
       "    }\n",
       "</style>\n",
       "<table border=\"1\" class=\"dataframe\">\n",
       "  <thead>\n",
       "    <tr style=\"text-align: right;\">\n",
       "      <th></th>\n",
       "      <th>(0, 0, 0)</th>\n",
       "      <th>(1, 0, 0)</th>\n",
       "      <th>(2, 0, 0)</th>\n",
       "      <th>(3, 0, 0)</th>\n",
       "      <th>(4, 0, 0)</th>\n",
       "    </tr>\n",
       "  </thead>\n",
       "  <tbody>\n",
       "    <tr>\n",
       "      <th>0</th>\n",
       "      <td>0.990630</td>\n",
       "      <td>0.003500</td>\n",
       "      <td>0.002923</td>\n",
       "      <td>0.002923</td>\n",
       "      <td>0.000024</td>\n",
       "    </tr>\n",
       "    <tr>\n",
       "      <th>1</th>\n",
       "      <td>0.990634</td>\n",
       "      <td>0.003498</td>\n",
       "      <td>0.002922</td>\n",
       "      <td>0.002922</td>\n",
       "      <td>0.000024</td>\n",
       "    </tr>\n",
       "    <tr>\n",
       "      <th>2</th>\n",
       "      <td>0.990638</td>\n",
       "      <td>0.003497</td>\n",
       "      <td>0.002921</td>\n",
       "      <td>0.002920</td>\n",
       "      <td>0.000024</td>\n",
       "    </tr>\n",
       "    <tr>\n",
       "      <th>3</th>\n",
       "      <td>0.990642</td>\n",
       "      <td>0.003496</td>\n",
       "      <td>0.002919</td>\n",
       "      <td>0.002919</td>\n",
       "      <td>0.000024</td>\n",
       "    </tr>\n",
       "    <tr>\n",
       "      <th>4</th>\n",
       "      <td>0.990646</td>\n",
       "      <td>0.003495</td>\n",
       "      <td>0.002918</td>\n",
       "      <td>0.002918</td>\n",
       "      <td>0.000024</td>\n",
       "    </tr>\n",
       "    <tr>\n",
       "      <th>...</th>\n",
       "      <td>...</td>\n",
       "      <td>...</td>\n",
       "      <td>...</td>\n",
       "      <td>...</td>\n",
       "      <td>...</td>\n",
       "    </tr>\n",
       "    <tr>\n",
       "      <th>999995</th>\n",
       "      <td>0.536480</td>\n",
       "      <td>0.279510</td>\n",
       "      <td>0.082422</td>\n",
       "      <td>0.095913</td>\n",
       "      <td>0.005674</td>\n",
       "    </tr>\n",
       "    <tr>\n",
       "      <th>999996</th>\n",
       "      <td>0.536390</td>\n",
       "      <td>0.279524</td>\n",
       "      <td>0.082460</td>\n",
       "      <td>0.095949</td>\n",
       "      <td>0.005677</td>\n",
       "    </tr>\n",
       "    <tr>\n",
       "      <th>999997</th>\n",
       "      <td>0.536300</td>\n",
       "      <td>0.279539</td>\n",
       "      <td>0.082497</td>\n",
       "      <td>0.095984</td>\n",
       "      <td>0.005679</td>\n",
       "    </tr>\n",
       "    <tr>\n",
       "      <th>999998</th>\n",
       "      <td>0.536211</td>\n",
       "      <td>0.279553</td>\n",
       "      <td>0.082535</td>\n",
       "      <td>0.096020</td>\n",
       "      <td>0.005682</td>\n",
       "    </tr>\n",
       "    <tr>\n",
       "      <th>999999</th>\n",
       "      <td>0.536121</td>\n",
       "      <td>0.279568</td>\n",
       "      <td>0.082572</td>\n",
       "      <td>0.096056</td>\n",
       "      <td>0.005684</td>\n",
       "    </tr>\n",
       "  </tbody>\n",
       "</table>\n",
       "<p>1000000 rows × 5 columns</p>\n",
       "</div>"
      ],
      "text/plain": [
       "        (0, 0, 0)  (1, 0, 0)  (2, 0, 0)  (3, 0, 0)  (4, 0, 0)\n",
       "0        0.990630   0.003500   0.002923   0.002923   0.000024\n",
       "1        0.990634   0.003498   0.002922   0.002922   0.000024\n",
       "2        0.990638   0.003497   0.002921   0.002920   0.000024\n",
       "3        0.990642   0.003496   0.002919   0.002919   0.000024\n",
       "4        0.990646   0.003495   0.002918   0.002918   0.000024\n",
       "...           ...        ...        ...        ...        ...\n",
       "999995   0.536480   0.279510   0.082422   0.095913   0.005674\n",
       "999996   0.536390   0.279524   0.082460   0.095949   0.005677\n",
       "999997   0.536300   0.279539   0.082497   0.095984   0.005679\n",
       "999998   0.536211   0.279553   0.082535   0.096020   0.005682\n",
       "999999   0.536121   0.279568   0.082572   0.096056   0.005684\n",
       "\n",
       "[1000000 rows x 5 columns]"
      ]
     },
     "execution_count": 15,
     "metadata": {},
     "output_type": "execute_result"
    }
   ],
   "source": [
    "postprobs_df"
   ]
  },
  {
   "cell_type": "code",
   "execution_count": 16,
   "metadata": {},
   "outputs": [],
   "source": [
    "# import demesdraw\n",
    "# import matplotlib.pyplot as plt"
   ]
  },
  {
   "cell_type": "code",
   "execution_count": 17,
   "metadata": {},
   "outputs": [],
   "source": [
    "# graph = msprime.Demography.to_demes(demography)\n",
    "# fig, ax = plt.subplots()  # use plt.rcParams[\"figure.figsize\"]\n",
    "# demesdraw.tubes(graph, ax=ax, seed=1)\n",
    "# plt.show()"
   ]
  },
  {
   "cell_type": "code",
   "execution_count": 18,
   "metadata": {},
   "outputs": [],
   "source": [
    "# ts.draw_svg(y_axis=True)"
   ]
  },
  {
   "cell_type": "code",
   "execution_count": 19,
   "metadata": {},
   "outputs": [],
   "source": [
    "cut_ABC = t_1+t_2+cutpoints_ABC(n_int_ABC, 1/N_ABC)\n",
    "cut_AB = t_1+cutpoints_AB(n_int_AB, t_2, 1/N_AB)\n",
    "cut_AB_2 = np.array([t_1-t_m]+list(cut_AB)[1::])\n",
    "\n",
    "left_lst = []\n",
    "right_lst = []\n",
    "tree_state = []\n",
    "t_AB_vec = []\n",
    "t_ABC_vec = []\n",
    "for t in ts.trees():\n",
    "    # Append start coordinate\n",
    "    left_lst.append(t.interval.left)\n",
    "    # Append end coordinate\n",
    "    right_lst.append(t.interval.right-1)\n",
    "    # Get all non-zero coalescent times\n",
    "    ntimes = [ts.nodes()[n].time for n in t.nodes() if ts.nodes()[n].time not in [0, t_1-t_A, t_1-t_B, t_1-t_C]]\n",
    "    ntimes = sorted(ntimes)\n",
    "    # Get time of the first event\n",
    "    mint = ntimes[0]\n",
    "    mint2 = ntimes[1]\n",
    "    # Find topology\n",
    "    find_re = re.findall(\"n\\d,n\\d\", t.as_newick(include_branch_lengths=False))[0]\n",
    "    # Sort species within topology\n",
    "    find_re = sorted(find_re.split(','))\n",
    "    # If V0 or V1\n",
    "    if find_re == ['n0', 'n1']:\n",
    "        # If the time of the first coalescent is larger than the deepest speciation event\n",
    "        if mint>=(t_1+t_2):\n",
    "            state = (1, (mint>cut_ABC).sum()-1, (mint2>cut_ABC).sum()-1)\n",
    "            # Append V1 state\n",
    "        else:\n",
    "            state = (0, (mint>cut_AB).sum()-1, (mint2>cut_ABC).sum()-1)\n",
    "            # Append V0 state\n",
    "    # If V2\n",
    "    elif find_re == ['n0', 'n2']:\n",
    "        state = (2, (mint>cut_ABC).sum()-1, (mint2>cut_ABC).sum()-1)\n",
    "    # If V3\n",
    "    elif find_re == ['n1', 'n2']:\n",
    "        if mint>=(t_1+t_2):\n",
    "            state = (3, (mint>cut_ABC).sum()-1, (mint2>cut_ABC).sum()-1)\n",
    "        else:\n",
    "            state = (4, (mint>cut_AB_2).sum()-1, (mint2>cut_ABC).sum()-1)\n",
    "    else:\n",
    "        state = (5, (mint>cut_ABC).sum()-1, (mint2>cut_ABC).sum()-1)\n",
    "        print((find_re, (mint>cut_ABC).sum()-1, (mint2>cut_ABC).sum()-1))\n",
    "    tree_state.append(state)\n",
    "    t_AB_vec.append(mint)\n",
    "    t_ABC_vec.append(mint2)"
   ]
  },
  {
   "cell_type": "code",
   "execution_count": 20,
   "metadata": {},
   "outputs": [
    {
     "data": {
      "text/plain": [
       "{(0, 0, 0), (1, 0, 0), (2, 0, 0), (3, 0, 0), (4, 0, 0)}"
      ]
     },
     "execution_count": 20,
     "metadata": {},
     "output_type": "execute_result"
    }
   ],
   "source": [
    "set(tree_state)"
   ]
  },
  {
   "cell_type": "code",
   "execution_count": 21,
   "metadata": {},
   "outputs": [
    {
     "data": {
      "text/html": [
       "<div>\n",
       "<style scoped>\n",
       "    .dataframe tbody tr th:only-of-type {\n",
       "        vertical-align: middle;\n",
       "    }\n",
       "\n",
       "    .dataframe tbody tr th {\n",
       "        vertical-align: top;\n",
       "    }\n",
       "\n",
       "    .dataframe thead th {\n",
       "        text-align: right;\n",
       "    }\n",
       "</style>\n",
       "<table border=\"1\" class=\"dataframe\">\n",
       "  <thead>\n",
       "    <tr style=\"text-align: right;\">\n",
       "      <th></th>\n",
       "      <th>state</th>\n",
       "      <th>start</th>\n",
       "      <th>end</th>\n",
       "    </tr>\n",
       "  </thead>\n",
       "  <tbody>\n",
       "    <tr>\n",
       "      <th>0</th>\n",
       "      <td>(0, 0, 0)</td>\n",
       "      <td>0.0</td>\n",
       "      <td>29.0</td>\n",
       "    </tr>\n",
       "    <tr>\n",
       "      <th>1</th>\n",
       "      <td>(0, 0, 0)</td>\n",
       "      <td>30.0</td>\n",
       "      <td>1180.0</td>\n",
       "    </tr>\n",
       "    <tr>\n",
       "      <th>2</th>\n",
       "      <td>(0, 0, 0)</td>\n",
       "      <td>1181.0</td>\n",
       "      <td>1371.0</td>\n",
       "    </tr>\n",
       "    <tr>\n",
       "      <th>3</th>\n",
       "      <td>(0, 0, 0)</td>\n",
       "      <td>1372.0</td>\n",
       "      <td>3160.0</td>\n",
       "    </tr>\n",
       "    <tr>\n",
       "      <th>4</th>\n",
       "      <td>(0, 0, 0)</td>\n",
       "      <td>3161.0</td>\n",
       "      <td>4803.0</td>\n",
       "    </tr>\n",
       "    <tr>\n",
       "      <th>...</th>\n",
       "      <td>...</td>\n",
       "      <td>...</td>\n",
       "      <td>...</td>\n",
       "    </tr>\n",
       "    <tr>\n",
       "      <th>846</th>\n",
       "      <td>(0, 0, 0)</td>\n",
       "      <td>994572.0</td>\n",
       "      <td>995896.0</td>\n",
       "    </tr>\n",
       "    <tr>\n",
       "      <th>847</th>\n",
       "      <td>(0, 0, 0)</td>\n",
       "      <td>995897.0</td>\n",
       "      <td>998463.0</td>\n",
       "    </tr>\n",
       "    <tr>\n",
       "      <th>848</th>\n",
       "      <td>(0, 0, 0)</td>\n",
       "      <td>998464.0</td>\n",
       "      <td>998898.0</td>\n",
       "    </tr>\n",
       "    <tr>\n",
       "      <th>849</th>\n",
       "      <td>(0, 0, 0)</td>\n",
       "      <td>998899.0</td>\n",
       "      <td>999065.0</td>\n",
       "    </tr>\n",
       "    <tr>\n",
       "      <th>850</th>\n",
       "      <td>(0, 0, 0)</td>\n",
       "      <td>999066.0</td>\n",
       "      <td>999999.0</td>\n",
       "    </tr>\n",
       "  </tbody>\n",
       "</table>\n",
       "<p>851 rows × 3 columns</p>\n",
       "</div>"
      ],
      "text/plain": [
       "         state     start       end\n",
       "0    (0, 0, 0)       0.0      29.0\n",
       "1    (0, 0, 0)      30.0    1180.0\n",
       "2    (0, 0, 0)    1181.0    1371.0\n",
       "3    (0, 0, 0)    1372.0    3160.0\n",
       "4    (0, 0, 0)    3161.0    4803.0\n",
       "..         ...       ...       ...\n",
       "846  (0, 0, 0)  994572.0  995896.0\n",
       "847  (0, 0, 0)  995897.0  998463.0\n",
       "848  (0, 0, 0)  998464.0  998898.0\n",
       "849  (0, 0, 0)  998899.0  999065.0\n",
       "850  (0, 0, 0)  999066.0  999999.0\n",
       "\n",
       "[851 rows x 3 columns]"
      ]
     },
     "execution_count": 21,
     "metadata": {},
     "output_type": "execute_result"
    }
   ],
   "source": [
    "df = pd.DataFrame()\n",
    "df['state'] = [str(i) for i in tree_state]\n",
    "df['start'] = left_lst\n",
    "df['end'] = right_lst\n",
    "df"
   ]
  },
  {
   "cell_type": "code",
   "execution_count": 22,
   "metadata": {},
   "outputs": [
    {
     "name": "stderr",
     "output_type": "stream",
     "text": [
      "R[write to console]: ── Attaching packages ─────────────────────────────────────── tidyverse 1.3.1 ──\n",
      "\n",
      "R[write to console]: ✔ ggplot2 3.3.5     ✔ purrr   0.3.4\n",
      "✔ tibble  3.1.5     ✔ dplyr   1.0.7\n",
      "✔ tidyr   1.1.4     ✔ stringr 1.4.0\n",
      "✔ readr   2.0.2     ✔ forcats 0.5.1\n",
      "\n",
      "R[write to console]: ── Conflicts ────────────────────────────────────────── tidyverse_conflicts() ──\n",
      "✖ dplyr::filter() masks stats::filter()\n",
      "✖ dplyr::lag()    masks stats::lag()\n",
      "\n"
     ]
    },
    {
     "name": "stdout",
     "output_type": "stream",
     "text": [
      "# A tibble: 5 × 2\n",
      "  state      total\n",
      "  <chr>      <dbl>\n",
      "1 (0, 0, 0) 0.726 \n",
      "2 (1, 0, 0) 0.0697\n",
      "3 (2, 0, 0) 0.0441\n",
      "4 (3, 0, 0) 0.0721\n",
      "5 (4, 0, 0) 0.0870\n"
     ]
    }
   ],
   "source": [
    "%%R -i df -i n_sites\n",
    "\n",
    "library(tidyverse)\n",
    "\n",
    "tibble(df) %>%\n",
    "    group_by(state) %>%\n",
    "    summarize(total = sum(end-start)/n_sites)"
   ]
  },
  {
   "cell_type": "code",
   "execution_count": 23,
   "metadata": {},
   "outputs": [],
   "source": [
    "%%R -i postprobs_df\n",
    "\n",
    "postprobs_tab <- \n",
    "    tibble(postprobs_df) %>% \n",
    "    mutate(\n",
    "        pos = 0:(n()-1)\n",
    "    )  %>% \n",
    "    pivot_longer(-pos)"
   ]
  },
  {
   "cell_type": "code",
   "execution_count": 24,
   "metadata": {},
   "outputs": [
    {
     "name": "stdout",
     "output_type": "stream",
     "text": [
      "`summarise()` has grouped output by 'groupid'. You can override using the `.groups` argument.\n",
      "# A tibble: 3 × 5\n",
      "# Groups:   groupid [3]\n",
      "  groupid state      start    end length\n",
      "    <int> <chr>      <dbl>  <dbl>  <dbl>\n",
      "1      73 (4, 0, 0) 723814 734037  10223\n",
      "2      75 (4, 0, 0) 734182 804574  70392\n",
      "3      77 (4, 0, 0) 809251 815698   6447\n"
     ]
    }
   ],
   "source": [
    "%%R\n",
    "\n",
    "true_tab <- tibble(df) %>% \n",
    "    mutate(\n",
    "        groupid = data.table::rleid(state)\n",
    "    ) %>% \n",
    "    group_by(groupid, state) %>%\n",
    "    summarize(\n",
    "        start = min(start),\n",
    "        end = max(end)\n",
    "    )\n",
    "\n",
    "true_tab %>% \n",
    "    filter(state == '(4, 0, 0)') %>%\n",
    "    mutate(length = end-start)"
   ]
  },
  {
   "cell_type": "code",
   "execution_count": 25,
   "metadata": {},
   "outputs": [
    {
     "data": {
      "image/png": "[encoded data removed]"
     },
     "metadata": {},
     "output_type": "display_data"
    }
   ],
   "source": [
    "%%R -w 2000 -h 700 -r 150\n",
    "\n",
    "postprobs_tab %>% \n",
    "    ggplot() +\n",
    "    geom_tile(aes(pos, name, fill = value, color = value)) +\n",
    "    geom_segment(aes(x = start, xend = end, y = state, yend = state), color = 'green', size = 3, data = true_tab) +\n",
    "    scale_x_continuous(limits = c(0, 1000000), expand = c(0, 0)) +\n",
    "    scale_y_discrete(expand = c(0, 0)) +\n",
    "    scale_color_viridis_c(option = 'inferno') +\n",
    "    scale_fill_viridis_c(option = 'inferno')"
   ]
  }
 ],
 "metadata": {
  "kernelspec": {
   "display_name": "phasetype",
   "language": "python",
   "name": "python3"
  },
  "language_info": {
   "codemirror_mode": {
    "name": "ipython",
    "version": 3
   },
   "file_extension": ".py",
   "mimetype": "text/x-python",
   "name": "python",
   "nbconvert_exporter": "python",
   "pygments_lexer": "ipython3",
   "version": "3.8.10"
  },
  "orig_nbformat": 4
 },
 "nbformat": 4,
 "nbformat_minor": 2
}
