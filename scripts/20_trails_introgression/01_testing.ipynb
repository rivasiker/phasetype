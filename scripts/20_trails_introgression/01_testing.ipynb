{
 "cells": [
  {
   "cell_type": "code",
   "execution_count": 582,
   "metadata": {},
   "outputs": [],
   "source": [
    "from trails.load_trans_mat import load_trans_mat, trans_mat_num\n",
    "from ast import literal_eval\n",
    "from trails.combine_states import combine_states\n",
    "from scipy.linalg import expm\n",
    "import numpy as np\n",
    "from trails.cutpoints import cutpoints_AB, cutpoints_ABC\n"
   ]
  },
  {
   "cell_type": "markdown",
   "metadata": {},
   "source": [
    "First, we can define the demographic process:"
   ]
  },
  {
   "cell_type": "code",
   "execution_count": 583,
   "metadata": {},
   "outputs": [],
   "source": [
    "coal = 1\n",
    "rho = 0.0008\n",
    "# Time from present to migration event\n",
    "t_m = 0.4\n",
    "# Time from migration event to first speciation event\n",
    "t_1 = 0.2\n",
    "# Time between speciation events\n",
    "t_2 = 0.3\n",
    "# Migration rate\n",
    "m = 0.2"
   ]
  },
  {
   "cell_type": "markdown",
   "metadata": {},
   "source": [
    "Now, we can calculate the transition rate matrices and the state space for each of the species:"
   ]
  },
  {
   "cell_type": "code",
   "execution_count": 584,
   "metadata": {},
   "outputs": [],
   "source": [
    "# Load string transition rate matrix and convert string names to actual lists\n",
    "(trans_mat_1, state_space_1) = load_trans_mat(1)\n",
    "state_space_A = [literal_eval(i) for i in state_space_1]\n",
    "(trans_mat_2, state_space_2) = load_trans_mat(2)\n",
    "state_space_AB = [literal_eval(i) for i in state_space_2]\n",
    "(trans_mat_3, state_space_3) = load_trans_mat(3)\n",
    "state_space_ABC = [literal_eval(i) for i in state_space_3]\n",
    "\n",
    "state_space_B = []\n",
    "for j in state_space_A:\n",
    "    lst = []\n",
    "    for i in j:\n",
    "        one = 2 if i[0] == 1 else i[0]\n",
    "        two = 2 if i[1] == 1 else i[1]\n",
    "        lst.append((one, two))\n",
    "    state_space_B.append(lst)\n",
    "\n",
    "state_space_C = []\n",
    "for j in state_space_A:\n",
    "    lst = []\n",
    "    for i in j:\n",
    "        one = 4 if i[0] == 1 else i[0]\n",
    "        two = 4 if i[1] == 1 else i[1]\n",
    "        lst.append((one, two))\n",
    "    state_space_C.append(lst)"
   ]
  },
  {
   "cell_type": "code",
   "execution_count": 585,
   "metadata": {},
   "outputs": [],
   "source": [
    "trans_mat_A = trans_mat_num(trans_mat_1, coal, rho)\n",
    "trans_mat_B = trans_mat_num(trans_mat_1, coal, rho)\n",
    "trans_mat_C = trans_mat_num(trans_mat_1, coal, rho)\n",
    "trans_mat_AB = trans_mat_num(trans_mat_2, coal, rho)\n"
   ]
  },
  {
   "cell_type": "markdown",
   "metadata": {},
   "source": [
    "We can now calculate the transition probability matrix for each species at the time of migration:"
   ]
  },
  {
   "cell_type": "code",
   "execution_count": 586,
   "metadata": {},
   "outputs": [],
   "source": [
    "final_A = expm(trans_mat_A*(t_m+t_1))[0]\n",
    "final_B = expm(trans_mat_B*t_m)[0]\n",
    "final_C = expm(trans_mat_C*t_m)[0]\n",
    "final_C_bis = expm(trans_mat_C*(t_m+t_1+t_2))[0]\n",
    "final_A_bis = expm(trans_mat_A*(t_m+t_1+t_2))[0]"
   ]
  },
  {
   "cell_type": "markdown",
   "metadata": {},
   "source": [
    "The following function splits the vector of final probabilities for species B given a certain migration rate `m`. Based on the direction of choice, the resulting probabilities will correspond to the left path (where lineages do not migrate and will later mix with species A), or the right path (where lineages migrate and are instantly mixed with species C):"
   ]
  },
  {
   "cell_type": "code",
   "execution_count": 587,
   "metadata": {},
   "outputs": [],
   "source": [
    "def split_migration(state_space, prob_vec, m, direction):\n",
    "    x = prob_vec[1]\n",
    "    st = [state_space[0], state_space[1], [state_space[1][0]], [state_space[1][1]]]\n",
    "    if direction == 'left':\n",
    "        pr = np.array([(1-x)*(1-m), (1-m)**2*x, 1/2*(1-m)*m*x, 1/2*(1-m)*m*x])\n",
    "    if direction == 'right':\n",
    "        pr = np.array([(1-x)*m, x*m**2, 1/2*(1-m)*m*x, 1/2*(1-m)*m*x])\n",
    "    return (st, pr)\n",
    "\n",
    "# def split_migration(state_space, prob_vec, m, direction):\n",
    "#     x = prob_vec[1]\n",
    "#     st = [state_space[0], state_space[1], [state_space[1][0]], [state_space[1][1]]]\n",
    "#     if direction == 'left':\n",
    "#         pr = np.array([(1-x)*(1-m), (1-m)**2*x, (1-m)*m*x, (1-m)*m*x])\n",
    "#     if direction == 'right':\n",
    "#         pr = np.array([(1-x)*m, x*m**2, (1-m)*m*x, (1-m)*m*x])\n",
    "#     return (st, pr)\n"
   ]
  },
  {
   "cell_type": "code",
   "execution_count": 588,
   "metadata": {},
   "outputs": [
    {
     "data": {
      "text/plain": [
       "1.0"
      ]
     },
     "execution_count": 588,
     "metadata": {},
     "output_type": "execute_result"
    }
   ],
   "source": [
    "(state_space_B_left, final_B_left) = split_migration(state_space_B, final_B, m, 'left')\n",
    "(state_space_B_right, final_B_right) = split_migration(state_space_B, final_B, m, 'right')\n",
    "sum(final_B_left)+sum(final_B_right)"
   ]
  },
  {
   "cell_type": "markdown",
   "metadata": {},
   "source": [
    "## Right path, migration event to second speciation event "
   ]
  },
  {
   "cell_type": "markdown",
   "metadata": {},
   "source": [
    "### Full lineages"
   ]
  },
  {
   "cell_type": "markdown",
   "metadata": {},
   "source": [
    "For the right path, we can combine the state space of the migrated B lineages with the state space of C:"
   ]
  },
  {
   "cell_type": "code",
   "execution_count": 589,
   "metadata": {},
   "outputs": [
    {
     "data": {
      "text/plain": [
       "array([6.20896446e-08, 2.12027948e-04, 1.72420469e-08, 1.72420469e-08,\n",
       "       2.12027948e-04, 6.05916214e-01, 9.21199745e-09, 4.41928205e-08,\n",
       "       4.41928205e-08, 9.51201559e-05, 9.51201559e-05, 9.51201559e-05,\n",
       "       9.51201559e-05, 7.21362624e-05, 3.93206920e-01])"
      ]
     },
     "execution_count": 589,
     "metadata": {},
     "output_type": "execute_result"
    }
   ],
   "source": [
    "(comb_BC_name_full, comb_BC_value_full) = combine_states(state_space_A, state_space_B_right[0:2], final_C, final_B_right[0:2])\n",
    "# This is with the correct ordering\n",
    "pi_BC_full = [comb_BC_value_full[comb_BC_name_full.index(i)] if i in comb_BC_name_full else 0 for i in state_space_2]\n",
    "final_BC_full = pi_BC_full @ expm(trans_mat_AB*(t_1+t_2))\n",
    "final_BC_full"
   ]
  },
  {
   "cell_type": "code",
   "execution_count": 590,
   "metadata": {},
   "outputs": [
    {
     "data": {
      "text/plain": [
       "[[(0, 2), (0, 4), (2, 0), (4, 0)],\n",
       " [(0, 2), (2, 0), (4, 4)],\n",
       " [(0, 2), (2, 4), (4, 0)],\n",
       " [(0, 4), (2, 0), (4, 2)],\n",
       " [(0, 4), (2, 2), (4, 0)],\n",
       " [(2, 2), (4, 4)],\n",
       " [(2, 4), (4, 2)],\n",
       " [(0, 6), (2, 0), (4, 0)],\n",
       " [(0, 2), (0, 4), (6, 0)],\n",
       " [(2, 0), (4, 6)],\n",
       " [(0, 2), (6, 4)],\n",
       " [(2, 6), (4, 0)],\n",
       " [(0, 4), (6, 2)],\n",
       " [(0, 6), (6, 0)],\n",
       " [(6, 6)]]"
      ]
     },
     "execution_count": 590,
     "metadata": {},
     "output_type": "execute_result"
    }
   ],
   "source": [
    "state_space_BC = [j.replace('1', '4') for j in state_space_2]\n",
    "state_space_BC = [j.replace('3', '6') for j in state_space_BC]\n",
    "state_space_BC = [literal_eval(i) for i in state_space_BC]\n",
    "state_space_BC = [sorted(i) for i in state_space_BC]\n",
    "state_space_BC"
   ]
  },
  {
   "cell_type": "markdown",
   "metadata": {},
   "source": [
    "### Missing lineages"
   ]
  },
  {
   "cell_type": "code",
   "execution_count": 591,
   "metadata": {},
   "outputs": [],
   "source": [
    "def load_trans_mat_miss(i):\n",
    "    if i == 1:\n",
    "        mat = np.array([['0', '0', 'C', '0'],\n",
    "                     ['0', '0', '0', 'C'],\n",
    "                     ['R', '0', '0', '0'],\n",
    "                     ['0', 'R', '0', '0']], dtype=object)\n",
    "        st = ['[(0, 1), (0, 2), (1, 0)]', '[(0, 1), (1, 0), (2, 0)]', '[(0, 2), (1, 1)]', '[(1, 1), (2, 0)]']\n",
    "    if i == 2:\n",
    "        mat = np.array(\n",
    "            [\n",
    "                ['0', 'R', '0', '0', 'C', '0', '0', '0', '0', '0'],\n",
    "                ['C', '0', 'C', 'C', '0', '0', '0', '0', '0', '0'],\n",
    "                ['0', 'R', '0', '0', 'C', '0', '0', '0', '0', '0'],\n",
    "                ['0', '0', '0', '0', 'C', '0', '0', '0', '0', '0'],\n",
    "                ['0', '0', '0', 'R', '0', '0', '0', '0', '0', '0'],\n",
    "                ['0', '0', '0', '0', '0', '0', 'R', '0', '0', 'C'],\n",
    "                ['0', '0', '0', '0', '0', 'C', '0', 'C', 'C', '0'],\n",
    "                ['0', '0', '0', '0', '0', '0', 'R', '0', '0', 'C'],\n",
    "                ['0', '0', '0', '0', '0', '0', '0', '0', '0', 'C'],\n",
    "                ['0', '0', '0', '0', '0', '0', '0', '0', 'R', '0']\n",
    "            ], \n",
    "            dtype=object)\n",
    "        st = [\n",
    "            '[(2, 0), (4, 4)]', \n",
    "            '[(0, 4), (2, 0), (4, 0)]', \n",
    "            '[(2, 4), (4, 0)]', \n",
    "            '[(0, 4), (6, 0)]',\n",
    "            '[(6, 4)]',\n",
    "            '[(0, 2), (4, 4)]', \n",
    "            '[(0, 2), (0, 4), (4, 0)]', \n",
    "            '[(0, 4), (4, 2)]', \n",
    "            '[(0, 6), (4, 0)]',\n",
    "            '[(4, 6)]']\n",
    "    return (mat, st)\n",
    "(trans_mat_2_miss, state_space_2_miss) = load_trans_mat_miss(2)\n",
    "state_space_BC_miss = [literal_eval(i) for i in state_space_2_miss]\n",
    "trans_mat_BC_miss = trans_mat_num(trans_mat_2_miss, coal, rho)"
   ]
  },
  {
   "cell_type": "code",
   "execution_count": 592,
   "metadata": {},
   "outputs": [
    {
     "data": {
      "text/plain": [
       "array([0., 0., 0., 0., 0., 0., 0., 0., 0., 0.])"
      ]
     },
     "execution_count": 592,
     "metadata": {},
     "output_type": "execute_result"
    }
   ],
   "source": [
    "(comb_BC_name_miss, comb_BC_value_miss) = combine_states(state_space_C, state_space_B_right[2::], final_C, final_B_right[2::])\n",
    "# This is with the correct ordering\n",
    "pi_BC_miss = [comb_BC_value_miss[comb_BC_name_miss.index(i)] if i in comb_BC_name_miss else 0 for i in state_space_2_miss]\n",
    "final_BC_miss = pi_BC_miss @ expm(trans_mat_BC_miss*(t_1+t_2))\n",
    "final_BC_miss\n"
   ]
  },
  {
   "cell_type": "code",
   "execution_count": 593,
   "metadata": {},
   "outputs": [
    {
     "data": {
      "text/plain": [
       "1.0000000000000004"
      ]
     },
     "execution_count": 593,
     "metadata": {},
     "output_type": "execute_result"
    }
   ],
   "source": [
    "sum(final_BC_full) + sum(final_BC_miss)"
   ]
  },
  {
   "cell_type": "markdown",
   "metadata": {},
   "source": [
    "## Left path, migration to second speciation event"
   ]
  },
  {
   "cell_type": "markdown",
   "metadata": {},
   "source": [
    "### Full lineages"
   ]
  },
  {
   "cell_type": "code",
   "execution_count": 594,
   "metadata": {},
   "outputs": [],
   "source": [
    "final_B_left_full = final_B_left[0:2] @ expm(trans_mat_B*t_1)\n",
    "(comb_AB_name_full, comb_AB_value_full) = combine_states(state_space_A, state_space_B_left[0:2], final_A, final_B_left_full)\n",
    "# This is with the correct ordering\n",
    "pi_AB_full = [comb_AB_value_full[comb_AB_name_full.index(i)] if i in comb_AB_name_full else 0 for i in state_space_2]"
   ]
  },
  {
   "cell_type": "code",
   "execution_count": 595,
   "metadata": {},
   "outputs": [],
   "source": [
    "final_AB_full = pi_AB_full @ expm(trans_mat_AB*t_2)"
   ]
  },
  {
   "cell_type": "markdown",
   "metadata": {},
   "source": [
    "### Missing lineages"
   ]
  },
  {
   "cell_type": "code",
   "execution_count": 596,
   "metadata": {},
   "outputs": [
    {
     "data": {
      "text/plain": [
       "[[(1, 1), (2, 0)],\n",
       " [(0, 1), (1, 0), (2, 0)],\n",
       " [(1, 0), (2, 1)],\n",
       " [(0, 1), (3, 0)],\n",
       " [(3, 1)],\n",
       " [(0, 2), (1, 1)],\n",
       " [(0, 1), (0, 2), (1, 0)],\n",
       " [(0, 1), (1, 2)],\n",
       " [(0, 3), (1, 0)],\n",
       " [(1, 3)]]"
      ]
     },
     "execution_count": 596,
     "metadata": {},
     "output_type": "execute_result"
    }
   ],
   "source": [
    "(trans_mat_4, state_space_4) = load_trans_mat_miss(2)\n",
    "trans_mat_AB_miss = trans_mat_num(trans_mat_4, coal, rho)\n",
    "state_space_4 = [i.replace('4', '1') for i in state_space_4]\n",
    "state_space_4 = [i.replace('6', '3') for i in state_space_4]\n",
    "state_space_AB_miss = [sorted(literal_eval(i)) for i in state_space_4]\n",
    "state_space_4 = [str(i) for i in state_space_AB_miss]\n",
    "state_space_AB_miss"
   ]
  },
  {
   "cell_type": "code",
   "execution_count": 597,
   "metadata": {},
   "outputs": [],
   "source": [
    "(comb_AB_name_miss, comb_AB_value_miss) = combine_states(state_space_A, state_space_B_left[2::], final_A, final_B_left[2::])\n",
    "pi_AB_miss = [comb_AB_value_miss[comb_AB_name_miss.index(i)] if i in comb_AB_name_miss else 0 for i in state_space_4]\n",
    "final_AB_miss  = pi_AB_miss @ expm(trans_mat_AB_miss*(t_1))"
   ]
  },
  {
   "cell_type": "code",
   "execution_count": 598,
   "metadata": {},
   "outputs": [
    {
     "data": {
      "text/plain": [
       "0.0"
      ]
     },
     "execution_count": 598,
     "metadata": {},
     "output_type": "execute_result"
    }
   ],
   "source": [
    "sum(final_AB_full) + sum(final_AB_miss)"
   ]
  },
  {
   "cell_type": "markdown",
   "metadata": {},
   "source": [
    "## Mixing probabilities for deep coalescence"
   ]
  },
  {
   "cell_type": "code",
   "execution_count": 599,
   "metadata": {},
   "outputs": [
    {
     "data": {
      "text/plain": [
       "0.0"
      ]
     },
     "execution_count": 599,
     "metadata": {},
     "output_type": "execute_result"
    }
   ],
   "source": [
    "sum(final_BC_miss)+sum(final_AB_miss)"
   ]
  },
  {
   "cell_type": "code",
   "execution_count": 600,
   "metadata": {},
   "outputs": [],
   "source": [
    "lst_a = []\n",
    "lst_b = []"
   ]
  },
  {
   "cell_type": "code",
   "execution_count": 601,
   "metadata": {},
   "outputs": [
    {
     "name": "stderr",
     "output_type": "stream",
     "text": [
      "/Users/au595587/opt/miniconda3/envs/trails/lib/python3.7/site-packages/ipykernel_launcher.py:3: RuntimeWarning: invalid value encountered in true_divide\n",
      "  This is separate from the ipykernel package so we can avoid doing imports until\n"
     ]
    },
    {
     "data": {
      "text/plain": [
       "0.0"
      ]
     },
     "execution_count": 601,
     "metadata": {},
     "output_type": "execute_result"
    }
   ],
   "source": [
    "(a, b) = combine_states(\n",
    "    state_space_AB_miss[5::], state_space_BC_miss[0:5], \n",
    "    final_AB_miss[5::], final_BC_miss[0:5]/sum(final_BC_miss[0:5]))\n",
    "lst_a = lst_a+a\n",
    "lst_b = lst_b+b\n",
    "a = [literal_eval(i) for i in a]\n",
    "a = [sorted(i) for i in a]\n",
    "sum(b)"
   ]
  },
  {
   "cell_type": "code",
   "execution_count": 602,
   "metadata": {},
   "outputs": [
    {
     "name": "stderr",
     "output_type": "stream",
     "text": [
      "/Users/au595587/opt/miniconda3/envs/trails/lib/python3.7/site-packages/ipykernel_launcher.py:3: RuntimeWarning: invalid value encountered in true_divide\n",
      "  This is separate from the ipykernel package so we can avoid doing imports until\n"
     ]
    },
    {
     "data": {
      "text/plain": [
       "0.0"
      ]
     },
     "execution_count": 602,
     "metadata": {},
     "output_type": "execute_result"
    }
   ],
   "source": [
    "(a, b) = combine_states(\n",
    "    state_space_AB_miss[5::], state_space_BC_miss[0:5], \n",
    "    final_AB_miss[5::]/sum(final_AB_miss[5::]), final_BC_miss[0:5])\n",
    "lst_a = lst_a+a\n",
    "lst_b = lst_b+b\n",
    "a = [literal_eval(i) for i in a]\n",
    "a = [sorted(i) for i in a]\n",
    "sum(b)"
   ]
  },
  {
   "cell_type": "code",
   "execution_count": 603,
   "metadata": {},
   "outputs": [
    {
     "name": "stderr",
     "output_type": "stream",
     "text": [
      "/Users/au595587/opt/miniconda3/envs/trails/lib/python3.7/site-packages/ipykernel_launcher.py:3: RuntimeWarning: invalid value encountered in true_divide\n",
      "  This is separate from the ipykernel package so we can avoid doing imports until\n"
     ]
    },
    {
     "data": {
      "text/plain": [
       "0.0"
      ]
     },
     "execution_count": 603,
     "metadata": {},
     "output_type": "execute_result"
    }
   ],
   "source": [
    "(a, b) = combine_states(\n",
    "    state_space_AB_miss[0:5], state_space_BC_miss[5::], \n",
    "    final_AB_miss[0:5], final_BC_miss[5::]/sum(final_BC_miss[5::]))\n",
    "lst_a = lst_a+a\n",
    "lst_b = lst_b+b\n",
    "a = [literal_eval(i) for i in a]\n",
    "a = [sorted(i) for i in a]\n",
    "sum(b)"
   ]
  },
  {
   "cell_type": "code",
   "execution_count": 604,
   "metadata": {},
   "outputs": [
    {
     "name": "stderr",
     "output_type": "stream",
     "text": [
      "/Users/au595587/opt/miniconda3/envs/trails/lib/python3.7/site-packages/ipykernel_launcher.py:3: RuntimeWarning: invalid value encountered in true_divide\n",
      "  This is separate from the ipykernel package so we can avoid doing imports until\n"
     ]
    },
    {
     "data": {
      "text/plain": [
       "0.0"
      ]
     },
     "execution_count": 604,
     "metadata": {},
     "output_type": "execute_result"
    }
   ],
   "source": [
    "(a, b) = combine_states(\n",
    "    state_space_AB_miss[0:5], state_space_BC_miss[5::], \n",
    "    final_AB_miss[0:5]/sum(final_AB_miss[0:5]), final_BC_miss[5::])\n",
    "lst_a = lst_a+a\n",
    "lst_b = lst_b+b\n",
    "a = [literal_eval(i) for i in a]\n",
    "a = [sorted(i) for i in a]\n",
    "sum(b)"
   ]
  },
  {
   "cell_type": "code",
   "execution_count": 605,
   "metadata": {},
   "outputs": [
    {
     "data": {
      "text/plain": [
       "0.0"
      ]
     },
     "execution_count": 605,
     "metadata": {},
     "output_type": "execute_result"
    }
   ],
   "source": [
    "(a, b) = combine_states(state_space_AB, state_space_C, final_AB_full, final_C_bis)\n",
    "lst_a = lst_a+a\n",
    "lst_b = lst_b+b\n",
    "a = [literal_eval(i) for i in a]\n",
    "a = [sorted(i) for i in a]\n",
    "sum(b)"
   ]
  },
  {
   "cell_type": "code",
   "execution_count": 606,
   "metadata": {},
   "outputs": [
    {
     "data": {
      "text/plain": [
       "1.0000000000000002"
      ]
     },
     "execution_count": 606,
     "metadata": {},
     "output_type": "execute_result"
    }
   ],
   "source": [
    "(a, b) = combine_states(state_space_BC, state_space_A, final_BC_full, final_A_bis)\n",
    "lst_a = lst_a+a\n",
    "lst_b = lst_b+b\n",
    "a = [literal_eval(i) for i in a]\n",
    "a = [sorted(i) for i in a]\n",
    "sum(b)"
   ]
  },
  {
   "cell_type": "code",
   "execution_count": 607,
   "metadata": {},
   "outputs": [
    {
     "data": {
      "text/plain": [
       "1.0000000000000002"
      ]
     },
     "execution_count": 607,
     "metadata": {},
     "output_type": "execute_result"
    }
   ],
   "source": [
    "sum(lst_b)"
   ]
  },
  {
   "cell_type": "code",
   "execution_count": 608,
   "metadata": {},
   "outputs": [],
   "source": [
    "dct = {}\n",
    "for i in range(len(lst_a)):\n",
    "    if lst_a[i] not in dct:\n",
    "        dct[lst_a[i]] = lst_b[i]\n",
    "    else:\n",
    "        dct[lst_a[i]] += lst_b[i]"
   ]
  },
  {
   "cell_type": "code",
   "execution_count": 609,
   "metadata": {},
   "outputs": [
    {
     "data": {
      "text/plain": [
       "1.0000000000000002"
      ]
     },
     "execution_count": 609,
     "metadata": {},
     "output_type": "execute_result"
    }
   ],
   "source": [
    "sum(dct.values())"
   ]
  },
  {
   "cell_type": "code",
   "execution_count": 610,
   "metadata": {},
   "outputs": [],
   "source": [
    "import pandas as pd"
   ]
  },
  {
   "cell_type": "code",
   "execution_count": 611,
   "metadata": {},
   "outputs": [
    {
     "data": {
      "text/html": [
       "<div>\n",
       "<style scoped>\n",
       "    .dataframe tbody tr th:only-of-type {\n",
       "        vertical-align: middle;\n",
       "    }\n",
       "\n",
       "    .dataframe tbody tr th {\n",
       "        vertical-align: top;\n",
       "    }\n",
       "\n",
       "    .dataframe thead th {\n",
       "        text-align: right;\n",
       "    }\n",
       "</style>\n",
       "<table border=\"1\" class=\"dataframe\">\n",
       "  <thead>\n",
       "    <tr style=\"text-align: right;\">\n",
       "      <th></th>\n",
       "      <th>names</th>\n",
       "      <th>values</th>\n",
       "    </tr>\n",
       "  </thead>\n",
       "  <tbody>\n",
       "    <tr>\n",
       "      <th>34</th>\n",
       "      <td>[(0, 2), (0, 4), (3, 1), (4, 0)]</td>\n",
       "      <td>0.000000</td>\n",
       "    </tr>\n",
       "    <tr>\n",
       "      <th>23</th>\n",
       "      <td>[(1, 3), (2, 4), (4, 0)]</td>\n",
       "      <td>0.000000</td>\n",
       "    </tr>\n",
       "    <tr>\n",
       "      <th>24</th>\n",
       "      <td>[(1, 3), (6, 4)]</td>\n",
       "      <td>0.000000</td>\n",
       "    </tr>\n",
       "    <tr>\n",
       "      <th>25</th>\n",
       "      <td>[(0, 1), (0, 2), (0, 4), (3, 0), (4, 0)]</td>\n",
       "      <td>0.000000</td>\n",
       "    </tr>\n",
       "    <tr>\n",
       "      <th>26</th>\n",
       "      <td>[(0, 1), (0, 2), (3, 0), (4, 4)]</td>\n",
       "      <td>0.000000</td>\n",
       "    </tr>\n",
       "    <tr>\n",
       "      <th>...</th>\n",
       "      <td>...</td>\n",
       "      <td>...</td>\n",
       "    </tr>\n",
       "    <tr>\n",
       "      <th>12</th>\n",
       "      <td>[(0, 2), (1, 1), (2, 0), (4, 4)]</td>\n",
       "      <td>0.000212</td>\n",
       "    </tr>\n",
       "    <tr>\n",
       "      <th>53</th>\n",
       "      <td>[(0, 4), (1, 1), (2, 2), (4, 0)]</td>\n",
       "      <td>0.000212</td>\n",
       "    </tr>\n",
       "    <tr>\n",
       "      <th>48</th>\n",
       "      <td>[(0, 1), (1, 0), (2, 2), (4, 4)]</td>\n",
       "      <td>0.000288</td>\n",
       "    </tr>\n",
       "    <tr>\n",
       "      <th>69</th>\n",
       "      <td>[(1, 1), (6, 6)]</td>\n",
       "      <td>0.393020</td>\n",
       "    </tr>\n",
       "    <tr>\n",
       "      <th>57</th>\n",
       "      <td>[(1, 1), (2, 2), (4, 4)]</td>\n",
       "      <td>0.605629</td>\n",
       "    </tr>\n",
       "  </tbody>\n",
       "</table>\n",
       "<p>70 rows × 2 columns</p>\n",
       "</div>"
      ],
      "text/plain": [
       "                                       names    values\n",
       "34          [(0, 2), (0, 4), (3, 1), (4, 0)]  0.000000\n",
       "23                  [(1, 3), (2, 4), (4, 0)]  0.000000\n",
       "24                          [(1, 3), (6, 4)]  0.000000\n",
       "25  [(0, 1), (0, 2), (0, 4), (3, 0), (4, 0)]  0.000000\n",
       "26          [(0, 1), (0, 2), (3, 0), (4, 4)]  0.000000\n",
       "..                                       ...       ...\n",
       "12          [(0, 2), (1, 1), (2, 0), (4, 4)]  0.000212\n",
       "53          [(0, 4), (1, 1), (2, 2), (4, 0)]  0.000212\n",
       "48          [(0, 1), (1, 0), (2, 2), (4, 4)]  0.000288\n",
       "69                          [(1, 1), (6, 6)]  0.393020\n",
       "57                  [(1, 1), (2, 2), (4, 4)]  0.605629\n",
       "\n",
       "[70 rows x 2 columns]"
      ]
     },
     "execution_count": 611,
     "metadata": {},
     "output_type": "execute_result"
    }
   ],
   "source": [
    "dat = pd.DataFrame()\n",
    "dat['names'] = dct.keys()\n",
    "dat['values'] = dct.values()\n",
    "dat.sort_values('values')"
   ]
  },
  {
   "cell_type": "code",
   "execution_count": 612,
   "metadata": {},
   "outputs": [],
   "source": [
    "om = {}\n",
    "flatten = [list(sum(i, ())) for i in state_space_ABC]    \n",
    "for l in [0, 3, 5, 6, 7]:\n",
    "    for r in [0, 3, 5, 6, 7]:\n",
    "        if (l in [3, 5, 6, 7]) and (r in [3, 5, 6, 7]):\n",
    "            om['%s%s' % (l, r)] = [i for i in range(203) if (l in flatten[i][::2]) and (r in flatten[i][1::2])]\n",
    "        elif (l == 0) and (r in [3, 5, 6, 7]):\n",
    "            om['%s%s' % (l, r)] = [i for i in range(203) if (all(x not in [3, 5, 6, 7] for x in flatten[i][::2])) and (r in flatten[i][1::2])]\n",
    "        elif (l  in [3, 5, 6, 7]) and (r == 0):\n",
    "            om['%s%s' % (l, r)] = [i for i in range(203) if (l in flatten[i][::2]) and (all(x not in [3, 5, 6, 7] for x in flatten[i][1::2]))]\n",
    "        elif l == r == 0:\n",
    "            om['%s%s' % (l, r)] = [i for i in range(203) if all(x not in [3, 5, 6, 7] for x in flatten[i])]\n",
    "omega_tot_ABC = [i for i in range(203)]\n",
    "om['71'] = sorted(om['73']+om['75']+om['76'])\n",
    "om['17'] = sorted(om['37']+om['57']+om['67'])\n",
    "om['10'] = sorted(om['30']+om['50']+om['60'])\n",
    "om['13'] = sorted(om['33']+om['53']+om['63'])\n",
    "om['15'] = sorted(om['35']+om['55']+om['65'])\n",
    "om['16'] = sorted(om['36']+om['56']+om['66'])\n",
    "om['11'] = sorted(om['13']+om['15']+om['16'])\n",
    "\n",
    "dct_num = {3:1, 5:2, 6:3}"
   ]
  },
  {
   "cell_type": "code",
   "execution_count": 613,
   "metadata": {},
   "outputs": [
    {
     "data": {
      "text/plain": [
       "[[(0, 1), (0, 6), (1, 0), (2, 0), (4, 0)],\n",
       " [(0, 6), (1, 1), (2, 0), (4, 0)],\n",
       " [(0, 6), (1, 0), (2, 1), (4, 0)],\n",
       " [(0, 6), (1, 0), (2, 0), (4, 1)],\n",
       " [(0, 1), (1, 6), (2, 0), (4, 0)],\n",
       " [(0, 1), (1, 0), (2, 6), (4, 0)],\n",
       " [(0, 1), (1, 0), (2, 0), (4, 6)],\n",
       " [(1, 1), (2, 6), (4, 0)],\n",
       " [(1, 1), (2, 0), (4, 6)],\n",
       " [(1, 6), (2, 1), (4, 0)],\n",
       " [(1, 0), (2, 1), (4, 6)],\n",
       " [(1, 6), (2, 0), (4, 1)],\n",
       " [(1, 0), (2, 6), (4, 1)]]"
      ]
     },
     "execution_count": 613,
     "metadata": {},
     "output_type": "execute_result"
    }
   ],
   "source": [
    "[state_space_ABC[i] for i in om['06']]"
   ]
  },
  {
   "cell_type": "code",
   "execution_count": 614,
   "metadata": {},
   "outputs": [],
   "source": [
    "ordered_pi_ABC = [list(dct.values())[list(dct.keys()).index(str(i))] if str(i) in list(dct.keys()) else 0 for i in state_space_ABC]"
   ]
  },
  {
   "cell_type": "code",
   "execution_count": 615,
   "metadata": {},
   "outputs": [
    {
     "data": {
      "text/plain": [
       "0.0"
      ]
     },
     "execution_count": 615,
     "metadata": {},
     "output_type": "execute_result"
    }
   ],
   "source": [
    "sum(np.array(ordered_pi_ABC)[om['36']])"
   ]
  },
  {
   "cell_type": "code",
   "execution_count": 616,
   "metadata": {},
   "outputs": [
    {
     "data": {
      "text/plain": [
       "0.0"
      ]
     },
     "execution_count": 616,
     "metadata": {},
     "output_type": "execute_result"
    }
   ],
   "source": [
    "sum(np.array(ordered_pi_ABC)[om['63']])"
   ]
  },
  {
   "cell_type": "code",
   "execution_count": 617,
   "metadata": {},
   "outputs": [
    {
     "data": {
      "text/plain": [
       "0.3932790557827152"
      ]
     },
     "execution_count": 617,
     "metadata": {},
     "output_type": "execute_result"
    }
   ],
   "source": [
    "sum(np.array(ordered_pi_ABC)[om['66']])"
   ]
  },
  {
   "cell_type": "code",
   "execution_count": 618,
   "metadata": {},
   "outputs": [
    {
     "data": {
      "text/plain": [
       "0.0"
      ]
     },
     "execution_count": 618,
     "metadata": {},
     "output_type": "execute_result"
    }
   ],
   "source": [
    "sum(np.array(ordered_pi_ABC)[om['33']])"
   ]
  },
  {
   "cell_type": "code",
   "execution_count": 619,
   "metadata": {},
   "outputs": [
    {
     "data": {
      "text/plain": [
       "1.0000000000000002"
      ]
     },
     "execution_count": 619,
     "metadata": {},
     "output_type": "execute_result"
    }
   ],
   "source": [
    "sum(list(dct.values()))"
   ]
  },
  {
   "cell_type": "markdown",
   "metadata": {},
   "source": [
    "# Getting the joint probability table"
   ]
  },
  {
   "cell_type": "code",
   "execution_count": 620,
   "metadata": {},
   "outputs": [],
   "source": [
    "n_int_AB = 1\n",
    "n_int_ABC = 1\n",
    "\n",
    "# Create empty table for the joint probabilities\n",
    "tab = np.zeros((9, 203))\n",
    "# Create empty vector for the names of the states\n",
    "tab_names = []\n",
    "# Create accumulator for keeping track of the indices for the table\n",
    "acc = 0\n",
    "\n",
    "tab_names.append(('D', 'D')) \n",
    "tmp_lst = om['00']\n",
    "tab[acc] = [ordered_pi_ABC[i] if i in tmp_lst else 0 for i in range(len(state_space_ABC))]\n",
    "acc += 1\n",
    "\n",
    "tab_names.append(((4, 0), (4, 0))) \n",
    "tmp_lst = om['66']\n",
    "tab[acc] = [ordered_pi_ABC[i] if i in tmp_lst else 0 for i in range(len(state_space_ABC))]\n",
    "acc += 1\n",
    "\n",
    "tab_names.append(((0, 0), (0, 0))) \n",
    "tmp_lst = om['33']\n",
    "tab[acc] = [ordered_pi_ABC[i] if i in tmp_lst else 0 for i in range(len(state_space_ABC))]\n",
    "acc += 1\n",
    "\n",
    "tab_names.append(('D', (4, 0)))\n",
    "tmp_lst = om['06']\n",
    "tab[acc] = [ordered_pi_ABC[i] if i in tmp_lst else 0 for i in range(len(state_space_ABC))]\n",
    "acc += 1\n",
    "\n",
    "tab_names.append(((4, 0), 'D'))\n",
    "tmp_lst = om['60']\n",
    "tab[acc] = [ordered_pi_ABC[i] if i in tmp_lst else 0 for i in range(len(state_space_ABC))]\n",
    "acc += 1\n",
    "\n",
    "tab_names.append(('D', (0, 0)))\n",
    "tmp_lst = om['03']\n",
    "tab[acc] = [ordered_pi_ABC[i] if i in tmp_lst else 0 for i in range(len(state_space_ABC))]\n",
    "acc += 1\n",
    "\n",
    "tab_names.append(((0, 0), 'D'))\n",
    "tmp_lst = om['30']\n",
    "tab[acc] = [ordered_pi_ABC[i] if i in tmp_lst else 0 for i in range(len(state_space_ABC))]\n",
    "acc += 1\n",
    "\n",
    "tab_names.append(((4, 0), (0, 0)))\n",
    "tmp_lst = om['63']\n",
    "tab[acc] = [ordered_pi_ABC[i] if i in tmp_lst else 0 for i in range(len(state_space_ABC))]\n",
    "acc += 1\n",
    "\n",
    "tab_names.append(((0, 0), (4, 0)))\n",
    "tmp_lst = om['36']\n",
    "tab[acc] = [ordered_pi_ABC[i] if i in tmp_lst else 0 for i in range(len(state_space_ABC))]\n",
    "acc += 1\n"
   ]
  },
  {
   "cell_type": "code",
   "execution_count": 621,
   "metadata": {},
   "outputs": [
    {
     "data": {
      "text/plain": [
       "1.0"
      ]
     },
     "execution_count": 621,
     "metadata": {},
     "output_type": "execute_result"
    }
   ],
   "source": [
    "tab.sum()"
   ]
  },
  {
   "cell_type": "code",
   "execution_count": 622,
   "metadata": {},
   "outputs": [
    {
     "data": {
      "text/plain": [
       "1.0000000000000004"
      ]
     },
     "execution_count": 622,
     "metadata": {},
     "output_type": "execute_result"
    }
   ],
   "source": [
    "sum(ordered_pi_ABC)"
   ]
  },
  {
   "cell_type": "code",
   "execution_count": 623,
   "metadata": {},
   "outputs": [
    {
     "data": {
      "text/plain": [
       "array([ 0., inf])"
      ]
     },
     "execution_count": 623,
     "metadata": {},
     "output_type": "execute_result"
    }
   ],
   "source": [
    "from function_file import get_tab_ABC_introgression\n",
    "n_int_ABC = 1\n",
    "n_int_AB = 1\n",
    "trans_mat_ABC = trans_mat_num(trans_mat_3, coal, rho)\n",
    "cut_ABC = cutpoints_ABC(n_int_ABC, coal)\n",
    "cut_ABC"
   ]
  },
  {
   "cell_type": "code",
   "execution_count": 624,
   "metadata": {},
   "outputs": [],
   "source": [
    "joint_mat = get_tab_ABC_introgression(state_space_ABC, trans_mat_ABC, cut_ABC, tab, tab_names, n_int_AB)"
   ]
  },
  {
   "cell_type": "code",
   "execution_count": 625,
   "metadata": {},
   "outputs": [
    {
     "data": {
      "text/plain": [
       "1.0"
      ]
     },
     "execution_count": 625,
     "metadata": {},
     "output_type": "execute_result"
    }
   ],
   "source": [
    "joint_mat[:,2].sum()"
   ]
  },
  {
   "cell_type": "code",
   "execution_count": 626,
   "metadata": {},
   "outputs": [
    {
     "data": {
      "text/plain": [
       "array([[(0, 0, 0), (0, 0, 0), 0.0],\n",
       "       [(4, 0, 0), (4, 0, 0), 0.3932790557827152],\n",
       "       [(0, 0, 0), (4, 0, 0), 0.0],\n",
       "       [(4, 0, 0), (0, 0, 0), 0.0],\n",
       "       [(0, 0, 0), (1, 0, 0), 0.0],\n",
       "       [(1, 0, 0), (0, 0, 0), 0.0],\n",
       "       [(4, 0, 0), (1, 0, 0), 6.342816821714624e-05],\n",
       "       [(1, 0, 0), (4, 0, 0), 6.342816821714624e-05],\n",
       "       [(0, 0, 0), (2, 0, 0), 0.0],\n",
       "       [(2, 0, 0), (0, 0, 0), 0.0],\n",
       "       [(4, 0, 0), (2, 0, 0), 6.342816821714624e-05],\n",
       "       [(2, 0, 0), (4, 0, 0), 6.342816821714624e-05],\n",
       "       [(0, 0, 0), (3, 0, 0), 0.0],\n",
       "       [(3, 0, 0), (0, 0, 0), 0.0],\n",
       "       [(4, 0, 0), (3, 0, 0), 6.342816821714624e-05],\n",
       "       [(3, 0, 0), (4, 0, 0), 6.342816821714624e-05],\n",
       "       [(1, 0, 0), (1, 0, 0), 0.20193482976181462],\n",
       "       [(1, 0, 0), (2, 0, 0), 9.14179066453401e-05],\n",
       "       [(1, 0, 0), (3, 0, 0), 8.721073420070985e-05],\n",
       "       [(2, 0, 0), (1, 0, 0), 9.14179066453401e-05],\n",
       "       [(2, 0, 0), (2, 0, 0), 0.20193482976181462],\n",
       "       [(2, 0, 0), (3, 0, 0), 8.721073420070983e-05],\n",
       "       [(3, 0, 0), (1, 0, 0), 8.721073420070983e-05],\n",
       "       [(3, 0, 0), (2, 0, 0), 8.721073420070983e-05],\n",
       "       [(3, 0, 0), (3, 0, 0), 0.20193903693425927]], dtype=object)"
      ]
     },
     "execution_count": 626,
     "metadata": {},
     "output_type": "execute_result"
    }
   ],
   "source": [
    "joint_mat"
   ]
  },
  {
   "cell_type": "code",
   "execution_count": 627,
   "metadata": {},
   "outputs": [
    {
     "name": "stderr",
     "output_type": "stream",
     "text": [
      "/Users/au595587/opt/miniconda3/envs/trails/lib/python3.7/site-packages/ipykernel_launcher.py:7: RuntimeWarning: invalid value encountered in true_divide\n",
      "  import sys\n"
     ]
    }
   ],
   "source": [
    "tr = pd.DataFrame(joint_mat, columns=['From', 'To', 'Prob']).pivot(index = ['From'], columns = ['To'], values = ['Prob'])\n",
    "tr.columns = tr.columns.droplevel()\n",
    "hidden_names = list(tr.columns)\n",
    "hidden_names = dict(zip(range(len(hidden_names)), hidden_names))\n",
    "arr = np.array(tr).astype(np.float64)\n",
    "pi = arr.sum(axis=1)\n",
    "a = arr/pi[:,None]\n",
    "\n",
    "pd.DataFrame(joint_mat, columns=['From', 'To', 'Prob']).to_csv(f'joint_mat_{m}.csv', index = False)"
   ]
  },
  {
   "cell_type": "code",
   "execution_count": 628,
   "metadata": {},
   "outputs": [
    {
     "data": {
      "text/plain": [
       "array([[           nan,            nan,            nan,            nan,\n",
       "                   nan],\n",
       "       [0.00000000e+00, 9.98802747e-01, 4.52167942e-04, 4.31358578e-04,\n",
       "        3.13726110e-04],\n",
       "       [0.00000000e+00, 4.52167942e-04, 9.98802747e-01, 4.31358578e-04,\n",
       "        3.13726110e-04],\n",
       "       [0.00000000e+00, 4.31358578e-04, 4.31358578e-04, 9.98823557e-01,\n",
       "        3.13726110e-04],\n",
       "       [0.00000000e+00, 1.61202314e-04, 1.61202314e-04, 1.61202314e-04,\n",
       "        9.99516393e-01]])"
      ]
     },
     "execution_count": 628,
     "metadata": {},
     "output_type": "execute_result"
    }
   ],
   "source": [
    "a"
   ]
  },
  {
   "cell_type": "code",
   "execution_count": null,
   "metadata": {},
   "outputs": [],
   "source": []
  }
 ],
 "metadata": {
  "kernelspec": {
   "display_name": "trails",
   "language": "python",
   "name": "python3"
  },
  "language_info": {
   "codemirror_mode": {
    "name": "ipython",
    "version": 3
   },
   "file_extension": ".py",
   "mimetype": "text/x-python",
   "name": "python",
   "nbconvert_exporter": "python",
   "pygments_lexer": "ipython3",
   "version": "3.7.12"
  },
  "orig_nbformat": 4
 },
 "nbformat": 4,
 "nbformat_minor": 2
}
