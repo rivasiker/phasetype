{
 "cells": [
  {
   "cell_type": "code",
   "execution_count": 24,
   "id": "98131856-1799-4811-a14c-145bb326e465",
   "metadata": {},
   "outputs": [],
   "source": [
    "import numpy as np\n",
    "from scipy.integrate import dblquad\n",
    "from scipy.integrate import quad\n",
    "import pandas as pd\n",
    "from scipy.linalg import expm\n",
    "from scipy.special import comb\n",
    "from ilsmc.cutpoints import cutpoints_AB, cutpoints_ABC\n",
    "from numba import njit\n",
    "from ilsmc.get_emission_prob_mat import calc_emissions_single_JC69"
   ]
  },
  {
   "cell_type": "code",
   "execution_count": 49,
   "id": "e2e3a243-e9bb-4971-b22e-cf1e8f7d0e92",
   "metadata": {},
   "outputs": [],
   "source": [
    "mu = 0.0001\n",
    "\n",
    "n_int_AB = 3\n",
    "n_int_ABC = 3\n",
    "coal_AB = 1\n",
    "coal_ABC = 1\n",
    "t_AB = 1\n",
    "t_A = 1\n",
    "mu_A = mu\n",
    "t_B = 1\n",
    "mu_B = mu\n",
    "t_AB = 1\n",
    "mu_AB = mu\n",
    "t_C = t_A+t_AB\n",
    "mu_C = mu\n",
    "t_ABC = 1\n",
    "mu_ABC = mu\n",
    "t_upper = 10\n",
    "t_peak = 2\n",
    "mu_D = mu"
   ]
  },
  {
   "cell_type": "code",
   "execution_count": 50,
   "id": "9473b4da-6866-4db1-866f-d79769a4e24b",
   "metadata": {},
   "outputs": [
    {
     "name": "stdout",
     "output_type": "stream",
     "text": [
      "0 0\n",
      "a0_a1_t_vec\n",
      "[1, 0.0]\n",
      "b0_b1_t_vec\n",
      "[1, 0.0]\n",
      "a1b1_ab0_t\n",
      "0.2366174846098586\n",
      "ab0_ab1_t_vec\n",
      "[0.7633825153901415, 0.0]\n",
      "ab1c1_abc0_t\n",
      "0.4054651081081643\n",
      "c0_c1_t_vec\n",
      "[2, 0.0]\n",
      "d0_abc0_t_vec\n",
      "[13.09861228866811, 12.693147180559945]\n",
      "\n",
      "0 1\n",
      "a0_a1_t_vec\n",
      "[1, 0.0]\n",
      "b0_b1_t_vec\n",
      "[1, 0.0]\n",
      "a1b1_ab0_t\n",
      "0.2366174846098586\n",
      "ab0_ab1_t_vec\n",
      "[0.7633825153901415, 0.4054651081081643]\n",
      "ab1c1_abc0_t\n",
      "0.6931471805599453\n",
      "c0_c1_t_vec\n",
      "[2, 0.4054651081081643]\n",
      "d0_abc0_t_vec\n",
      "[13.09861228866811, 12.0]\n",
      "\n",
      "0 2\n",
      "a0_a1_t_vec\n",
      "[1, 0.0]\n",
      "b0_b1_t_vec\n",
      "[1, 0.0]\n",
      "a1b1_ab0_t\n",
      "0.2366174846098586\n",
      "ab0_ab1_t_vec\n",
      "[0.7633825153901415, 1.0986122886681096]\n",
      "ab1c1_abc0_t\n",
      "10\n",
      "c0_c1_t_vec\n",
      "[2, 1.0986122886681096]\n",
      "d0_abc0_t_vec\n",
      "[13.09861228866811, 2]\n",
      "\n",
      "1 0\n",
      "a0_a1_t_vec\n",
      "[1, 0.2366174846098586]\n",
      "b0_b1_t_vec\n",
      "[1, 0.2366174846098586]\n",
      "a1b1_ab0_t\n",
      "0.3105500901261999\n",
      "ab0_ab1_t_vec\n",
      "[0.4528324252639415, 0.0]\n",
      "ab1c1_abc0_t\n",
      "0.4054651081081643\n",
      "c0_c1_t_vec\n",
      "[2, 0.0]\n",
      "d0_abc0_t_vec\n",
      "[13.09861228866811, 12.693147180559945]\n",
      "\n",
      "1 1\n",
      "a0_a1_t_vec\n",
      "[1, 0.2366174846098586]\n",
      "b0_b1_t_vec\n",
      "[1, 0.2366174846098586]\n",
      "a1b1_ab0_t\n",
      "0.3105500901261999\n",
      "ab0_ab1_t_vec\n",
      "[0.4528324252639415, 0.4054651081081643]\n",
      "ab1c1_abc0_t\n",
      "0.6931471805599453\n",
      "c0_c1_t_vec\n",
      "[2, 0.4054651081081643]\n",
      "d0_abc0_t_vec\n",
      "[13.09861228866811, 12.0]\n",
      "\n",
      "1 2\n",
      "a0_a1_t_vec\n",
      "[1, 0.2366174846098586]\n",
      "b0_b1_t_vec\n",
      "[1, 0.2366174846098586]\n",
      "a1b1_ab0_t\n",
      "0.3105500901261999\n",
      "ab0_ab1_t_vec\n",
      "[0.4528324252639415, 1.0986122886681096]\n",
      "ab1c1_abc0_t\n",
      "10\n",
      "c0_c1_t_vec\n",
      "[2, 1.0986122886681096]\n",
      "d0_abc0_t_vec\n",
      "[13.09861228866811, 2]\n",
      "\n",
      "2 0\n",
      "a0_a1_t_vec\n",
      "[1, 0.5471675747360585]\n",
      "b0_b1_t_vec\n",
      "[1, 0.5471675747360585]\n",
      "a1b1_ab0_t\n",
      "0.4528324252639415\n",
      "ab0_ab1_t_vec\n",
      "[0.0, 0.0]\n",
      "ab1c1_abc0_t\n",
      "0.4054651081081643\n",
      "c0_c1_t_vec\n",
      "[2, 0.0]\n",
      "d0_abc0_t_vec\n",
      "[13.09861228866811, 12.693147180559945]\n",
      "\n",
      "2 1\n",
      "a0_a1_t_vec\n",
      "[1, 0.5471675747360585]\n",
      "b0_b1_t_vec\n",
      "[1, 0.5471675747360585]\n",
      "a1b1_ab0_t\n",
      "0.4528324252639415\n",
      "ab0_ab1_t_vec\n",
      "[0.0, 0.4054651081081643]\n",
      "ab1c1_abc0_t\n",
      "0.6931471805599453\n",
      "c0_c1_t_vec\n",
      "[2, 0.4054651081081643]\n",
      "d0_abc0_t_vec\n",
      "[13.09861228866811, 12.0]\n",
      "\n",
      "2 2\n",
      "a0_a1_t_vec\n",
      "[1, 0.5471675747360585]\n",
      "b0_b1_t_vec\n",
      "[1, 0.5471675747360585]\n",
      "a1b1_ab0_t\n",
      "0.4528324252639415\n",
      "ab0_ab1_t_vec\n",
      "[0.0, 1.0986122886681096]\n",
      "ab1c1_abc0_t\n",
      "10\n",
      "c0_c1_t_vec\n",
      "[2, 1.0986122886681096]\n",
      "d0_abc0_t_vec\n",
      "[13.09861228866811, 2]\n",
      "\n"
     ]
    }
   ],
   "source": [
    "\n",
    "\n",
    "\n",
    "n_markov_states = n_int_AB*n_int_ABC+n_int_ABC*3+3*comb(n_int_ABC, 2, exact = True)\n",
    "cut_AB = cutpoints_AB(n_int_AB, t_AB, coal_AB)\n",
    "cut_ABC = cutpoints_ABC(n_int_ABC, coal_ABC)\n",
    "probs = np.empty((n_markov_states), dtype=object)\n",
    "states = np.empty((n_markov_states), dtype=object)\n",
    "\n",
    "acc = 0\n",
    "\n",
    "for i in range(n_int_AB):\n",
    "    for j in range(n_int_ABC):\n",
    "        a0_a1_t_vec = [t_A, cut_AB[i]]\n",
    "        a0_a1_mu_vec = [mu_A, mu_AB]\n",
    "        b0_b1_t_vec = [t_B, cut_AB[i]]\n",
    "        b0_b1_mu_vec = [mu_B, mu_AB]\n",
    "        c0_c1_t_vec = [t_C, cut_ABC[j]]\n",
    "        c0_c1_mu_vec = [mu_C, mu_ABC]\n",
    "        ab0_ab1_t_vec = [t_AB-cut_AB[i+1], cut_ABC[j]]\n",
    "        ab0_ab1_mu_vec = [mu_AB, mu_ABC]\n",
    "        a1b1_ab0_t = cut_AB[i+1]-cut_AB[i]\n",
    "        a1b1_ab0_mu = mu_AB\n",
    "        ab1c1_abc0_t = cut_ABC[j+1]-cut_ABC[j] if j!=(n_int_ABC-1) else t_upper\n",
    "        ab1c1_abc0_mu = mu_ABC\n",
    "\n",
    "\n",
    "        add = t_upper+cut_ABC[n_int_ABC-1]-cut_ABC[j+1] if j!=(n_int_ABC-1) else 0\n",
    "        d0_abc0_t_vec = [t_A+t_AB+cut_ABC[n_int_ABC-1]+t_upper]+[t_peak+add]\n",
    "        d0_abc0_mu_vec = [mu_D, mu_ABC]\n",
    "        \n",
    "        print(i, j)\n",
    "        for k in range(7):\n",
    "            print(['a0_a1_t_vec', 'b0_b1_t_vec', 'a1b1_ab0_t', 'ab0_ab1_t_vec', \n",
    "              'ab1c1_abc0_t', 'c0_c1_t_vec', 'd0_abc0_t_vec'][k])\n",
    "            print([a0_a1_t_vec, b0_b1_t_vec, a1b1_ab0_t, ab0_ab1_t_vec, \n",
    "              ab1c1_abc0_t, c0_c1_t_vec, d0_abc0_t_vec][k])\n",
    "        print()\n",
    "        \n",
    "        emissions = calc_emissions_single_JC69(\n",
    "            a0_a1_t_vec, b0_b1_t_vec, a1b1_ab0_t, ab0_ab1_t_vec, \n",
    "            ab1c1_abc0_t, c0_c1_t_vec, d0_abc0_t_vec,\n",
    "            a0_a1_mu_vec, b0_b1_mu_vec, a1b1_ab0_mu, ab0_ab1_mu_vec, \n",
    "            ab1c1_abc0_mu, c0_c1_mu_vec, d0_abc0_mu_vec\n",
    "        )\n",
    "        states[acc] = (0, i, j)\n",
    "        probs[acc] = emissions\n",
    "        acc += 1"
   ]
  },
  {
   "cell_type": "code",
   "execution_count": 48,
   "id": "ddd429a6-2435-4d56-95e7-ff621f171f61",
   "metadata": {},
   "outputs": [
    {
     "data": {
      "text/plain": [
       "array([0., 1.])"
      ]
     },
     "execution_count": 48,
     "metadata": {},
     "output_type": "execute_result"
    }
   ],
   "source": [
    "cut_AB"
   ]
  },
  {
   "cell_type": "code",
   "execution_count": 41,
   "id": "0616757d-81e1-417d-9035-8fc5c6b4acce",
   "metadata": {},
   "outputs": [
    {
     "data": {
      "text/plain": [
       "array([0.        , 0.40546511, 1.09861229,        inf])"
      ]
     },
     "execution_count": 41,
     "metadata": {},
     "output_type": "execute_result"
    }
   ],
   "source": [
    "cut_ABC"
   ]
  },
  {
   "cell_type": "code",
   "execution_count": null,
   "id": "60538e20-5acc-4aba-afe0-899b74045ad7",
   "metadata": {},
   "outputs": [],
   "source": []
  },
  {
   "cell_type": "code",
   "execution_count": null,
   "id": "3cb076b9-90f0-4135-b90d-f0bd14c60bea",
   "metadata": {},
   "outputs": [],
   "source": []
  },
  {
   "cell_type": "code",
   "execution_count": null,
   "id": "58df4586-545f-4557-9c27-429c7fd11bcc",
   "metadata": {},
   "outputs": [],
   "source": []
  },
  {
   "cell_type": "code",
   "execution_count": 24,
   "id": "748e0c6a-1a76-469d-a498-4e354977ccf7",
   "metadata": {},
   "outputs": [],
   "source": [
    "from ilsmc.optimizer import trans_emiss_calc\n",
    "import numpy as np"
   ]
  },
  {
   "cell_type": "code",
   "execution_count": 32,
   "id": "00ae54f9-9db9-4323-9983-eb1ceed842f5",
   "metadata": {},
   "outputs": [
    {
     "data": {
      "text/plain": [
       "array([[9.99342139e-01, 2.19287048e-04, 2.19287048e-04, 2.19287048e-04],\n",
       "       [7.40194780e-04, 9.97887519e-01, 6.86143339e-04, 6.86143339e-04],\n",
       "       [7.40194780e-04, 6.86143339e-04, 9.97845370e-01, 7.28292193e-04],\n",
       "       [7.40194780e-04, 6.86143339e-04, 7.28292193e-04, 9.97845370e-01]])"
      ]
     },
     "execution_count": 32,
     "metadata": {},
     "output_type": "execute_result"
    }
   ],
   "source": [
    "N_AB = 5.266852e+04\n",
    "N_ABC = 2.083065e+04\n",
    "r = 6.373286e-09\n",
    "t_1 = 1.570170e+05\n",
    "t_2 = 3.970385e+04\n",
    "t_upper = 8.327783e+05\n",
    "n_int_AB = 1\n",
    "n_int_ABC = 1\n",
    "mu = 2e-8\n",
    "\n",
    "tr, em, pi, hidden_names, observed_names = trans_emiss_calc(t_1, t_2, t_upper, N_AB, N_ABC, r, mu, n_int_AB, n_int_ABC)\n",
    "\n",
    "tr"
   ]
  },
  {
   "cell_type": "code",
   "execution_count": 34,
   "id": "568e0349-2893-4877-936e-196407ee01d7",
   "metadata": {},
   "outputs": [
    {
     "data": {
      "text/plain": [
       "0.31370282762094254"
      ]
     },
     "execution_count": 34,
     "metadata": {},
     "output_type": "execute_result"
    }
   ],
   "source": [
    "(2/3)*(np.exp(-t_2/(N_AB)))"
   ]
  },
  {
   "cell_type": "code",
   "execution_count": 35,
   "id": "d4111837-1e13-47ff-b3ee-cacde5cf24f1",
   "metadata": {},
   "outputs": [
    {
     "data": {
      "text/plain": [
       "0.7538440419438405"
      ]
     },
     "execution_count": 35,
     "metadata": {},
     "output_type": "execute_result"
    }
   ],
   "source": [
    "t_2/(N_AB)"
   ]
  },
  {
   "cell_type": "code",
   "execution_count": null,
   "id": "379c6329-8837-44be-b871-9b0322572deb",
   "metadata": {},
   "outputs": [],
   "source": []
  },
  {
   "cell_type": "code",
   "execution_count": null,
   "id": "a25c49f6-0e55-4392-865c-87a96576ec51",
   "metadata": {},
   "outputs": [],
   "source": []
  },
  {
   "cell_type": "code",
   "execution_count": null,
   "id": "dd684a27-2c3a-4084-b55f-41c71ba52878",
   "metadata": {},
   "outputs": [],
   "source": []
  },
  {
   "cell_type": "code",
   "execution_count": 36,
   "id": "29843fd0-0838-4af5-9234-847816afe93b",
   "metadata": {},
   "outputs": [
    {
     "data": {
      "text/plain": [
       "array([[9.98988840e-01, 3.37053285e-04, 3.37053285e-04, 3.37053285e-04],\n",
       "       [1.17034957e-03, 9.97626991e-01, 6.01329631e-04, 6.01329631e-04],\n",
       "       [1.17034957e-03, 6.01329631e-04, 9.97560751e-01, 6.67569506e-04],\n",
       "       [1.17034957e-03, 6.01329631e-04, 6.67569506e-04, 9.97560751e-01]])"
      ]
     },
     "execution_count": 36,
     "metadata": {},
     "output_type": "execute_result"
    }
   ],
   "source": [
    "N_AB = 52206.80\n",
    "N_ABC = 99998.37\n",
    "t_1 = 156867.28\n",
    "t_2 = 40142.80\n",
    "t_upper = 753038.18\n",
    "n_int_AB = 1\n",
    "n_int_ABC = 1\n",
    "mu = 2e-8\n",
    "r = 1e-8\n",
    "\n",
    "tr, em, pi, hidden_names, observed_names = trans_emiss_calc(t_1, t_2, t_upper, N_AB, N_ABC, r, mu, n_int_AB, n_int_ABC)\n",
    "\n",
    "tr"
   ]
  },
  {
   "cell_type": "code",
   "execution_count": 38,
   "id": "16e8f125-1d4e-4ed9-8bc3-4e8ea46ffaf8",
   "metadata": {},
   "outputs": [
    {
     "data": {
      "text/plain": [
       "0.30900924003551505"
      ]
     },
     "execution_count": 38,
     "metadata": {},
     "output_type": "execute_result"
    }
   ],
   "source": [
    "(2/3)*(np.exp(-t_2/(N_AB)))"
   ]
  },
  {
   "cell_type": "code",
   "execution_count": 39,
   "id": "c17d2f9d-6db6-4e6a-aa51-829ba8095b73",
   "metadata": {},
   "outputs": [
    {
     "data": {
      "text/plain": [
       "0.7689189913957569"
      ]
     },
     "execution_count": 39,
     "metadata": {},
     "output_type": "execute_result"
    }
   ],
   "source": [
    "t_2/(N_AB)"
   ]
  },
  {
   "cell_type": "code",
   "execution_count": null,
   "id": "c1bd9657-3b94-44c2-a361-e32d05f06b8e",
   "metadata": {},
   "outputs": [],
   "source": []
  },
  {
   "cell_type": "code",
   "execution_count": 51,
   "id": "21c3d07d-46f7-4fc5-9a3c-77dc0667bf00",
   "metadata": {},
   "outputs": [
    {
     "data": {
      "text/plain": [
       "array([[9.99049576e-01, 3.16807993e-04, 3.16807993e-04, 3.16807993e-04],\n",
       "       [1.16478348e-03, 9.97474205e-01, 6.80505551e-04, 6.80505551e-04],\n",
       "       [1.16478348e-03, 6.80505551e-04, 9.97409325e-01, 7.45386384e-04],\n",
       "       [1.16478348e-03, 6.80505551e-04, 7.45386384e-04, 9.97409325e-01]])"
      ]
     },
     "execution_count": 51,
     "metadata": {},
     "output_type": "execute_result"
    }
   ],
   "source": [
    "N_AB = 50000\n",
    "N_ABC = 50000\n",
    "t_1 = 160000\n",
    "t_2 = 40000\n",
    "t_upper = 800000\n",
    "n_int_AB = 1\n",
    "n_int_ABC = 1\n",
    "mu = 2e-8\n",
    "r = 1e-8\n",
    "\n",
    "tr, em, pi, hidden_names, observed_names = trans_emiss_calc(t_1, t_2, t_upper, N_AB, N_ABC, r, mu, n_int_AB, n_int_ABC)\n",
    "\n",
    "tr"
   ]
  },
  {
   "cell_type": "code",
   "execution_count": 43,
   "id": "4b8df967-2ad4-456e-9b32-bd78bd3622bd",
   "metadata": {},
   "outputs": [
    {
     "data": {
      "text/plain": [
       "0.29955264274481436"
      ]
     },
     "execution_count": 43,
     "metadata": {},
     "output_type": "execute_result"
    }
   ],
   "source": [
    "(2/3)*(np.exp(-t_2/(N_AB)))"
   ]
  },
  {
   "cell_type": "code",
   "execution_count": 45,
   "id": "0a12e5a9-41b6-45e4-83fa-4903669c7b23",
   "metadata": {},
   "outputs": [
    {
     "data": {
      "text/plain": [
       "0.8"
      ]
     },
     "execution_count": 45,
     "metadata": {},
     "output_type": "execute_result"
    }
   ],
   "source": [
    "t_2/(N_AB)"
   ]
  },
  {
   "cell_type": "code",
   "execution_count": null,
   "id": "7e3239f6-b71f-4486-a2bb-6f0754b195c7",
   "metadata": {},
   "outputs": [],
   "source": []
  },
  {
   "cell_type": "code",
   "execution_count": null,
   "id": "3fa67935-1bc8-4251-bfd8-3feceb2d7814",
   "metadata": {},
   "outputs": [],
   "source": []
  },
  {
   "cell_type": "code",
   "execution_count": null,
   "id": "bf9a6c1b-168d-4c3f-a7ba-1f30dacff259",
   "metadata": {},
   "outputs": [],
   "source": []
  },
  {
   "cell_type": "code",
   "execution_count": null,
   "id": "05ef81d0-9d77-43bb-b60c-42b751cad660",
   "metadata": {},
   "outputs": [],
   "source": []
  },
  {
   "cell_type": "code",
   "execution_count": null,
   "id": "03f4a23a-61bc-4a32-90a9-0657ce9fdb27",
   "metadata": {},
   "outputs": [],
   "source": []
  },
  {
   "cell_type": "code",
   "execution_count": null,
   "id": "53e63c90-6d32-4bb9-80fe-292cb052adc3",
   "metadata": {},
   "outputs": [],
   "source": []
  },
  {
   "cell_type": "code",
   "execution_count": 52,
   "id": "665a5559-ba43-4804-8b3c-b16a1a2d5cc0",
   "metadata": {},
   "outputs": [
    {
     "data": {
      "text/plain": [
       "array([[9.99049576e-01, 3.16807993e-04, 3.16807993e-04, 3.16807993e-04],\n",
       "       [1.16478348e-03, 9.97695615e-01, 5.69800789e-04, 5.69800789e-04],\n",
       "       [1.16478348e-03, 5.69800789e-04, 9.97630722e-01, 6.34694092e-04],\n",
       "       [1.16478348e-03, 5.69800789e-04, 6.34694092e-04, 9.97630722e-01]])"
      ]
     },
     "execution_count": 52,
     "metadata": {},
     "output_type": "execute_result"
    }
   ],
   "source": [
    "N_AB = 50000\n",
    "N_ABC = 100000\n",
    "t_1 = 160000\n",
    "t_2 = 40000\n",
    "t_upper = 800000\n",
    "n_int_AB = 1\n",
    "n_int_ABC = 1\n",
    "mu = 2e-8\n",
    "r = 1e-8\n",
    "\n",
    "tr, em, pi, hidden_names, observed_names = trans_emiss_calc(t_1, t_2, t_upper, N_AB, N_ABC, r, mu, n_int_AB, n_int_ABC)\n",
    "\n",
    "tr"
   ]
  }
 ],
 "metadata": {
  "kernelspec": {
   "display_name": "Python 3 (ipykernel)",
   "language": "python",
   "name": "python3"
  },
  "language_info": {
   "codemirror_mode": {
    "name": "ipython",
    "version": 3
   },
   "file_extension": ".py",
   "mimetype": "text/x-python",
   "name": "python",
   "nbconvert_exporter": "python",
   "pygments_lexer": "ipython3",
   "version": "3.8.10"
  }
 },
 "nbformat": 4,
 "nbformat_minor": 5
}
