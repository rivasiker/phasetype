{
 "cells": [
  {
   "cell_type": "markdown",
   "id": "be8ca18d-cc7b-4e3d-abb3-e1e910cc2b33",
   "metadata": {},
   "source": [
    "$\n",
    "\\begin{align}\n",
    "&P(L=l, R=r, V=v, H=h)= \\\\\n",
    "&=\\begin{cases}\n",
    "       \\sum_{i\\in \\text{no coal}} & \\text{if $l=r$ and $v=h$}\\\\\n",
    "    \\end{cases}       \n",
    "\\end{align}\n",
    "$"
   ]
  },
  {
   "cell_type": "code",
   "execution_count": 155,
   "id": "55231d01-0285-4afc-80f9-4c3be17c04ef",
   "metadata": {},
   "outputs": [
    {
     "name": "stdout",
     "output_type": "stream",
     "text": [
      "The rpy2.ipython extension is already loaded. To reload it, use:\n",
      "  %reload_ext rpy2.ipython\n"
     ]
    }
   ],
   "source": [
    "from IPython.display import SVG\n",
    "import numpy as np\n",
    "import pandas as pd\n",
    "from scipy.linalg import expm\n",
    "%load_ext rpy2.ipython"
   ]
  },
  {
   "cell_type": "code",
   "execution_count": 17,
   "id": "22ccd373-0a5a-48cb-a50c-f07b781e5ed6",
   "metadata": {},
   "outputs": [],
   "source": [
    "def recombination(i):\n",
    "    \"\"\"\n",
    "    This function returns all possible states after a \n",
    "    single recombination event given an initial state\n",
    "    \"\"\"\n",
    "    # Create empty list\n",
    "    new_lst = []\n",
    "    # For each block index in the list\n",
    "    for block in range(len(i)):\n",
    "        # If the site is linked\n",
    "        if 0 not in i[block]:\n",
    "            # Remove block\n",
    "            lst = i[:block]+i[block+1:]\n",
    "            # Split block\n",
    "            lst = lst + [(i[block][0], 0), (0, i[block][1])]\n",
    "            # Append to list\n",
    "            new_lst.append(sorted(lst))\n",
    "    return new_lst"
   ]
  },
  {
   "cell_type": "code",
   "execution_count": 18,
   "id": "760d3595-29e9-4a02-a138-4c8715b68633",
   "metadata": {},
   "outputs": [],
   "source": [
    "def coalescent(i):\n",
    "    \"\"\"\n",
    "    This function returns all possible states after a \n",
    "    single coalescence event given an initial state. \n",
    "    The returned list is somewhat ordered, so that the \n",
    "    first states correspond to reversible coalescence \n",
    "    events, and the last to non-reversible ones.\n",
    "    \"\"\"\n",
    "    # Get unique values per site\n",
    "    n_0 = set([0]+list(sum(i, ())))\n",
    "    reversible = []\n",
    "    nonreversible = []\n",
    "    # For each combination of blocks\n",
    "    for b1 in range(len(i)):\n",
    "        for b2 in range(b1+1, len(i)):\n",
    "            # Create new block by merging\n",
    "            add_lst = [(i[b1][0]+i[b2][0], i[b1][1]+i[b2][1])]\n",
    "            # For each index in i\n",
    "            for b3 in range(len(i)):\n",
    "                # If the index is not in among the merged blocks\n",
    "                if b3 not in [b1, b2]:\n",
    "                    # Append to list\n",
    "                    add_lst.append(i[b3])\n",
    "            # If the unique values are different from the \n",
    "            # original block\n",
    "            if set([0]+list(sum(add_lst, ()))) == n_0:\n",
    "                # Append to reversible coalescence list\n",
    "                reversible.append(sorted(add_lst))\n",
    "            else:\n",
    "                # Append to non-reversible coalescence list\n",
    "                nonreversible.append(sorted(add_lst))\n",
    "    l = reversible+nonreversible\n",
    "    return l"
   ]
  },
  {
   "cell_type": "code",
   "execution_count": 19,
   "id": "1b598c22-5a62-4a1e-8d41-4d612d0ae33f",
   "metadata": {},
   "outputs": [],
   "source": [
    "\n",
    "def idx(i):\n",
    "    j = list(sum(i, ()))\n",
    "    return -(len(j)-j.count(0))\n",
    "\n",
    "def get_states(lst):\n",
    "    \"\"\"\n",
    "    Given a list of states, this function finds all possible\n",
    "    recombination and coalescence states iteratively.\n",
    "    \"\"\"\n",
    "    # Sort block per states just in case\n",
    "    all_states = [sorted(i) for i in lst]\n",
    "    # Define pool of states to be transformed\n",
    "    state_pool = all_states\n",
    "    # While the pool is non-empty\n",
    "    while len(state_pool) > 0:\n",
    "        # Define result list per iteration\n",
    "        iter_states = []\n",
    "        # For each of the states in the pool\n",
    "        for i in state_pool:\n",
    "            # Save coalescent transformation\n",
    "            iter_states = iter_states+coalescent(i)\n",
    "            # Save recombination transformation\n",
    "            iter_states = iter_states+recombination(i)\n",
    "        # Keep unique values in the original order\n",
    "        iter_states = sorted(list(list(i) for i in set(tuple(row) for row in iter_states)), key = iter_states.index)\n",
    "        # Define pool for next round\n",
    "        state_pool = [i for i in iter_states if i not in all_states]\n",
    "        # Add pool to overall list\n",
    "        all_states += state_pool\n",
    "        \n",
    "    all_states = sorted(all_states, key = idx)\n",
    "    return all_states\n",
    "\n",
    "import multiprocessing as mp\n",
    "def get_states_parallel(lst):\n",
    "    \"\"\"\n",
    "    Given a list of states, this function finds all possible\n",
    "    recombination and coalescence states iteratively and in\n",
    "    parallel.\n",
    "    \"\"\"\n",
    "    all_states = [sorted(i) for i in lst]\n",
    "    state_pool = all_states\n",
    "    while len(state_pool) > 0:\n",
    "        print(len(all_states), end = '\\r')\n",
    "        iter_states = []\n",
    "        pool = mp.Pool(mp.cpu_count())\n",
    "        iter_states = iter_states+[item for sublist in pool.map(coalescent, state_pool) for item in sublist]\n",
    "        iter_states = iter_states+[item for sublist in pool.map(recombination, state_pool) for item in sublist]\n",
    "        pool.close()\n",
    "        iter_states = sorted(list(list(i) for i in set(tuple(row) for row in iter_states)), key = iter_states.index)\n",
    "        state_pool = [i for i in iter_states if i not in all_states]\n",
    "        all_states += state_pool\n",
    "    all_states = sorted(all_states, key = idx)\n",
    "    return all_states\n"
   ]
  },
  {
   "cell_type": "code",
   "execution_count": 20,
   "id": "96726821-14ae-453e-bb33-4326a0d4f2fd",
   "metadata": {},
   "outputs": [
    {
     "name": "stdout",
     "output_type": "stream",
     "text": [
      "-\u001b[38;2;204;000;000m1\u001b[38;2;000;000;000m\n",
      "-\u001b[38;2;000;000;204m2\u001b[38;2;000;000;000m\n",
      "-\u001b[38;2;204;204;000m4\u001b[38;2;000;000;000m\n",
      "-\u001b[38;2;204;000;204m3\u001b[38;2;000;000;000m\n",
      "-\u001b[38;2;204;102;000m5\u001b[38;2;000;000;000m\n",
      "-\u001b[38;2;000;204;000m6\u001b[38;2;000;000;000m\n",
      "-\u001b[38;2;000;000;000m7\u001b[38;2;000;000;000m\n"
     ]
    }
   ],
   "source": [
    "def colored(r, g, b, text):\n",
    "    \"\"\"\n",
    "    Given some color coordinates in RGB and \n",
    "    some text, this function returns the text in\n",
    "    the right format for printing in color. \n",
    "    \"\"\"\n",
    "    return \"\\033[38;2;{};{};{}m{}\\033[38;2;000;000;000m\".format(r, g, b, text)\n",
    "\n",
    "dct = {\n",
    "    1:('204', '000', '000'),\n",
    "    2:('000', '000', '204'),\n",
    "    4:('204', '204', '000'),\n",
    "    3:('204', '000', '204'),\n",
    "    5:('204', '102', '000'),\n",
    "    6:('000', '204', '000'),\n",
    "    7:('000', '000', '000'),\n",
    "}\n",
    "\n",
    "for i in dct:\n",
    "    entry = dct[i]\n",
    "    print('-'+colored(entry[0], entry[1], entry[2], i))\n"
   ]
  },
  {
   "cell_type": "code",
   "execution_count": 21,
   "id": "d6713021-86cf-40ff-b602-914649a5f065",
   "metadata": {},
   "outputs": [
    {
     "name": "stdout",
     "output_type": "stream",
     "text": [
      " ______ \n",
      "|   -\u001b[38;2;204;000;000m●\u001b[38;2;000;000;000m |\n",
      "|   -\u001b[38;2;000;000;204m●\u001b[38;2;000;000;000m |\n",
      "|   -\u001b[38;2;204;204;000m●\u001b[38;2;000;000;000m |\n",
      "| \u001b[38;2;204;000;000m●\u001b[38;2;000;000;000m-   |\n",
      "| \u001b[38;2;000;204;000mX\u001b[38;2;000;000;000m-   |\n",
      " ‾‾‾‾‾‾ \n"
     ]
    }
   ],
   "source": [
    "def print_states(i, fill):\n",
    "    \"\"\"\n",
    "    This function transforms a numerical representation\n",
    "    of an entry of the state space into a string with \n",
    "    coloring that can be used to print the entry in a \n",
    "    ball-and-stick representation. This function only \n",
    "    works for a population size of up to 3 individuals.\n",
    "    The argument fill is used to specify the height of \n",
    "    the print. If fill exceeds the natural height of the\n",
    "    printed state, then trailing whitespaces will be \n",
    "    printed.\n",
    "    \"\"\"\n",
    "    string = ' ______ \\n'\n",
    "    for j in i:\n",
    "        string += '| '\n",
    "        if j[0] == 0:\n",
    "            string += '  '\n",
    "        else:\n",
    "            entry = dct[j[0]]\n",
    "            if j[0] in [1, 2, 4]:\n",
    "                symbol = '●'\n",
    "            else:\n",
    "                symbol = 'X'\n",
    "            string += (colored(entry[0], entry[1], entry[2], symbol)+'-')\n",
    "        if j[1] == 0:\n",
    "            string += '  '\n",
    "        else:\n",
    "            if j[1] in [1, 2, 4]:\n",
    "                symbol = '●'\n",
    "            else:\n",
    "                symbol = 'X'\n",
    "            entry = dct[j[1]]\n",
    "            string += ('-'+colored(entry[0], entry[1], entry[2], symbol))\n",
    "        string += ' |\\n'\n",
    "    string += ' ‾‾‾‾‾‾ '\n",
    "    string += '\\n        '*(fill-len(string.split('\\n')))\n",
    "    return string\n",
    "\n",
    "print(print_states([(0, 1), (0, 2), (0, 4), (1, 0), (6, 0)], 6))"
   ]
  },
  {
   "cell_type": "code",
   "execution_count": 22,
   "id": "2b76916a-17e2-47d7-8711-3512258e6cca",
   "metadata": {},
   "outputs": [],
   "source": [
    "def print_all_states(iter_lst, n_col):\n",
    "    \"\"\"\n",
    "    This function re-formats the output of print_states\n",
    "    for plotting several states in the same row/column. The \n",
    "    arguments are a list of states and the number of\n",
    "    columns for printing. The returned object is a list \n",
    "    containing the string for each of the rows.  \n",
    "    \"\"\"\n",
    "    # Define empty string holder list\n",
    "    new_string = []\n",
    "    # For each row\n",
    "    for row in range(0, len(iter_lst), n_col):\n",
    "        \n",
    "        # Define index of the final state of that row\n",
    "        end = row+n_col\n",
    "        if end > len(iter_lst):\n",
    "            end = len(iter_lst)\n",
    "        \n",
    "        # Save the height of the current row\n",
    "        max_len = max([len(i) for i in iter_lst[row:end]])+2\n",
    "        \n",
    "        # Print states in right format with trailing whitespaces\n",
    "        x = []\n",
    "        for i in iter_lst[row:end]:\n",
    "            x.append(print_states(i, max_len))\n",
    "        \n",
    "        # Define new empty string\n",
    "        string = ''\n",
    "        # For each row within each printed state\n",
    "        for max_depth in range(max_len):\n",
    "            # For each printed state\n",
    "            for i in x:\n",
    "                # Add row\n",
    "                string += i.split('\\n')[max_depth]\n",
    "            string += '\\n'\n",
    "        # Append new string to final result\n",
    "        new_string.append(string[:-2])\n",
    "    \n",
    "    return new_string\n"
   ]
  },
  {
   "cell_type": "code",
   "execution_count": 23,
   "id": "133c12f2-9e58-40e4-b9d6-8f904d9c0d89",
   "metadata": {},
   "outputs": [],
   "source": [
    "def iter_lst_to_ggplot(iter_lst_2):\n",
    "    dat = pd.DataFrame(columns = ['id', 'seg_y', 'seg_xmin', 'seg_xmax', 'dot_color_left', 'dot_color_right'])\n",
    "    for i in range(len(iter_lst_2)):\n",
    "        for j in range(len(iter_lst_2[i])):\n",
    "            if iter_lst_2[i][j][0] == 0:\n",
    "                xmin = 0\n",
    "                xmax = 1\n",
    "                left = '-'\n",
    "                right = str(iter_lst_2[i][j][1])\n",
    "            elif iter_lst_2[i][j][1] == 0:\n",
    "                xmin = -1\n",
    "                xmax = 0\n",
    "                left = str(iter_lst_2[i][j][0])\n",
    "                right = '-'\n",
    "            else:\n",
    "                xmin = -1\n",
    "                xmax = 1\n",
    "                left = str(iter_lst_2[i][j][0])\n",
    "                right = str(iter_lst_2[i][j][1])\n",
    "            dat.loc[len(dat)] = [i, j, xmin, xmax, left, right]\n",
    "    return dat"
   ]
  },
  {
   "cell_type": "code",
   "execution_count": 24,
   "id": "94dc6da6-3e0b-4386-9dfa-8c2177f0ebc7",
   "metadata": {},
   "outputs": [
    {
     "data": {
      "text/plain": [
       "203"
      ]
     },
     "execution_count": 24,
     "metadata": {},
     "output_type": "execute_result"
    }
   ],
   "source": [
    "state_3 = [[(0, 1), (0, 2), (0, 4), (1, 0), (2, 0), (4, 0)]]\n",
    "\n",
    "iter_lst_3 = get_states(state_3)\n",
    "len(iter_lst_3)"
   ]
  },
  {
   "cell_type": "code",
   "execution_count": 25,
   "id": "587d6f67-1942-49db-b372-0d5d01c8e56b",
   "metadata": {},
   "outputs": [],
   "source": [
    "trans_mat_3 = np.full((len(iter_lst_3), len(iter_lst_3)), '0')\n",
    "for i in range(len(iter_lst_3)):\n",
    "    new_lst = recombination(iter_lst_3[i])\n",
    "    idx_lst = [iter_lst_3.index(j) for j in new_lst]\n",
    "    for j in idx_lst:\n",
    "        trans_mat_3[i,j]='R'\n",
    "    new_lst = coalescent(iter_lst_3[i])\n",
    "    idx_lst = [iter_lst_3.index(j) for j in new_lst]\n",
    "    for j in idx_lst:\n",
    "        trans_mat_3[i,j]='C'"
   ]
  },
  {
   "cell_type": "code",
   "execution_count": 26,
   "id": "30958b2f-824f-49b0-921d-364e20ab060e",
   "metadata": {},
   "outputs": [
    {
     "data": {
      "text/plain": [
       "array([['0', 'C', 'C', ..., '0', '0', '0'],\n",
       "       ['R', '0', '0', ..., '0', '0', '0'],\n",
       "       ['R', '0', '0', ..., '0', '0', '0'],\n",
       "       ...,\n",
       "       ['0', '0', '0', ..., '0', '0', 'C'],\n",
       "       ['0', '0', '0', ..., '0', '0', 'C'],\n",
       "       ['0', '0', '0', ..., '0', 'R', '0']], dtype='<U1')"
      ]
     },
     "execution_count": 26,
     "metadata": {},
     "output_type": "execute_result"
    }
   ],
   "source": [
    "trans_mat_3"
   ]
  },
  {
   "cell_type": "code",
   "execution_count": 29,
   "id": "dbafbbc3-76de-41a1-9fcd-61dc989d3981",
   "metadata": {},
   "outputs": [],
   "source": [
    "%%R -i trans_mat_3 \n",
    "\n",
    "library(tidyverse)\n",
    "\n",
    "fun_trans <- function(x, coa, rho) {\n",
    "    if (x == 'R') {\n",
    "        return(rho)\n",
    "    } else if (x == 'C') {\n",
    "        return(coa)\n",
    "    } else return(0)\n",
    "}\n",
    "\n",
    "set_coa_rho <- function(X, coa, rho) {\n",
    "    \n",
    "    dat = data.frame(lapply(X, Vectorize(fun_trans), coa = coa, rho = rho))\n",
    "    dat = as.matrix(dat)\n",
    "    dat <- matrix(as.numeric(dat),    # Convert to numeric matrix\n",
    "                  ncol = ncol(X))\n",
    "    dat[row(dat)==col(dat)] = -rowSums(dat)\n",
    "    dat                                   \n",
    "}\n",
    "\n",
    "a <- set_coa_rho(trans_mat_3, 1, 2)\n",
    "\n",
    "\n"
   ]
  },
  {
   "cell_type": "code",
   "execution_count": 30,
   "id": "7237ec19-118c-4478-9d54-77e4f6fe9a75",
   "metadata": {},
   "outputs": [
    {
     "name": "stdout",
     "output_type": "stream",
     "text": [
      "      [,1] [,2] [,3] [,4] [,5] [,6] [,7] [,8] [,9] [,10]\n",
      " [1,]  -15    1    1    1    1    1    1    1    1     1\n",
      " [2,]    2  -12    0    0    0    0    0    0    0     0\n",
      " [3,]    2    0  -12    0    0    0    0    0    0     0\n",
      " [4,]    2    0    0  -12    0    0    0    0    0     0\n",
      " [5,]    2    0    0    0  -12    0    0    0    0     0\n",
      " [6,]    2    0    0    0    0  -12    0    0    0     0\n",
      " [7,]    2    0    0    0    0    0  -12    0    0     0\n",
      " [8,]    2    0    0    0    0    0    0  -12    0     0\n",
      " [9,]    2    0    0    0    0    0    0    0  -12     0\n",
      "[10,]    2    0    0    0    0    0    0    0    0   -12\n"
     ]
    }
   ],
   "source": [
    "%%R\n",
    "\n",
    "a[1:10, 1:10]"
   ]
  },
  {
   "cell_type": "code",
   "execution_count": 80,
   "id": "6b8cfbbc-87e1-47f6-8d76-49700b86b80b",
   "metadata": {},
   "outputs": [
    {
     "data": {
      "text/plain": [
       "[(0, 3), (7, 4)]"
      ]
     },
     "execution_count": 80,
     "metadata": {},
     "output_type": "execute_result"
    }
   ],
   "source": [
    "iter_lst_3[200]"
   ]
  },
  {
   "cell_type": "code",
   "execution_count": 34,
   "id": "52c234b6-20d1-41c3-a8e0-6120dc2ad2b5",
   "metadata": {},
   "outputs": [
    {
     "data": {
      "text/plain": [
       "[34, 112, 183, 201]"
      ]
     },
     "execution_count": 34,
     "metadata": {},
     "output_type": "execute_result"
    }
   ],
   "source": [
    "cutpoints_3_2 = []\n",
    "for i in range(1, len(iter_lst_3)):\n",
    "    if idx(iter_lst_3[i]) > idx(iter_lst_3[i-1]):\n",
    "        cutpoints_3_2.append(i)\n",
    "cutpoints_3_2"
   ]
  },
  {
   "cell_type": "code",
   "execution_count": 72,
   "id": "bf23c19e-dafc-4d34-bea4-ef913828d97f",
   "metadata": {},
   "outputs": [
    {
     "data": {
      "text/plain": [
       "-5"
      ]
     },
     "execution_count": 72,
     "metadata": {},
     "output_type": "execute_result"
    }
   ],
   "source": []
  },
  {
   "cell_type": "code",
   "execution_count": 120,
   "id": "fdc60e21-c13e-4852-b675-0af4a39fae95",
   "metadata": {},
   "outputs": [],
   "source": [
    "def get_indices(iter_lst_3, cutpoints_3_2, l, r, v, h):\n",
    "    \n",
    "    dct = {0:3, 1:3, 2:5, 3:6}\n",
    "    \n",
    "    if 0 not in [v, h]:\n",
    "    \n",
    "        # Starting states\n",
    "        a = [[j for j in iter_lst_3[i] if 4 in j and 0 not in j and j != (4, 4)] for i in range(0, cutpoints_3_2[0])] \n",
    "        a = [i for i in range(len(a)) if len(a[i]) == 0]\n",
    "\n",
    "        # No coalescence\n",
    "        b = list(range(cutpoints_3_2[0]))\n",
    "\n",
    "        if l != r:\n",
    "\n",
    "            # 1st coalescent on min\n",
    "            min_value = min([l, r])\n",
    "            min_index = [l, r].index(min_value)\n",
    "            c = [i for i in range(cutpoints_3_2[0], cutpoints_3_2[1]) if dct[[v, h][min_index]] in [j[min_index] for j in iter_lst_3[i]]]\n",
    "\n",
    "\n",
    "            # No coalescence\n",
    "            d = [i for i in range(cutpoints_3_2[1], cutpoints_3_2[2]) if 7 in [j[min_index] for j in iter_lst_3[i]]]\n",
    "            d = c+d\n",
    "\n",
    "            # 1st coalescent on max\n",
    "            max_value = max([l, r])\n",
    "            max_index = [l, r].index(max_value)\n",
    "            e_min = [i for i in range(cutpoints_3_2[1], cutpoints_3_2[2]) if dct[[v, h][min_index]] in [j[min_index] for j in iter_lst_3[i]]]\n",
    "            e_7_min = [i for i in range(cutpoints_3_2[2], cutpoints_3_2[3]) if 7 in [j[min_index] for j in iter_lst_3[i]]]\n",
    "            e = [i for i in range(cutpoints_3_2[1], cutpoints_3_2[3]) if dct[[v, h][max_index]] in [j[max_index] for j in iter_lst_3[i]]]    \n",
    "            seen = set()\n",
    "            e = [x for x in e_min+e_7_min+e if x in seen or seen.add(x)]\n",
    "        \n",
    "        else:\n",
    "            \n",
    "            # Both coalesce\n",
    "            c_l = [i for i in range(cutpoints_3_2[1], cutpoints_3_2[2]) if dct[v] in [j[0] for j in iter_lst_3[i]]]\n",
    "            c_r = [i for i in range(cutpoints_3_2[1], cutpoints_3_2[2]) if dct[h] in [j[1] for j in iter_lst_3[i]]]\n",
    "            seen = set()\n",
    "            c = [x for x in c_l+c_r if x in seen or seen.add(x)]\n",
    "            \n",
    "            d = []\n",
    "            e = []\n",
    "    # else:\n",
    "    #     \n",
    "    #     if v == h:\n",
    "    #         a_l = [i for i in range(cutpoints_3_2[1], cutpoints_3_2[2]) if 3 in [j[0] for j in iter_lst_3[i]]]\n",
    "    #         a_r = [i for i in range(cutpoints_3_2[1], cutpoints_3_2[2]) if 3 in [j[1] for j in iter_lst_3[i]]]\n",
    "    #         seen = set()\n",
    "    #         a = [x for x in a_l+a_r if x in seen or seen.add(x)]\n",
    "    #         \n",
    "    #         b = []\n",
    "    #         c = []\n",
    "    #         d = []\n",
    "    #         e = []\n",
    "    #         \n",
    "    #     else:\n",
    "    #         if \n",
    "        \n",
    "     \n",
    "    return (a, b, c, d, e)"
   ]
  },
  {
   "cell_type": "code",
   "execution_count": 152,
   "id": "94924b5d-53f9-43ec-b0e6-13e188efbfe3",
   "metadata": {},
   "outputs": [],
   "source": [
    "def calc_tm(nInt):\n",
    "    return [0]+[-np.log(1-i/nInt) for i in range(1, nInt+1)]"
   ]
  },
  {
   "cell_type": "code",
   "execution_count": 153,
   "id": "0749f1e3-e7bc-4712-8406-329b42bea274",
   "metadata": {},
   "outputs": [
    {
     "name": "stderr",
     "output_type": "stream",
     "text": [
      "/var/folders/f2/kh1g9nkd125769chspqz3121r__05x/T/ipykernel_28718/2202113993.py:2: RuntimeWarning: divide by zero encountered in log\n",
      "  return [0]+[-np.log(1-i/nInt) for i in range(1, nInt+1)]\n"
     ]
    },
    {
     "data": {
      "text/plain": [
       "[0, 0.2876820724517809, 0.6931471805599453, 1.3862943611198906, inf]"
      ]
     },
     "execution_count": 153,
     "metadata": {},
     "output_type": "execute_result"
    }
   ],
   "source": [
    "a = calc_tm(4)\n",
    "a"
   ]
  },
  {
   "cell_type": "code",
   "execution_count": null,
   "id": "e4b3db4d-d2f5-4e7d-a6b2-8039ea7accd7",
   "metadata": {},
   "outputs": [],
   "source": [
    "expm(tm0[j]*rate_mat)[1,1:3]%*%\n",
    "expm((tm[j]-tm0[j])*rate_mat)[1:3,4]*\n",
    "exp(-(tm0[k]-tm[j]))*\n",
    "# which is the same as \n",
    "# expm((tm0[k]-tm[j])*rate_mat)[4,4]*0.5*\n",
    "(1-exp(-(tm[k]-tm0[k])))*0.5"
   ]
  },
  {
   "cell_type": "code",
   "execution_count": 168,
   "id": "dac41c5e-6fe6-495d-92a9-ee9941fa8d1d",
   "metadata": {},
   "outputs": [
    {
     "data": {
      "text/plain": [
       "array([[0, 1, 1, ..., 0, 0, 0],\n",
       "       [2, 0, 0, ..., 0, 0, 0],\n",
       "       [2, 0, 0, ..., 0, 0, 0],\n",
       "       ...,\n",
       "       [0, 0, 0, ..., 0, 0, 1],\n",
       "       [0, 0, 0, ..., 0, 0, 1],\n",
       "       [0, 0, 0, ..., 0, 2, 0]])"
      ]
     },
     "execution_count": 168,
     "metadata": {},
     "output_type": "execute_result"
    }
   ],
   "source": [
    "def set_coa_rho(iter_lst_3, coa, rho):\n",
    "    trans_mat_3 = np.full((len(iter_lst_3), len(iter_lst_3)), 0)\n",
    "    for i in range(len(iter_lst_3)):\n",
    "        new_lst = recombination(iter_lst_3[i])\n",
    "        idx_lst = [iter_lst_3.index(j) for j in new_lst]\n",
    "        for j in idx_lst:\n",
    "            trans_mat_3[i,j]=rho\n",
    "        new_lst = coalescent(iter_lst_3[i])\n",
    "        idx_lst = [iter_lst_3.index(j) for j in new_lst]\n",
    "        for j in idx_lst:\n",
    "            trans_mat_3[i,j]=coa\n",
    "    return trans_mat_3\n",
    "\n",
    "\n",
    "rate_mat = set_coa_rho(iter_lst_3, 1, 2)\n",
    "\n",
    "rate_mat"
   ]
  },
  {
   "cell_type": "code",
   "execution_count": 189,
   "id": "d6d259e7-72b4-4b88-82d9-d0368482dc4c",
   "metadata": {},
   "outputs": [
    {
     "data": {
      "text/plain": [
       "[0, 0.6931471805599453, inf]"
      ]
     },
     "execution_count": 189,
     "metadata": {},
     "output_type": "execute_result"
    }
   ],
   "source": [
    "tm"
   ]
  },
  {
   "cell_type": "code",
   "execution_count": 216,
   "id": "03e2b570-d190-475d-b8f4-791ccfa01c79",
   "metadata": {},
   "outputs": [
    {
     "name": "stderr",
     "output_type": "stream",
     "text": [
      "/var/folders/f2/kh1g9nkd125769chspqz3121r__05x/T/ipykernel_28718/2202113993.py:2: RuntimeWarning: divide by zero encountered in log\n",
      "  return [0]+[-np.log(1-i/nInt) for i in range(1, nInt+1)]\n"
     ]
    }
   ],
   "source": [
    "nInt = 3\n",
    "tm = calc_tm(nInt)\n",
    "\n",
    "rate_mat = set_coa_rho(iter_lst_3, 1, 3)\n",
    "\n",
    "trans_mat = np.full((nInt*3, nInt*3), 0)\n",
    "for l in range(1, nInt):\n",
    "    for v in range(1, 4):\n",
    "        for r in range(1, nInt):\n",
    "            for h in range(1, 4):\n",
    "                (a, b, c, d, e) = get_indices(iter_lst_3, cutpoints_3_2, l, r, v, h)\n",
    "                if l < r:\n",
    "                    mult_1 = expm(tm[l-1]*rate_mat)[np.ix_(a,b)]\n",
    "                    mult_2 = expm((tm[l]-tm[l-1])*rate_mat)[np.ix_(b,c)]\n",
    "                    mult_3 = expm((tm[r-1]-tm[l])*rate_mat)[np.ix_(c,d)]\n",
    "                    mult_4 = expm((tm[r]-tm[r-1])*rate_mat)[np.ix_(d,e)]\n",
    "                    trans_mat[(l-1)*3+(v-1), (r-1)*3+(h-1)] = np.sum(mult_1@mult_2@mult_3@mult_4)\n",
    "                elif l > r:\n",
    "                    mult_1 = expm(tm[r-1]*rate_mat)[np.ix_(a,b)]\n",
    "                    mult_2 = expm((tm[r]-tm[r-1])*rate_mat)[np.ix_(b,c)]\n",
    "                    mult_3 = expm((tm[l-1]-tm[r])*rate_mat)[np.ix_(c,d)]\n",
    "                    mult_4 = expm((tm[l]-tm[l-1])*rate_mat)[np.ix_(d,e)]\n",
    "                    trans_mat[(l-1)*3+(v-1), (r-1)*3+(h-1)] = np.sum(mult_1@mult_2@mult_3@mult_4)\n",
    "                elif l == r:\n",
    "                    mult_1 = expm(tm[l-1]*rate_mat)[np.ix_(a,b)]\n",
    "                    mult_2 = expm((tm[l]-tm[l-1])*rate_mat)[np.ix_(b,c)]\n",
    "                    trans_mat[(l-1)*3+(v-1), (r-1)*3+(h-1)] = np.sum(mult_1@mult_2)"
   ]
  },
  {
   "cell_type": "code",
   "execution_count": 217,
   "id": "683ba260-ccb2-4971-8547-346e22af723a",
   "metadata": {},
   "outputs": [
    {
     "data": {
      "text/plain": [
       "array([[  28,   18,   18, 1721, 1711, 1711,    0,    0,    0],\n",
       "       [  18,   23,   23, 1721, 1729, 1729,    0,    0,    0],\n",
       "       [  18,   23,   23, 1721, 1729, 1729,    0,    0,    0],\n",
       "       [1721, 1721, 1721, 7371, 7011, 7011,    0,    0,    0],\n",
       "       [1711, 1729, 1729, 7011, 7196, 7196,    0,    0,    0],\n",
       "       [1711, 1729, 1729, 7011, 7196, 7196,    0,    0,    0],\n",
       "       [   0,    0,    0,    0,    0,    0,    0,    0,    0],\n",
       "       [   0,    0,    0,    0,    0,    0,    0,    0,    0],\n",
       "       [   0,    0,    0,    0,    0,    0,    0,    0,    0]])"
      ]
     },
     "execution_count": 217,
     "metadata": {},
     "output_type": "execute_result"
    }
   ],
   "source": [
    "trans_mat"
   ]
  },
  {
   "cell_type": "code",
   "execution_count": null,
   "id": "36f2d9f2-48ad-45f8-9e54-1786be68f521",
   "metadata": {},
   "outputs": [],
   "source": []
  }
 ],
 "metadata": {
  "kernelspec": {
   "display_name": "Python 3 (ipykernel)",
   "language": "python",
   "name": "python3"
  },
  "language_info": {
   "codemirror_mode": {
    "name": "ipython",
    "version": 3
   },
   "file_extension": ".py",
   "mimetype": "text/x-python",
   "name": "python",
   "nbconvert_exporter": "python",
   "pygments_lexer": "ipython3",
   "version": "3.8.10"
  }
 },
 "nbformat": 4,
 "nbformat_minor": 5
}
