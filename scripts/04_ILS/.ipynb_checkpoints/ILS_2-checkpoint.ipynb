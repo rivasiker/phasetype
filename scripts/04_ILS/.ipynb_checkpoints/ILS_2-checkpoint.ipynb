{
 "cells": [
  {
   "cell_type": "markdown",
   "id": "be8ca18d-cc7b-4e3d-abb3-e1e910cc2b33",
   "metadata": {},
   "source": [
    "$\n",
    "\\begin{align}\n",
    "&P(L=l, R=r, V=v, H=h)= \\\\\n",
    "&=\\begin{cases}\n",
    "       \\sum_{i\\in \\text{no coal}} & \\text{if $l=r$ and $v=h$}\\\\\n",
    "    \\end{cases}       \n",
    "\\end{align}\n",
    "$"
   ]
  },
  {
   "cell_type": "code",
   "execution_count": 124,
   "id": "55231d01-0285-4afc-80f9-4c3be17c04ef",
   "metadata": {},
   "outputs": [
    {
     "name": "stdout",
     "output_type": "stream",
     "text": [
      "The rpy2.ipython extension is already loaded. To reload it, use:\n",
      "  %reload_ext rpy2.ipython\n"
     ]
    }
   ],
   "source": [
    "from IPython.display import SVG\n",
    "import numpy as np\n",
    "import pandas as pd\n",
    "from scipy.linalg import expm\n",
    "import itertools\n",
    "%load_ext rpy2.ipython"
   ]
  },
  {
   "cell_type": "code",
   "execution_count": 2,
   "id": "22ccd373-0a5a-48cb-a50c-f07b781e5ed6",
   "metadata": {},
   "outputs": [],
   "source": [
    "def recombination(i):\n",
    "    \"\"\"\n",
    "    This function returns all possible states after a \n",
    "    single recombination event given an initial state\n",
    "    \"\"\"\n",
    "    # Create empty list\n",
    "    new_lst = []\n",
    "    # For each block index in the list\n",
    "    for block in range(len(i)):\n",
    "        # If the site is linked\n",
    "        if 0 not in i[block]:\n",
    "            # Remove block\n",
    "            lst = i[:block]+i[block+1:]\n",
    "            # Split block\n",
    "            lst = lst + [(i[block][0], 0), (0, i[block][1])]\n",
    "            # Append to list\n",
    "            new_lst.append(sorted(lst))\n",
    "    return new_lst"
   ]
  },
  {
   "cell_type": "code",
   "execution_count": 3,
   "id": "760d3595-29e9-4a02-a138-4c8715b68633",
   "metadata": {},
   "outputs": [],
   "source": [
    "def coalescent(i):\n",
    "    \"\"\"\n",
    "    This function returns all possible states after a \n",
    "    single coalescence event given an initial state. \n",
    "    The returned list is somewhat ordered, so that the \n",
    "    first states correspond to reversible coalescence \n",
    "    events, and the last to non-reversible ones.\n",
    "    \"\"\"\n",
    "    # Get unique values per site\n",
    "    n_0 = set([0]+list(sum(i, ())))\n",
    "    reversible = []\n",
    "    nonreversible = []\n",
    "    # For each combination of blocks\n",
    "    for b1 in range(len(i)):\n",
    "        for b2 in range(b1+1, len(i)):\n",
    "            # Create new block by merging\n",
    "            add_lst = [(i[b1][0]+i[b2][0], i[b1][1]+i[b2][1])]\n",
    "            # For each index in i\n",
    "            for b3 in range(len(i)):\n",
    "                # If the index is not in among the merged blocks\n",
    "                if b3 not in [b1, b2]:\n",
    "                    # Append to list\n",
    "                    add_lst.append(i[b3])\n",
    "            # If the unique values are different from the \n",
    "            # original block\n",
    "            if set([0]+list(sum(add_lst, ()))) == n_0:\n",
    "                # Append to reversible coalescence list\n",
    "                reversible.append(sorted(add_lst))\n",
    "            else:\n",
    "                # Append to non-reversible coalescence list\n",
    "                nonreversible.append(sorted(add_lst))\n",
    "    l = reversible+nonreversible\n",
    "    return l"
   ]
  },
  {
   "cell_type": "code",
   "execution_count": 4,
   "id": "1b598c22-5a62-4a1e-8d41-4d612d0ae33f",
   "metadata": {},
   "outputs": [],
   "source": [
    "\n",
    "def idx(i):\n",
    "    j = list(sum(i, ()))\n",
    "    return -(len(j)-j.count(0))\n",
    "\n",
    "def get_states(lst):\n",
    "    \"\"\"\n",
    "    Given a list of states, this function finds all possible\n",
    "    recombination and coalescence states iteratively.\n",
    "    \"\"\"\n",
    "    # Sort block per states just in case\n",
    "    all_states = [sorted(i) for i in lst]\n",
    "    # Define pool of states to be transformed\n",
    "    state_pool = all_states\n",
    "    # While the pool is non-empty\n",
    "    while len(state_pool) > 0:\n",
    "        # Define result list per iteration\n",
    "        iter_states = []\n",
    "        # For each of the states in the pool\n",
    "        for i in state_pool:\n",
    "            # Save coalescent transformation\n",
    "            iter_states = iter_states+coalescent(i)\n",
    "            # Save recombination transformation\n",
    "            iter_states = iter_states+recombination(i)\n",
    "        # Keep unique values in the original order\n",
    "        iter_states = sorted(list(list(i) for i in set(tuple(row) for row in iter_states)), key = iter_states.index)\n",
    "        # Define pool for next round\n",
    "        state_pool = [i for i in iter_states if i not in all_states]\n",
    "        # Add pool to overall list\n",
    "        all_states += state_pool\n",
    "        \n",
    "    all_states = sorted(all_states, key = idx)\n",
    "    return all_states\n",
    "\n",
    "import multiprocessing as mp\n",
    "def get_states_parallel(lst):\n",
    "    \"\"\"\n",
    "    Given a list of states, this function finds all possible\n",
    "    recombination and coalescence states iteratively and in\n",
    "    parallel.\n",
    "    \"\"\"\n",
    "    all_states = [sorted(i) for i in lst]\n",
    "    state_pool = all_states\n",
    "    while len(state_pool) > 0:\n",
    "        print(len(all_states), end = '\\r')\n",
    "        iter_states = []\n",
    "        pool = mp.Pool(mp.cpu_count())\n",
    "        iter_states = iter_states+[item for sublist in pool.map(coalescent, state_pool) for item in sublist]\n",
    "        iter_states = iter_states+[item for sublist in pool.map(recombination, state_pool) for item in sublist]\n",
    "        pool.close()\n",
    "        iter_states = sorted(list(list(i) for i in set(tuple(row) for row in iter_states)), key = iter_states.index)\n",
    "        state_pool = [i for i in iter_states if i not in all_states]\n",
    "        all_states += state_pool\n",
    "    all_states = sorted(all_states, key = idx)\n",
    "    return all_states\n"
   ]
  },
  {
   "cell_type": "code",
   "execution_count": 7,
   "id": "2b76916a-17e2-47d7-8711-3512258e6cca",
   "metadata": {},
   "outputs": [],
   "source": [
    "def print_all_states(iter_lst, n_col):\n",
    "    \"\"\"\n",
    "    This function re-formats the output of print_states\n",
    "    for plotting several states in the same row/column. The \n",
    "    arguments are a list of states and the number of\n",
    "    columns for printing. The returned object is a list \n",
    "    containing the string for each of the rows.  \n",
    "    \"\"\"\n",
    "    # Define empty string holder list\n",
    "    new_string = []\n",
    "    # For each row\n",
    "    for row in range(0, len(iter_lst), n_col):\n",
    "        \n",
    "        # Define index of the final state of that row\n",
    "        end = row+n_col\n",
    "        if end > len(iter_lst):\n",
    "            end = len(iter_lst)\n",
    "        \n",
    "        # Save the height of the current row\n",
    "        max_len = max([len(i) for i in iter_lst[row:end]])+2\n",
    "        \n",
    "        # Print states in right format with trailing whitespaces\n",
    "        x = []\n",
    "        for i in iter_lst[row:end]:\n",
    "            x.append(print_states(i, max_len))\n",
    "        \n",
    "        # Define new empty string\n",
    "        string = ''\n",
    "        # For each row within each printed state\n",
    "        for max_depth in range(max_len):\n",
    "            # For each printed state\n",
    "            for i in x:\n",
    "                # Add row\n",
    "                string += i.split('\\n')[max_depth]\n",
    "            string += '\\n'\n",
    "        # Append new string to final result\n",
    "        new_string.append(string[:-2])\n",
    "    \n",
    "    return new_string\n"
   ]
  },
  {
   "cell_type": "code",
   "execution_count": 8,
   "id": "133c12f2-9e58-40e4-b9d6-8f904d9c0d89",
   "metadata": {},
   "outputs": [],
   "source": [
    "def iter_lst_to_ggplot(iter_lst_2):\n",
    "    dat = pd.DataFrame(columns = ['id', 'seg_y', 'seg_xmin', 'seg_xmax', 'dot_color_left', 'dot_color_right'])\n",
    "    for i in range(len(iter_lst_2)):\n",
    "        for j in range(len(iter_lst_2[i])):\n",
    "            if iter_lst_2[i][j][0] == 0:\n",
    "                xmin = 0\n",
    "                xmax = 1\n",
    "                left = '-'\n",
    "                right = str(iter_lst_2[i][j][1])\n",
    "            elif iter_lst_2[i][j][1] == 0:\n",
    "                xmin = -1\n",
    "                xmax = 0\n",
    "                left = str(iter_lst_2[i][j][0])\n",
    "                right = '-'\n",
    "            else:\n",
    "                xmin = -1\n",
    "                xmax = 1\n",
    "                left = str(iter_lst_2[i][j][0])\n",
    "                right = str(iter_lst_2[i][j][1])\n",
    "            dat.loc[len(dat)] = [i, j, xmin, xmax, left, right]\n",
    "    return dat"
   ]
  },
  {
   "cell_type": "code",
   "execution_count": 21,
   "id": "057af95e-f823-4ef6-a352-db8484128546",
   "metadata": {},
   "outputs": [],
   "source": [
    "%%R\n",
    "\n",
    "library(tidyverse)\n",
    "\n",
    "# This function returns a plot of the different states\n",
    "plot_states <- function(dat) {\n",
    "    plt <- as_tibble(dat) %>%\n",
    "        mutate(\n",
    "            dot_color_left = ifelse(dot_color_left == '-', NA, dot_color_left),\n",
    "            dot_color_right = ifelse(dot_color_right == '-', NA, dot_color_right)\n",
    "        ) %>%\n",
    "        ggplot() +\n",
    "        geom_segment(aes(x = seg_xmin, xend = seg_xmax,\n",
    "                         y = seg_y, yend = seg_y)) +\n",
    "        geom_point(aes(x = seg_xmin, y = seg_y, \n",
    "                       color = is.na(dot_color_left), \n",
    "                       fill = dot_color_left,\n",
    "                  shape = dot_color_left %in% c('1', '2', '4')),\n",
    "                  size = 4) +\n",
    "        geom_point(aes(x = seg_xmax, y = seg_y, \n",
    "                       color = is.na(dot_color_right), \n",
    "                       fill = dot_color_right,\n",
    "                   shape = dot_color_right %in% c('1', '2', '4')),\n",
    "                   size = 4) +\n",
    "        theme_void() +\n",
    "        facet_wrap(~id, scales = 'free') +\n",
    "        scale_fill_manual(\n",
    "            na.value = 'transparent',\n",
    "            values = c('red', 'blue', 'purple', 'yellow', 'orange', 'green', 'black'),\n",
    "            breaks = as.character(c(1, 2, 3, 4, 5, 6, 7))\n",
    "        ) +\n",
    "        scale_color_manual(\n",
    "            values = c('black', 'transparent')\n",
    "        ) +\n",
    "        scale_shape_manual(values=c(24, 21)) +\n",
    "        scale_x_continuous(expand = c(0.2, 0.2)) +\n",
    "        scale_y_continuous(expand = c(0.2, 0.2)) +\n",
    "        theme(legend.position = 'none',\n",
    "              panel.border = element_rect(colour = \"black\", fill = NA, size = 1),\n",
    "              axis.line=element_blank(),\n",
    "              panel.background=element_blank(),panel.grid.major=element_blank(),\n",
    "              panel.grid.minor=element_blank(),plot.background=element_blank()) \n",
    "    plt\n",
    "}"
   ]
  },
  {
   "cell_type": "code",
   "execution_count": 54,
   "id": "4590e2fc-ad5b-4053-bd92-8e1bca4fe129",
   "metadata": {
    "tags": []
   },
   "outputs": [],
   "source": [
    "def get_trans_mat(iter_lst, coal, rho):\n",
    "    \"\"\"\n",
    "    This function returns a transition matrix given a \n",
    "    list of states, a coalescent rate and a recombination\n",
    "    rate. \n",
    "    \"\"\"\n",
    "    trans_mat = np.full((len(iter_lst), len(iter_lst)), 0.0)\n",
    "    for i in range(len(iter_lst)):\n",
    "        new_lst = recombination(iter_lst[i])\n",
    "        idx_lst = [iter_lst.index(j) for j in new_lst]\n",
    "        for j in idx_lst:\n",
    "            trans_mat[i,j]=rho\n",
    "        new_lst = coalescent(iter_lst[i])\n",
    "        idx_lst = [iter_lst.index(j) for j in new_lst]\n",
    "        for j in idx_lst:\n",
    "            trans_mat[i,j]=coal\n",
    "    for i in range(len(iter_lst)):\n",
    "        trans_mat[i,i]=-sum(trans_mat[i])\n",
    "    return trans_mat"
   ]
  },
  {
   "cell_type": "code",
   "execution_count": 222,
   "id": "913b1533-6419-4149-b91c-21df46e9a184",
   "metadata": {},
   "outputs": [],
   "source": [
    "def combine_states(iter_lst_a, iter_lst_b, probs_a, probs_b):\n",
    "    \"\"\"\n",
    "    Given two lists of states and their probabilities, this\n",
    "    function returns a list of combined states and their\n",
    "    probabilities. \n",
    "    \"\"\"\n",
    "    iter_lst_ab = []\n",
    "    probs_ab = []\n",
    "    for i in range(len(iter_lst_a)):\n",
    "        for j in range(len(iter_lst_b)):\n",
    "            iter_lst_ab.append(sorted(iter_lst_a[i]+iter_lst_b[j]))\n",
    "            probs_ab.append(probs_a[i]*probs_b[j])\n",
    "    return (iter_lst_ab, probs_ab)"
   ]
  },
  {
   "cell_type": "markdown",
   "id": "83d953b5-2c40-4a55-89fd-2770a9b10d53",
   "metadata": {},
   "source": [
    "# Defining the coalescent hidden Markov model"
   ]
  },
  {
   "cell_type": "markdown",
   "id": "2871a25a-91d1-4491-bd04-e9b31a10e791",
   "metadata": {},
   "source": [
    "The idea is to extend Mailund et al. (2011) to model ILS:\n",
    "1. We will model the divergence of three isolated sequences using a two-nucleotide continuous-time Markov chain (CTMC). \n",
    "2. After some time, two of the sequences will be merged and their fate will be model with a two-nucleotide, two-sequence CTMC. The distribution of the starting states will be determined by the individual CTMCs in the previous step.\n",
    "3. After some time, the resulting sequences will be mixed with the remaining isolated sequence. The starting distribution of the states will be determined by the two-sequence CTMC and the one-sequence CTMC of the last sequence. Now, we will define a discrete Markov jump process, where the states will correspond to either V0 (the coalescence has happened in the previous two-sequence CTMC), or a time-discretized state of other possible coalescences. "
   ]
  },
  {
   "cell_type": "markdown",
   "id": "fcb23c88-f539-40a6-ba5f-39d6fe44d3b8",
   "metadata": {},
   "source": [
    "## One-sequence CTMC"
   ]
  },
  {
   "cell_type": "markdown",
   "id": "c0984d0c-e8d3-41f7-9d0b-e285b3783ad3",
   "metadata": {},
   "source": [
    "We will start by defining a one-sequence, two-nucleotide CTMC. The system will be formed of two possible states, either linked or unlinked:"
   ]
  },
  {
   "cell_type": "code",
   "execution_count": 16,
   "id": "f77ec2fd-c5e6-42c3-a45c-16dade4a85b4",
   "metadata": {},
   "outputs": [
    {
     "data": {
      "text/plain": [
       "[[(1, 1)], [(0, 1), (1, 0)]]"
      ]
     },
     "execution_count": 16,
     "metadata": {},
     "output_type": "execute_result"
    }
   ],
   "source": [
    "state_1 = [[(1, 1)]]\n",
    "iter_lst_1 = get_states(state_1)\n",
    "iter_lst_1"
   ]
  },
  {
   "cell_type": "markdown",
   "id": "54cce778-c6f8-46e0-9e4e-a1b3f9b36d90",
   "metadata": {},
   "source": [
    "Using standard coalescent formulas, we can define the transition rate matrix of the CTMC. As an example, for the sequence tagged as \"1\", the coalescent rate is 1 and the recombination rate is 2:"
   ]
  },
  {
   "cell_type": "code",
   "execution_count": 223,
   "id": "de280420-ebff-4868-92ff-ca2f8aee519f",
   "metadata": {},
   "outputs": [
    {
     "data": {
      "text/plain": [
       "array([[-2.,  2.],\n",
       "       [ 1., -1.]])"
      ]
     },
     "execution_count": 223,
     "metadata": {},
     "output_type": "execute_result"
    }
   ],
   "source": [
    "coal_1 = 1\n",
    "rho_1 = 2\n",
    "\n",
    "state_1 = [[(1, 1)]]\n",
    "iter_lst_1 = get_states(state_1)\n",
    "trans_mat_1 = get_trans_mat(iter_lst_1, coal_1, rho_1)\n",
    "trans_mat_1"
   ]
  },
  {
   "cell_type": "markdown",
   "id": "81b9e5c8-d8aa-4906-8080-e4e591cc929a",
   "metadata": {},
   "source": [
    "The end probabilities can therefore be obtain by matrix exponentiation. For example, for a waiting time of 0.1, and assuming we start in the linked state:"
   ]
  },
  {
   "cell_type": "code",
   "execution_count": 224,
   "id": "9a9aacb3-a3fd-4bdc-aa22-97b6b4be87b9",
   "metadata": {},
   "outputs": [
    {
     "data": {
      "text/plain": [
       "array([0.82721215, 0.17278785])"
      ]
     },
     "execution_count": 224,
     "metadata": {},
     "output_type": "execute_result"
    }
   ],
   "source": [
    "t_1 = 0.1\n",
    "final_1 = expm(trans_mat_1*t_1)[0]\n",
    "final_1"
   ]
  },
  {
   "cell_type": "markdown",
   "id": "56e3b912-4d00-4158-838e-3848b405a789",
   "metadata": {},
   "source": [
    "We can do the same for the second sequence, here tagged as \"2\". Assuming a coalescent rate of 0.5, a recombination rate of 1 and a coalescent time of 0.1 (same as before):"
   ]
  },
  {
   "cell_type": "code",
   "execution_count": 226,
   "id": "b882f934-a465-42c4-be4f-1bd3cc1fc9f9",
   "metadata": {},
   "outputs": [
    {
     "data": {
      "text/plain": [
       "array([0.90713865, 0.09286135])"
      ]
     },
     "execution_count": 226,
     "metadata": {},
     "output_type": "execute_result"
    }
   ],
   "source": [
    "t_2 = t_1\n",
    "coal_2 = 0.5\n",
    "rho_2 = 1\n",
    "\n",
    "state_2 = [[(2, 2)]]\n",
    "iter_lst_2 = get_states(state_2)\n",
    "trans_mat_2 = get_trans_mat(iter_lst_2, coal_2, rho_2)\n",
    "final_2 = expm(trans_mat_2*t_2)[0]\n",
    "final_2"
   ]
  },
  {
   "cell_type": "markdown",
   "id": "1720095d-8fd4-4a74-899e-cf93a2965b20",
   "metadata": {},
   "source": [
    "## Two-sequence CTMC"
   ]
  },
  {
   "cell_type": "markdown",
   "id": "d6c1d022-a2d0-46fc-b598-de7e070d80d6",
   "metadata": {},
   "source": [
    "We now have all the ingredients for defining the two-sequence, two-locus CTMC. Using the function `combine_states`, we can mix the two one-sequence CTMCs to obtain both the starting states of the new two-sequence CTMC. From them, we can compute the complete state space of this new model, as well as all the starting probabilities:"
   ]
  },
  {
   "cell_type": "code",
   "execution_count": null,
   "id": "b7fc3100-f771-409b-9c5e-730f1888b02c",
   "metadata": {},
   "outputs": [],
   "source": [
    "comb_12 = combine_states(iter_lst_1, iter_lst_2, final_1, final_2)\n",
    "initial_states_12 = comb_12[0]\n",
    "iter_lst_12 = get_states(initial_states_12)\n",
    "pi_12 = comb_12[1] + [0]*(len(iter_lst_12)-len(comb_12[1]))"
   ]
  },
  {
   "cell_type": "code",
   "execution_count": 227,
   "id": "750cd997-5453-4142-bfa3-0019d4414edf",
   "metadata": {},
   "outputs": [],
   "source": [
    "dat_12 = iter_lst_to_ggplot(iter_lst_12)"
   ]
  },
  {
   "cell_type": "code",
   "execution_count": 229,
   "id": "ced6f46c-f6a9-4e40-afca-3aa8f8bcd74b",
   "metadata": {},
   "outputs": [
    {
     "data": {
      "image/png": "[encoded data removed]"
     },
     "metadata": {},
     "output_type": "display_data"
    }
   ],
   "source": [
    "%%R -i pi_12 -i dat_12 -w 2000 -h 500 -r 150\n",
    "\n",
    "library(patchwork)\n",
    "\n",
    "p1 <- tibble(id = 0:14, prob = pi_12) %>% \n",
    "    ggplot() +\n",
    "        geom_col(aes(id, prob)) +\n",
    "        facet_wrap(~id, nrow = 1, scales = 'free_x')+\n",
    "        theme_minimal() +\n",
    "        theme(\n",
    "            axis.title.x=element_blank(),\n",
    "            axis.text.x=element_blank(),\n",
    "            axis.ticks.x=element_blank(),\n",
    "            strip.background = element_blank(),\n",
    "            strip.text.x = element_blank(),\n",
    "            panel.grid.major.x = element_blank(),\n",
    "            panel.grid.minor.x = element_blank()\n",
    "\n",
    "        )\n",
    "p2 <- plot_states(dat_12)+\n",
    "    facet_wrap(~id, scales = 'free', nrow = 1) +\n",
    "    theme(\n",
    "        strip.background = element_blank(),\n",
    "        strip.text.x = element_blank()\n",
    "\n",
    "    )\n",
    "\n",
    "p1/p2 + \n",
    "    plot_layout(heights = c(3, 1)) +\n",
    "    plot_annotation(\n",
    "        title = 'Starting probabilities of the two-sequence CTMC'\n",
    ")"
   ]
  },
  {
   "cell_type": "markdown",
   "id": "f11fe2cd-3709-4dd9-8bd1-2f842c576f87",
   "metadata": {},
   "source": [
    "We can now define a time interval (for example, 1), a coalescent rate (0.5) and a recombination rate (3) to get the distribution of states at a certain time:"
   ]
  },
  {
   "cell_type": "code",
   "execution_count": 219,
   "id": "63ccedeb-173a-4dc7-9d2e-a321535030a8",
   "metadata": {
    "tags": []
   },
   "outputs": [
    {
     "data": {
      "text/plain": [
       "array([0.01148455, 0.04921748, 0.05010538, 0.22336798, 0.03031674,\n",
       "       0.03031674, 0.00464281, 0.03081025, 0.03081025, 0.03157308,\n",
       "       0.03157308, 0.14469565, 0.14469565, 0.04120035, 0.14519001])"
      ]
     },
     "execution_count": 219,
     "metadata": {},
     "output_type": "execute_result"
    }
   ],
   "source": [
    "t_12 = 1\n",
    "coal_12 = 0.5\n",
    "rho_12 = 3\n",
    "\n",
    "\n",
    "trans_mat_12 = get_trans_mat(iter_lst_12, coal_12, rho_12)\n",
    "final_12 = pi_12 @ expm(trans_mat_12*t_12)"
   ]
  },
  {
   "cell_type": "code",
   "execution_count": 231,
   "id": "4ee9107f-8b45-485b-a4b0-482b48e15d45",
   "metadata": {},
   "outputs": [
    {
     "data": {
      "image/png": "[encoded data removed]"
     },
     "metadata": {},
     "output_type": "display_data"
    }
   ],
   "source": [
    "%%R -i final_12 -i dat_12 -w 2000 -h 500 -r 150\n",
    "\n",
    "library(patchwork)\n",
    "\n",
    "p1 <- tibble(id = 0:14, prob = final_12) %>% \n",
    "    ggplot() +\n",
    "        geom_col(aes(id, prob)) +\n",
    "        facet_wrap(~id, nrow = 1, scales = 'free_x')+\n",
    "        theme_minimal() +\n",
    "        theme(\n",
    "            axis.title.x=element_blank(),\n",
    "            axis.text.x=element_blank(),\n",
    "            axis.ticks.x=element_blank(),\n",
    "            strip.background = element_blank(),\n",
    "            strip.text.x = element_blank(),\n",
    "            panel.grid.major.x = element_blank(),\n",
    "            panel.grid.minor.x = element_blank()\n",
    "\n",
    "        )\n",
    "p2 <- plot_states(dat_12)+\n",
    "    facet_wrap(~id, scales = 'free', nrow = 1) +\n",
    "    theme(\n",
    "        strip.background = element_blank(),\n",
    "        strip.text.x = element_blank()\n",
    "\n",
    "    )\n",
    "\n",
    "p1/p2 + plot_layout(heights = c(3, 1)) + \n",
    "    plot_layout(heights = c(3, 1)) +\n",
    "    plot_annotation(\n",
    "        title = 'End probabilities of the two-sequence CTMC at time = 1'\n",
    ")"
   ]
  },
  {
   "cell_type": "code",
   "execution_count": null,
   "id": "57b941f6-264e-4e44-a7ac-7fd86db1ce07",
   "metadata": {},
   "outputs": [],
   "source": []
  },
  {
   "cell_type": "code",
   "execution_count": null,
   "id": "962ee224-f874-4504-9158-ac9de69fd484",
   "metadata": {},
   "outputs": [],
   "source": []
  },
  {
   "cell_type": "code",
   "execution_count": null,
   "id": "eeb2edc6-9e37-4007-af77-f13b7ec965fc",
   "metadata": {},
   "outputs": [],
   "source": []
  },
  {
   "cell_type": "code",
   "execution_count": null,
   "id": "eab4029e-50d4-4681-be28-b1aebd61acfe",
   "metadata": {},
   "outputs": [],
   "source": []
  },
  {
   "cell_type": "code",
   "execution_count": null,
   "id": "8264318b-8a65-40d8-a5e8-a10606415fa1",
   "metadata": {},
   "outputs": [],
   "source": []
  },
  {
   "cell_type": "code",
   "execution_count": null,
   "id": "5677a4ff-bac5-46c4-8bf2-e27609327a32",
   "metadata": {},
   "outputs": [],
   "source": []
  },
  {
   "cell_type": "code",
   "execution_count": null,
   "id": "bbe8b51f-34e1-484a-bc85-096d496ca4b5",
   "metadata": {},
   "outputs": [],
   "source": []
  },
  {
   "cell_type": "code",
   "execution_count": 98,
   "id": "09a3be46-3fbd-4291-83b7-7335b510be75",
   "metadata": {},
   "outputs": [
    {
     "data": {
      "text/plain": [
       "array([[-2.,  2.],\n",
       "       [ 1., -1.]])"
      ]
     },
     "execution_count": 98,
     "metadata": {},
     "output_type": "execute_result"
    }
   ],
   "source": [
    "trans_mat_1 = get_trans_mat(iter_lst_1, coal=1, rho=2)\n",
    "trans_mat_1"
   ]
  },
  {
   "cell_type": "code",
   "execution_count": 105,
   "id": "0e7da51c-b9d4-4bcd-9c4f-1934b2daa51b",
   "metadata": {},
   "outputs": [
    {
     "data": {
      "text/plain": [
       "array([[0.82721215, 0.17278785],\n",
       "       [0.08639393, 0.91360607]])"
      ]
     },
     "execution_count": 105,
     "metadata": {},
     "output_type": "execute_result"
    }
   ],
   "source": [
    "expm(trans_mat_1*0.1)"
   ]
  },
  {
   "cell_type": "code",
   "execution_count": 110,
   "id": "4d54ee07-033e-4456-8a75-340d0ba85b62",
   "metadata": {},
   "outputs": [
    {
     "data": {
      "text/plain": [
       "array([0.82721215, 0.17278785])"
      ]
     },
     "execution_count": 110,
     "metadata": {},
     "output_type": "execute_result"
    }
   ],
   "source": [
    "pi_2 = expm(trans_mat_1*0.1)[0]\n",
    "pi_2"
   ]
  },
  {
   "cell_type": "code",
   "execution_count": 108,
   "id": "945ce8cc-24a5-46b7-b1db-9f63e847ff45",
   "metadata": {},
   "outputs": [],
   "source": [
    "state_2 = [[(1, 1), (2, 2)]]\n",
    "iter_lst_2 = get_states(state_2)\n",
    "trans_mat_2 = get_trans_mat(iter_lst_2, coal=1, rho=2)\n"
   ]
  },
  {
   "cell_type": "code",
   "execution_count": null,
   "id": "8546e685-f2db-4d69-9a02-82130bbb8bcb",
   "metadata": {},
   "outputs": [],
   "source": []
  },
  {
   "cell_type": "code",
   "execution_count": null,
   "id": "5016d2c1-98c9-46bb-ab49-d11a133024dc",
   "metadata": {},
   "outputs": [],
   "source": []
  },
  {
   "cell_type": "code",
   "execution_count": null,
   "id": "f6c265fa-293c-46d6-930e-b1c9de1ceb06",
   "metadata": {},
   "outputs": [],
   "source": []
  },
  {
   "cell_type": "code",
   "execution_count": null,
   "id": "94dc6da6-3e0b-4386-9dfa-8c2177f0ebc7",
   "metadata": {},
   "outputs": [
    {
     "data": {
      "text/plain": [
       "203"
      ]
     },
     "execution_count": 9,
     "metadata": {},
     "output_type": "execute_result"
    }
   ],
   "source": [
    "state_3 = [[(0, 1), (0, 2), (0, 4), (1, 0), (2, 0), (4, 0)]]\n",
    "\n",
    "iter_lst_3 = get_states(state_3)\n",
    "len(iter_lst_3)"
   ]
  },
  {
   "cell_type": "code",
   "execution_count": null,
   "id": "587d6f67-1942-49db-b372-0d5d01c8e56b",
   "metadata": {},
   "outputs": [],
   "source": [
    "trans_mat_3 = np.full((len(iter_lst_3), len(iter_lst_3)), '0')\n",
    "for i in range(len(iter_lst_3)):\n",
    "    new_lst = recombination(iter_lst_3[i])\n",
    "    idx_lst = [iter_lst_3.index(j) for j in new_lst]\n",
    "    for j in idx_lst:\n",
    "        trans_mat_3[i,j]='R'\n",
    "    new_lst = coalescent(iter_lst_3[i])\n",
    "    idx_lst = [iter_lst_3.index(j) for j in new_lst]\n",
    "    for j in idx_lst:\n",
    "        trans_mat_3[i,j]='C'"
   ]
  },
  {
   "cell_type": "code",
   "execution_count": 11,
   "id": "30958b2f-824f-49b0-921d-364e20ab060e",
   "metadata": {},
   "outputs": [
    {
     "data": {
      "text/plain": [
       "array([['0', 'C', 'C', ..., '0', '0', '0'],\n",
       "       ['R', '0', '0', ..., '0', '0', '0'],\n",
       "       ['R', '0', '0', ..., '0', '0', '0'],\n",
       "       ...,\n",
       "       ['0', '0', '0', ..., '0', '0', 'C'],\n",
       "       ['0', '0', '0', ..., '0', '0', 'C'],\n",
       "       ['0', '0', '0', ..., '0', 'R', '0']], dtype='<U1')"
      ]
     },
     "execution_count": 11,
     "metadata": {},
     "output_type": "execute_result"
    }
   ],
   "source": [
    "trans_mat_3"
   ]
  },
  {
   "cell_type": "code",
   "execution_count": 12,
   "id": "dbafbbc3-76de-41a1-9fcd-61dc989d3981",
   "metadata": {},
   "outputs": [
    {
     "name": "stderr",
     "output_type": "stream",
     "text": [
      "R[write to console]: ── Attaching packages ─────────────────────────────────────── tidyverse 1.3.1 ──\n",
      "\n",
      "R[write to console]: ✔ ggplot2 3.3.5     ✔ purrr   0.3.4\n",
      "✔ tibble  3.1.5     ✔ dplyr   1.0.7\n",
      "✔ tidyr   1.1.4     ✔ stringr 1.4.0\n",
      "✔ readr   2.0.2     ✔ forcats 0.5.1\n",
      "\n",
      "R[write to console]: ── Conflicts ────────────────────────────────────────── tidyverse_conflicts() ──\n",
      "✖ dplyr::filter() masks stats::filter()\n",
      "✖ dplyr::lag()    masks stats::lag()\n",
      "\n"
     ]
    }
   ],
   "source": [
    "%%R -i trans_mat_3 \n",
    "\n",
    "library(tidyverse)\n",
    "\n",
    "fun_trans <- function(x, coa, rho) {\n",
    "    if (x == 'R') {\n",
    "        return(rho)\n",
    "    } else if (x == 'C') {\n",
    "        return(coa)\n",
    "    } else return(0)\n",
    "}\n",
    "\n",
    "set_coa_rho <- function(X, coa, rho) {\n",
    "    \n",
    "    dat = data.frame(lapply(X, Vectorize(fun_trans), coa = coa, rho = rho))\n",
    "    dat = as.matrix(dat)\n",
    "    dat <- matrix(as.numeric(dat),    # Convert to numeric matrix\n",
    "                  ncol = ncol(X))\n",
    "    dat[row(dat)==col(dat)] = -rowSums(dat)\n",
    "    dat                                   \n",
    "}\n",
    "\n",
    "a <- set_coa_rho(trans_mat_3, 1, 2)\n",
    "\n",
    "\n"
   ]
  },
  {
   "cell_type": "code",
   "execution_count": 13,
   "id": "7237ec19-118c-4478-9d54-77e4f6fe9a75",
   "metadata": {},
   "outputs": [
    {
     "name": "stdout",
     "output_type": "stream",
     "text": [
      "      [,1] [,2] [,3] [,4] [,5] [,6] [,7] [,8] [,9] [,10]\n",
      " [1,]  -15    1    1    1    1    1    1    1    1     1\n",
      " [2,]    2  -12    0    0    0    0    0    0    0     0\n",
      " [3,]    2    0  -12    0    0    0    0    0    0     0\n",
      " [4,]    2    0    0  -12    0    0    0    0    0     0\n",
      " [5,]    2    0    0    0  -12    0    0    0    0     0\n",
      " [6,]    2    0    0    0    0  -12    0    0    0     0\n",
      " [7,]    2    0    0    0    0    0  -12    0    0     0\n",
      " [8,]    2    0    0    0    0    0    0  -12    0     0\n",
      " [9,]    2    0    0    0    0    0    0    0  -12     0\n",
      "[10,]    2    0    0    0    0    0    0    0    0   -12\n"
     ]
    }
   ],
   "source": [
    "%%R\n",
    "\n",
    "a[1:10, 1:10]"
   ]
  },
  {
   "cell_type": "code",
   "execution_count": 80,
   "id": "6b8cfbbc-87e1-47f6-8d76-49700b86b80b",
   "metadata": {},
   "outputs": [
    {
     "data": {
      "text/plain": [
       "[(0, 3), (7, 4)]"
      ]
     },
     "execution_count": 80,
     "metadata": {},
     "output_type": "execute_result"
    }
   ],
   "source": [
    "iter_lst_3[200]"
   ]
  },
  {
   "cell_type": "code",
   "execution_count": 34,
   "id": "52c234b6-20d1-41c3-a8e0-6120dc2ad2b5",
   "metadata": {},
   "outputs": [
    {
     "data": {
      "text/plain": [
       "[34, 112, 183, 201]"
      ]
     },
     "execution_count": 34,
     "metadata": {},
     "output_type": "execute_result"
    }
   ],
   "source": [
    "cutpoints_3_2 = []\n",
    "for i in range(1, len(iter_lst_3)):\n",
    "    if idx(iter_lst_3[i]) > idx(iter_lst_3[i-1]):\n",
    "        cutpoints_3_2.append(i)\n",
    "cutpoints_3_2"
   ]
  },
  {
   "cell_type": "code",
   "execution_count": 72,
   "id": "bf23c19e-dafc-4d34-bea4-ef913828d97f",
   "metadata": {},
   "outputs": [
    {
     "data": {
      "text/plain": [
       "-5"
      ]
     },
     "execution_count": 72,
     "metadata": {},
     "output_type": "execute_result"
    }
   ],
   "source": []
  },
  {
   "cell_type": "code",
   "execution_count": 120,
   "id": "fdc60e21-c13e-4852-b675-0af4a39fae95",
   "metadata": {},
   "outputs": [],
   "source": [
    "def get_indices(iter_lst_3, cutpoints_3_2, l, r, v, h):\n",
    "    \n",
    "    dct = {0:3, 1:3, 2:5, 3:6}\n",
    "    \n",
    "    if 0 not in [v, h]:\n",
    "    \n",
    "        # Starting states\n",
    "        a = [[j for j in iter_lst_3[i] if 4 in j and 0 not in j and j != (4, 4)] for i in range(0, cutpoints_3_2[0])] \n",
    "        a = [i for i in range(len(a)) if len(a[i]) == 0]\n",
    "\n",
    "        # No coalescence\n",
    "        b = list(range(cutpoints_3_2[0]))\n",
    "\n",
    "        if l != r:\n",
    "\n",
    "            # 1st coalescent on min\n",
    "            min_value = min([l, r])\n",
    "            min_index = [l, r].index(min_value)\n",
    "            c = [i for i in range(cutpoints_3_2[0], cutpoints_3_2[1]) if dct[[v, h][min_index]] in [j[min_index] for j in iter_lst_3[i]]]\n",
    "\n",
    "\n",
    "            # No coalescence\n",
    "            d = [i for i in range(cutpoints_3_2[1], cutpoints_3_2[2]) if 7 in [j[min_index] for j in iter_lst_3[i]]]\n",
    "            d = c+d\n",
    "\n",
    "            # 1st coalescent on max\n",
    "            max_value = max([l, r])\n",
    "            max_index = [l, r].index(max_value)\n",
    "            e_min = [i for i in range(cutpoints_3_2[1], cutpoints_3_2[2]) if dct[[v, h][min_index]] in [j[min_index] for j in iter_lst_3[i]]]\n",
    "            e_7_min = [i for i in range(cutpoints_3_2[2], cutpoints_3_2[3]) if 7 in [j[min_index] for j in iter_lst_3[i]]]\n",
    "            e = [i for i in range(cutpoints_3_2[1], cutpoints_3_2[3]) if dct[[v, h][max_index]] in [j[max_index] for j in iter_lst_3[i]]]    \n",
    "            seen = set()\n",
    "            e = [x for x in e_min+e_7_min+e if x in seen or seen.add(x)]\n",
    "        \n",
    "        else:\n",
    "            \n",
    "            # Both coalesce\n",
    "            c_l = [i for i in range(cutpoints_3_2[1], cutpoints_3_2[2]) if dct[v] in [j[0] for j in iter_lst_3[i]]]\n",
    "            c_r = [i for i in range(cutpoints_3_2[1], cutpoints_3_2[2]) if dct[h] in [j[1] for j in iter_lst_3[i]]]\n",
    "            seen = set()\n",
    "            c = [x for x in c_l+c_r if x in seen or seen.add(x)]\n",
    "            \n",
    "            d = []\n",
    "            e = []\n",
    "    # else:\n",
    "    #     \n",
    "    #     if v == h:\n",
    "    #         a_l = [i for i in range(cutpoints_3_2[1], cutpoints_3_2[2]) if 3 in [j[0] for j in iter_lst_3[i]]]\n",
    "    #         a_r = [i for i in range(cutpoints_3_2[1], cutpoints_3_2[2]) if 3 in [j[1] for j in iter_lst_3[i]]]\n",
    "    #         seen = set()\n",
    "    #         a = [x for x in a_l+a_r if x in seen or seen.add(x)]\n",
    "    #         \n",
    "    #         b = []\n",
    "    #         c = []\n",
    "    #         d = []\n",
    "    #         e = []\n",
    "    #         \n",
    "    #     else:\n",
    "    #         if \n",
    "        \n",
    "     \n",
    "    return (a, b, c, d, e)"
   ]
  },
  {
   "cell_type": "code",
   "execution_count": 152,
   "id": "94924b5d-53f9-43ec-b0e6-13e188efbfe3",
   "metadata": {},
   "outputs": [],
   "source": [
    "def calc_tm(nInt):\n",
    "    return [0]+[-np.log(1-i/nInt) for i in range(1, nInt+1)]"
   ]
  },
  {
   "cell_type": "code",
   "execution_count": 153,
   "id": "0749f1e3-e7bc-4712-8406-329b42bea274",
   "metadata": {},
   "outputs": [
    {
     "name": "stderr",
     "output_type": "stream",
     "text": [
      "/var/folders/f2/kh1g9nkd125769chspqz3121r__05x/T/ipykernel_28718/2202113993.py:2: RuntimeWarning: divide by zero encountered in log\n",
      "  return [0]+[-np.log(1-i/nInt) for i in range(1, nInt+1)]\n"
     ]
    },
    {
     "data": {
      "text/plain": [
       "[0, 0.2876820724517809, 0.6931471805599453, 1.3862943611198906, inf]"
      ]
     },
     "execution_count": 153,
     "metadata": {},
     "output_type": "execute_result"
    }
   ],
   "source": [
    "a = calc_tm(4)\n",
    "a"
   ]
  },
  {
   "cell_type": "code",
   "execution_count": null,
   "id": "e4b3db4d-d2f5-4e7d-a6b2-8039ea7accd7",
   "metadata": {},
   "outputs": [],
   "source": [
    "expm(tm0[j]*rate_mat)[1,1:3]%*%\n",
    "expm((tm[j]-tm0[j])*rate_mat)[1:3,4]*\n",
    "exp(-(tm0[k]-tm[j]))*\n",
    "# which is the same as \n",
    "# expm((tm0[k]-tm[j])*rate_mat)[4,4]*0.5*\n",
    "(1-exp(-(tm[k]-tm0[k])))*0.5"
   ]
  },
  {
   "cell_type": "code",
   "execution_count": 168,
   "id": "dac41c5e-6fe6-495d-92a9-ee9941fa8d1d",
   "metadata": {},
   "outputs": [
    {
     "data": {
      "text/plain": [
       "array([[0, 1, 1, ..., 0, 0, 0],\n",
       "       [2, 0, 0, ..., 0, 0, 0],\n",
       "       [2, 0, 0, ..., 0, 0, 0],\n",
       "       ...,\n",
       "       [0, 0, 0, ..., 0, 0, 1],\n",
       "       [0, 0, 0, ..., 0, 0, 1],\n",
       "       [0, 0, 0, ..., 0, 2, 0]])"
      ]
     },
     "execution_count": 168,
     "metadata": {},
     "output_type": "execute_result"
    }
   ],
   "source": [
    "def set_coa_rho(iter_lst_3, coa, rho):\n",
    "    trans_mat_3 = np.full((len(iter_lst_3), len(iter_lst_3)), 0)\n",
    "    for i in range(len(iter_lst_3)):\n",
    "        new_lst = recombination(iter_lst_3[i])\n",
    "        idx_lst = [iter_lst_3.index(j) for j in new_lst]\n",
    "        for j in idx_lst:\n",
    "            trans_mat_3[i,j]=rho\n",
    "        new_lst = coalescent(iter_lst_3[i])\n",
    "        idx_lst = [iter_lst_3.index(j) for j in new_lst]\n",
    "        for j in idx_lst:\n",
    "            trans_mat_3[i,j]=coa\n",
    "    return trans_mat_3\n",
    "\n",
    "\n",
    "rate_mat = set_coa_rho(iter_lst_3, 1, 2)\n",
    "\n",
    "rate_mat"
   ]
  },
  {
   "cell_type": "code",
   "execution_count": 189,
   "id": "d6d259e7-72b4-4b88-82d9-d0368482dc4c",
   "metadata": {},
   "outputs": [
    {
     "data": {
      "text/plain": [
       "[0, 0.6931471805599453, inf]"
      ]
     },
     "execution_count": 189,
     "metadata": {},
     "output_type": "execute_result"
    }
   ],
   "source": [
    "tm"
   ]
  },
  {
   "cell_type": "code",
   "execution_count": 216,
   "id": "03e2b570-d190-475d-b8f4-791ccfa01c79",
   "metadata": {},
   "outputs": [
    {
     "name": "stderr",
     "output_type": "stream",
     "text": [
      "/var/folders/f2/kh1g9nkd125769chspqz3121r__05x/T/ipykernel_28718/2202113993.py:2: RuntimeWarning: divide by zero encountered in log\n",
      "  return [0]+[-np.log(1-i/nInt) for i in range(1, nInt+1)]\n"
     ]
    }
   ],
   "source": [
    "nInt = 3\n",
    "tm = calc_tm(nInt)\n",
    "\n",
    "rate_mat = set_coa_rho(iter_lst_3, 1, 3)\n",
    "\n",
    "trans_mat = np.full((nInt*3, nInt*3), 0)\n",
    "for l in range(1, nInt):\n",
    "    for v in range(1, 4):\n",
    "        for r in range(1, nInt):\n",
    "            for h in range(1, 4):\n",
    "                (a, b, c, d, e) = get_indices(iter_lst_3, cutpoints_3_2, l, r, v, h)\n",
    "                if l < r:\n",
    "                    mult_1 = expm(tm[l-1]*rate_mat)[np.ix_(a,b)]\n",
    "                    mult_2 = expm((tm[l]-tm[l-1])*rate_mat)[np.ix_(b,c)]\n",
    "                    mult_3 = expm((tm[r-1]-tm[l])*rate_mat)[np.ix_(c,d)]\n",
    "                    mult_4 = expm((tm[r]-tm[r-1])*rate_mat)[np.ix_(d,e)]\n",
    "                    trans_mat[(l-1)*3+(v-1), (r-1)*3+(h-1)] = np.sum(mult_1@mult_2@mult_3@mult_4)\n",
    "                elif l > r:\n",
    "                    mult_1 = expm(tm[r-1]*rate_mat)[np.ix_(a,b)]\n",
    "                    mult_2 = expm((tm[r]-tm[r-1])*rate_mat)[np.ix_(b,c)]\n",
    "                    mult_3 = expm((tm[l-1]-tm[r])*rate_mat)[np.ix_(c,d)]\n",
    "                    mult_4 = expm((tm[l]-tm[l-1])*rate_mat)[np.ix_(d,e)]\n",
    "                    trans_mat[(l-1)*3+(v-1), (r-1)*3+(h-1)] = np.sum(mult_1@mult_2@mult_3@mult_4)\n",
    "                elif l == r:\n",
    "                    mult_1 = expm(tm[l-1]*rate_mat)[np.ix_(a,b)]\n",
    "                    mult_2 = expm((tm[l]-tm[l-1])*rate_mat)[np.ix_(b,c)]\n",
    "                    trans_mat[(l-1)*3+(v-1), (r-1)*3+(h-1)] = np.sum(mult_1@mult_2)"
   ]
  },
  {
   "cell_type": "code",
   "execution_count": 217,
   "id": "683ba260-ccb2-4971-8547-346e22af723a",
   "metadata": {},
   "outputs": [
    {
     "data": {
      "text/plain": [
       "array([[  28,   18,   18, 1721, 1711, 1711,    0,    0,    0],\n",
       "       [  18,   23,   23, 1721, 1729, 1729,    0,    0,    0],\n",
       "       [  18,   23,   23, 1721, 1729, 1729,    0,    0,    0],\n",
       "       [1721, 1721, 1721, 7371, 7011, 7011,    0,    0,    0],\n",
       "       [1711, 1729, 1729, 7011, 7196, 7196,    0,    0,    0],\n",
       "       [1711, 1729, 1729, 7011, 7196, 7196,    0,    0,    0],\n",
       "       [   0,    0,    0,    0,    0,    0,    0,    0,    0],\n",
       "       [   0,    0,    0,    0,    0,    0,    0,    0,    0],\n",
       "       [   0,    0,    0,    0,    0,    0,    0,    0,    0]])"
      ]
     },
     "execution_count": 217,
     "metadata": {},
     "output_type": "execute_result"
    }
   ],
   "source": [
    "trans_mat"
   ]
  },
  {
   "cell_type": "code",
   "execution_count": null,
   "id": "36f2d9f2-48ad-45f8-9e54-1786be68f521",
   "metadata": {},
   "outputs": [],
   "source": []
  }
 ],
 "metadata": {
  "kernelspec": {
   "display_name": "Python 3 (ipykernel)",
   "language": "python",
   "name": "python3"
  },
  "language_info": {
   "codemirror_mode": {
    "name": "ipython",
    "version": 3
   },
   "file_extension": ".py",
   "mimetype": "text/x-python",
   "name": "python",
   "nbconvert_exporter": "python",
   "pygments_lexer": "ipython3",
   "version": "3.8.10"
  }
 },
 "nbformat": 4,
 "nbformat_minor": 5
}
