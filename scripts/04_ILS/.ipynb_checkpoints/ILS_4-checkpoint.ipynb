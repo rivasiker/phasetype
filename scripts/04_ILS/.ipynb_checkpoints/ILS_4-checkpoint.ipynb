{
 "cells": [
  {
   "cell_type": "code",
   "execution_count": 128,
   "id": "55231d01-0285-4afc-80f9-4c3be17c04ef",
   "metadata": {},
   "outputs": [
    {
     "name": "stdout",
     "output_type": "stream",
     "text": [
      "The rpy2.ipython extension is already loaded. To reload it, use:\n",
      "  %reload_ext rpy2.ipython\n"
     ]
    }
   ],
   "source": [
    "from IPython.display import SVG\n",
    "import numpy as np\n",
    "import pandas as pd\n",
    "from scipy.linalg import expm\n",
    "import itertools\n",
    "from scipy.stats import truncexpon\n",
    "import ast\n",
    "%load_ext rpy2.ipython"
   ]
  },
  {
   "cell_type": "code",
   "execution_count": 3,
   "id": "133c12f2-9e58-40e4-b9d6-8f904d9c0d89",
   "metadata": {},
   "outputs": [],
   "source": [
    "def iter_lst_to_ggplot(iter_lst_2):\n",
    "    dat = pd.DataFrame(columns = ['id', 'seg_y', 'seg_xmin', 'seg_xmax', 'dot_color_left', 'dot_color_right'])\n",
    "    for i in range(len(iter_lst_2)):\n",
    "        for j in range(len(iter_lst_2[i])):\n",
    "            if iter_lst_2[i][j][0] == 0:\n",
    "                xmin = 0\n",
    "                xmax = 1\n",
    "                left = '-'\n",
    "                right = str(iter_lst_2[i][j][1])\n",
    "            elif iter_lst_2[i][j][1] == 0:\n",
    "                xmin = -1\n",
    "                xmax = 0\n",
    "                left = str(iter_lst_2[i][j][0])\n",
    "                right = '-'\n",
    "            else:\n",
    "                xmin = -1\n",
    "                xmax = 1\n",
    "                left = str(iter_lst_2[i][j][0])\n",
    "                right = str(iter_lst_2[i][j][1])\n",
    "            dat.loc[len(dat)] = [i, j, xmin, xmax, left, right]\n",
    "    return dat"
   ]
  },
  {
   "cell_type": "code",
   "execution_count": 4,
   "id": "057af95e-f823-4ef6-a352-db8484128546",
   "metadata": {},
   "outputs": [
    {
     "name": "stderr",
     "output_type": "stream",
     "text": [
      "R[write to console]: ── Attaching packages ─────────────────────────────────────── tidyverse 1.3.1 ──\n",
      "\n",
      "R[write to console]: ✔ ggplot2 3.3.5     ✔ purrr   0.3.4\n",
      "✔ tibble  3.1.5     ✔ dplyr   1.0.7\n",
      "✔ tidyr   1.1.4     ✔ stringr 1.4.0\n",
      "✔ readr   2.0.2     ✔ forcats 0.5.1\n",
      "\n",
      "R[write to console]: ── Conflicts ────────────────────────────────────────── tidyverse_conflicts() ──\n",
      "✖ dplyr::filter() masks stats::filter()\n",
      "✖ dplyr::lag()    masks stats::lag()\n",
      "\n"
     ]
    }
   ],
   "source": [
    "%%R\n",
    "\n",
    "library(tidyverse)\n",
    "\n",
    "# This function returns a plot of the different states\n",
    "plot_states <- function(dat) {\n",
    "    plt <- as_tibble(dat) %>%\n",
    "        mutate(\n",
    "            dot_color_left = ifelse(dot_color_left == '-', NA, dot_color_left),\n",
    "            dot_color_right = ifelse(dot_color_right == '-', NA, dot_color_right)\n",
    "        ) %>%\n",
    "        ggplot() +\n",
    "        geom_segment(aes(x = seg_xmin, xend = seg_xmax,\n",
    "                         y = seg_y, yend = seg_y)) +\n",
    "        geom_point(aes(x = seg_xmin, y = seg_y, \n",
    "                       color = is.na(dot_color_left), \n",
    "                       fill = dot_color_left,\n",
    "                  shape = dot_color_left == 1),\n",
    "                  size = 4) +\n",
    "        geom_point(aes(x = seg_xmax, y = seg_y, \n",
    "                       color = is.na(dot_color_right), \n",
    "                       fill = dot_color_right,\n",
    "                   shape = dot_color_right == 1),\n",
    "                   size = 4) +\n",
    "        theme_void() +\n",
    "        facet_wrap(~id, scales = 'free') +\n",
    "        scale_fill_manual(\n",
    "            na.value = 'transparent',\n",
    "            values = c('black', 'white', 'purple', 'yellow', 'orange', 'green', 'black'),\n",
    "            breaks = as.character(c(1, 2, 3, 4, 5, 6, 7))\n",
    "        ) +\n",
    "        scale_color_manual(\n",
    "            values = c('black', 'transparent')\n",
    "        ) +\n",
    "        scale_shape_manual(values=c(24, 21)) +\n",
    "        scale_x_continuous(expand = c(0.2, 0.2)) +\n",
    "        scale_y_continuous(expand = c(0.2, 0.2)) +\n",
    "        theme(legend.position = 'none',\n",
    "              panel.border = element_rect(colour = \"black\", fill = NA, size = 1),\n",
    "              axis.line=element_blank(),\n",
    "              panel.background=element_blank(),panel.grid.major=element_blank(),\n",
    "              panel.grid.minor=element_blank(),plot.background=element_blank()) \n",
    "    plt\n",
    "}"
   ]
  },
  {
   "cell_type": "code",
   "execution_count": 5,
   "id": "4590e2fc-ad5b-4053-bd92-8e1bca4fe129",
   "metadata": {},
   "outputs": [],
   "source": [
    "def get_trans_mat(iter_lst, coal, rho):\n",
    "    \"\"\"\n",
    "    This function returns a transition matrix given a \n",
    "    list of states, a coalescent rate and a recombination\n",
    "    rate. \n",
    "    \"\"\"\n",
    "    trans_mat = np.full((len(iter_lst), len(iter_lst)), 0.0)\n",
    "    for i in range(len(iter_lst)):\n",
    "        new_lst = recombination(iter_lst[i])\n",
    "        idx_lst = [iter_lst.index(j) for j in new_lst]\n",
    "        for j in idx_lst:\n",
    "            trans_mat[i,j]=rho\n",
    "        new_lst = coalescent(iter_lst[i])\n",
    "        idx_lst = [iter_lst.index(j) for j in new_lst]\n",
    "        for j in idx_lst:\n",
    "            trans_mat[i,j]=coal\n",
    "    for i in range(len(iter_lst)):\n",
    "        trans_mat[i,i]=-sum(trans_mat[i])\n",
    "    return trans_mat"
   ]
  },
  {
   "cell_type": "code",
   "execution_count": 233,
   "id": "913b1533-6419-4149-b91c-21df46e9a184",
   "metadata": {},
   "outputs": [],
   "source": [
    "def combine_states(iter_lst_a, iter_lst_b, probs_a, probs_b):\n",
    "    \"\"\"\n",
    "    Given two lists of states and their probabilities, this\n",
    "    function returns a list of combined states and their\n",
    "    probabilities. \n",
    "    \"\"\"\n",
    "    iter_lst_ab = []\n",
    "    probs_ab = []\n",
    "    for i in range(len(iter_lst_a)):\n",
    "        for j in range(len(iter_lst_b)):\n",
    "            iter_lst_ab.append(sorted(iter_lst_a[i]+iter_lst_b[j]))\n",
    "            probs_ab.append(probs_a[i]*probs_b[j])\n",
    "    # Define new data frame\n",
    "    df = pd.DataFrame()\n",
    "    # Save names of state\n",
    "    df['name'] = [str(i) for i in iter_lst_ab]\n",
    "    # Save probabilities\n",
    "    df['value'] = probs_ab\n",
    "    # Group by state and sum probabilities\n",
    "    df = df.groupby(\"name\", as_index=False).sum()\n",
    "    return list(df['name']), list(df['value'])"
   ]
  },
  {
   "cell_type": "code",
   "execution_count": 10,
   "id": "ff1ba39d-ded0-48b3-87ce-b6dbbf7c43e9",
   "metadata": {},
   "outputs": [],
   "source": [
    "def trans_mat_num(trans_mat, coal, rho):\n",
    "    \"\"\"\n",
    "    This function returns a transition matrix given a \n",
    "    string matrix whose values are either '0', or 'R'\n",
    "    or 'C' preceeded by a number, corresponding to a\n",
    "    multiplication factor for the recombination and \n",
    "    the coalescence rate, respectively. The user can\n",
    "    specify these two numerical rates. The function\n",
    "    calculates the rates in the diagonals as  \n",
    "    (-1)*rowSums\n",
    "    \"\"\"\n",
    "    num_rows, num_cols = trans_mat.shape\n",
    "    trans_mat_num = np.full((num_rows, num_cols), 0.0)\n",
    "    for i in range(num_rows):\n",
    "        for j in range(num_cols):\n",
    "            if trans_mat[i,j] == '0':\n",
    "                trans_mat_num[i,j] = 0.0\n",
    "            else:\n",
    "                trans_mat_num[i,j] = int(trans_mat[i,j][0])*(coal if trans_mat[i,j][1]=='C' else rho)\n",
    "    for i in range(num_rows):\n",
    "        trans_mat_num[i,i]=-sum(trans_mat_num[i])\n",
    "    return trans_mat_num"
   ]
  },
  {
   "cell_type": "code",
   "execution_count": 45,
   "id": "544ad3e8-a020-474e-8be6-1d4478dfc071",
   "metadata": {},
   "outputs": [],
   "source": [
    "def cutpoints_AB(n_int_AB, t_AB, coal_AB):\n",
    "    # Define probabilities for quantiles\n",
    "    quantiles_AB = np.array(list(range(n_int_AB+1)))/n_int_AB\n",
    "    # Define truncexpon shape parameters\n",
    "    lower, upper, scale = 0, t_AB, coal_AB\n",
    "    # Get quantiles\n",
    "    cut_AB = truncexpon.ppf(quantiles_AB, b=(upper-lower)/scale, loc=lower, scale=scale)\n",
    "    return cut_AB "
   ]
  },
  {
   "cell_type": "code",
   "execution_count": 60,
   "id": "c2dba555-5846-4d7b-832f-8af4269e3acb",
   "metadata": {},
   "outputs": [],
   "source": [
    "def cutpoints_ABC(n_int_ABC, coal_ABC):\n",
    "    cut_ABC = [-np.log(1-i/n_int_ABC)/coal_ABC for i in range(0, n_int_ABC)]+[np.inf] \n",
    "    return cut_ABC"
   ]
  },
  {
   "cell_type": "code",
   "execution_count": null,
   "id": "7e7bd247-4acf-48e1-b72e-e11735839f2f",
   "metadata": {},
   "outputs": [],
   "source": [
    "def get_tab_AB(n_states_AB):\n",
    "    tab = np.zeros((n_states_AB*n_states_AB+n_states_AB*2+1, 9))\n",
    "    tab_names = []\n",
    "    acc = 0"
   ]
  },
  {
   "cell_type": "code",
   "execution_count": 115,
   "id": "0999b045-19bd-43ed-a5fe-ced83dbdd757",
   "metadata": {},
   "outputs": [],
   "source": [
    "def load_trans_mat(n_seq):\n",
    "    df = pd.read_csv('../02_state_space/trans_mats/trans_mat_simple_'+str(n_seq)+'.csv')\n",
    "    d = {'names': pd.concat([df['from_str'], df['to_str']]),\n",
    "     'values': pd.concat([df['from'], df['to']])}\n",
    "    df_2 = pd.DataFrame(data=d).drop_duplicates().sort_values(by=['values'])\n",
    "    df_1 = df[['value', 'from', 'to']].pivot(index='from',columns='to',values='value').fillna('0')\n",
    "    df_1.columns.name = None\n",
    "    df_1 = df_1.reset_index().iloc[:, 1:]\n",
    "    return np.array(df_1), list(df_2['names'])\n"
   ]
  },
  {
   "cell_type": "code",
   "execution_count": 243,
   "id": "a0842e45-b209-40f4-b0d6-e03be7d6db42",
   "metadata": {},
   "outputs": [],
   "source": [
    "def get_HMM_trans_mat(t_A,    t_B,    t_AB,    t_C, \n",
    "                      rho_A,  rho_B,  rho_AB,  rho_C,  rho_ABC, \n",
    "                      coal_A, coal_B, coal_AB, coal_C, coal_ABC,\n",
    "                      n_int_AB, n_int_ABC):\n",
    "    \n",
    "    ##########################\n",
    "    ### One-sequence CTMCs ###\n",
    "    ##########################\n",
    "    \n",
    "    (trans_mat_1, state_space_1) = load_trans_mat(1)\n",
    "    state_space_A = [ast.literal_eval(i) for i in state_space_1]\n",
    "    (trans_mat_2, state_space_2) = load_trans_mat(2)\n",
    "    state_space_AB = [ast.literal_eval(i) for i in state_space_2]\n",
    "    \n",
    "    # These are (2x2) matrices\n",
    "    trans_mat_A = trans_mat_num(trans_mat_1, coal_A, rho_A)\n",
    "    trans_mat_B = trans_mat_num(trans_mat_1, coal_B, rho_B)\n",
    "    trans_mat_C = trans_mat_num(trans_mat_1, coal_C, rho_C)\n",
    "    \n",
    "    # These are (1x2) vectors\n",
    "    final_A = expm(trans_mat_A*t_A)[0]\n",
    "    final_B = expm(trans_mat_B*t_B)[0]\n",
    "    final_C = expm(trans_mat_C*t_C)[0]\n",
    "    \n",
    "    (comb_AB_name, comb_AB_value) = combine_states(state_space_A, state_space_A, final_A, final_B)\n",
    "    pi_AB = [comb_AB_value[comb_AB_name.index(i)] if i in comb_AB_name else 0 for i in state_space_2]\n",
    "        \n",
    "    return pi_AB\n",
    "    \n",
    "    #########################\n",
    "    ### Two-sequence CTMC ###\n",
    "    #########################\n",
    "    \n",
    "    cut_AB = cutpoints_AB(n_int_AB, t_AB, coal_AB)\n",
    "    \n",
    "    cut_ABC = cutpoints_ABC(n_int_ABC, coal_ABC)\n",
    "    \n",
    "    "
   ]
  },
  {
   "cell_type": "code",
   "execution_count": 242,
   "id": "6d5b7e97-0769-4f4d-a4d3-51215bf52a5d",
   "metadata": {},
   "outputs": [
    {
     "data": {
      "text/plain": [
       "[0.18691126810387715,\n",
       " 0.4908421805556328,\n",
       " 0.32224655134048985,\n",
       " 0,\n",
       " 0,\n",
       " 0,\n",
       " 0,\n",
       " 0,\n",
       " 0]"
      ]
     },
     "execution_count": 242,
     "metadata": {},
     "output_type": "execute_result"
    }
   ],
   "source": [
    "get_HMM_trans_mat(1, 1, 2, 3, \n",
    "                  1, 1, 1, 1, 1, \n",
    "                  1, 1, 1, 1, 1, \n",
    "                  3, 3)"
   ]
  },
  {
   "cell_type": "markdown",
   "id": "83d953b5-2c40-4a55-89fd-2770a9b10d53",
   "metadata": {},
   "source": [
    "# Defining the coalescent hidden Markov model"
   ]
  },
  {
   "cell_type": "markdown",
   "id": "2871a25a-91d1-4491-bd04-e9b31a10e791",
   "metadata": {},
   "source": [
    "The idea is to extend Mailund et al. (2011) to model ILS:\n",
    "1. We will model the divergence of three isolated sequences using a two-nucleotide continuous-time Markov chain (CTMC). \n",
    "2. After some time, two of the sequences will be merged and their fate will be model with a two-nucleotide, two-sequence CTMC. The distribution of the starting states will be determined by the individual CTMCs in the previous step.\n",
    "3. After some time, the resulting sequences will be mixed with the remaining isolated sequence. The starting distribution of the states will be determined by the two-sequence CTMC and the one-sequence CTMC of the last sequence. Now, we will define a discrete Markov jump process, where the states will correspond to either V0 (the coalescence has happened in the previous two-sequence CTMC), or a time-discretized state of other possible coalescences. "
   ]
  },
  {
   "cell_type": "markdown",
   "id": "fcb23c88-f539-40a6-ba5f-39d6fe44d3b8",
   "metadata": {},
   "source": [
    "## One-sequence CTMC"
   ]
  },
  {
   "cell_type": "markdown",
   "id": "c0984d0c-e8d3-41f7-9d0b-e285b3783ad3",
   "metadata": {},
   "source": [
    "We will start by defining a one-sequence, two-nucleotide CTMC. The system will be formed of two possible states, either linked or unlinked:"
   ]
  },
  {
   "cell_type": "code",
   "execution_count": 22,
   "id": "cac846f7-813a-4a44-8c4c-981231842a14",
   "metadata": {},
   "outputs": [
    {
     "name": "stdout",
     "output_type": "stream",
     "text": [
      "Rows: 2 Columns: 5\n",
      "── Column specification ────────────────────────────────────────────────────────\n",
      "Delimiter: \",\"\n",
      "chr (3): from_str, to_str, value\n",
      "dbl (2): from, to\n",
      "\n",
      "ℹ Use `spec()` to retrieve the full column specification for this data.\n",
      "ℹ Specify the column types or set `show_col_types = FALSE` to quiet this message.\n"
     ]
    }
   ],
   "source": [
    "%%R -o trans_mat_simple_1_edited -o states_simple_1\n",
    "\n",
    "# Read he csv file\n",
    "trans_mat_simple_1 <- read_csv('../02_state_space/trans_mats/trans_mat_full_1.csv')\n",
    "\n",
    "# Transform the transition matrix to a spread format\n",
    "trans_mat_simple_1_edited <- trans_mat_simple_1 %>%\n",
    "    select(from, to, value)  %>%\n",
    "    mutate(\n",
    "        from = as.factor(from), \n",
    "        to = as.factor(to)\n",
    "    ) %>%\n",
    "    spread(to, value, fill = '0') %>%\n",
    "    select(-from) %>%\n",
    "    as.data.frame()\n",
    "\n",
    "# Save the state names\n",
    "states_simple_1 <- tibble(\n",
    "        names = c(trans_mat_simple_1$from_str, trans_mat_simple_1$to_str),\n",
    "        values = c(trans_mat_simple_1$from, trans_mat_simple_1$to)\n",
    "    ) %>%\n",
    "    unique() %>%\n",
    "    arrange(values) %>%\n",
    "    as.data.frame()"
   ]
  },
  {
   "cell_type": "code",
   "execution_count": 23,
   "id": "1046f594-ebfc-4aad-8e86-242d4f3c68eb",
   "metadata": {},
   "outputs": [],
   "source": [
    "trans_mat_simple_1_edited = np.array(trans_mat_simple_1_edited)"
   ]
  },
  {
   "cell_type": "code",
   "execution_count": 76,
   "id": "44122553-827f-4e24-b9b1-74f24458e402",
   "metadata": {},
   "outputs": [
    {
     "data": {
      "text/plain": [
       "array([[-2.,  2.],\n",
       "       [ 1., -1.]])"
      ]
     },
     "execution_count": 76,
     "metadata": {},
     "output_type": "execute_result"
    }
   ],
   "source": [
    "coal_A = 1\n",
    "rho_A = 2\n",
    "trans_mat_A = trans_mat_num(trans_mat_simple_1_edited, coal_A, rho_A)\n",
    "trans_mat_A"
   ]
  },
  {
   "cell_type": "markdown",
   "id": "81b9e5c8-d8aa-4906-8080-e4e591cc929a",
   "metadata": {},
   "source": [
    "The end probabilities can therefore be obtain by matrix exponentiation. For example, for a waiting time of 0.1, and assuming we start in the linked state:"
   ]
  },
  {
   "cell_type": "code",
   "execution_count": 25,
   "id": "77398b61-2d15-4b33-bb05-a7b6876542a7",
   "metadata": {},
   "outputs": [
    {
     "data": {
      "text/plain": [
       "array([0.82721215, 0.17278785])"
      ]
     },
     "execution_count": 25,
     "metadata": {},
     "output_type": "execute_result"
    }
   ],
   "source": [
    "t_A = 0.1\n",
    "final_A = expm(trans_mat_A*t_A)[0]\n",
    "final_A"
   ]
  },
  {
   "cell_type": "markdown",
   "id": "56e3b912-4d00-4158-838e-3848b405a789",
   "metadata": {},
   "source": [
    "We can do the same for the second sequence, here tagged as \"2\". Assuming a coalescent rate of 0.5, a recombination rate of 1 and a coalescent time of 0.1 (same as before):"
   ]
  },
  {
   "cell_type": "code",
   "execution_count": 32,
   "id": "b882f934-a465-42c4-be4f-1bd3cc1fc9f9",
   "metadata": {},
   "outputs": [
    {
     "data": {
      "text/plain": [
       "array([0.90713865, 0.09286135])"
      ]
     },
     "execution_count": 32,
     "metadata": {},
     "output_type": "execute_result"
    }
   ],
   "source": [
    "coal_B = 0.5\n",
    "rho_B = 1\n",
    "trans_mat_B = trans_mat_num(trans_mat_simple_1_edited, coal_B, rho_B)\n",
    "trans_mat_B\n",
    "\n",
    "t_B = 0.1\n",
    "final_B = expm(trans_mat_B*t_B)[0]\n",
    "final_B"
   ]
  },
  {
   "cell_type": "code",
   "execution_count": 62,
   "id": "1b10f735-df16-4ea0-bc02-5399be2b19b6",
   "metadata": {},
   "outputs": [
    {
     "data": {
      "text/html": [
       "<div>\n",
       "<style scoped>\n",
       "    .dataframe tbody tr th:only-of-type {\n",
       "        vertical-align: middle;\n",
       "    }\n",
       "\n",
       "    .dataframe tbody tr th {\n",
       "        vertical-align: top;\n",
       "    }\n",
       "\n",
       "    .dataframe thead th {\n",
       "        text-align: right;\n",
       "    }\n",
       "</style>\n",
       "<table border=\"1\" class=\"dataframe\">\n",
       "  <thead>\n",
       "    <tr style=\"text-align: right;\">\n",
       "      <th></th>\n",
       "      <th>names</th>\n",
       "      <th>values</th>\n",
       "    </tr>\n",
       "  </thead>\n",
       "  <tbody>\n",
       "    <tr>\n",
       "      <th>1</th>\n",
       "      <td>[(1, 1)]</td>\n",
       "      <td>1.0</td>\n",
       "    </tr>\n",
       "    <tr>\n",
       "      <th>2</th>\n",
       "      <td>[(0, 1), (1, 0)]</td>\n",
       "      <td>2.0</td>\n",
       "    </tr>\n",
       "  </tbody>\n",
       "</table>\n",
       "</div>"
      ],
      "text/plain": [
       "              names  values\n",
       "1          [(1, 1)]     1.0\n",
       "2  [(0, 1), (1, 0)]     2.0"
      ]
     },
     "execution_count": 62,
     "metadata": {},
     "output_type": "execute_result"
    }
   ],
   "source": [
    "states_simple_1"
   ]
  },
  {
   "cell_type": "code",
   "execution_count": 94,
   "id": "5d72550e-d5ee-48c3-9dd3-5782f7aa8443",
   "metadata": {},
   "outputs": [],
   "source": [
    "a = pd.read_csv('../02_state_space/trans_mats/trans_mat_full_1.csv')"
   ]
  },
  {
   "cell_type": "code",
   "execution_count": 105,
   "id": "e3ab34c3-594c-472f-8820-7a4fa80abc24",
   "metadata": {},
   "outputs": [
    {
     "data": {
      "text/html": [
       "<div>\n",
       "<style scoped>\n",
       "    .dataframe tbody tr th:only-of-type {\n",
       "        vertical-align: middle;\n",
       "    }\n",
       "\n",
       "    .dataframe tbody tr th {\n",
       "        vertical-align: top;\n",
       "    }\n",
       "\n",
       "    .dataframe thead th {\n",
       "        text-align: right;\n",
       "    }\n",
       "</style>\n",
       "<table border=\"1\" class=\"dataframe\">\n",
       "  <thead>\n",
       "    <tr style=\"text-align: right;\">\n",
       "      <th></th>\n",
       "      <th>names</th>\n",
       "      <th>values</th>\n",
       "    </tr>\n",
       "  </thead>\n",
       "  <tbody>\n",
       "    <tr>\n",
       "      <th>1</th>\n",
       "      <td>[(1, 1)]</td>\n",
       "      <td>1</td>\n",
       "    </tr>\n",
       "    <tr>\n",
       "      <th>0</th>\n",
       "      <td>[(0, 1), (1, 0)]</td>\n",
       "      <td>2</td>\n",
       "    </tr>\n",
       "  </tbody>\n",
       "</table>\n",
       "</div>"
      ],
      "text/plain": [
       "              names  values\n",
       "1          [(1, 1)]       1\n",
       "0  [(0, 1), (1, 0)]       2"
      ]
     },
     "execution_count": 105,
     "metadata": {},
     "output_type": "execute_result"
    }
   ],
   "source": [
    "d = {'names': pd.concat([a['from_str'], a['to_str']]),\n",
    "     'values': pd.concat([a['from'], a['to']])}\n",
    "pd.DataFrame(data=d).drop_duplicates().sort_values(by=['values'])"
   ]
  },
  {
   "cell_type": "code",
   "execution_count": 97,
   "id": "a632eaf8-ad65-431f-9603-4619a42321f1",
   "metadata": {},
   "outputs": [
    {
     "data": {
      "text/html": [
       "<div>\n",
       "<style scoped>\n",
       "    .dataframe tbody tr th:only-of-type {\n",
       "        vertical-align: middle;\n",
       "    }\n",
       "\n",
       "    .dataframe tbody tr th {\n",
       "        vertical-align: top;\n",
       "    }\n",
       "\n",
       "    .dataframe thead th {\n",
       "        text-align: right;\n",
       "    }\n",
       "</style>\n",
       "<table border=\"1\" class=\"dataframe\">\n",
       "  <thead>\n",
       "    <tr style=\"text-align: right;\">\n",
       "      <th></th>\n",
       "      <th>from_str</th>\n",
       "      <th>to_str</th>\n",
       "      <th>value</th>\n",
       "      <th>from</th>\n",
       "      <th>to</th>\n",
       "    </tr>\n",
       "  </thead>\n",
       "  <tbody>\n",
       "    <tr>\n",
       "      <th>0</th>\n",
       "      <td>[(0, 1), (1, 0)]</td>\n",
       "      <td>[(1, 1)]</td>\n",
       "      <td>1C</td>\n",
       "      <td>2</td>\n",
       "      <td>1</td>\n",
       "    </tr>\n",
       "    <tr>\n",
       "      <th>1</th>\n",
       "      <td>[(1, 1)]</td>\n",
       "      <td>[(0, 1), (1, 0)]</td>\n",
       "      <td>1R</td>\n",
       "      <td>1</td>\n",
       "      <td>2</td>\n",
       "    </tr>\n",
       "  </tbody>\n",
       "</table>\n",
       "</div>"
      ],
      "text/plain": [
       "           from_str            to_str value  from  to\n",
       "0  [(0, 1), (1, 0)]          [(1, 1)]    1C     2   1\n",
       "1          [(1, 1)]  [(0, 1), (1, 0)]    1R     1   2"
      ]
     },
     "execution_count": 97,
     "metadata": {},
     "output_type": "execute_result"
    }
   ],
   "source": [
    "\n",
    "a\n",
    "\n"
   ]
  },
  {
   "cell_type": "code",
   "execution_count": 81,
   "id": "6e5d80ec-bdb8-4e69-9068-0bb662e866bb",
   "metadata": {},
   "outputs": [
    {
     "data": {
      "text/plain": [
       "array([[-1. ,  1. ],\n",
       "       [ 0.5, -0.5]])"
      ]
     },
     "execution_count": 81,
     "metadata": {},
     "output_type": "execute_result"
    }
   ],
   "source": [
    "trans_mat_num(np.array(df[[1, 2]]), coal_B, rho_B)"
   ]
  },
  {
   "cell_type": "code",
   "execution_count": null,
   "id": "2b2a76ab-c592-4855-891c-9e7e769c5baa",
   "metadata": {},
   "outputs": [],
   "source": []
  }
 ],
 "metadata": {
  "kernelspec": {
   "display_name": "Python 3 (ipykernel)",
   "language": "python",
   "name": "python3"
  },
  "language_info": {
   "codemirror_mode": {
    "name": "ipython",
    "version": 3
   },
   "file_extension": ".py",
   "mimetype": "text/x-python",
   "name": "python",
   "nbconvert_exporter": "python",
   "pygments_lexer": "ipython3",
   "version": "3.8.10"
  }
 },
 "nbformat": 4,
 "nbformat_minor": 5
}
