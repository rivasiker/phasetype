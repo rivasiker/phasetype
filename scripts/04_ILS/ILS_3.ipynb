{
 "cells": [
  {
   "cell_type": "markdown",
   "id": "be8ca18d-cc7b-4e3d-abb3-e1e910cc2b33",
   "metadata": {},
   "source": [
    "$\n",
    "\\begin{align}\n",
    "&P(L=l, R=r, V=v, H=h)= \\\\\n",
    "&=\\begin{cases}\n",
    "       \\sum_{i\\in \\text{no coal}} & \\text{if $l=r$ and $v=h$}\\\\\n",
    "    \\end{cases}       \n",
    "\\end{align}\n",
    "$"
   ]
  },
  {
   "cell_type": "code",
   "execution_count": 1,
   "id": "55231d01-0285-4afc-80f9-4c3be17c04ef",
   "metadata": {},
   "outputs": [],
   "source": [
    "from IPython.display import SVG\n",
    "import numpy as np\n",
    "import pandas as pd\n",
    "from scipy.linalg import expm\n",
    "import itertools\n",
    "%load_ext rpy2.ipython"
   ]
  },
  {
   "cell_type": "code",
   "execution_count": 2,
   "id": "22ccd373-0a5a-48cb-a50c-f07b781e5ed6",
   "metadata": {},
   "outputs": [],
   "source": [
    "def recombination(i):\n",
    "    \"\"\"\n",
    "    This function returns all possible states after a \n",
    "    single recombination event given an initial state\n",
    "    \"\"\"\n",
    "    # Create empty list\n",
    "    new_lst = []\n",
    "    # For each block index in the list\n",
    "    for block in range(len(i)):\n",
    "        # If the site is linked\n",
    "        if 0 not in i[block]:\n",
    "            # Remove block\n",
    "            lst = i[:block]+i[block+1:]\n",
    "            # Split block\n",
    "            lst = lst + [(i[block][0], 0), (0, i[block][1])]\n",
    "            # Append to list\n",
    "            new_lst.append(sorted(lst))\n",
    "    return new_lst"
   ]
  },
  {
   "cell_type": "code",
   "execution_count": 3,
   "id": "760d3595-29e9-4a02-a138-4c8715b68633",
   "metadata": {},
   "outputs": [],
   "source": [
    "def coalescent(i):\n",
    "    \"\"\"\n",
    "    This function returns all possible states after a \n",
    "    single coalescence event given an initial state. \n",
    "    The returned list is somewhat ordered, so that the \n",
    "    first states correspond to reversible coalescence \n",
    "    events, and the last to non-reversible ones.\n",
    "    \"\"\"\n",
    "    # Get unique values per site\n",
    "    n_0 = set([0]+list(sum(i, ())))\n",
    "    reversible = []\n",
    "    nonreversible = []\n",
    "    # For each combination of blocks\n",
    "    for b1 in range(len(i)):\n",
    "        for b2 in range(b1+1, len(i)):\n",
    "            # Create new block by merging\n",
    "            add_lst = [(i[b1][0]+i[b2][0], i[b1][1]+i[b2][1])]\n",
    "            # For each index in i\n",
    "            for b3 in range(len(i)):\n",
    "                # If the index is not in among the merged blocks\n",
    "                if b3 not in [b1, b2]:\n",
    "                    # Append to list\n",
    "                    add_lst.append(i[b3])\n",
    "            # If the unique values are different from the \n",
    "            # original block\n",
    "            if set([0]+list(sum(add_lst, ()))) == n_0:\n",
    "                # Append to reversible coalescence list\n",
    "                reversible.append(sorted(add_lst))\n",
    "            else:\n",
    "                # Append to non-reversible coalescence list\n",
    "                nonreversible.append(sorted(add_lst))\n",
    "    l = reversible+nonreversible\n",
    "    return l"
   ]
  },
  {
   "cell_type": "code",
   "execution_count": 4,
   "id": "1b598c22-5a62-4a1e-8d41-4d612d0ae33f",
   "metadata": {},
   "outputs": [],
   "source": [
    "\n",
    "def idx(i):\n",
    "    j = list(sum(i, ()))\n",
    "    return -(len(j)-j.count(0))\n",
    "\n",
    "def get_states(lst):\n",
    "    \"\"\"\n",
    "    Given a list of states, this function finds all possible\n",
    "    recombination and coalescence states iteratively.\n",
    "    \"\"\"\n",
    "    # Sort block per states just in case\n",
    "    all_states = [sorted(i) for i in lst]\n",
    "    # Define pool of states to be transformed\n",
    "    state_pool = all_states\n",
    "    # While the pool is non-empty\n",
    "    while len(state_pool) > 0:\n",
    "        # Define result list per iteration\n",
    "        iter_states = []\n",
    "        # For each of the states in the pool\n",
    "        for i in state_pool:\n",
    "            # Save coalescent transformation\n",
    "            iter_states = iter_states+coalescent(i)\n",
    "            # Save recombination transformation\n",
    "            iter_states = iter_states+recombination(i)\n",
    "        # Keep unique values in the original order\n",
    "        iter_states = sorted(list(list(i) for i in set(tuple(row) for row in iter_states)), key = iter_states.index)\n",
    "        # Define pool for next round\n",
    "        state_pool = [i for i in iter_states if i not in all_states]\n",
    "        # Add pool to overall list\n",
    "        all_states += state_pool\n",
    "        \n",
    "    all_states = sorted(all_states, key = idx)\n",
    "    return all_states"
   ]
  },
  {
   "cell_type": "code",
   "execution_count": 5,
   "id": "133c12f2-9e58-40e4-b9d6-8f904d9c0d89",
   "metadata": {},
   "outputs": [],
   "source": [
    "def iter_lst_to_ggplot(iter_lst_2):\n",
    "    dat = pd.DataFrame(columns = ['id', 'seg_y', 'seg_xmin', 'seg_xmax', 'dot_color_left', 'dot_color_right'])\n",
    "    for i in range(len(iter_lst_2)):\n",
    "        for j in range(len(iter_lst_2[i])):\n",
    "            if iter_lst_2[i][j][0] == 0:\n",
    "                xmin = 0\n",
    "                xmax = 1\n",
    "                left = '-'\n",
    "                right = str(iter_lst_2[i][j][1])\n",
    "            elif iter_lst_2[i][j][1] == 0:\n",
    "                xmin = -1\n",
    "                xmax = 0\n",
    "                left = str(iter_lst_2[i][j][0])\n",
    "                right = '-'\n",
    "            else:\n",
    "                xmin = -1\n",
    "                xmax = 1\n",
    "                left = str(iter_lst_2[i][j][0])\n",
    "                right = str(iter_lst_2[i][j][1])\n",
    "            dat.loc[len(dat)] = [i, j, xmin, xmax, left, right]\n",
    "    return dat"
   ]
  },
  {
   "cell_type": "code",
   "execution_count": 6,
   "id": "057af95e-f823-4ef6-a352-db8484128546",
   "metadata": {},
   "outputs": [
    {
     "name": "stderr",
     "output_type": "stream",
     "text": [
      "R[write to console]: ── Attaching packages ─────────────────────────────────────── tidyverse 1.3.1 ──\n",
      "\n",
      "R[write to console]: ✔ ggplot2 3.3.5     ✔ purrr   0.3.4\n",
      "✔ tibble  3.1.5     ✔ dplyr   1.0.7\n",
      "✔ tidyr   1.1.4     ✔ stringr 1.4.0\n",
      "✔ readr   2.0.2     ✔ forcats 0.5.1\n",
      "\n",
      "R[write to console]: ── Conflicts ────────────────────────────────────────── tidyverse_conflicts() ──\n",
      "✖ dplyr::filter() masks stats::filter()\n",
      "✖ dplyr::lag()    masks stats::lag()\n",
      "\n"
     ]
    }
   ],
   "source": [
    "%%R\n",
    "\n",
    "library(tidyverse)\n",
    "\n",
    "# This function returns a plot of the different states\n",
    "plot_states <- function(dat) {\n",
    "    plt <- as_tibble(dat) %>%\n",
    "        mutate(\n",
    "            dot_color_left = ifelse(dot_color_left == '-', NA, dot_color_left),\n",
    "            dot_color_right = ifelse(dot_color_right == '-', NA, dot_color_right)\n",
    "        ) %>%\n",
    "        ggplot() +\n",
    "        geom_segment(aes(x = seg_xmin, xend = seg_xmax,\n",
    "                         y = seg_y, yend = seg_y)) +\n",
    "        geom_point(aes(x = seg_xmin, y = seg_y, \n",
    "                       color = is.na(dot_color_left), \n",
    "                       fill = dot_color_left,\n",
    "                  shape = dot_color_left == 1),\n",
    "                  size = 4) +\n",
    "        geom_point(aes(x = seg_xmax, y = seg_y, \n",
    "                       color = is.na(dot_color_right), \n",
    "                       fill = dot_color_right,\n",
    "                   shape = dot_color_right == 1),\n",
    "                   size = 4) +\n",
    "        theme_void() +\n",
    "        facet_wrap(~id, scales = 'free') +\n",
    "        scale_fill_manual(\n",
    "            na.value = 'transparent',\n",
    "            values = c('black', 'white', 'purple', 'yellow', 'orange', 'green', 'black'),\n",
    "            breaks = as.character(c(1, 2, 3, 4, 5, 6, 7))\n",
    "        ) +\n",
    "        scale_color_manual(\n",
    "            values = c('black', 'transparent')\n",
    "        ) +\n",
    "        scale_shape_manual(values=c(24, 21)) +\n",
    "        scale_x_continuous(expand = c(0.2, 0.2)) +\n",
    "        scale_y_continuous(expand = c(0.2, 0.2)) +\n",
    "        theme(legend.position = 'none',\n",
    "              panel.border = element_rect(colour = \"black\", fill = NA, size = 1),\n",
    "              axis.line=element_blank(),\n",
    "              panel.background=element_blank(),panel.grid.major=element_blank(),\n",
    "              panel.grid.minor=element_blank(),plot.background=element_blank()) \n",
    "    plt\n",
    "}"
   ]
  },
  {
   "cell_type": "code",
   "execution_count": 7,
   "id": "4590e2fc-ad5b-4053-bd92-8e1bca4fe129",
   "metadata": {},
   "outputs": [],
   "source": [
    "def get_trans_mat(iter_lst, coal, rho):\n",
    "    \"\"\"\n",
    "    This function returns a transition matrix given a \n",
    "    list of states, a coalescent rate and a recombination\n",
    "    rate. \n",
    "    \"\"\"\n",
    "    trans_mat = np.full((len(iter_lst), len(iter_lst)), 0.0)\n",
    "    for i in range(len(iter_lst)):\n",
    "        new_lst = recombination(iter_lst[i])\n",
    "        idx_lst = [iter_lst.index(j) for j in new_lst]\n",
    "        for j in idx_lst:\n",
    "            trans_mat[i,j]=rho\n",
    "        new_lst = coalescent(iter_lst[i])\n",
    "        idx_lst = [iter_lst.index(j) for j in new_lst]\n",
    "        for j in idx_lst:\n",
    "            trans_mat[i,j]=coal\n",
    "    for i in range(len(iter_lst)):\n",
    "        trans_mat[i,i]=-sum(trans_mat[i])\n",
    "    return trans_mat"
   ]
  },
  {
   "cell_type": "code",
   "execution_count": 8,
   "id": "913b1533-6419-4149-b91c-21df46e9a184",
   "metadata": {},
   "outputs": [],
   "source": [
    "def combine_states(iter_lst_a, iter_lst_b, probs_a, probs_b):\n",
    "    \"\"\"\n",
    "    Given two lists of states and their probabilities, this\n",
    "    function returns a list of combined states and their\n",
    "    probabilities. \n",
    "    \"\"\"\n",
    "    iter_lst_ab = []\n",
    "    probs_ab = []\n",
    "    for i in range(len(iter_lst_a)):\n",
    "        for j in range(len(iter_lst_b)):\n",
    "            iter_lst_ab.append(sorted(iter_lst_a[i]+iter_lst_b[j]))\n",
    "            probs_ab.append(probs_a[i]*probs_b[j])\n",
    "    return (iter_lst_ab, probs_ab)"
   ]
  },
  {
   "cell_type": "markdown",
   "id": "83d953b5-2c40-4a55-89fd-2770a9b10d53",
   "metadata": {},
   "source": [
    "# Defining the coalescent hidden Markov model"
   ]
  },
  {
   "cell_type": "markdown",
   "id": "2871a25a-91d1-4491-bd04-e9b31a10e791",
   "metadata": {},
   "source": [
    "The idea is to extend Mailund et al. (2011) to model ILS:\n",
    "1. We will model the divergence of three isolated sequences using a two-nucleotide continuous-time Markov chain (CTMC). \n",
    "2. After some time, two of the sequences will be merged and their fate will be model with a two-nucleotide, two-sequence CTMC. The distribution of the starting states will be determined by the individual CTMCs in the previous step.\n",
    "3. After some time, the resulting sequences will be mixed with the remaining isolated sequence. The starting distribution of the states will be determined by the two-sequence CTMC and the one-sequence CTMC of the last sequence. Now, we will define a discrete Markov jump process, where the states will correspond to either V0 (the coalescence has happened in the previous two-sequence CTMC), or a time-discretized state of other possible coalescences. "
   ]
  },
  {
   "cell_type": "markdown",
   "id": "fcb23c88-f539-40a6-ba5f-39d6fe44d3b8",
   "metadata": {},
   "source": [
    "## One-sequence CTMC"
   ]
  },
  {
   "cell_type": "markdown",
   "id": "c0984d0c-e8d3-41f7-9d0b-e285b3783ad3",
   "metadata": {},
   "source": [
    "We will start by defining a one-sequence, two-nucleotide CTMC. The system will be formed of two possible states, either linked or unlinked:"
   ]
  },
  {
   "cell_type": "code",
   "execution_count": 9,
   "id": "f77ec2fd-c5e6-42c3-a45c-16dade4a85b4",
   "metadata": {},
   "outputs": [
    {
     "data": {
      "text/plain": [
       "[[(1, 1)], [(0, 1), (1, 0)]]"
      ]
     },
     "execution_count": 9,
     "metadata": {},
     "output_type": "execute_result"
    }
   ],
   "source": [
    "state_1 = [[(1, 1)]]\n",
    "iter_lst_1 = get_states(state_1)\n",
    "iter_lst_1"
   ]
  },
  {
   "cell_type": "markdown",
   "id": "54cce778-c6f8-46e0-9e4e-a1b3f9b36d90",
   "metadata": {},
   "source": [
    "Using standard coalescent formulas, we can define the transition rate matrix of the CTMC. As an example, for the sequence tagged as \"1\", the coalescent rate is 1 and the recombination rate is 2:"
   ]
  },
  {
   "cell_type": "code",
   "execution_count": 10,
   "id": "de280420-ebff-4868-92ff-ca2f8aee519f",
   "metadata": {},
   "outputs": [
    {
     "data": {
      "text/plain": [
       "array([[-2.,  2.],\n",
       "       [ 1., -1.]])"
      ]
     },
     "execution_count": 10,
     "metadata": {},
     "output_type": "execute_result"
    }
   ],
   "source": [
    "coal_1 = 1\n",
    "rho_1 = 2\n",
    "\n",
    "state_1 = [[(1, 1)]]\n",
    "iter_lst_1 = get_states(state_1)\n",
    "trans_mat_1 = get_trans_mat(iter_lst_1, coal_1, rho_1)\n",
    "trans_mat_1"
   ]
  },
  {
   "cell_type": "markdown",
   "id": "81b9e5c8-d8aa-4906-8080-e4e591cc929a",
   "metadata": {},
   "source": [
    "The end probabilities can therefore be obtain by matrix exponentiation. For example, for a waiting time of 0.1, and assuming we start in the linked state:"
   ]
  },
  {
   "cell_type": "code",
   "execution_count": 11,
   "id": "9a9aacb3-a3fd-4bdc-aa22-97b6b4be87b9",
   "metadata": {},
   "outputs": [
    {
     "data": {
      "text/plain": [
       "array([0.82721215, 0.17278785])"
      ]
     },
     "execution_count": 11,
     "metadata": {},
     "output_type": "execute_result"
    }
   ],
   "source": [
    "t_1 = 0.1\n",
    "final_1 = expm(trans_mat_1*t_1)[0]\n",
    "final_1"
   ]
  },
  {
   "cell_type": "markdown",
   "id": "56e3b912-4d00-4158-838e-3848b405a789",
   "metadata": {},
   "source": [
    "We can do the same for the second sequence, here tagged as \"2\". Assuming a coalescent rate of 0.5, a recombination rate of 1 and a coalescent time of 0.1 (same as before):"
   ]
  },
  {
   "cell_type": "code",
   "execution_count": 12,
   "id": "b882f934-a465-42c4-be4f-1bd3cc1fc9f9",
   "metadata": {},
   "outputs": [
    {
     "data": {
      "text/plain": [
       "array([0.90713865, 0.09286135])"
      ]
     },
     "execution_count": 12,
     "metadata": {},
     "output_type": "execute_result"
    }
   ],
   "source": [
    "t_2 = t_1\n",
    "coal_2 = 0.5\n",
    "rho_2 = 1\n",
    "\n",
    "state_2 = [[(1, 1)]]\n",
    "iter_lst_2 = get_states(state_2)\n",
    "trans_mat_2 = get_trans_mat(iter_lst_2, coal_2, rho_2)\n",
    "final_2 = expm(trans_mat_2*t_2)[0]\n",
    "final_2"
   ]
  },
  {
   "cell_type": "markdown",
   "id": "1720095d-8fd4-4a74-899e-cf93a2965b20",
   "metadata": {
    "tags": []
   },
   "source": [
    "## Two-sequence CTMC"
   ]
  },
  {
   "cell_type": "markdown",
   "id": "5eb97f0f-e3cf-4e0f-bdd5-13ce9ead01fa",
   "metadata": {},
   "source": [
    "We can now define the two-sequence, two-locus CTMC. The simplified rate matrix is first loaded:"
   ]
  },
  {
   "cell_type": "code",
   "execution_count": 13,
   "id": "7796e3ac-16ca-4a75-9ede-c3066f52adf8",
   "metadata": {},
   "outputs": [
    {
     "name": "stdout",
     "output_type": "stream",
     "text": [
      "Rows: 19 Columns: 5\n",
      "── Column specification ────────────────────────────────────────────────────────\n",
      "Delimiter: \",\"\n",
      "chr (3): from_str, to_str, value\n",
      "dbl (2): from, to\n",
      "\n",
      "ℹ Use `spec()` to retrieve the full column specification for this data.\n",
      "ℹ Specify the column types or set `show_col_types = FALSE` to quiet this message.\n"
     ]
    }
   ],
   "source": [
    "%%R -o trans_mat_simple_2_edited -o states_simple_2\n",
    "\n",
    "# Read he csv file\n",
    "trans_mat_simple_2 <- read_csv('../02_state_space/trans_mats/trans_mat_simple_2.csv')\n",
    "\n",
    "# Transform the transition matrix to a spread format\n",
    "trans_mat_simple_2_edited <- trans_mat_simple_2 %>%\n",
    "    select(from, to, value)  %>%\n",
    "    mutate(\n",
    "        from = as.factor(from), \n",
    "        to = as.factor(to)\n",
    "    ) %>%\n",
    "    spread(to, value, fill = '0') %>%\n",
    "    select(-from) %>%\n",
    "    as.data.frame()\n",
    "\n",
    "# Save the state names\n",
    "states_simple_2 <- tibble(\n",
    "        names = c(trans_mat_simple_2$from_str, trans_mat_simple_2$to_str),\n",
    "        values = c(trans_mat_simple_2$from, trans_mat_simple_2$to)\n",
    "    ) %>%\n",
    "    unique() %>%\n",
    "    arrange(values) %>%\n",
    "    as.data.frame()"
   ]
  },
  {
   "cell_type": "code",
   "execution_count": 14,
   "id": "66091fba-e32e-43e2-ae01-ed0bd8607fc6",
   "metadata": {},
   "outputs": [],
   "source": [
    "# Transform matrix to Numpy array\n",
    "trans_mat_simple_2_edited = np.array(trans_mat_simple_2_edited)"
   ]
  },
  {
   "cell_type": "code",
   "execution_count": 15,
   "id": "b9a5e14e-fa0d-4318-a0dd-5082127430e1",
   "metadata": {},
   "outputs": [],
   "source": [
    "def trans_mat_num(trans_mat, coal, rho):\n",
    "    \"\"\"\n",
    "    This function returns a transition matrix given a \n",
    "    string matrix whose values are either '0', or 'R'\n",
    "    or 'C' preceeded by a number, corresponding to a\n",
    "    multiplication factor for the recombination and \n",
    "    the coalescence rate, respectively. The user can\n",
    "    specify these two numerical rates. The function\n",
    "    calculates the rates in the diagonals as  \n",
    "    (-1)*rowSums\n",
    "    \"\"\"\n",
    "    num_rows, num_cols = trans_mat.shape\n",
    "    trans_mat_num = np.full((num_rows, num_cols), 0.0)\n",
    "    for i in range(num_rows):\n",
    "        for j in range(num_cols):\n",
    "            if trans_mat[i,j] == '0':\n",
    "                trans_mat_num[i,j] = 0.0\n",
    "            else:\n",
    "                trans_mat_num[i,j] = int(trans_mat[i,j][0])*(coal if trans_mat[i,j][1]=='C' else rho)\n",
    "    for i in range(num_rows):\n",
    "        trans_mat_num[i,i]=-sum(trans_mat_num[i])\n",
    "    return trans_mat_num"
   ]
  },
  {
   "cell_type": "markdown",
   "id": "2eac5b02-0502-42d5-a0f6-b9c302de34b1",
   "metadata": {},
   "source": [
    "Given a value for the coalescent and the recombination rates, we can calculate the numerical matrix:"
   ]
  },
  {
   "cell_type": "code",
   "execution_count": 16,
   "id": "60dd8e7a-4816-4968-bcd6-23d26b4c2803",
   "metadata": {},
   "outputs": [
    {
     "data": {
      "text/plain": [
       "array([[-6. ,  4. ,  0. ,  1. ,  1. ,  0. ,  0. ,  0. ,  0. ],\n",
       "       [ 2.5, -5.5,  1. ,  0. ,  0. ,  1. ,  1. ,  0. ,  0. ],\n",
       "       [ 0. ,  5. , -6. ,  0. ,  0. ,  0. ,  0. ,  0. ,  1. ],\n",
       "       [ 0. ,  0. ,  0. , -3. ,  0. ,  2. ,  0. ,  1. ,  0. ],\n",
       "       [ 0. ,  0. ,  0. ,  0. , -3. ,  0. ,  2. ,  1. ,  0. ],\n",
       "       [ 0. ,  0. ,  0. ,  2.5,  0. , -3.5,  0. ,  0. ,  1. ],\n",
       "       [ 0. ,  0. ,  0. ,  0. ,  2.5,  0. , -3.5,  0. ,  1. ],\n",
       "       [ 0. ,  0. ,  0. ,  0. ,  0. ,  0. ,  0. , -1. ,  1. ],\n",
       "       [ 0. ,  0. ,  0. ,  0. ,  0. ,  0. ,  0. ,  2.5, -2.5]])"
      ]
     },
     "execution_count": 16,
     "metadata": {},
     "output_type": "execute_result"
    }
   ],
   "source": [
    "trans_mat_num(trans_mat_simple_2_edited, 1, 2.5)"
   ]
  },
  {
   "cell_type": "markdown",
   "id": "a6c5abfe-abab-4ed4-a1f7-38f7ba49d6d5",
   "metadata": {},
   "source": [
    "We now have all the ingredients for defining the two-sequence, two-locus CTMC. Using the function `combine_states`, we can mix the two one-sequence CTMCs to obtain both the starting states of the new two-sequence CTMC. From them, we can compute the complete state space of this new model, as well as all the starting probabilities:"
   ]
  },
  {
   "cell_type": "code",
   "execution_count": 17,
   "id": "b7fc3100-f771-409b-9c5e-730f1888b02c",
   "metadata": {},
   "outputs": [],
   "source": [
    "comb_12 = combine_states(iter_lst_1, iter_lst_2, final_1, final_2)\n",
    "initial_states_12 = comb_12[0]\n",
    "iter_lst_12 = get_states(initial_states_12)"
   ]
  },
  {
   "cell_type": "markdown",
   "id": "85cf771e-dd47-4040-9616-3788054a8dbf",
   "metadata": {},
   "source": [
    "Some of the states will be repeated. We can pool their probabilities:"
   ]
  },
  {
   "cell_type": "code",
   "execution_count": 18,
   "id": "eb15392a-b6cd-44dc-a8d4-ea9f3abf6b37",
   "metadata": {},
   "outputs": [
    {
     "data": {
      "text/plain": [
       "[[(1, 1), (1, 1)],\n",
       " [(0, 1), (1, 0), (1, 1)],\n",
       " [(0, 1), (1, 0), (1, 1)],\n",
       " [(0, 1), (0, 1), (1, 0), (1, 0)]]"
      ]
     },
     "execution_count": 18,
     "metadata": {},
     "output_type": "execute_result"
    }
   ],
   "source": [
    "iter_list_inter_12 = comb_12[0]\n",
    "iter_list_inter_12"
   ]
  },
  {
   "cell_type": "code",
   "execution_count": 19,
   "id": "411528bd-4f6b-41e1-bde0-7cb9045cd46d",
   "metadata": {},
   "outputs": [
    {
     "name": "stdout",
     "output_type": "stream",
     "text": [
      "                               name     value\n",
      "0                  [(1, 1), (1, 1)]  0.750396\n",
      "1          [(0, 1), (1, 0), (1, 1)]  0.076816\n",
      "2          [(0, 1), (1, 0), (1, 1)]  0.156743\n",
      "3  [(0, 1), (0, 1), (1, 0), (1, 0)]  0.016045\n",
      "                               name     value\n",
      "0  [(0, 1), (0, 1), (1, 0), (1, 0)]  0.016045\n",
      "1          [(0, 1), (1, 0), (1, 1)]  0.233559\n",
      "2                  [(1, 1), (1, 1)]  0.750396\n"
     ]
    }
   ],
   "source": [
    "# Define new data frame\n",
    "df = pd.DataFrame()\n",
    "# Save names of state\n",
    "df['name'] = [str(i) for i in iter_list_inter_12]\n",
    "# Save probabilities\n",
    "df['value'] = comb_12[1]\n",
    "print(df)\n",
    "# Group by state and sum probabilities\n",
    "df = df.groupby(\"name\", as_index=False).sum()\n",
    "print(df)"
   ]
  },
  {
   "cell_type": "code",
   "execution_count": 20,
   "id": "4082482a-9d8b-41c0-a4ed-40bc3c5120f1",
   "metadata": {},
   "outputs": [
    {
     "data": {
      "text/plain": [
       "[[(0, 1), (0, 1), (1, 0), (1, 0)],\n",
       " [(0, 1), (1, 0), (1, 1)],\n",
       " [(1, 1), (1, 1)],\n",
       " [(0, 2), (1, 0), (1, 0)],\n",
       " [(0, 1), (0, 1), (2, 0)],\n",
       " [(1, 0), (1, 2)],\n",
       " [(0, 1), (2, 1)],\n",
       " [(0, 2), (2, 0)],\n",
       " [(2, 2)]]"
      ]
     },
     "execution_count": 20,
     "metadata": {},
     "output_type": "execute_result"
    }
   ],
   "source": [
    "import ast\n",
    "# Evaluate string to list\n",
    "initial_states_12 = [ast.literal_eval(i) for i in list(states_simple_2['names'])]\n",
    "initial_states_12"
   ]
  },
  {
   "cell_type": "markdown",
   "id": "42598a18-ec92-4ff7-9ada-d8fd70689043",
   "metadata": {},
   "source": [
    "We can create a vector of initial probabilities for the CTMC:"
   ]
  },
  {
   "cell_type": "code",
   "execution_count": 21,
   "id": "2413b55f-52fa-4e46-8642-09136965ead1",
   "metadata": {},
   "outputs": [
    {
     "data": {
      "text/plain": [
       "[0.01604531311777672,\n",
       " 0.23355857569326277,\n",
       " 0.7503961111889603,\n",
       " 0.0,\n",
       " 0.0,\n",
       " 0.0,\n",
       " 0.0,\n",
       " 0.0,\n",
       " 0.0]"
      ]
     },
     "execution_count": 21,
     "metadata": {},
     "output_type": "execute_result"
    }
   ],
   "source": [
    "# Create empty vector\n",
    "pi_12 = []\n",
    "# For each initial state\n",
    "for i in list(states_simple_2['names']):\n",
    "    # If the initial state is in the initial probability dataframe\n",
    "    if i in df['name'].values:\n",
    "        # Append probability\n",
    "        pi_12.append(df['value'][df.index[df['name'] == i].values].values[0])\n",
    "    # Otherwise\n",
    "    else:\n",
    "        # Append 0\n",
    "        pi_12.append(0.0)\n",
    "pi_12"
   ]
  },
  {
   "cell_type": "markdown",
   "id": "f6aee3ac-38d6-4eaf-b009-5b90f17413f6",
   "metadata": {},
   "source": [
    "Let's have a look at the initial probabilities:"
   ]
  },
  {
   "cell_type": "code",
   "execution_count": 22,
   "id": "750cd997-5453-4142-bfa3-0019d4414edf",
   "metadata": {},
   "outputs": [],
   "source": [
    "dat_12 = iter_lst_to_ggplot(initial_states_12)"
   ]
  },
  {
   "cell_type": "code",
   "execution_count": 23,
   "id": "ced6f46c-f6a9-4e40-afca-3aa8f8bcd74b",
   "metadata": {},
   "outputs": [
    {
     "data": {
      "image/png": "[encoded data removed]"
     },
     "metadata": {},
     "output_type": "display_data"
    }
   ],
   "source": [
    "%%R -i pi_12 -i dat_12 -w 2000 -h 500 -r 150\n",
    "\n",
    "library(patchwork)\n",
    "\n",
    "p1 <- tibble(id = 0:8, prob = pi_12) %>% \n",
    "    ggplot() +\n",
    "        geom_col(aes(id, prob)) +\n",
    "        facet_wrap(~id, nrow = 1, scales = 'free_x')+\n",
    "        theme_minimal() +\n",
    "        theme(\n",
    "            axis.title.x=element_blank(),\n",
    "            axis.text.x=element_blank(),\n",
    "            axis.ticks.x=element_blank(),\n",
    "            strip.background = element_blank(),\n",
    "            strip.text.x = element_blank(),\n",
    "            panel.grid.major.x = element_blank(),\n",
    "            panel.grid.minor.x = element_blank()\n",
    "\n",
    "        )\n",
    "p2 <- plot_states(dat_12) +\n",
    "    facet_wrap(~id, scales = 'free', nrow = 1) +\n",
    "    theme(\n",
    "        strip.background = element_blank(),\n",
    "        strip.text.x = element_blank()\n",
    "\n",
    "    )\n",
    "\n",
    "p1/p2 + \n",
    "    plot_layout(heights = c(3, 1)) +\n",
    "    plot_annotation(\n",
    "        title = 'Starting probabilities of the two-sequence CTMC'\n",
    ")"
   ]
  },
  {
   "cell_type": "markdown",
   "id": "f11fe2cd-3709-4dd9-8bd1-2f842c576f87",
   "metadata": {},
   "source": [
    "We can now define a time interval (for example, 1), a coalescent rate (0.5) and a recombination rate (3) to get the distribution of states at a certain time:"
   ]
  },
  {
   "cell_type": "code",
   "execution_count": 24,
   "id": "63ccedeb-173a-4dc7-9d2e-a321535030a8",
   "metadata": {
    "tags": []
   },
   "outputs": [],
   "source": [
    "t_12 = 1\n",
    "coal_12 = 0.5\n",
    "rho_12 = 3\n",
    "\n",
    "\n",
    "trans_mat_12 = trans_mat_num(trans_mat_simple_2_edited, coal_12, rho_12)\n",
    "final_12 = pi_12 @ expm(trans_mat_12*t_12)"
   ]
  },
  {
   "cell_type": "code",
   "execution_count": 25,
   "id": "09c75717-ba8c-4d82-8a19-5a94cd304a07",
   "metadata": {},
   "outputs": [
    {
     "data": {
      "text/plain": [
       "array([0.22336798, 0.15995634, 0.01612736, 0.14469565, 0.14469565,\n",
       "       0.06238333, 0.06238333, 0.14519001, 0.04120035])"
      ]
     },
     "execution_count": 25,
     "metadata": {},
     "output_type": "execute_result"
    }
   ],
   "source": [
    "final_12"
   ]
  },
  {
   "cell_type": "code",
   "execution_count": 33,
   "id": "87683015-f4f8-455d-8bc2-bc722b7734f6",
   "metadata": {},
   "outputs": [
    {
     "data": {
      "text/plain": [
       "array([[0.21655433, 0.14279823, 0.012576  , 0.1697218 , 0.1697218 ,\n",
       "        0.0648803 , 0.0648803 , 0.12719187, 0.03167537],\n",
       "       [0.21419734, 0.14718366, 0.01369156, 0.16433157, 0.16433157,\n",
       "        0.06712653, 0.06712653, 0.12668689, 0.03532436],\n",
       "       [0.22636801, 0.16429868, 0.01696143, 0.1380489 , 0.1380489 ,\n",
       "        0.06085364, 0.06085364, 0.1513339 , 0.0432329 ],\n",
       "       [0.        , 0.        , 0.        , 0.45767524, 0.        ,\n",
       "        0.14885542, 0.        , 0.32935382, 0.06411552],\n",
       "       [0.        , 0.        , 0.        , 0.        , 0.45767524,\n",
       "        0.        , 0.14885542, 0.32935382, 0.06411552],\n",
       "       [0.        , 0.        , 0.        , 0.44656625, 0.        ,\n",
       "        0.15996441, 0.        , 0.31980962, 0.07365972],\n",
       "       [0.        , 0.        , 0.        , 0.        , 0.44656625,\n",
       "        0.        , 0.15996441, 0.31980962, 0.07365972],\n",
       "       [0.        , 0.        , 0.        , 0.        , 0.        ,\n",
       "        0.        , 0.        , 0.86145677, 0.13854323],\n",
       "       [0.        , 0.        , 0.        , 0.        , 0.        ,\n",
       "        0.        , 0.        , 0.83125939, 0.16874061]])"
      ]
     },
     "execution_count": 33,
     "metadata": {},
     "output_type": "execute_result"
    }
   ],
   "source": [
    "expm(trans_mat_12*t_12)"
   ]
  },
  {
   "cell_type": "code",
   "execution_count": 299,
   "id": "4e98e308-a08e-4c47-bfee-7c9e24af9b0f",
   "metadata": {},
   "outputs": [
    {
     "data": {
      "text/plain": [
       "[[(0, 1), (0, 1), (1, 0), (1, 0)],\n",
       " [(0, 1), (1, 0), (1, 1)],\n",
       " [(1, 1), (1, 1)],\n",
       " [(0, 2), (1, 0), (1, 0)],\n",
       " [(0, 1), (0, 1), (2, 0)],\n",
       " [(1, 0), (1, 2)],\n",
       " [(0, 1), (2, 1)],\n",
       " [(0, 2), (2, 0)],\n",
       " [(2, 2)]]"
      ]
     },
     "execution_count": 299,
     "metadata": {},
     "output_type": "execute_result"
    }
   ],
   "source": [
    "initial_states_12"
   ]
  },
  {
   "cell_type": "code",
   "execution_count": 317,
   "id": "c713029d-7d24-4c53-8459-78ece5ba533b",
   "metadata": {},
   "outputs": [
    {
     "data": {
      "text/plain": [
       "[7, 8]"
      ]
     },
     "execution_count": 317,
     "metadata": {},
     "output_type": "execute_result"
    }
   ],
   "source": [
    "flatten = [list(sum(i, ())) for i in initial_states_12]\n",
    "omega_B = [i for i in range(9) if 2 not in flatten[i]]\n",
    "omega_L = [i for i in range(9) if (2 in flatten[i][::2]) and (2 not in flatten[i][1::2])]\n",
    "omega_R = [i for i in range(9) if (2 not in flatten[i][::2]) and (2 in flatten[i][1::2])]\n",
    "omega_E = [i for i in range(9) if (2 in flatten[i][::2]) and (2 in flatten[i][1::2])]"
   ]
  },
  {
   "cell_type": "code",
   "execution_count": 122,
   "id": "e7605518-5898-4b71-8e1e-183f786fee1c",
   "metadata": {},
   "outputs": [],
   "source": [
    "def get_pi_ABC(pi_AB, trans_mat, omegas, times):\n",
    "    pi_ABC = pi_AB @ expm(trans_mat*times[0])[:,omegas[0]]\n",
    "    for i in range(1, len(omegas)):\n",
    "        pi_ABC = pi_ABC @ expm(trans_mat*times[i])[omegas[i-1]][:,omegas[i]]\n",
    "    return np.array([pi_ABC[omegas[len(omegas)-1].index(j)] if j in omegas[len(omegas)-1] else 0 for j in range(9)])"
   ]
  },
  {
   "cell_type": "markdown",
   "id": "cf26af2f-1d2e-4aff-9b0a-291e1d9ce262",
   "metadata": {},
   "source": [
    "If $L=\\text{V0}_l^L, R=\\text{V0}_r^R, T_l=T_r$:"
   ]
  },
  {
   "cell_type": "code",
   "execution_count": 123,
   "id": "661b1a95-a9f0-4865-b845-3334dbefb66b",
   "metadata": {},
   "outputs": [
    {
     "data": {
      "text/plain": [
       "array([0.        , 0.        , 0.        , 0.        , 0.        ,\n",
       "       0.        , 0.        , 0.01998916, 0.00992419])"
      ]
     },
     "execution_count": 123,
     "metadata": {},
     "output_type": "execute_result"
    }
   ],
   "source": [
    "get_pi_ABC(pi_12, trans_mat_12, [omega_B, omega_E, omega_E], [0.1, 0.2, 0.3])"
   ]
  },
  {
   "cell_type": "markdown",
   "id": "7f9ac830-5fd2-40fe-95f3-1ed4ad14fbef",
   "metadata": {},
   "source": [
    "If $L=\\text{V0}_l^L, R=\\text{V0}_r^R, T_l<T_r$:"
   ]
  },
  {
   "cell_type": "code",
   "execution_count": 130,
   "id": "67d5f1bf-4842-4b84-b486-70bdf27a8a2f",
   "metadata": {},
   "outputs": [
    {
     "data": {
      "text/plain": [
       "array([0.        , 0.        , 0.        , 0.        , 0.        ,\n",
       "       0.        , 0.        , 0.00714644, 0.00201327])"
      ]
     },
     "execution_count": 130,
     "metadata": {},
     "output_type": "execute_result"
    }
   ],
   "source": [
    "get_pi_ABC(pi_12, trans_mat_12, [omega_B, omega_L, omega_L, omega_E], [0.1, 0.2, 0.3, 0.4])"
   ]
  },
  {
   "cell_type": "markdown",
   "id": "90e2f234-317b-4c33-a907-a6d3ef4e25e7",
   "metadata": {},
   "source": [
    "If $L=\\text{V0}_l^L, R=\\text{V0}_r^R, T_l>T_r$:"
   ]
  },
  {
   "cell_type": "code",
   "execution_count": 125,
   "id": "2f783800-6ec3-43c3-8245-678f6da8fef4",
   "metadata": {},
   "outputs": [
    {
     "data": {
      "text/plain": [
       "array([0.        , 0.        , 0.        , 0.        , 0.        ,\n",
       "       0.        , 0.        , 0.00714644, 0.00201327])"
      ]
     },
     "execution_count": 125,
     "metadata": {},
     "output_type": "execute_result"
    }
   ],
   "source": [
    "get_pi_ABC(pi_12, trans_mat_12, [omega_B, omega_R, omega_R, omega_E], [0.1, 0.2, 0.3, 0.4])"
   ]
  },
  {
   "cell_type": "markdown",
   "id": "cf30c646-4aae-498b-a537-e21aa0fdcbcd",
   "metadata": {},
   "source": [
    "If $L=\\text{V0}_l^L, R\\in\\{\\text{VM}, \\text{V1},\\text{V2},\\text{V3}\\}$:"
   ]
  },
  {
   "cell_type": "code",
   "execution_count": 126,
   "id": "a8b0d679-275b-4592-b536-3e9af23417e2",
   "metadata": {},
   "outputs": [
    {
     "data": {
      "text/plain": [
       "array([0.        , 0.        , 0.        , 0.        , 0.03326139,\n",
       "       0.        , 0.01726961, 0.        , 0.        ])"
      ]
     },
     "execution_count": 126,
     "metadata": {},
     "output_type": "execute_result"
    }
   ],
   "source": [
    "get_pi_ABC(pi_12, trans_mat_12, [omega_B, omega_L, omega_L], [0.1, 0.2, 0.3])"
   ]
  },
  {
   "cell_type": "markdown",
   "id": "3caaa9b8-38a9-4862-aafa-a625b384b612",
   "metadata": {},
   "source": [
    "If $L\\in\\{\\text{VM}, \\text{V1},\\text{V2},\\text{V3}\\}, R=\\text{V0}_r^R$:"
   ]
  },
  {
   "cell_type": "code",
   "execution_count": 127,
   "id": "1fc43fa5-6df5-41df-8f0f-b7a7a0706d63",
   "metadata": {},
   "outputs": [
    {
     "data": {
      "text/plain": [
       "array([0.        , 0.        , 0.        , 0.03326139, 0.        ,\n",
       "       0.01726961, 0.        , 0.        , 0.        ])"
      ]
     },
     "execution_count": 127,
     "metadata": {},
     "output_type": "execute_result"
    }
   ],
   "source": [
    "get_pi_ABC(pi_12, trans_mat_12, [omega_B, omega_R, omega_R], [0.1, 0.2, 0.3])"
   ]
  },
  {
   "cell_type": "markdown",
   "id": "03e0e2fd-ec37-47eb-993b-0f497c778de5",
   "metadata": {},
   "source": [
    "If $L\\in\\{\\text{VM},\\text{V1},\\text{V2},\\text{V3}\\}, R\\in\\{\\text{VM},\\text{V1},\\text{V2},\\text{V3}\\}$:"
   ]
  },
  {
   "cell_type": "code",
   "execution_count": 128,
   "id": "879b991a-8f57-48b0-bb03-d382d7f5dfe7",
   "metadata": {},
   "outputs": [
    {
     "data": {
      "text/plain": [
       "array([0.22336798, 0.15995634, 0.01612736, 0.        , 0.        ,\n",
       "       0.        , 0.        , 0.        , 0.        ])"
      ]
     },
     "execution_count": 128,
     "metadata": {},
     "output_type": "execute_result"
    }
   ],
   "source": [
    "get_pi_ABC(pi_12, trans_mat_12, [omega_B], [1])"
   ]
  },
  {
   "cell_type": "code",
   "execution_count": 108,
   "id": "daa2b506-5478-4785-b0b4-10d54b0a3912",
   "metadata": {},
   "outputs": [],
   "source": [
    "from scipy.stats import truncexpon"
   ]
  },
  {
   "cell_type": "code",
   "execution_count": 148,
   "id": "31e870b7-1fae-45e2-85bb-30c850189d34",
   "metadata": {},
   "outputs": [],
   "source": []
  },
  {
   "cell_type": "code",
   "execution_count": 285,
   "id": "717fa3c9-740b-42b0-919f-219940be326e",
   "metadata": {},
   "outputs": [
    {
     "data": {
      "text/plain": [
       "array([0.        , 0.39634897, 1.06263599, 4.        ])"
      ]
     },
     "execution_count": 285,
     "metadata": {},
     "output_type": "execute_result"
    }
   ],
   "source": [
    "t_AB = 0\n",
    "t_ABC = 4\n",
    "coal_AB = 1\n",
    "n_states_AB = 3\n",
    "quantiles_AB = np.array(list(range(n_states_AB+1)))/n_states_AB\n",
    "lower, upper, scale = t_AB, t_ABC, coal_AB\n",
    "cut_AB = truncexpon.ppf(quantiles_AB, b=(upper-lower)/scale, loc=lower, scale=scale)\n",
    "cut_AB"
   ]
  },
  {
   "cell_type": "code",
   "execution_count": 286,
   "id": "e40ec7fb-ce03-4800-a21c-c0507c8e5812",
   "metadata": {},
   "outputs": [],
   "source": [
    "tab = np.zeros((n_states_AB*n_states_AB+n_states_AB*2+1, 9))\n",
    "acc = 0"
   ]
  },
  {
   "cell_type": "markdown",
   "id": "32b97066-1992-4089-895b-099432ce35e8",
   "metadata": {},
   "source": [
    "$L=\\text{V0}_l^L, R=\\text{V0}_r^R$:"
   ]
  },
  {
   "cell_type": "code",
   "execution_count": 287,
   "id": "e8137d9c-0d4e-4ad0-9e58-444562bdcafe",
   "metadata": {},
   "outputs": [],
   "source": [
    "for R in range(len(cut_AB)-1):\n",
    "    for L in range(len(cut_AB)-1):\n",
    "        if R == L:\n",
    "            times = [cut_AB[L]-cut_AB[0], cut_AB[L+1]-cut_AB[L], cut_AB[-1]-cut_AB[L+1]]\n",
    "            tab[acc] = get_pi_ABC(pi_12, trans_mat_12, [omega_B, omega_E, omega_E], times)\n",
    "        elif L<R:\n",
    "            times = [cut_AB[L]-cut_AB[0], cut_AB[L+1]-cut_AB[L], cut_AB[R]-cut_AB[L+1], cut_AB[R+1]-cut_AB[R], cut_AB[-1]-cut_AB[R+1]]\n",
    "            tab[acc] = get_pi_ABC(pi_12, trans_mat_12, [omega_B, omega_L, omega_L, omega_E, omega_E], times)\n",
    "        elif L>R:\n",
    "            times = [cut_AB[R]-cut_AB[0], cut_AB[R+1]-cut_AB[R], cut_AB[L]-cut_AB[R+1], cut_AB[L+1]-cut_AB[L], cut_AB[-1]-cut_AB[L]]\n",
    "            tab[acc] = get_pi_ABC(pi_12, trans_mat_12, [omega_B, omega_R, omega_R, omega_E, omega_E], times)\n",
    "        acc += 1"
   ]
  },
  {
   "cell_type": "markdown",
   "id": "7c4ad6e3-cb1c-4ccd-9746-1daf12a8233a",
   "metadata": {},
   "source": [
    "If $L=\\text{V0}_l^L, R\\in\\{\\text{VM}, \\text{V1},\\text{V2},\\text{V3}\\}$ or $L\\in\\{\\text{VM}, \\text{V1},\\text{V2},\\text{V3}\\}, R=\\text{V0}_r^R$:"
   ]
  },
  {
   "cell_type": "code",
   "execution_count": 288,
   "id": "1932954f-ec8a-4028-b4c9-fee48c9b353a",
   "metadata": {},
   "outputs": [],
   "source": [
    "for L in range(len(cut_AB)-1):\n",
    "    times = [cut_AB[L]-cut_AB[0],cut_AB[L+1]-cut_AB[L],cut_AB[-1]-cut_AB[L+1]]\n",
    "    tab[acc] = (get_pi_ABC(pi_12, trans_mat_12, [omega_B, omega_L, omega_L], times))\n",
    "    acc += 1\n",
    "for R in range(len(cut_AB)-1):\n",
    "    times = [cut_AB[R]-cut_AB[0],cut_AB[R+1]-cut_AB[R],cut_AB[-1]-cut_AB[R+1]]\n",
    "    tab[acc] = (get_pi_ABC(pi_12, trans_mat_12, [omega_B, omega_R, omega_R], times))\n",
    "    acc += 1"
   ]
  },
  {
   "cell_type": "markdown",
   "id": "7569ddd9-03f0-4877-a31e-756148fa7001",
   "metadata": {},
   "source": [
    "If $L\\in\\{\\text{VM},\\text{V1},\\text{V2},\\text{V3}\\}, R\\in\\{\\text{VM},\\text{V1},\\text{V2},\\text{V3}\\}$:"
   ]
  },
  {
   "cell_type": "code",
   "execution_count": 289,
   "id": "8664d6ff-5154-4130-830e-6a8eda8dbb3f",
   "metadata": {},
   "outputs": [],
   "source": [
    "tab[acc] = get_pi_ABC(pi_12, trans_mat_12, [omega_B], [cut_AB[-1]-cut_AB[0]])"
   ]
  },
  {
   "cell_type": "code",
   "execution_count": 298,
   "id": "f5664e61-625e-4d33-8a24-3bf2c443eeca",
   "metadata": {},
   "outputs": [
    {
     "data": {
      "text/html": [
       "<div>\n",
       "<style scoped>\n",
       "    .dataframe tbody tr th:only-of-type {\n",
       "        vertical-align: middle;\n",
       "    }\n",
       "\n",
       "    .dataframe tbody tr th {\n",
       "        vertical-align: top;\n",
       "    }\n",
       "\n",
       "    .dataframe thead th {\n",
       "        text-align: right;\n",
       "    }\n",
       "</style>\n",
       "<table border=\"1\" class=\"dataframe\">\n",
       "  <thead>\n",
       "    <tr style=\"text-align: right;\">\n",
       "      <th></th>\n",
       "      <th>[(0, 1), (0, 1), (1, 0), (1, 0)]</th>\n",
       "      <th>[(0, 1), (1, 0), (1, 1)]</th>\n",
       "      <th>[(1, 1), (1, 1)]</th>\n",
       "      <th>[(0, 2), (1, 0), (1, 0)]</th>\n",
       "      <th>[(0, 1), (0, 1), (2, 0)]</th>\n",
       "      <th>[(1, 0), (1, 2)]</th>\n",
       "      <th>[(0, 1), (2, 1)]</th>\n",
       "      <th>[(0, 2), (2, 0)]</th>\n",
       "      <th>[(2, 2)]</th>\n",
       "    </tr>\n",
       "  </thead>\n",
       "  <tbody>\n",
       "    <tr>\n",
       "      <th>0</th>\n",
       "      <td>0.000000</td>\n",
       "      <td>0.000000</td>\n",
       "      <td>0.000000</td>\n",
       "      <td>0.000000</td>\n",
       "      <td>0.000000</td>\n",
       "      <td>0.000000</td>\n",
       "      <td>0.000000</td>\n",
       "      <td>0.065475</td>\n",
       "      <td>0.010913</td>\n",
       "    </tr>\n",
       "    <tr>\n",
       "      <th>1</th>\n",
       "      <td>0.000000</td>\n",
       "      <td>0.000000</td>\n",
       "      <td>0.000000</td>\n",
       "      <td>0.000000</td>\n",
       "      <td>0.000000</td>\n",
       "      <td>0.000000</td>\n",
       "      <td>0.000000</td>\n",
       "      <td>0.025108</td>\n",
       "      <td>0.004185</td>\n",
       "    </tr>\n",
       "    <tr>\n",
       "      <th>2</th>\n",
       "      <td>0.000000</td>\n",
       "      <td>0.000000</td>\n",
       "      <td>0.000000</td>\n",
       "      <td>0.000000</td>\n",
       "      <td>0.000000</td>\n",
       "      <td>0.000000</td>\n",
       "      <td>0.000000</td>\n",
       "      <td>0.048887</td>\n",
       "      <td>0.008148</td>\n",
       "    </tr>\n",
       "    <tr>\n",
       "      <th>3</th>\n",
       "      <td>0.000000</td>\n",
       "      <td>0.000000</td>\n",
       "      <td>0.000000</td>\n",
       "      <td>0.000000</td>\n",
       "      <td>0.000000</td>\n",
       "      <td>0.000000</td>\n",
       "      <td>0.000000</td>\n",
       "      <td>0.025108</td>\n",
       "      <td>0.004185</td>\n",
       "    </tr>\n",
       "    <tr>\n",
       "      <th>4</th>\n",
       "      <td>0.000000</td>\n",
       "      <td>0.000000</td>\n",
       "      <td>0.000000</td>\n",
       "      <td>0.000000</td>\n",
       "      <td>0.000000</td>\n",
       "      <td>0.000000</td>\n",
       "      <td>0.000000</td>\n",
       "      <td>0.055743</td>\n",
       "      <td>0.009291</td>\n",
       "    </tr>\n",
       "    <tr>\n",
       "      <th>5</th>\n",
       "      <td>0.000000</td>\n",
       "      <td>0.000000</td>\n",
       "      <td>0.000000</td>\n",
       "      <td>0.000000</td>\n",
       "      <td>0.000000</td>\n",
       "      <td>0.000000</td>\n",
       "      <td>0.000000</td>\n",
       "      <td>0.091100</td>\n",
       "      <td>0.015183</td>\n",
       "    </tr>\n",
       "    <tr>\n",
       "      <th>6</th>\n",
       "      <td>0.000000</td>\n",
       "      <td>0.000000</td>\n",
       "      <td>0.000000</td>\n",
       "      <td>0.000000</td>\n",
       "      <td>0.000000</td>\n",
       "      <td>0.000000</td>\n",
       "      <td>0.000000</td>\n",
       "      <td>0.048582</td>\n",
       "      <td>0.008452</td>\n",
       "    </tr>\n",
       "    <tr>\n",
       "      <th>7</th>\n",
       "      <td>0.000000</td>\n",
       "      <td>0.000000</td>\n",
       "      <td>0.000000</td>\n",
       "      <td>0.000000</td>\n",
       "      <td>0.000000</td>\n",
       "      <td>0.000000</td>\n",
       "      <td>0.000000</td>\n",
       "      <td>0.090532</td>\n",
       "      <td>0.015751</td>\n",
       "    </tr>\n",
       "    <tr>\n",
       "      <th>8</th>\n",
       "      <td>0.000000</td>\n",
       "      <td>0.000000</td>\n",
       "      <td>0.000000</td>\n",
       "      <td>0.000000</td>\n",
       "      <td>0.000000</td>\n",
       "      <td>0.000000</td>\n",
       "      <td>0.000000</td>\n",
       "      <td>0.189218</td>\n",
       "      <td>0.034447</td>\n",
       "    </tr>\n",
       "    <tr>\n",
       "      <th>9</th>\n",
       "      <td>0.000000</td>\n",
       "      <td>0.000000</td>\n",
       "      <td>0.000000</td>\n",
       "      <td>0.000000</td>\n",
       "      <td>0.012794</td>\n",
       "      <td>0.000000</td>\n",
       "      <td>0.004265</td>\n",
       "      <td>0.000000</td>\n",
       "      <td>0.000000</td>\n",
       "    </tr>\n",
       "    <tr>\n",
       "      <th>10</th>\n",
       "      <td>0.000000</td>\n",
       "      <td>0.000000</td>\n",
       "      <td>0.000000</td>\n",
       "      <td>0.000000</td>\n",
       "      <td>0.023841</td>\n",
       "      <td>0.000000</td>\n",
       "      <td>0.007947</td>\n",
       "      <td>0.000000</td>\n",
       "      <td>0.000000</td>\n",
       "    </tr>\n",
       "    <tr>\n",
       "      <th>11</th>\n",
       "      <td>0.000000</td>\n",
       "      <td>0.000000</td>\n",
       "      <td>0.000000</td>\n",
       "      <td>0.000000</td>\n",
       "      <td>0.048696</td>\n",
       "      <td>0.000000</td>\n",
       "      <td>0.016816</td>\n",
       "      <td>0.000000</td>\n",
       "      <td>0.000000</td>\n",
       "    </tr>\n",
       "    <tr>\n",
       "      <th>12</th>\n",
       "      <td>0.000000</td>\n",
       "      <td>0.000000</td>\n",
       "      <td>0.000000</td>\n",
       "      <td>0.012794</td>\n",
       "      <td>0.000000</td>\n",
       "      <td>0.004265</td>\n",
       "      <td>0.000000</td>\n",
       "      <td>0.000000</td>\n",
       "      <td>0.000000</td>\n",
       "    </tr>\n",
       "    <tr>\n",
       "      <th>13</th>\n",
       "      <td>0.000000</td>\n",
       "      <td>0.000000</td>\n",
       "      <td>0.000000</td>\n",
       "      <td>0.023841</td>\n",
       "      <td>0.000000</td>\n",
       "      <td>0.007947</td>\n",
       "      <td>0.000000</td>\n",
       "      <td>0.000000</td>\n",
       "      <td>0.000000</td>\n",
       "    </tr>\n",
       "    <tr>\n",
       "      <th>14</th>\n",
       "      <td>0.000000</td>\n",
       "      <td>0.000000</td>\n",
       "      <td>0.000000</td>\n",
       "      <td>0.048696</td>\n",
       "      <td>0.000000</td>\n",
       "      <td>0.016816</td>\n",
       "      <td>0.000000</td>\n",
       "      <td>0.000000</td>\n",
       "      <td>0.000000</td>\n",
       "    </tr>\n",
       "    <tr>\n",
       "      <th>15</th>\n",
       "      <td>0.012101</td>\n",
       "      <td>0.008138</td>\n",
       "      <td>0.000738</td>\n",
       "      <td>0.000000</td>\n",
       "      <td>0.000000</td>\n",
       "      <td>0.000000</td>\n",
       "      <td>0.000000</td>\n",
       "      <td>0.000000</td>\n",
       "      <td>0.000000</td>\n",
       "    </tr>\n",
       "  </tbody>\n",
       "</table>\n",
       "</div>"
      ],
      "text/plain": [
       "    [(0, 1), (0, 1), (1, 0), (1, 0)]  [(0, 1), (1, 0), (1, 1)]  \\\n",
       "0                           0.000000                  0.000000   \n",
       "1                           0.000000                  0.000000   \n",
       "2                           0.000000                  0.000000   \n",
       "3                           0.000000                  0.000000   \n",
       "4                           0.000000                  0.000000   \n",
       "5                           0.000000                  0.000000   \n",
       "6                           0.000000                  0.000000   \n",
       "7                           0.000000                  0.000000   \n",
       "8                           0.000000                  0.000000   \n",
       "9                           0.000000                  0.000000   \n",
       "10                          0.000000                  0.000000   \n",
       "11                          0.000000                  0.000000   \n",
       "12                          0.000000                  0.000000   \n",
       "13                          0.000000                  0.000000   \n",
       "14                          0.000000                  0.000000   \n",
       "15                          0.012101                  0.008138   \n",
       "\n",
       "    [(1, 1), (1, 1)]  [(0, 2), (1, 0), (1, 0)]  [(0, 1), (0, 1), (2, 0)]  \\\n",
       "0           0.000000                  0.000000                  0.000000   \n",
       "1           0.000000                  0.000000                  0.000000   \n",
       "2           0.000000                  0.000000                  0.000000   \n",
       "3           0.000000                  0.000000                  0.000000   \n",
       "4           0.000000                  0.000000                  0.000000   \n",
       "5           0.000000                  0.000000                  0.000000   \n",
       "6           0.000000                  0.000000                  0.000000   \n",
       "7           0.000000                  0.000000                  0.000000   \n",
       "8           0.000000                  0.000000                  0.000000   \n",
       "9           0.000000                  0.000000                  0.012794   \n",
       "10          0.000000                  0.000000                  0.023841   \n",
       "11          0.000000                  0.000000                  0.048696   \n",
       "12          0.000000                  0.012794                  0.000000   \n",
       "13          0.000000                  0.023841                  0.000000   \n",
       "14          0.000000                  0.048696                  0.000000   \n",
       "15          0.000738                  0.000000                  0.000000   \n",
       "\n",
       "    [(1, 0), (1, 2)]  [(0, 1), (2, 1)]  [(0, 2), (2, 0)]  [(2, 2)]  \n",
       "0           0.000000          0.000000          0.065475  0.010913  \n",
       "1           0.000000          0.000000          0.025108  0.004185  \n",
       "2           0.000000          0.000000          0.048887  0.008148  \n",
       "3           0.000000          0.000000          0.025108  0.004185  \n",
       "4           0.000000          0.000000          0.055743  0.009291  \n",
       "5           0.000000          0.000000          0.091100  0.015183  \n",
       "6           0.000000          0.000000          0.048582  0.008452  \n",
       "7           0.000000          0.000000          0.090532  0.015751  \n",
       "8           0.000000          0.000000          0.189218  0.034447  \n",
       "9           0.000000          0.004265          0.000000  0.000000  \n",
       "10          0.000000          0.007947          0.000000  0.000000  \n",
       "11          0.000000          0.016816          0.000000  0.000000  \n",
       "12          0.004265          0.000000          0.000000  0.000000  \n",
       "13          0.007947          0.000000          0.000000  0.000000  \n",
       "14          0.016816          0.000000          0.000000  0.000000  \n",
       "15          0.000000          0.000000          0.000000  0.000000  "
      ]
     },
     "execution_count": 298,
     "metadata": {},
     "output_type": "execute_result"
    }
   ],
   "source": [
    "df = pd.DataFrame(tab, columns = [str(i) for i in initial_states_12])\n",
    "df"
   ]
  },
  {
   "cell_type": "code",
   "execution_count": 38,
   "id": "4ee9107f-8b45-485b-a4b0-482b48e15d45",
   "metadata": {},
   "outputs": [
    {
     "data": {
      "image/png": "[encoded data removed]"
     },
     "metadata": {},
     "output_type": "display_data"
    }
   ],
   "source": [
    "%%R -i final_12 -i dat_12 -w 2000 -h 500 -r 150\n",
    "\n",
    "library(patchwork)\n",
    "\n",
    "p1 <- tibble(id = 0:8, prob = final_12) %>% \n",
    "    ggplot() +\n",
    "        geom_col(aes(id, prob)) +\n",
    "        facet_wrap(~id, nrow = 1, scales = 'free_x')+\n",
    "        theme_minimal() +\n",
    "        theme(\n",
    "            axis.title.x=element_blank(),\n",
    "            axis.text.x=element_blank(),\n",
    "            axis.ticks.x=element_blank(),\n",
    "            strip.background = element_blank(),\n",
    "            strip.text.x = element_blank(),\n",
    "            panel.grid.major.x = element_blank(),\n",
    "            panel.grid.minor.x = element_blank()\n",
    "\n",
    "        )\n",
    "p2 <- plot_states(dat_12)+\n",
    "    facet_wrap(~id, scales = 'free', nrow = 1) +\n",
    "    theme(\n",
    "        strip.background = element_blank(),\n",
    "        strip.text.x = element_blank()\n",
    "\n",
    "    )\n",
    "\n",
    "p1/p2 + plot_layout(heights = c(3, 1)) + \n",
    "    plot_layout(heights = c(3, 1)) +\n",
    "    plot_annotation(\n",
    "        title = 'End probabilities of the two-sequence CTMC at time = 1'\n",
    ")"
   ]
  },
  {
   "cell_type": "markdown",
   "id": "6d77fbae-25f5-4955-8091-e33ec9d41232",
   "metadata": {},
   "source": [
    "$$\n",
    "\\begin{aligned}\n",
    "\\begin{array}{|c|c|c|c|c|c|c|c|c|c|}\n",
    "    \\hline & V_0^{t=1} & V_0^{t=2} & V_1^{t=I} & V_2^{t=I} & V_3^{t=I} & V_1^{t=II} & V_2^{t=II} & V_3^{t=II}\\\\\n",
    "    \\hline V_0^{t=1} \\\\\n",
    "    \\hline V_0^{t=2} \\\\\n",
    "    \\hline V_1^{t=I} \\\\\n",
    "    \\hline V_2^{t=I} \\\\\n",
    "    \\hline V_3^{t=I} \\\\\n",
    "    \\hline V_1^{t=II} \\\\\n",
    "    \\hline V_2^{t=II} \\\\\n",
    "    \\hline V_3^{t=II} \\\\\n",
    "\\hline\n",
    "\\end{array}\n",
    "\\end{aligned}\n",
    "$$"
   ]
  },
  {
   "cell_type": "markdown",
   "id": "6958172a-102f-40a9-8b4a-0dbd481e6d72",
   "metadata": {},
   "source": [
    "$\n",
    "\\begin{align}\n",
    "&\\pi_{ABC}(L, R)= \\\\\n",
    "    &=\\begin{cases}\n",
    "        \\left[\n",
    "        \\sum_{k\\in\\Omega_B^{AB}}\\sum_{m\\in\\Omega_E^{AB}}\\sum_{n\\in\\Omega^{AB}}\n",
    "        \\left(e^{Q_{AB}(T_{l-1}-T_{AB})}\\right)_k \n",
    "        \\left(e^{Q_{AB}(T_l-T_{l-1})}\\right)_{km}\n",
    "        \\left(e^{Q_{AB}(T_{ABC}-T_l)}\\right)_{mn}\n",
    "        \\right]\n",
    "        & \n",
    "        \\text{if } L=\\text{V0}_l^L, R=\\text{V0}_r^R, T_l=T_r\\\\\n",
    "        \\left[\n",
    "        \\sum_{k\\in\\Omega_B^{AB}}\\sum_{m\\in\\Omega_L^{AB}}\\sum_{n\\in\\Omega_L^{AB}}\\sum_{p\\in\\Omega_E^{AB}}\\sum_{q\\in\\Omega^{AB}}\n",
    "        \\left(e^{Q_{AB}(T_{l-1}-T_{AB})}\\right)_k \n",
    "        \\left(e^{Q_{AB}(T_l-T_{l-1})}\\right)_{km}\n",
    "        \\left(e^{Q_{AB}(T_{r-1}-T_l)}\\right)_{mn}\n",
    "        \\left(e^{Q_{AB}(T_r-T_{r-1})}\\right)_{np}\n",
    "        \\left(e^{Q_{AB}(T_{ABC}-T_r)}\\right)_{pq}\n",
    "        \\right]\n",
    "        & \n",
    "        \\text{if } L=\\text{V0}_l^L, R=\\text{V0}_r^R, T_l<T_r\\\\\n",
    "        \\left[\n",
    "        \\sum_{k\\in\\Omega_B^{AB}}\\sum_{m\\in\\Omega_R^{AB}}\\sum_{n\\in\\Omega_R^{AB}}\\sum_{p\\in\\Omega_E^{AB}}\\sum_{q\\in\\Omega^{AB}}\n",
    "        \\left(e^{Q_{AB}(T_{r-1}-T_{AB})}\\right)_k \n",
    "        \\left(e^{Q_{AB}(T_r-T_{r-1})}\\right)_{km}\n",
    "        \\left(e^{Q_{AB}(T_{l-1}-T_r)}\\right)_{mn}\n",
    "        \\left(e^{Q_{AB}(T_l-T_{l-1})}\\right)_{np}\n",
    "        \\left(e^{Q_{AB}(T_{ABC}-T_l)}\\right)_{pq}\n",
    "        \\right]\n",
    "        & \n",
    "        \\text{if } L=\\text{V0}_l^L, R=\\text{V0}_r^R, T_l>T_r\n",
    "    \\end{cases}       \n",
    "\\end{align}\n",
    "$"
   ]
  },
  {
   "cell_type": "markdown",
   "id": "1c2d5a98-6a40-4b6e-9180-25f5e443e527",
   "metadata": {},
   "source": [
    "$\n",
    "\\begin{align}\n",
    "&P(L=\\text{V0}_l^L, R=\\text{V0}_r^R)= \\\\\n",
    "&=\\begin{cases}\n",
    "       \\sum_{k\\in\\Omega_B^{AB}}\\sum_{m\\in\\Omega_E^{AB}}\n",
    "       \\left(\\pi_{AB}\\,e^{Q_{AB}(T_{l-1}-T_{AB})}\\right)_k \n",
    "       \\left(e^{Q_{AB}(T_l-T_{l-1})}\\right)_{km}\n",
    "       & \n",
    "       \\text{if } l=r\\\\\n",
    "       \\sum_{k\\in\\Omega_B^{AB}}\\sum_{m\\in\\Omega_L^{AB}}\\sum_{n\\in\\Omega_L^{AB}}\\sum_{s\\in\\Omega_E^{AB}} \n",
    "       \\left(\\pi_{AB}\\,e^{Q_{AB}(T_{l-1}-T_{AB})}\\right)_k \n",
    "       \\left(e^{Q_{AB}(T_l-T_{l-1})}\\right)_{km}\n",
    "       \\left(e^{Q_{AB}(T_{r-1}-T_{l})}\\right)_{mn}\n",
    "       \\left(e^{Q_{AB}(T_r-T_{r-1})}\\right)_{ns}\n",
    "       & \n",
    "       \\text{if } l<r\\\\\n",
    "       P(L=V_0^r, R=V_0^l)\n",
    "       & \n",
    "       \\text{if } l>r\\\\\n",
    "    \\end{cases}       \n",
    "\\end{align}\n",
    "$"
   ]
  },
  {
   "cell_type": "code",
   "execution_count": null,
   "id": "d12cc109-da3f-41e7-ab7b-905974a95b26",
   "metadata": {},
   "outputs": [],
   "source": []
  },
  {
   "cell_type": "code",
   "execution_count": null,
   "id": "4e1e28f2-4b8e-4b01-9ce6-923ed89609eb",
   "metadata": {},
   "outputs": [],
   "source": []
  },
  {
   "cell_type": "code",
   "execution_count": null,
   "id": "c6cb084c-74e2-4dcc-96d4-9baee616c10b",
   "metadata": {},
   "outputs": [],
   "source": []
  },
  {
   "cell_type": "code",
   "execution_count": null,
   "id": "76887eb7-6422-46b7-aac1-5f01251f5760",
   "metadata": {},
   "outputs": [],
   "source": []
  },
  {
   "cell_type": "code",
   "execution_count": null,
   "id": "03168565-7d46-4387-8bdb-c9400fb46df0",
   "metadata": {},
   "outputs": [],
   "source": []
  },
  {
   "cell_type": "code",
   "execution_count": null,
   "id": "0ce47fb1-a90b-4f9d-aeb3-15b838754bc2",
   "metadata": {},
   "outputs": [],
   "source": []
  },
  {
   "cell_type": "code",
   "execution_count": null,
   "id": "bccb51a7-b51e-47b6-8afd-21616fe53ced",
   "metadata": {},
   "outputs": [],
   "source": []
  },
  {
   "cell_type": "code",
   "execution_count": null,
   "id": "340c7a3b-01dd-4b3b-adcd-11b8a7fac66d",
   "metadata": {},
   "outputs": [],
   "source": []
  },
  {
   "cell_type": "code",
   "execution_count": null,
   "id": "810ec30f-1c85-47c9-8c5d-c00b263eec66",
   "metadata": {},
   "outputs": [],
   "source": []
  },
  {
   "cell_type": "code",
   "execution_count": null,
   "id": "aa8ef685-8953-42a0-ad56-1cbf7ddd26c2",
   "metadata": {},
   "outputs": [],
   "source": []
  },
  {
   "cell_type": "code",
   "execution_count": null,
   "id": "d1c0638d-404b-4457-b646-5bb236d36ea7",
   "metadata": {},
   "outputs": [],
   "source": []
  },
  {
   "cell_type": "code",
   "execution_count": null,
   "id": "2b8a7736-ffe8-4336-a636-266288270dc4",
   "metadata": {},
   "outputs": [],
   "source": []
  },
  {
   "cell_type": "code",
   "execution_count": null,
   "id": "53e73e72-177f-4ef0-8308-0ec0dbf4ec03",
   "metadata": {},
   "outputs": [],
   "source": []
  },
  {
   "cell_type": "code",
   "execution_count": null,
   "id": "54c261ec-5d3b-4cb1-a720-1d962f3a020b",
   "metadata": {},
   "outputs": [],
   "source": []
  },
  {
   "cell_type": "code",
   "execution_count": null,
   "id": "e15181f3-b3b1-46cd-923c-c71cbce5ee7b",
   "metadata": {},
   "outputs": [],
   "source": []
  },
  {
   "cell_type": "code",
   "execution_count": null,
   "id": "ccaf5149-c058-472e-8982-fd59c16c1328",
   "metadata": {},
   "outputs": [],
   "source": []
  },
  {
   "cell_type": "code",
   "execution_count": null,
   "id": "6a28cc01-c1dd-4e02-b11a-5ed73de11351",
   "metadata": {},
   "outputs": [],
   "source": []
  },
  {
   "cell_type": "code",
   "execution_count": null,
   "id": "72b1e590-345b-47a0-a480-fbef563134ea",
   "metadata": {},
   "outputs": [],
   "source": []
  },
  {
   "cell_type": "code",
   "execution_count": null,
   "id": "c2cf8494-9b5c-4e50-8faa-a6003e5e513d",
   "metadata": {},
   "outputs": [],
   "source": []
  },
  {
   "cell_type": "markdown",
   "id": "bb024d91-08f8-45e1-8263-59c3e90f72a6",
   "metadata": {},
   "source": [
    "$\n",
    "\\begin{align}\n",
    "&P(L=V_0^l, R=V_0^r)= \\\\\n",
    "&=\\begin{cases}\n",
    "       \\sum_{k\\in\\Omega_B^{AB}}\\sum_{m\\in\\Omega_E^{AB}}\n",
    "       \\left(\\pi_{AB}\\,e^{Q_{AB}(T_{l-1}-T_{AB})}\\right)_k \n",
    "       \\left(e^{Q_{AB}(T_l-T_{l-1})}\\right)_{km}\n",
    "       & \n",
    "       \\text{if } l=r\\\\\n",
    "       \\sum_{k\\in\\Omega_B^{AB}}\\sum_{m\\in\\Omega_L^{AB}}\\sum_{n\\in\\Omega_L^{AB}}\\sum_{s\\in\\Omega_E^{AB}} \n",
    "       \\left(\\pi_{AB}\\,e^{Q_{AB}(T_{l-1}-T_{AB})}\\right)_k \n",
    "       \\left(e^{Q_{AB}(T_l-T_{l-1})}\\right)_{km}\n",
    "       \\left(e^{Q_{AB}(T_{r-1}-T_{l})}\\right)_{mn}\n",
    "       \\left(e^{Q_{AB}(T_r-T_{r-1})}\\right)_{ns}\n",
    "       & \n",
    "       \\text{if } l<r\\\\\n",
    "       P(L=V_0^r, R=V_0^l)\n",
    "       & \n",
    "       \\text{if } l>r\\\\\n",
    "    \\end{cases}       \n",
    "\\end{align}\n",
    "$"
   ]
  },
  {
   "cell_type": "markdown",
   "id": "f3d83c1b-3bc5-4750-b95e-b67f8ecf5fcb",
   "metadata": {},
   "source": [
    "If both the left and the right sites are in $V_0$, then the joint probability is calculated following Mailund et al. (2011):"
   ]
  },
  {
   "cell_type": "markdown",
   "id": "f8b5e84e-55ab-4473-a8e1-0ab6bff9ce41",
   "metadata": {},
   "source": [
    "$\n",
    "\\begin{align}\n",
    "&P(L=\\text{V0}_l^L, R=\\text{V0}_r^R)= \\\\\n",
    "&=\\begin{cases}\n",
    "       \\sum_{k\\in\\Omega_B^{AB}}\\sum_{m\\in\\Omega_E^{AB}}\n",
    "       \\left(\\pi_{AB}\\,e^{Q_{AB}(T_{l-1}-T_{AB})}\\right)_k \n",
    "       \\left(e^{Q_{AB}(T_l-T_{l-1})}\\right)_{km}\n",
    "       & \n",
    "       \\text{if } l=r\\\\\n",
    "       \\sum_{k\\in\\Omega_B^{AB}}\\sum_{m\\in\\Omega_L^{AB}}\\sum_{n\\in\\Omega_L^{AB}}\\sum_{s\\in\\Omega_E^{AB}} \n",
    "       \\left(\\pi_{AB}\\,e^{Q_{AB}(T_{l-1}-T_{AB})}\\right)_k \n",
    "       \\left(e^{Q_{AB}(T_l-T_{l-1})}\\right)_{km}\n",
    "       \\left(e^{Q_{AB}(T_{r-1}-T_{l})}\\right)_{mn}\n",
    "       \\left(e^{Q_{AB}(T_r-T_{r-1})}\\right)_{ns}\n",
    "       & \n",
    "       \\text{if } l<r\\\\\n",
    "       P(L=V_0^r, R=V_0^l)\n",
    "       & \n",
    "       \\text{if } l>r\\\\\n",
    "    \\end{cases}       \n",
    "\\end{align}\n",
    "$"
   ]
  },
  {
   "cell_type": "markdown",
   "id": "0e6842c1-b5c5-4dd7-99d9-eb308d554c13",
   "metadata": {},
   "source": [
    "If both the left and the right sites are in $V_1$, $V_3$ or $V_3$, then the joint probability is calculated similar to the previous equation:"
   ]
  },
  {
   "cell_type": "markdown",
   "id": "eef58446-d2b2-401d-b08b-f1e998f13ddf",
   "metadata": {},
   "source": [
    "$\n",
    "\\begin{align}\n",
    "&P(L=V_0^l, R=V_0^r)= \\\\\n",
    "&=\\begin{cases}\n",
    "       \\sum_{k\\in\\Omega_B^{ABC}}\\sum_{m\\in\\Omega_E^{ABC}}\n",
    "       \\left(\\pi_{ABC}\\,e^{Q_{ABC}(T_{l-1}-T_{ABC})}\\right)_k \n",
    "       \\left(e^{Q_{ABC}(T_l-T_{l-1})}\\right)_{km}\n",
    "       & \n",
    "       \\text{if } l=r\\\\\n",
    "       \\sum_{k\\in\\Omega_B^{ABC}}\\sum_{m\\in\\Omega_L^{ABC}}\\sum_{n\\in\\Omega_L^{ABC}}\\sum_{s\\in\\Omega_E^{ABC}} \n",
    "       \\left(\\pi_{ABC}\\,e^{Q_{ABC}(T_{l-1}-T_{ABC})}\\right)_k \n",
    "       \\left(e^{Q_{ABC}(T_l-T_{l-1})}\\right)_{km}\n",
    "       \\left(e^{Q_{ABC}(T_{r-1}-T_{l})}\\right)_{mn}\n",
    "       \\left(e^{Q_{ABC}(T_r-T_{r-1})}\\right)_{ns}\n",
    "       & \n",
    "       \\text{if } l<r\\\\\n",
    "       P(L=V_0^r, R=V_0^l)\n",
    "       & \n",
    "       \\text{if } l>r\\\\\n",
    "    \\end{cases}       \n",
    "\\end{align}\n",
    "$"
   ]
  },
  {
   "cell_type": "markdown",
   "id": "e9d914f0-17ae-4f24-8d42-292cd0dea419",
   "metadata": {},
   "source": [
    "If the left site is in $V_0$, the right site is in $V_1$, $V_3$ or $V_3$, then the joint probability can be calculated as:"
   ]
  },
  {
   "cell_type": "markdown",
   "id": "2797d4b7-f9dc-45e3-b24d-abc933adfe1e",
   "metadata": {},
   "source": [
    "$\n",
    "\\begin{align}\n",
    "    &P(L=V_0^l, R=V_1^r)=P(L=V_0^l, R=V_2^r)=P(L=V_0^l, R=V_3^r) = \\\\\n",
    "    &=\\begin{cases}\n",
    "        \\left[\n",
    "        \\sum_{k\\in\\Omega_B^{AB}}\\sum_{m\\in\\Omega_L^{AB}}\\sum_{n\\in\\Omega_L^{AB}}\n",
    "        \\left(\\pi_{AB}\\,e^{Q_{AB}(T_{l-1}-T_{AB})}\\right)_k\n",
    "        \\left(e^{Q_{AB}(T_l-T_{l-1})}\\right)_{km}\n",
    "        \\left(e^{Q_{AB}(T_{ABC}-T_{l})}\\right)_{mn}\n",
    "        \\right]\n",
    "        I_C\n",
    "        \\left[\n",
    "        \\sum_{s\\in\\Omega_B^{ABC}}\\sum_{p\\in\\Omega_R^{ABC}}\\sum_{q\\in\\Omega_E^{ABC}}\n",
    "        \\left(e^{Q_{ABC}(T_{r-1}-T_{ABC})}\\right)_{sp}\n",
    "        \\left(\\frac{1}{3}e^{Q_{ABC}(T_r-T_{r-1})}\\right)_{pq}\n",
    "        \\right] & \n",
    "        \\text{if } l<r \\\\\n",
    "        P(L=V_1^r, R=V_0^l) & \\text{if } l>r\n",
    "    \\end{cases}\n",
    "\\end{align}\n",
    "$"
   ]
  },
  {
   "cell_type": "markdown",
   "id": "d8ecc64e-e092-44c3-b992-4c3de867d7a8",
   "metadata": {},
   "source": [
    "The different elements are as follows:\n",
    "* All $\\Omega$ refer to sets of states:\n",
    "    * $\\Omega_B^{AB}$: starting states of the two-sequence Markov chain. \n",
    "    * $\\Omega_L^{AB}$: left coalescent states of the two-sequence Markov chain. \n",
    "    * $\\Omega_B^{ABC}$: starting states of the thre-sequence Markov chain.\n",
    "    * $\\Omega_R^{ABC}$: right coalescent states of the three-sequence Markov chain. \n",
    "    * $\\Omega_E^{ABC}$: end (absorbing) states of the three-sequence Markov chain. \n",
    "* $\\pi_{AB}$ is a vector containing the start probabilities of the $\\Omega_B^{AB}$ states, as calculated by combining the two one-sequence CTMC.\n",
    "* $\\pi_{ABC}$ is a vector containing the start probabilities of the $\\Omega_B^{ABC}$ states, as calculated by combining the two-sequence CTMC with the one-sequence CTMC of the third sequence, i.e. $\\pi_{ABC} = \\pi_{AB}\\,e^{Q(T_{ABC}-T_{AB})}$.\n",
    "* All $Q$ refer to transition rate matrices:\n",
    "    * $Q_{AB}$ is the transition rate matrix of the two-sequence Markov chain. \n",
    "    * $Q_{ABC}$ is the transition rate matrix of the thre-sequence Markov chain. \n",
    "* All $T$ refer to times:\n",
    "    * $T_{AB}$ is the time where A and B sequences are mixed together.\n",
    "    * $T_{l-1}$ is the start time of the $l$ interval (in this case, within the two-sequence Markov chain).\n",
    "    * $T_{l}$ is the end time of the $l$ interval (in this case, within the two-sequence Markov chain).\n",
    "    * $T_{ABC}$ is the time where A and B are mixed with C (or, in other words, the time where the two-sequence Markov chain ends and the three-sequence Markov chain begins).\n",
    "    * $T_{r-1}$ is the start time of the $l$ interval (in this case, within the three-sequence Markov chain).\n",
    "    * $T_{r-1}$ is the end time of the $l$ interval (in this case, within the three-sequence Markov chain).\n",
    "* $I_C$ is a matrix that mixes the two Markov chains together."
   ]
  },
  {
   "cell_type": "markdown",
   "id": "5e7ec406-b3ab-4e52-ba90-44761869e92e",
   "metadata": {},
   "source": [
    "$I_C$ is a matrix with $|\\Omega_L^{AB}|$ and $|\\Omega_B^{ABC}| = 2\\cdot|\\Omega_L^{AB}|$ columns. If $|\\Omega_L^{AB}|=3$, then $I_C$ has the following form:"
   ]
  },
  {
   "cell_type": "markdown",
   "id": "7f20cec7-b08d-41d1-ac86-84d73867f49f",
   "metadata": {},
   "source": [
    "\\begin{pmatrix}\n",
    "p_C^1 & p_C^2 & 0 & 0 & 0 & 0\\\\\n",
    "0 & 0 & p_C^1 & p_C^2 & 0 & 0\\\\\n",
    "0 & 0 & 0 & 0 & p_C^1 & p_C^2\\\\\n",
    "\\end{pmatrix}"
   ]
  },
  {
   "cell_type": "markdown",
   "id": "663269c3-03d7-4483-b712-0a1266be09a8",
   "metadata": {},
   "source": [
    "Here, $p_C^1$ would correspond to the probability of observing sequence C as linked, and $p_C^2$ as unlinked. "
   ]
  },
  {
   "cell_type": "code",
   "execution_count": null,
   "id": "c1a601ef-1da1-472d-a1fd-d098bb0b2a1a",
   "metadata": {},
   "outputs": [],
   "source": []
  },
  {
   "cell_type": "code",
   "execution_count": 93,
   "id": "b4e7d310-8785-4662-881a-0e210db3d158",
   "metadata": {},
   "outputs": [
    {
     "data": {
      "image/png": "[encoded data removed]"
     },
     "metadata": {},
     "output_type": "display_data"
    }
   ],
   "source": [
    "%%R -w 1000 -h 1000 -r 150\n",
    "\n",
    "library(tidyverse)\n",
    "library(directlabels)\n",
    "\n",
    "vec_n_AB = 1:22\n",
    "vec_n_ABC = vec_n_AB\n",
    "\n",
    "tab_plt <- expand.grid(vec_n_AB, vec_n_ABC) %>%\n",
    "    transmute(\n",
    "        n_AB = Var1,\n",
    "        n_ABC = Var2,\n",
    "        n_V0 = n_AB*n_ABC,\n",
    "        n_VM = n_ABC,\n",
    "        n_V1_V2_V3 = 3*choose(n_ABC, 2),\n",
    "        n_V_tot = n_V0+n_VM+n_V1_V2_V3\n",
    "    )  \n",
    "    \n",
    "    \n",
    "brks = c(3, 5, 10, 20, 50, 100, 250, 500, 1000)\n",
    "tab_plt %>%\n",
    "    ggplot() +\n",
    "    geom_raster(aes(n_AB, n_ABC, fill = n_V_tot)) +\n",
    "    geom_contour(aes(n_AB, n_ABC, z = n_V_tot), \n",
    "                 breaks = brks, color = 'red') +\n",
    "    geom_dl(aes(n_AB, n_ABC, z = n_V_tot, label=..level..), \n",
    "            method=\"bottom.pieces\", color = 'black',\n",
    "             stat=\"contour\", breaks = brks) +\n",
    "    theme_minimal() +\n",
    "    scale_y_continuous(breaks = vec_n_AB) +\n",
    "    scale_x_continuous(breaks = vec_n_ABC) +\n",
    "    coord_fixed() +\n",
    "    colorspace::scale_fill_continuous_sequential(palette=\"Blues\", trans = 'log')"
   ]
  },
  {
   "cell_type": "code",
   "execution_count": 101,
   "id": "8ae762b4-0a5a-4468-a969-b65d531b74d0",
   "metadata": {},
   "outputs": [
    {
     "name": "stdout",
     "output_type": "stream",
     "text": [
      "# A tibble: 20 × 6\n",
      "    n_AB   `1`   `2`   `3`   `4`   `5`\n",
      "   <int> <dbl> <dbl> <dbl> <dbl> <dbl>\n",
      " 1     1     2     7    15    26    40\n",
      " 2     2     3     9    18    30    45\n",
      " 3     3     4    11    21    34    50\n",
      " 4     4     5    13    24    38    55\n",
      " 5     5     6    15    27    42    60\n",
      " 6     6     7    17    30    46    65\n",
      " 7     7     8    19    33    50    70\n",
      " 8     8     9    21    36    54    75\n",
      " 9     9    10    23    39    58    80\n",
      "10    10    11    25    42    62    85\n",
      "11    11    12    27    45    66    90\n",
      "12    12    13    29    48    70    95\n",
      "13    13    14    31    51    74   100\n",
      "14    14    15    33    54    78   105\n",
      "15    15    16    35    57    82   110\n",
      "16    16    17    37    60    86   115\n",
      "17    17    18    39    63    90   120\n",
      "18    18    19    41    66    94   125\n",
      "19    19    20    43    69    98   130\n",
      "20    20    21    45    72   102   135\n"
     ]
    }
   ],
   "source": [
    "%%R\n",
    "\n",
    "tab_plt %>%\n",
    "    filter(n_AB <=20, n_ABC <=5) %>%\n",
    "    select(n_AB, n_ABC, n_V_tot) %>%\n",
    "    pivot_wider(names_from = n_ABC, values_from = n_V_tot)"
   ]
  },
  {
   "cell_type": "code",
   "execution_count": null,
   "id": "9cf4b0c1-fa07-4815-8ea8-ac247ad78a0a",
   "metadata": {},
   "outputs": [],
   "source": []
  },
  {
   "cell_type": "code",
   "execution_count": null,
   "id": "cf2a6222-5e62-46c4-a009-3089e549561e",
   "metadata": {},
   "outputs": [],
   "source": []
  },
  {
   "cell_type": "code",
   "execution_count": null,
   "id": "09d340f4-ca79-489c-aaa4-ef7c57563a40",
   "metadata": {},
   "outputs": [],
   "source": []
  },
  {
   "cell_type": "code",
   "execution_count": null,
   "id": "f33a3072-e8b0-42a8-b03f-95e8398a2b4d",
   "metadata": {},
   "outputs": [],
   "source": []
  },
  {
   "cell_type": "code",
   "execution_count": null,
   "id": "b5544b9c-28f4-49ec-afcf-eb2791a5e304",
   "metadata": {},
   "outputs": [],
   "source": []
  },
  {
   "cell_type": "markdown",
   "id": "9c6c07dd-d150-4de8-b3ab-d89ca18b2dd2",
   "metadata": {},
   "source": [
    "The marginal probability of the left site being equal to $V_0$:"
   ]
  },
  {
   "cell_type": "markdown",
   "id": "4d612a3d-4668-4764-b3e7-097ada8439b8",
   "metadata": {},
   "source": [
    "$\n",
    "\\begin{align}\n",
    "    &P(l=V_0)=\\sum_{i\\in (A_{V_{0}}\\cup\\,A_{L})}\\pi_i \n",
    "\\end{align}\n",
    "$"
   ]
  },
  {
   "cell_type": "markdown",
   "id": "fe68f8b6-f458-4c6e-bc32-6078d65ad119",
   "metadata": {},
   "source": [
    "Where $A_{V_0}$ is the set of starting states where both the left and right sites are in $V_0$ state (namely, states number 14 and 15), and $A_{L}$ is the set of starting states where the left site is $V_0$ and the right site is $not$ $V_0$ (states 9, 11 and 13)."
   ]
  },
  {
   "cell_type": "markdown",
   "id": "52077238-8e4c-42b4-8cd0-0a19105f35c1",
   "metadata": {},
   "source": [
    "And knowing that $P(X|Y)=\\frac{P(X,Y)}{P(Y)}$, we can get the conditional probabilities, which will correspond to the first row of the transition probability matrix."
   ]
  },
  {
   "cell_type": "code",
   "execution_count": 58,
   "id": "767953fa-237f-49e5-9148-be6d720d5c80",
   "metadata": {},
   "outputs": [
    {
     "data": {
      "image/png": "[encoded data removed]"
     },
     "metadata": {},
     "output_type": "display_data"
    }
   ],
   "source": [
    "%%R -w 600 -h 400 -r 150\n",
    "\n",
    "library(ReIns)\n",
    "\n",
    "tibble(\n",
    "    x = seq(-0.5, 2.5, 0.01),\n",
    "    y = dtexp(x, 1, 2),\n",
    ") %>%\n",
    "ggplot() +\n",
    "geom_line(aes(x, y)) +\n",
    "geom_vline(aes(xintercept = qtexp(0.5, 1, 2), color = '2 intervals')) +\n",
    "geom_vline(aes(xintercept = x, color = '3 intervals'),\n",
    "          data = tibble(x = qtexp(c(1/3, 2/3), 1, 2)))"
   ]
  },
  {
   "cell_type": "code",
   "execution_count": null,
   "id": "9e09e8dd-4479-44fb-ba51-3353e4c2686b",
   "metadata": {},
   "outputs": [],
   "source": []
  },
  {
   "cell_type": "code",
   "execution_count": null,
   "id": "389e1814-f197-4cea-a15a-bc18ced48601",
   "metadata": {},
   "outputs": [],
   "source": []
  },
  {
   "cell_type": "code",
   "execution_count": 131,
   "id": "8cbc9f69-804d-4529-9d00-e1bbaa462187",
   "metadata": {},
   "outputs": [],
   "source": [
    "from scipy.stats import truncexpon\n",
    "import matplotlib.pyplot as plt\n"
   ]
  },
  {
   "cell_type": "code",
   "execution_count": 132,
   "id": "0d6fd05c-c164-4221-b1dd-e4ec97ff378d",
   "metadata": {},
   "outputs": [],
   "source": [
    "b = 4.69\n",
    "mean, var, skew, kurt = truncexpon.stats(b, moments='mvsk')"
   ]
  },
  {
   "cell_type": "code",
   "execution_count": 147,
   "id": "2c6dbf8a-7f9f-4e6d-a2d0-6302379fec66",
   "metadata": {},
   "outputs": [
    {
     "data": {
      "text/plain": [
       "array([0.33998861, 0.85906752])"
      ]
     },
     "execution_count": 147,
     "metadata": {},
     "output_type": "execute_result"
    }
   ],
   "source": [
    "lower, upper, scale = 0, 2, 1\n",
    "truncexpon.ppf([1/3, 2/3], b=(upper-lower)/scale, loc=lower, scale=scale)"
   ]
  },
  {
   "cell_type": "code",
   "execution_count": null,
   "id": "18f2a611-2c32-4dad-a589-fe45356b2163",
   "metadata": {},
   "outputs": [],
   "source": []
  }
 ],
 "metadata": {
  "kernelspec": {
   "display_name": "Python 3 (ipykernel)",
   "language": "python",
   "name": "python3"
  },
  "language_info": {
   "codemirror_mode": {
    "name": "ipython",
    "version": 3
   },
   "file_extension": ".py",
   "mimetype": "text/x-python",
   "name": "python",
   "nbconvert_exporter": "python",
   "pygments_lexer": "ipython3",
   "version": "3.8.10"
  }
 },
 "nbformat": 4,
 "nbformat_minor": 5
}
