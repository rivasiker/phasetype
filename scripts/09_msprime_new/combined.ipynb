{
 "cells": [
  {
   "cell_type": "code",
   "execution_count": 1,
   "id": "931e2bf0-c8b9-4941-bf35-43de2c97edb2",
   "metadata": {},
   "outputs": [],
   "source": [
    "%load_ext rpy2.ipython"
   ]
  },
  {
   "cell_type": "code",
   "execution_count": 4,
   "id": "7f906a5a-ce57-41c1-b924-e989ac54735f",
   "metadata": {},
   "outputs": [],
   "source": [
    "n_int_AB = 5\n",
    "n_int_ABC = 7\n",
    "ILS = 30"
   ]
  },
  {
   "cell_type": "code",
   "execution_count": 10,
   "id": "adf75cbb-3894-4c70-a647-f88eed7a76ac",
   "metadata": {},
   "outputs": [
    {
     "name": "stdout",
     "output_type": "stream",
     "text": [
      "Rows: 119 Columns: 4\n",
      "── Column specification ────────────────────────────────────────────────────────\n",
      "Delimiter: \",\"\n",
      "dbl (4): name, topology, int_1, int_2\n",
      "\n",
      "ℹ Use `spec()` to retrieve the full column specification for this data.\n",
      "ℹ Specify the column types or set `show_col_types = FALSE` to quiet this message.\n",
      "Rows: 155 Columns: 7\n",
      "── Column specification ────────────────────────────────────────────────────────\n",
      "Delimiter: \",\"\n",
      "dbl (7): gr, name, start, end, topology, int_1, int_2\n",
      "\n",
      "ℹ Use `spec()` to retrieve the full column specification for this data.\n",
      "ℹ Specify the column types or set `show_col_types = FALSE` to quiet this message.\n",
      "Rows: 11900000 Columns: 6\n",
      "── Column specification ────────────────────────────────────────────────────────\n",
      "Delimiter: \",\"\n",
      "dbl (6): pos, name, value, topology, int_1, int_2\n",
      "\n",
      "ℹ Use `spec()` to retrieve the full column specification for this data.\n",
      "ℹ Specify the column types or set `show_col_types = FALSE` to quiet this message.\n",
      "Rows: 143 Columns: 7\n",
      "── Column specification ────────────────────────────────────────────────────────\n",
      "Delimiter: \",\"\n",
      "dbl (7): gr, name, start, end, topology, int_1, int_2\n",
      "\n",
      "ℹ Use `spec()` to retrieve the full column specification for this data.\n",
      "ℹ Specify the column types or set `show_col_types = FALSE` to quiet this message.\n",
      "Rows: 11900000 Columns: 6\n",
      "── Column specification ────────────────────────────────────────────────────────\n",
      "Delimiter: \",\"\n",
      "dbl (6): pos, name, value, topology, int_1, int_2\n",
      "\n",
      "ℹ Use `spec()` to retrieve the full column specification for this data.\n",
      "ℹ Specify the column types or set `show_col_types = FALSE` to quiet this message.\n"
     ]
    }
   ],
   "source": [
    "%%R\n",
    "\n",
    "library(tidyverse)\n",
    "\n",
    "hid_tab <- read_csv('hid_tab.csv')\n",
    "tree_tab <- read_csv('tree_tab.csv')\n",
    "post_tab <- read_csv('post_tab.csv')\n",
    "tree_tab_cut <- read_csv('tree_tab_cutpoints.csv')\n",
    "post_tab_cut <- read_csv('post_tab_cutpoints.csv')"
   ]
  },
  {
   "cell_type": "code",
   "execution_count": 11,
   "id": "65037ea3-3321-4461-92a8-9adb3d9039f4",
   "metadata": {},
   "outputs": [
    {
     "name": "stdout",
     "output_type": "stream",
     "text": [
      "`summarise()` has grouped output by 'pos', 'is_V0'. You can override using the `.groups` argument.\n"
     ]
    }
   ],
   "source": [
    "%%R -w 2000 -h 700 -r 150 -i n_int_AB -i n_int_ABC\n",
    "\n",
    "p1 <- post_tab_cut %>%\n",
    "    mutate(is_V0 = topology == 0) %>%\n",
    "    group_by(pos, is_V0, int_1) %>%\n",
    "    summarize(prob = sum(value)) %>%\n",
    "    ggplot() +\n",
    "    geom_tile(aes(pos, int_1+(!is_V0)*(n_int_AB), fill = prob, color = prob)) +\n",
    "    geom_hline(aes(yintercept = n_int_AB-1+0.5), color = 'white') +\n",
    "    geom_segment(aes(x = start, xend = end, y = int_1+(!(topology == 0))*(n_int_AB), yend = int_1+(!(topology == 0))*(n_int_AB)), \n",
    "                 color = 'green3', size = 2,\n",
    "                 data = tree_tab_cut) +\n",
    "    scale_fill_viridis_c(name = 'Posterior\\nprobability', \n",
    "                         # limits = c(0, 1)\n",
    "                         option=\"inferno\"\n",
    "                        ) +\n",
    "    scale_color_viridis_c(name = 'Posterior\\nprobability', \n",
    "                         # limits = c(0, 1)\n",
    "                         option=\"inferno\"\n",
    "                         ) +\n",
    "    scale_x_continuous(expand = c(0, 0)) +\n",
    "    scale_y_continuous(\n",
    "        breaks = c(0:(n_int_AB-1), ((n_int_AB):(n_int_AB+n_int_ABC-1))+0.1), \n",
    "        labels = c(0:(n_int_AB-1), 0:(n_int_ABC-1)),\n",
    "        expand = c(0, 0)\n",
    "    ) +\n",
    "    labs(y = 'First coalescent', x = 'Position')"
   ]
  },
  {
   "cell_type": "code",
   "execution_count": 12,
   "id": "d8b42fe2-c416-4a2d-9d28-07fca8cdec65",
   "metadata": {},
   "outputs": [
    {
     "name": "stdout",
     "output_type": "stream",
     "text": [
      "`summarise()` has grouped output by 'pos'. You can override using the `.groups` argument.\n"
     ]
    }
   ],
   "source": [
    "%%R -w 2000 -h 700 -r 150\n",
    "\n",
    "p2 <- post_tab %>%\n",
    "    group_by(pos, int_2) %>%\n",
    "    summarize(prob = sum(value)) %>%\n",
    "    ggplot() +\n",
    "    geom_tile(aes(pos, int_2, fill = prob, color = prob)) +\n",
    "    geom_segment(aes(x = start, xend = end, y = int_2, yend = int_2), \n",
    "                 color = 'green3', size = 2,\n",
    "                 data = tree_tab) +\n",
    "    scale_fill_viridis_c(name = 'Posterior\\nprobability', \n",
    "                         # limits = c(0, 1)\n",
    "                         option=\"inferno\") +\n",
    "    scale_color_viridis_c(name = 'Posterior\\nprobability', \n",
    "                         # limits = c(0, 1)\n",
    "                         option=\"inferno\") +\n",
    "    scale_x_continuous(expand = c(0, 0)) +\n",
    "    scale_y_continuous(\n",
    "        breaks = 0:(n_int_ABC-1), \n",
    "        labels = 0:(n_int_ABC-1),\n",
    "        expand = c(0, 0)\n",
    "    ) +\n",
    "    labs(y = 'Second coalescent') +\n",
    "    theme(\n",
    "        axis.title.x = element_blank(),\n",
    "        axis.text.x = element_blank(),\n",
    "        axis.ticks.x=element_blank()\n",
    "    )"
   ]
  },
  {
   "cell_type": "code",
   "execution_count": 13,
   "id": "706952fd-96f0-482e-a6da-daf5d3ba91a5",
   "metadata": {},
   "outputs": [
    {
     "name": "stdout",
     "output_type": "stream",
     "text": [
      "`summarise()` has grouped output by 'pos'. You can override using the `.groups` argument.\n"
     ]
    }
   ],
   "source": [
    "%%R -w 2000 -h 700 -r 150\n",
    "\n",
    "p3 <- post_tab %>%\n",
    "    group_by(pos, topology) %>%\n",
    "    summarize(prob = sum(value)) %>%\n",
    "    ggplot() +\n",
    "    geom_tile(aes(pos, topology, fill = prob, color = prob)) +\n",
    "    geom_segment(aes(x = start, xend = end, y = topology, yend = topology), \n",
    "                 color = 'green3', size = 2,\n",
    "                 data = tree_tab) +\n",
    "    scale_fill_viridis_c(name = 'Posterior\\nprobability', \n",
    "                         # limits = c(0, 1)\n",
    "                         option=\"inferno\") +\n",
    "    scale_color_viridis_c(name = 'Posterior\\nprobability', \n",
    "                         # limits = c(0, 1)\n",
    "                         option=\"inferno\") +\n",
    "    scale_x_continuous(expand = c(0, 0)) +\n",
    "    scale_y_continuous(\n",
    "        breaks = c(0, 1, 2, 3), \n",
    "        labels = c('V0', 'V1', 'V2', 'V3'),\n",
    "        expand = c(0, 0)\n",
    "    ) +\n",
    "    labs(y = 'Topology') +\n",
    "    theme(\n",
    "        axis.title.x = element_blank(),\n",
    "        axis.text.x = element_blank(),\n",
    "        axis.ticks.x=element_blank()\n",
    "    )"
   ]
  },
  {
   "cell_type": "code",
   "execution_count": 14,
   "id": "165beb5a-0ae8-40a4-8eba-f643ce1091b5",
   "metadata": {},
   "outputs": [],
   "source": [
    "%%R -w 2000 -h 1000 -r 150 -i ILS\n",
    "\n",
    "library(patchwork)\n",
    "\n",
    "p3/p2/p1 + \n",
    "  plot_layout(heights = c(4, n_int_ABC, n_int_AB+n_int_ABC))\n",
    "\n",
    "# ggsave(paste0('posterior_decoding_', round(ILS), '.pdf'), width = 14, height = 7)\n",
    "ggsave(paste0('posterior_decoding_', n_int_AB, '_', n_int_ABC, '_', round(ILS), '_combined.png'), width = 14, height = 9)"
   ]
  },
  {
   "cell_type": "code",
   "execution_count": null,
   "id": "b7104a66-388f-49ae-b6a8-dda3fbb1f072",
   "metadata": {},
   "outputs": [],
   "source": []
  }
 ],
 "metadata": {
  "kernelspec": {
   "display_name": "Python 3 (ipykernel)",
   "language": "python",
   "name": "python3"
  },
  "language_info": {
   "codemirror_mode": {
    "name": "ipython",
    "version": 3
   },
   "file_extension": ".py",
   "mimetype": "text/x-python",
   "name": "python",
   "nbconvert_exporter": "python",
   "pygments_lexer": "ipython3",
   "version": "3.8.10"
  }
 },
 "nbformat": 4,
 "nbformat_minor": 5
}
