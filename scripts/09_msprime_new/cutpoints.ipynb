{
 "cells": [
  {
   "cell_type": "code",
   "execution_count": 1,
   "id": "931e2bf0-c8b9-4941-bf35-43de2c97edb2",
   "metadata": {},
   "outputs": [],
   "source": [
    "import sys\n",
    "from trails.optimizer import trans_emiss_calc\n",
    "from trails.cutpoints import cutpoints_ABC, cutpoints_AB\n",
    "import numpy as np\n",
    "from trails.optimizer import forward_loglik, post_prob_wrapper, viterbi\n",
    "import pandas as pd\n",
    "import time\n",
    "import re\n",
    "import msprime\n",
    "%load_ext rpy2.ipython"
   ]
  },
  {
   "cell_type": "code",
   "execution_count": 2,
   "id": "ad8dcd93-b113-496f-9fd1-c853d0fd0f5c",
   "metadata": {},
   "outputs": [],
   "source": [
    "ILS = 30"
   ]
  },
  {
   "cell_type": "code",
   "execution_count": 3,
   "id": "c04add1c-d631-410f-b880-fa98d66a82b8",
   "metadata": {},
   "outputs": [
    {
     "data": {
      "text/plain": [
       "0.3"
      ]
     },
     "execution_count": 3,
     "metadata": {},
     "output_type": "execute_result"
    }
   ],
   "source": [
    "####################### Model parameters #######################\n",
    "\n",
    "\n",
    "t_A = 200000\n",
    "t_B = 200000\n",
    "t_C = 200000\n",
    "t_1 = max([t_A, t_B, t_C])\n",
    "t_2 = 80000\n",
    "N_AB = -t_2/np.log(3/2*ILS/100)\n",
    "N_ABC = 30000*2\n",
    "t_3 = t_1*5\n",
    "r = 0.5e-8\n",
    "mu = 2e-8\n",
    "n_int_AB = 5\n",
    "n_int_ABC = 7\n",
    "\n",
    "t_out = t_1+t_2+t_3+2*N_ABC\n",
    "\n",
    "N_ref = N_ABC\n",
    "\n",
    "coal_ABC = N_ref/N_ABC\n",
    "coal_AB = N_ref/N_AB\n",
    "t_upper = t_3-cutpoints_ABC(n_int_ABC, coal_ABC)[-2]*N_ref\n",
    "t_AB = t_2/N_ref\n",
    "\n",
    "cut_AB = t_1+cutpoints_AB(n_int_AB, t_AB, coal_AB)*N_ref\n",
    "# cut_ABC = t_1+t_2+cutpoints_ABC(n_int_ABC, coal_ABC)*N_ref\n",
    "cut_ABC_new = cutpoints_ABC(n_int_ABC, 2)\n",
    "cut_ABC = t_1+t_2+cut_ABC_new*N_ref\n",
    "\n",
    "(2/3)*(np.exp(-t_2/(N_AB)))"
   ]
  },
  {
   "cell_type": "code",
   "execution_count": 4,
   "id": "57f46736-a10b-478d-9bf1-84ff82204e09",
   "metadata": {},
   "outputs": [
    {
     "data": {
      "text/plain": [
       "100186.88658722976"
      ]
     },
     "execution_count": 4,
     "metadata": {},
     "output_type": "execute_result"
    }
   ],
   "source": [
    "N_AB"
   ]
  },
  {
   "cell_type": "code",
   "execution_count": 5,
   "id": "6e7b7d64-92ff-4a1f-bcca-3417446c6e02",
   "metadata": {},
   "outputs": [
    {
     "data": {
      "text/plain": [
       "array([200000.        , 211675.16023281, 224892.57002535, 240122.6005454 ,\n",
       "       258090.20982508, 280000.        ])"
      ]
     },
     "execution_count": 5,
     "metadata": {},
     "output_type": "execute_result"
    }
   ],
   "source": [
    "cut_AB"
   ]
  },
  {
   "cell_type": "code",
   "execution_count": 6,
   "id": "b06f9a69-5ea5-4b1a-a4f0-382e50eaebbb",
   "metadata": {},
   "outputs": [
    {
     "data": {
      "text/plain": [
       "array([280000.        , 284624.52039482, 290094.16709864, 296788.47363806,\n",
       "       305418.93581162, 317582.88905486, 338377.30447166,             inf])"
      ]
     },
     "execution_count": 6,
     "metadata": {},
     "output_type": "execute_result"
    }
   ],
   "source": [
    "cut_ABC"
   ]
  },
  {
   "cell_type": "code",
   "execution_count": 26,
   "id": "60a66697-68a2-402b-9785-e14e4a57652a",
   "metadata": {},
   "outputs": [
    {
     "name": "stderr",
     "output_type": "stream",
     "text": [
      "/Users/au595587/opt/miniconda3/envs/phasetype/lib/python3.8/site-packages/trails/get_joint_prob_mat.py:151: FutureWarning: elementwise comparison failed; returning scalar instead, but in the future will perform elementwise comparison\n",
      "  if cut_ABC == 'standard':\n",
      "\u001b[2m\u001b[36m(PoolActor pid=96009)\u001b[0m E0417 16:34:21.790020000 123145513934848 chttp2_transport.cc:1103]     Received a GOAWAY with error code ENHANCE_YOUR_CALM and debug data equal to \"too_many_pings\"\n",
      "\u001b[2m\u001b[36m(PoolActor pid=96012)\u001b[0m E0417 16:34:21.780777000 123145429143552 chttp2_transport.cc:1103]     Received a GOAWAY with error code ENHANCE_YOUR_CALM and debug data equal to \"too_many_pings\"\n",
      "\u001b[2m\u001b[36m(PoolActor pid=96013)\u001b[0m E0417 16:34:21.814790000 123145387847680 chttp2_transport.cc:1103]     Received a GOAWAY with error code ENHANCE_YOUR_CALM and debug data equal to \"too_many_pings\"\n",
      "\u001b[2m\u001b[36m(PoolActor pid=96014)\u001b[0m E0417 16:34:21.801626000 123145534623744 chttp2_transport.cc:1103]     Received a GOAWAY with error code ENHANCE_YOUR_CALM and debug data equal to \"too_many_pings\"\n",
      "\u001b[2m\u001b[36m(PoolActor pid=96011)\u001b[0m E0417 16:34:21.842286000 140704289592128 chttp2_transport.cc:1103]     Received a GOAWAY with error code ENHANCE_YOUR_CALM and debug data equal to \"too_many_pings\"\n",
      "/Users/au595587/opt/miniconda3/envs/phasetype/lib/python3.8/site-packages/trails/get_emission_prob_mat.py:632: FutureWarning: elementwise comparison failed; returning scalar instead, but in the future will perform elementwise comparison\n",
      "  if cut_ABC == 'standard':\n"
     ]
    }
   ],
   "source": [
    "transitions, emissions, starting, hidden_states, observed_states = trans_emiss_calc(\n",
    "    t_A*mu, t_B*mu, t_C*mu, t_2*mu, t_upper*mu, t_out*mu, \n",
    "    N_AB*mu, N_ABC*mu, r/mu, n_int_AB, n_int_ABC,\n",
    "    cut_AB = 'standard', cut_ABC = cut_ABC_new\n",
    ")"
   ]
  },
  {
   "cell_type": "code",
   "execution_count": 27,
   "id": "27771926-f0c8-464e-9944-8c48c2e010cd",
   "metadata": {},
   "outputs": [],
   "source": [
    "dct_hid = {v: k for k, v in hidden_states.items()}\n",
    "dct = {v: k for k, v in observed_states.items()}"
   ]
  },
  {
   "cell_type": "code",
   "execution_count": 28,
   "id": "553a97ca-a175-4af2-b073-06d0b9e40189",
   "metadata": {},
   "outputs": [],
   "source": [
    "####################### Add demography #######################\n",
    "\n",
    "n_sites = 100_000\n",
    "seed = 10\n",
    "\n",
    "demography = msprime.Demography()\n",
    "demography.add_population(name=\"A\", initial_size=N_AB, default_sampling_time=t_1-t_A)\n",
    "demography.add_population(name=\"B\", initial_size=N_AB, default_sampling_time=t_1-t_B)\n",
    "demography.add_population(name=\"C\", initial_size=N_AB, default_sampling_time=t_1-t_C)\n",
    "demography.add_population(name=\"D\", initial_size=N_AB, default_sampling_time=t_1-t_1)\n",
    "demography.add_population(name=\"AB\", initial_size=N_AB)\n",
    "demography.add_population(name=\"ABC\", initial_size=N_ABC)\n",
    "demography.add_population(name=\"ABCD\", initial_size=N_ABC)\n",
    "demography.add_population_split(time=t_1, derived=[\"A\", \"B\"], ancestral=\"AB\")\n",
    "demography.add_population_split(time=t_1+t_2, derived=[\"AB\", \"C\"], ancestral=\"ABC\")\n",
    "demography.add_population_split(time=t_1+t_2+t_3, derived=[\"ABC\", \"D\"], ancestral=\"ABCD\")\n",
    "\n",
    "ts = msprime.sim_ancestry(\n",
    "    {\"A\": 1, \"B\": 1, \"C\": 1,\n",
    "     \"D\": 1\n",
    "    },\n",
    "    demography=demography,\n",
    "    recombination_rate=r,\n",
    "    sequence_length=n_sites,\n",
    "    ploidy=1,\n",
    "    random_seed=seed\n",
    ")\n"
   ]
  },
  {
   "cell_type": "code",
   "execution_count": 29,
   "id": "816fecdc-1efd-4dea-9381-66de9584d214",
   "metadata": {},
   "outputs": [],
   "source": [
    "#### Add mutations\n",
    "\n",
    "mutated_ts = msprime.sim_mutations(ts, rate=mu, random_seed=seed)\n",
    "\n",
    "nochange_lst = [dct['AAAA'], dct['CCCC'], dct['TTTT'], dct['GGGG']]\n",
    "np.random.seed(seed) ; sim_genome = np.random.choice(nochange_lst, n_sites)\n",
    "\n",
    "mut_lst = []\n",
    "mut_loc = []\n",
    "for variant in mutated_ts.variants():\n",
    "    mut_loc.append(variant.site.position)\n",
    "    mut_lst.append(''.join([variant.alleles[i] for i in variant.genotypes]))\n",
    "\n",
    "for i in range(len(mut_loc)):\n",
    "    sim_genome[int(mut_loc[i])] = dct[mut_lst[i]]\n"
   ]
  },
  {
   "cell_type": "code",
   "execution_count": 30,
   "id": "e590c045-ad25-430a-a2e2-5449b1bc3926",
   "metadata": {},
   "outputs": [],
   "source": [
    "# loglik = forward_loglik(transitions, emissions, starting, sim_genome)"
   ]
  },
  {
   "cell_type": "code",
   "execution_count": 31,
   "id": "fca3b69b-a30a-426f-9420-c79c12fe2484",
   "metadata": {},
   "outputs": [],
   "source": [
    "post = post_prob_wrapper(transitions, emissions, starting, [sim_genome])[0]"
   ]
  },
  {
   "cell_type": "code",
   "execution_count": 32,
   "id": "0a2e916c-feac-45ee-96fc-23bf958ee521",
   "metadata": {},
   "outputs": [],
   "source": [
    "# vit = viterbi(transitions, emissions, starting, sim_genome)"
   ]
  },
  {
   "cell_type": "code",
   "execution_count": 33,
   "id": "73711adf-0e72-40ab-a80e-dc22721452fc",
   "metadata": {},
   "outputs": [],
   "source": [
    "hidden_matrix = np.random.randint(max([n_int_AB, n_int_ABC]), size=(len(dct_hid), 4))\n",
    "hidden_matrix[:,0] = list(range(len(dct_hid)))\n",
    "hidden_matrix[:,1] = [i[0] for i in dct_hid.keys()]\n",
    "hidden_matrix[:,2] = [i[1] for i in dct_hid.keys()]\n",
    "hidden_matrix[:,3] = [i[2] for i in dct_hid.keys()]"
   ]
  },
  {
   "cell_type": "code",
   "execution_count": 34,
   "id": "7cf38494-e0f5-47b4-9622-4f17b2e760d0",
   "metadata": {},
   "outputs": [],
   "source": [
    "left_lst = []\n",
    "right_lst = []\n",
    "tree_state = []\n",
    "t_AB_vec = []\n",
    "t_ABC_vec = []\n",
    "for t in ts.trees():\n",
    "    # Append start coordinate\n",
    "    left_lst.append(t.interval.left)\n",
    "    # Append end coordinate\n",
    "    right_lst.append(t.interval.right-1)\n",
    "    # Get all non-zero coalescent times\n",
    "    ntimes = [ts.nodes()[n].time for n in t.nodes() if ts.nodes()[n].time not in [0, t_1-t_A, t_1-t_B, t_1-t_C]]\n",
    "    ntimes = sorted(ntimes)\n",
    "    # Get time of the first event\n",
    "    mint = ntimes[0]\n",
    "    mint2 = ntimes[1]\n",
    "    # Find topology\n",
    "    find_re = re.findall(\"n\\d,n\\d\", t.as_newick(include_branch_lengths=False))[0]\n",
    "    # Sort species within topology\n",
    "    find_re = sorted(find_re.split(','))\n",
    "    # If V0 or V1\n",
    "    if find_re == ['n0', 'n1']:\n",
    "        # If the time of the first coalescent is larger than the deepest speciation event\n",
    "        if mint>=(t_1+t_2):\n",
    "            state = (1, (mint>cut_ABC).sum()-1, (mint2>cut_ABC).sum()-1)\n",
    "            # Append V1 state\n",
    "        else:\n",
    "            state = (0, (mint>cut_AB).sum()-1, (mint2>cut_ABC).sum()-1)\n",
    "            # Append V0 state\n",
    "    # If V2\n",
    "    elif find_re == ['n0', 'n2']:\n",
    "        state = (2, (mint>cut_ABC).sum()-1, (mint2>cut_ABC).sum()-1)\n",
    "    # If V3\n",
    "    elif find_re == ['n1', 'n2']:\n",
    "        state = (3, (mint>cut_ABC).sum()-1, (mint2>cut_ABC).sum()-1)\n",
    "    else:\n",
    "        state = (4, (mint>cut_ABC).sum()-1, (mint2>cut_ABC).sum()-1)\n",
    "    tree_state.append(state)\n",
    "    t_AB_vec.append(mint)\n",
    "    t_ABC_vec.append(mint2)\n"
   ]
  },
  {
   "cell_type": "code",
   "execution_count": 35,
   "id": "2df25fd0-9d6c-48aa-bc4f-a404907fcf6c",
   "metadata": {},
   "outputs": [],
   "source": [
    "tree_matrix = np.random.randint(max(left_lst), size=(len(left_lst), 3))\n",
    "tree_matrix[:,0] = left_lst\n",
    "tree_matrix[:,1] = right_lst\n",
    "tree_matrix[:,2] = [dct_hid[i] for i in tree_state]"
   ]
  },
  {
   "cell_type": "code",
   "execution_count": 36,
   "id": "8e3507e0-9838-4a5d-989b-34965f5aceb9",
   "metadata": {},
   "outputs": [
    {
     "name": "stdout",
     "output_type": "stream",
     "text": [
      "`summarise()` has grouped output by 'gr'. You can override using the `.groups` argument.\n"
     ]
    }
   ],
   "source": [
    "%%R -i post -i hidden_matrix -i tree_matrix\n",
    "\n",
    "library(tidyverse)\n",
    "\n",
    "hid_tab <- as_tibble(hidden_matrix) %>%\n",
    "    rename(name = V1, topology = V2, int_1 = V3, int_2 = V4)\n",
    "    \n",
    "write_csv(hid_tab, 'hid_tab_cutpoints.csv')\n",
    "    \n",
    "tree_tab <- as_tibble(tree_matrix) %>%\n",
    "    rename(start = V1, end = V2, name = V3) %>%\n",
    "    mutate(\n",
    "        gr = ifelse(lag(name) != name, 1, 0) %>% coalesce(0),\n",
    "        gr = cumsum(gr) + 1\n",
    "    ) %>% \n",
    "    group_by(gr, name) %>%\n",
    "    summarize(start = min(start), end = max(end)) %>%\n",
    "    left_join(hid_tab, by = 'name')\n",
    "    \n",
    "write_csv(tree_tab, 'tree_tab_cutpoints.csv')\n",
    "\n",
    "post_tab <- as_tibble(post) %>%\n",
    "    mutate(pos = 0:(n()-1)) %>%\n",
    "    pivot_longer(-pos) %>%\n",
    "    mutate(name = as.integer(str_remove_all(name, 'V'))-1) %>%\n",
    "    left_join(hid_tab, by = 'name')\n",
    "     \n",
    "write_csv(post_tab, 'post_tab_cutpoints.csv')"
   ]
  },
  {
   "cell_type": "code",
   "execution_count": 37,
   "id": "adf75cbb-3894-4c70-a647-f88eed7a76ac",
   "metadata": {},
   "outputs": [
    {
     "name": "stdout",
     "output_type": "stream",
     "text": [
      "Rows: 119 Columns: 4\n",
      "── Column specification ────────────────────────────────────────────────────────\n",
      "Delimiter: \",\"\n",
      "dbl (4): name, topology, int_1, int_2\n",
      "\n",
      "ℹ Use `spec()` to retrieve the full column specification for this data.\n",
      "ℹ Specify the column types or set `show_col_types = FALSE` to quiet this message.\n",
      "Rows: 143 Columns: 7\n",
      "── Column specification ────────────────────────────────────────────────────────\n",
      "Delimiter: \",\"\n",
      "dbl (7): gr, name, start, end, topology, int_1, int_2\n",
      "\n",
      "ℹ Use `spec()` to retrieve the full column specification for this data.\n",
      "ℹ Specify the column types or set `show_col_types = FALSE` to quiet this message.\n",
      "Rows: 11900000 Columns: 6\n",
      "── Column specification ────────────────────────────────────────────────────────\n",
      "Delimiter: \",\"\n",
      "dbl (6): pos, name, value, topology, int_1, int_2\n",
      "\n",
      "ℹ Use `spec()` to retrieve the full column specification for this data.\n",
      "ℹ Specify the column types or set `show_col_types = FALSE` to quiet this message.\n"
     ]
    }
   ],
   "source": [
    "%%R\n",
    "\n",
    "library(tidyverse)\n",
    "\n",
    "hid_tab <- read_csv('hid_tab_cutpoints.csv')\n",
    "tree_tab <- read_csv('tree_tab_cutpoints.csv')\n",
    "post_tab <- read_csv('post_tab_cutpoints.csv')"
   ]
  },
  {
   "cell_type": "code",
   "execution_count": 38,
   "id": "65037ea3-3321-4461-92a8-9adb3d9039f4",
   "metadata": {},
   "outputs": [
    {
     "name": "stdout",
     "output_type": "stream",
     "text": [
      "`summarise()` has grouped output by 'pos', 'is_V0'. You can override using the `.groups` argument.\n"
     ]
    }
   ],
   "source": [
    "%%R -w 2000 -h 700 -r 150 -i n_int_AB -i n_int_ABC\n",
    "\n",
    "p1 <- post_tab %>%\n",
    "    mutate(is_V0 = topology == 0) %>%\n",
    "    group_by(pos, is_V0, int_1) %>%\n",
    "    summarize(prob = sum(value)) %>%\n",
    "    ggplot() +\n",
    "    geom_tile(aes(pos, int_1+(!is_V0)*(n_int_AB), fill = prob, color = prob)) +\n",
    "    geom_hline(aes(yintercept = n_int_AB-1+0.5), color = 'white') +\n",
    "    geom_segment(aes(x = start, xend = end, y = int_1+(!(topology == 0))*(n_int_AB), yend = int_1+(!(topology == 0))*(n_int_AB)), \n",
    "                 color = 'green3', size = 2,\n",
    "                 data = tree_tab) +\n",
    "    scale_fill_viridis_c(name = 'Posterior\\nprobability', \n",
    "                         # limits = c(0, 1)\n",
    "                         option=\"inferno\"\n",
    "                        ) +\n",
    "    scale_color_viridis_c(name = 'Posterior\\nprobability', \n",
    "                         # limits = c(0, 1)\n",
    "                         option=\"inferno\"\n",
    "                         ) +\n",
    "    scale_x_continuous(expand = c(0, 0)) +\n",
    "    scale_y_continuous(\n",
    "        breaks = c(0:(n_int_AB-1), ((n_int_AB):(n_int_AB+n_int_ABC-1))+0.1), \n",
    "        labels = c(0:(n_int_AB-1), 0:(n_int_ABC-1)),\n",
    "        expand = c(0, 0)\n",
    "    ) +\n",
    "    labs(y = 'First coalescent', x = 'Position')"
   ]
  },
  {
   "cell_type": "code",
   "execution_count": 39,
   "id": "d8b42fe2-c416-4a2d-9d28-07fca8cdec65",
   "metadata": {},
   "outputs": [
    {
     "name": "stdout",
     "output_type": "stream",
     "text": [
      "`summarise()` has grouped output by 'pos'. You can override using the `.groups` argument.\n"
     ]
    }
   ],
   "source": [
    "%%R -w 2000 -h 700 -r 150\n",
    "\n",
    "p2 <- post_tab %>%\n",
    "    group_by(pos, int_2) %>%\n",
    "    summarize(prob = sum(value)) %>%\n",
    "    ggplot() +\n",
    "    geom_tile(aes(pos, int_2, fill = prob, color = prob)) +\n",
    "    geom_segment(aes(x = start, xend = end, y = int_2, yend = int_2), \n",
    "                 color = 'green3', size = 2,\n",
    "                 data = tree_tab) +\n",
    "    scale_fill_viridis_c(name = 'Posterior\\nprobability', \n",
    "                         # limits = c(0, 1)\n",
    "                         option=\"inferno\") +\n",
    "    scale_color_viridis_c(name = 'Posterior\\nprobability', \n",
    "                         # limits = c(0, 1)\n",
    "                         option=\"inferno\") +\n",
    "    scale_x_continuous(expand = c(0, 0)) +\n",
    "    scale_y_continuous(\n",
    "        breaks = 0:(n_int_ABC-1), \n",
    "        labels = 0:(n_int_ABC-1),\n",
    "        expand = c(0, 0)\n",
    "    ) +\n",
    "    labs(y = 'Second coalescent') +\n",
    "    theme(\n",
    "        axis.title.x = element_blank(),\n",
    "        axis.text.x = element_blank(),\n",
    "        axis.ticks.x=element_blank()\n",
    "    )"
   ]
  },
  {
   "cell_type": "code",
   "execution_count": 40,
   "id": "706952fd-96f0-482e-a6da-daf5d3ba91a5",
   "metadata": {},
   "outputs": [
    {
     "name": "stdout",
     "output_type": "stream",
     "text": [
      "`summarise()` has grouped output by 'pos'. You can override using the `.groups` argument.\n"
     ]
    }
   ],
   "source": [
    "%%R -w 2000 -h 700 -r 150\n",
    "\n",
    "p3 <- post_tab %>%\n",
    "    group_by(pos, topology) %>%\n",
    "    summarize(prob = sum(value)) %>%\n",
    "    ggplot() +\n",
    "    geom_tile(aes(pos, topology, fill = prob, color = prob)) +\n",
    "    geom_segment(aes(x = start, xend = end, y = topology, yend = topology), \n",
    "                 color = 'green3', size = 2,\n",
    "                 data = tree_tab) +\n",
    "    scale_fill_viridis_c(name = 'Posterior\\nprobability', \n",
    "                         # limits = c(0, 1)\n",
    "                         option=\"inferno\") +\n",
    "    scale_color_viridis_c(name = 'Posterior\\nprobability', \n",
    "                         # limits = c(0, 1)\n",
    "                         option=\"inferno\") +\n",
    "    scale_x_continuous(expand = c(0, 0)) +\n",
    "    scale_y_continuous(\n",
    "        breaks = c(0, 1, 2, 3), \n",
    "        labels = c('V0', 'V1', 'V2', 'V3'),\n",
    "        expand = c(0, 0)\n",
    "    ) +\n",
    "    labs(y = 'Topology') +\n",
    "    theme(\n",
    "        axis.title.x = element_blank(),\n",
    "        axis.text.x = element_blank(),\n",
    "        axis.ticks.x=element_blank()\n",
    "    )"
   ]
  },
  {
   "cell_type": "code",
   "execution_count": 41,
   "id": "165beb5a-0ae8-40a4-8eba-f643ce1091b5",
   "metadata": {},
   "outputs": [],
   "source": [
    "%%R -w 2000 -h 1000 -r 150 -i ILS\n",
    "\n",
    "library(patchwork)\n",
    "\n",
    "p3/p2/p1 + \n",
    "  plot_layout(heights = c(4, n_int_ABC, n_int_AB+n_int_ABC))\n",
    "\n",
    "# ggsave(paste0('posterior_decoding_', round(ILS), '.pdf'), width = 14, height = 7)\n",
    "ggsave(paste0('posterior_decoding_', n_int_AB, '_', n_int_ABC, '_', round(ILS), '_cutpoints.png'), width = 14, height = 9)"
   ]
  },
  {
   "cell_type": "code",
   "execution_count": 42,
   "id": "875e24fc-09b3-4f1c-afcb-084122e63c1a",
   "metadata": {
    "tags": []
   },
   "outputs": [
    {
     "name": "stdout",
     "output_type": "stream",
     "text": [
      "# A tibble: 2 × 2\n",
      "  `topology %in% c(0, 1)`   len\n",
      "  <lgl>                   <dbl>\n",
      "1 FALSE                   41283\n",
      "2 TRUE                    58574\n"
     ]
    }
   ],
   "source": [
    "%%R\n",
    "\n",
    "tree_tab %>%\n",
    "    group_by(topology %in% c(0, 1)) %>%\n",
    "    summarize(len = sum(end-start))"
   ]
  }
 ],
 "metadata": {
  "kernelspec": {
   "display_name": "Python 3 (ipykernel)",
   "language": "python",
   "name": "python3"
  },
  "language_info": {
   "codemirror_mode": {
    "name": "ipython",
    "version": 3
   },
   "file_extension": ".py",
   "mimetype": "text/x-python",
   "name": "python",
   "nbconvert_exporter": "python",
   "pygments_lexer": "ipython3",
   "version": "3.8.10"
  }
 },
 "nbformat": 4,
 "nbformat_minor": 5
}
