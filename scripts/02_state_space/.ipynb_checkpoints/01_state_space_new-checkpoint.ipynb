{
 "cells": [
  {
   "cell_type": "code",
   "execution_count": 1,
   "id": "562126d1-d105-4512-ba18-89c0f90e6e23",
   "metadata": {},
   "outputs": [],
   "source": [
    "from IPython.display import SVG\n",
    "import numpy as np\n",
    "import pandas as pd\n",
    "%load_ext rpy2.ipython"
   ]
  },
  {
   "cell_type": "code",
   "execution_count": 2,
   "id": "0e2e7c7d-c169-4ad6-83a7-ba76f1079645",
   "metadata": {},
   "outputs": [],
   "source": [
    "def recombination(i):\n",
    "    \"\"\"\n",
    "    This function returns all possible states after a \n",
    "    single recombination event given an initial state\n",
    "    \"\"\"\n",
    "    # Create empty list\n",
    "    new_lst = []\n",
    "    # For each block index in the list\n",
    "    for block in range(len(i)):\n",
    "        # If the site is linked\n",
    "        if 0 not in i[block]:\n",
    "            # Remove block\n",
    "            lst = i[:block]+i[block+1:]\n",
    "            # Split block\n",
    "            lst = lst + [(i[block][0], 0), (0, i[block][1])]\n",
    "            # Append to list\n",
    "            new_lst.append(sorted(lst))\n",
    "    return new_lst"
   ]
  },
  {
   "cell_type": "code",
   "execution_count": 3,
   "id": "d3a70237-0121-4abb-a54d-83faf79d3783",
   "metadata": {},
   "outputs": [],
   "source": [
    "def coalescent(i):\n",
    "    \"\"\"\n",
    "    This function returns all possible states after a \n",
    "    single coalescence event given an initial state. \n",
    "    The returned list is somewhat ordered, so that the \n",
    "    first states correspond to reversible coalescence \n",
    "    events, and the last to non-reversible ones.\n",
    "    \"\"\"\n",
    "    # Get unique values per site\n",
    "    n_0 = set([0]+list(sum(i, ())))\n",
    "    reversible = []\n",
    "    nonreversible = []\n",
    "    # For each combination of blocks\n",
    "    for b1 in range(len(i)):\n",
    "        for b2 in range(b1+1, len(i)):\n",
    "            # Create new block by merging\n",
    "            add_lst = [(i[b1][0]+i[b2][0], i[b1][1]+i[b2][1])]\n",
    "            # For each index in i\n",
    "            for b3 in range(len(i)):\n",
    "                # If the index is not in among the merged blocks\n",
    "                if b3 not in [b1, b2]:\n",
    "                    # Append to list\n",
    "                    add_lst.append(i[b3])\n",
    "            # If the unique values are different from the \n",
    "            # original block\n",
    "            if set([0]+list(sum(add_lst, ()))) == n_0:\n",
    "                # Append to reversible coalescence list\n",
    "                reversible.append(sorted(add_lst))\n",
    "            else:\n",
    "                # Append to non-reversible coalescence list\n",
    "                nonreversible.append(sorted(add_lst))\n",
    "    l = reversible+nonreversible\n",
    "    return l"
   ]
  },
  {
   "cell_type": "code",
   "execution_count": 4,
   "id": "6f14d627-e18d-442b-81bc-276c34d53aec",
   "metadata": {},
   "outputs": [],
   "source": [
    "\n",
    "def idx(i):\n",
    "    j = list(sum(i, ()))\n",
    "    return -(len(j)-j.count(0))\n",
    "\n",
    "def get_states(lst):\n",
    "    \"\"\"\n",
    "    Given a list of states, this function finds all possible\n",
    "    recombination and coalescence states iteratively.\n",
    "    \"\"\"\n",
    "    # Sort block per states just in case\n",
    "    all_states = [sorted(i) for i in lst]\n",
    "    # Define pool of states to be transformed\n",
    "    state_pool = all_states\n",
    "    # While the pool is non-empty\n",
    "    while len(state_pool) > 0:\n",
    "        # Define result list per iteration\n",
    "        iter_states = []\n",
    "        # For each of the states in the pool\n",
    "        for i in state_pool:\n",
    "            # Save coalescent transformation\n",
    "            iter_states = iter_states+coalescent(i)\n",
    "            # Save recombination transformation\n",
    "            iter_states = iter_states+recombination(i)\n",
    "        # Keep unique values in the original order\n",
    "        iter_states = sorted(list(list(i) for i in set(tuple(row) for row in iter_states)), key = iter_states.index)\n",
    "        # Define pool for next round\n",
    "        state_pool = [i for i in iter_states if i not in all_states]\n",
    "        # Add pool to overall list\n",
    "        all_states += state_pool\n",
    "        \n",
    "    all_states = sorted(all_states, key = idx)\n",
    "    return all_states\n",
    "\n",
    "import multiprocessing as mp\n",
    "def get_states_parallel(lst):\n",
    "    \"\"\"\n",
    "    Given a list of states, this function finds all possible\n",
    "    recombination and coalescence states iteratively and in\n",
    "    parallel.\n",
    "    \"\"\"\n",
    "    all_states = [sorted(i) for i in lst]\n",
    "    state_pool = all_states\n",
    "    while len(state_pool) > 0:\n",
    "        print(len(all_states), end = '\\r')\n",
    "        iter_states = []\n",
    "        pool = mp.Pool(mp.cpu_count())\n",
    "        iter_states = iter_states+[item for sublist in pool.map(coalescent, state_pool) for item in sublist]\n",
    "        iter_states = iter_states+[item for sublist in pool.map(recombination, state_pool) for item in sublist]\n",
    "        pool.close()\n",
    "        iter_states = sorted(list(list(i) for i in set(tuple(row) for row in iter_states)), key = iter_states.index)\n",
    "        state_pool = [i for i in iter_states if i not in all_states]\n",
    "        all_states += state_pool\n",
    "    all_states = sorted(all_states, key = idx)\n",
    "    return all_states\n"
   ]
  },
  {
   "cell_type": "code",
   "execution_count": 5,
   "id": "f1051513-bc99-4d5d-ab19-f91235f210d3",
   "metadata": {},
   "outputs": [
    {
     "name": "stdout",
     "output_type": "stream",
     "text": [
      "-\u001b[38;2;204;000;000m1\u001b[38;2;000;000;000m\n",
      "-\u001b[38;2;000;000;204m2\u001b[38;2;000;000;000m\n",
      "-\u001b[38;2;204;204;000m4\u001b[38;2;000;000;000m\n",
      "-\u001b[38;2;204;000;204m3\u001b[38;2;000;000;000m\n",
      "-\u001b[38;2;204;102;000m5\u001b[38;2;000;000;000m\n",
      "-\u001b[38;2;000;204;000m6\u001b[38;2;000;000;000m\n",
      "-\u001b[38;2;000;000;000m7\u001b[38;2;000;000;000m\n"
     ]
    }
   ],
   "source": [
    "def colored(r, g, b, text):\n",
    "    \"\"\"\n",
    "    Given some color coordinates in RGB and \n",
    "    some text, this function returns the text in\n",
    "    the right format for printing in color. \n",
    "    \"\"\"\n",
    "    return \"\\033[38;2;{};{};{}m{}\\033[38;2;000;000;000m\".format(r, g, b, text)\n",
    "\n",
    "dct = {\n",
    "    1:('204', '000', '000'),\n",
    "    2:('000', '000', '204'),\n",
    "    4:('204', '204', '000'),\n",
    "    3:('204', '000', '204'),\n",
    "    5:('204', '102', '000'),\n",
    "    6:('000', '204', '000'),\n",
    "    7:('000', '000', '000'),\n",
    "}\n",
    "\n",
    "for i in dct:\n",
    "    entry = dct[i]\n",
    "    print('-'+colored(entry[0], entry[1], entry[2], i))\n"
   ]
  },
  {
   "cell_type": "code",
   "execution_count": 6,
   "id": "7d9a9b5b-c6bf-4368-ad29-fb5d7f830117",
   "metadata": {},
   "outputs": [
    {
     "name": "stdout",
     "output_type": "stream",
     "text": [
      " ______ \n",
      "|   -\u001b[38;2;204;000;000m●\u001b[38;2;000;000;000m |\n",
      "|   -\u001b[38;2;000;000;204m●\u001b[38;2;000;000;000m |\n",
      "|   -\u001b[38;2;204;204;000m●\u001b[38;2;000;000;000m |\n",
      "| \u001b[38;2;204;000;000m●\u001b[38;2;000;000;000m-   |\n",
      "| \u001b[38;2;000;204;000mX\u001b[38;2;000;000;000m-   |\n",
      " ‾‾‾‾‾‾ \n"
     ]
    }
   ],
   "source": [
    "def print_states(i, fill):\n",
    "    \"\"\"\n",
    "    This function transforms a numerical representation\n",
    "    of an entry of the state space into a string with \n",
    "    coloring that can be used to print the entry in a \n",
    "    ball-and-stick representation. This function only \n",
    "    works for a population size of up to 3 individuals.\n",
    "    The argument fill is used to specify the height of \n",
    "    the print. If fill exceeds the natural height of the\n",
    "    printed state, then trailing whitespaces will be \n",
    "    printed.\n",
    "    \"\"\"\n",
    "    string = ' ______ \\n'\n",
    "    for j in i:\n",
    "        string += '| '\n",
    "        if j[0] == 0:\n",
    "            string += '  '\n",
    "        else:\n",
    "            entry = dct[j[0]]\n",
    "            if j[0] in [1, 2, 4]:\n",
    "                symbol = '●'\n",
    "            else:\n",
    "                symbol = 'X'\n",
    "            string += (colored(entry[0], entry[1], entry[2], symbol)+'-')\n",
    "        if j[1] == 0:\n",
    "            string += '  '\n",
    "        else:\n",
    "            if j[1] in [1, 2, 4]:\n",
    "                symbol = '●'\n",
    "            else:\n",
    "                symbol = 'X'\n",
    "            entry = dct[j[1]]\n",
    "            string += ('-'+colored(entry[0], entry[1], entry[2], symbol))\n",
    "        string += ' |\\n'\n",
    "    string += ' ‾‾‾‾‾‾ '\n",
    "    string += '\\n        '*(fill-len(string.split('\\n')))\n",
    "    return string\n",
    "\n",
    "print(print_states([(0, 1), (0, 2), (0, 4), (1, 0), (6, 0)], 6))"
   ]
  },
  {
   "cell_type": "code",
   "execution_count": 7,
   "id": "16c2620a-cbf1-4fa9-8107-c12faa9c0993",
   "metadata": {},
   "outputs": [],
   "source": [
    "def print_all_states(iter_lst, n_col):\n",
    "    \"\"\"\n",
    "    This function re-formats the output of print_states\n",
    "    for plotting several states in the same row/column. The \n",
    "    arguments are a list of states and the number of\n",
    "    columns for printing. The returned object is a list \n",
    "    containing the string for each of the rows.  \n",
    "    \"\"\"\n",
    "    # Define empty string holder list\n",
    "    new_string = []\n",
    "    # For each row\n",
    "    for row in range(0, len(iter_lst), n_col):\n",
    "        \n",
    "        # Define index of the final state of that row\n",
    "        end = row+n_col\n",
    "        if end > len(iter_lst):\n",
    "            end = len(iter_lst)\n",
    "        \n",
    "        # Save the height of the current row\n",
    "        max_len = max([len(i) for i in iter_lst[row:end]])+2\n",
    "        \n",
    "        # Print states in right format with trailing whitespaces\n",
    "        x = []\n",
    "        for i in iter_lst[row:end]:\n",
    "            x.append(print_states(i, max_len))\n",
    "        \n",
    "        # Define new empty string\n",
    "        string = ''\n",
    "        # For each row within each printed state\n",
    "        for max_depth in range(max_len):\n",
    "            # For each printed state\n",
    "            for i in x:\n",
    "                # Add row\n",
    "                string += i.split('\\n')[max_depth]\n",
    "            string += '\\n'\n",
    "        # Append new string to final result\n",
    "        new_string.append(string[:-2])\n",
    "    \n",
    "    return new_string\n"
   ]
  },
  {
   "cell_type": "markdown",
   "id": "df0aefe4-ea15-408d-99d7-0f43e2e52883",
   "metadata": {},
   "source": [
    "## Representing the state space"
   ]
  },
  {
   "cell_type": "markdown",
   "id": "3ae15911-0994-491d-b50b-7bd5a30c2548",
   "metadata": {},
   "source": [
    "Through this document, each of the elements of the state space will be represented as a list of tuples of length 2, where each tuple is a genome consisting of two linked sites or a single unlinked site. For example, `(1, 1)` represents two linked sites, and `(0, 1)` represents an unlinked right site. We can use the function `print_all_states` to get a graphical representation of these:"
   ]
  },
  {
   "cell_type": "code",
   "execution_count": 8,
   "id": "734b35a7-0b36-4b73-8e7b-9f68308b62f3",
   "metadata": {},
   "outputs": [
    {
     "name": "stdout",
     "output_type": "stream",
     "text": [
      " ______  ______ \n",
      "| \u001b[38;2;204;000;000m●\u001b[38;2;000;000;000m--\u001b[38;2;204;000;000m●\u001b[38;2;000;000;000m ||   -\u001b[38;2;204;000;000m●\u001b[38;2;000;000;000m |\n",
      " ‾‾‾‾‾‾ | \u001b[38;2;204;000;000m●\u001b[38;2;000;000;000m-   |\n",
      "         ‾‾‾‾‾‾\n"
     ]
    }
   ],
   "source": [
    "state_example = [[(1, 1)], [(0, 1), (1, 0)]]\n",
    "for i in print_all_states(state_example, 2):\n",
    "    print(i)"
   ]
  },
  {
   "cell_type": "markdown",
   "id": "8ec65823-6569-4786-b48b-a423bf26d139",
   "metadata": {},
   "source": [
    "For a population of 1 (1 allele per site) it is straightforward to calculate all 2 possible states. For more alleles, we need a way to represent the non-reversible coalescent events, this is, those coalescent events that happen between two sites of in the same side (either left or right) and, thus, cannot be undone by recombination. If we use `1` to represent one population and `2` to represent a second one, then a non-reversible coalescent event between these two can be represented with a `3`. If we have more populations, then we need numbers that, when added, do not represent nothing else than the non-reversible coalescent of two specific alleles. For three populations, we can assign `4` to the third population. If we calculate the sum of all possible combinations, we will see that none of them is repeated:"
   ]
  },
  {
   "cell_type": "code",
   "execution_count": 9,
   "id": "f1e2a7d8-0164-4017-8e4e-09cb08f1a046",
   "metadata": {},
   "outputs": [
    {
     "name": "stdout",
     "output_type": "stream",
     "text": [
      "[1, 2, 4, 3, 5, 6, 7]\n"
     ]
    },
    {
     "data": {
      "text/plain": [
       "True"
      ]
     },
     "execution_count": 9,
     "metadata": {},
     "output_type": "execute_result"
    }
   ],
   "source": [
    "from itertools import combinations\n",
    "\n",
    "lst = [1, 2, 4]\n",
    "comb = []\n",
    "for i in range(1, len(lst)+1):\n",
    "    [comb.append(sum(j)) for j in list(combinations(lst, i))]\n",
    "print(comb)\n",
    "sorted(list(set(comb))) == sorted(comb)"
   ]
  },
  {
   "cell_type": "markdown",
   "id": "51ccd99b-e448-436a-b3ba-24b4bb5c73e5",
   "metadata": {},
   "source": [
    "This is a property of superincreasing integer sequences. Among all of the possible supeincreasing sequences, we can pick the minimally superincreasing one, which is simply $1, 2, 4, 8, 16, ..., 2^n$:"
   ]
  },
  {
   "cell_type": "code",
   "execution_count": 10,
   "id": "1ca670d3-4b68-49d4-ae10-cd462ad79a36",
   "metadata": {},
   "outputs": [
    {
     "name": "stdout",
     "output_type": "stream",
     "text": [
      "[3, 5, 9, 6, 10, 12, 7, 11, 13, 14, 15]\n"
     ]
    },
    {
     "data": {
      "text/plain": [
       "True"
      ]
     },
     "execution_count": 10,
     "metadata": {},
     "output_type": "execute_result"
    }
   ],
   "source": [
    "from itertools import combinations\n",
    "lst = [1, 2, 4, 8]\n",
    "comb = []\n",
    "for i in range(2, len(lst)+1):\n",
    "    [comb.append(sum(j)) for j in list(combinations(lst, i))]\n",
    "print(comb)\n",
    "sorted(list(set(comb))) == sorted(comb)"
   ]
  },
  {
   "cell_type": "code",
   "execution_count": 11,
   "id": "f9c6cd18-4805-4543-920b-25ff86e587cb",
   "metadata": {},
   "outputs": [
    {
     "name": "stdout",
     "output_type": "stream",
     "text": [
      "[3, 5, 9, 17, 6, 10, 18, 12, 20, 24, 7, 11, 19, 13, 21, 25, 14, 22, 26, 28, 15, 23, 27, 29, 30, 31]\n"
     ]
    },
    {
     "data": {
      "text/plain": [
       "True"
      ]
     },
     "execution_count": 11,
     "metadata": {},
     "output_type": "execute_result"
    }
   ],
   "source": [
    "lst = [1, 2, 4, 8, 16]\n",
    "comb = []\n",
    "for i in range(2, len(lst)+1):\n",
    "    [comb.append(sum(j)) for j in list(combinations(lst, i))]\n",
    "print(comb)\n",
    "sorted(list(set(comb))) == sorted(comb)"
   ]
  },
  {
   "cell_type": "markdown",
   "id": "360521ec-991a-4ac1-843d-d42745efa69a",
   "metadata": {},
   "source": [
    "We now have a framework to define all states for a certain number of populations (or individuals). Given that there are only two possible \"rules\" for transitioning from one state to another (namely, coalescence or recombination), we can define functions that transform a state according to these rules:"
   ]
  },
  {
   "cell_type": "code",
   "execution_count": 12,
   "id": "fc2e6a41-2121-449a-bf16-699819867623",
   "metadata": {},
   "outputs": [
    {
     "name": "stdout",
     "output_type": "stream",
     "text": [
      " ______ \n",
      "| \u001b[38;2;204;000;000m●\u001b[38;2;000;000;000m--\u001b[38;2;204;000;000m●\u001b[38;2;000;000;000m |\n",
      "| \u001b[38;2;000;000;204m●\u001b[38;2;000;000;000m--\u001b[38;2;000;000;204m●\u001b[38;2;000;000;000m |\n",
      "| \u001b[38;2;204;204;000m●\u001b[38;2;000;000;000m--\u001b[38;2;204;204;000m●\u001b[38;2;000;000;000m |\n",
      " ‾‾‾‾‾‾ \n",
      " ______  ______  ______ \n",
      "|   -\u001b[38;2;204;000;000m●\u001b[38;2;000;000;000m ||   -\u001b[38;2;000;000;204m●\u001b[38;2;000;000;000m ||   -\u001b[38;2;204;204;000m●\u001b[38;2;000;000;000m |\n",
      "| \u001b[38;2;204;000;000m●\u001b[38;2;000;000;000m-   || \u001b[38;2;204;000;000m●\u001b[38;2;000;000;000m--\u001b[38;2;204;000;000m●\u001b[38;2;000;000;000m || \u001b[38;2;204;000;000m●\u001b[38;2;000;000;000m--\u001b[38;2;204;000;000m●\u001b[38;2;000;000;000m |\n",
      "| \u001b[38;2;000;000;204m●\u001b[38;2;000;000;000m--\u001b[38;2;000;000;204m●\u001b[38;2;000;000;000m || \u001b[38;2;000;000;204m●\u001b[38;2;000;000;000m-   || \u001b[38;2;000;000;204m●\u001b[38;2;000;000;000m--\u001b[38;2;000;000;204m●\u001b[38;2;000;000;000m |\n",
      "| \u001b[38;2;204;204;000m●\u001b[38;2;000;000;000m--\u001b[38;2;204;204;000m●\u001b[38;2;000;000;000m || \u001b[38;2;204;204;000m●\u001b[38;2;000;000;000m--\u001b[38;2;204;204;000m●\u001b[38;2;000;000;000m || \u001b[38;2;204;204;000m●\u001b[38;2;000;000;000m-   |\n",
      " ‾‾‾‾‾‾  ‾‾‾‾‾‾  ‾‾‾‾‾‾\n"
     ]
    },
    {
     "data": {
      "text/plain": [
       "[None]"
      ]
     },
     "execution_count": 12,
     "metadata": {},
     "output_type": "execute_result"
    }
   ],
   "source": [
    "# Recombination\n",
    "\n",
    "i = [(1, 1), (2, 2), (4, 4)]\n",
    "print(print_states(i, 0))\n",
    "[print(i) for i in print_all_states(recombination(i), 3)]"
   ]
  },
  {
   "cell_type": "code",
   "execution_count": 13,
   "id": "eb47b03f-d704-4616-849f-709ec754e156",
   "metadata": {},
   "outputs": [
    {
     "name": "stdout",
     "output_type": "stream",
     "text": [
      " ______ \n",
      "| \u001b[38;2;204;000;000m●\u001b[38;2;000;000;000m--\u001b[38;2;204;000;000m●\u001b[38;2;000;000;000m |\n",
      "|   -\u001b[38;2;000;000;204m●\u001b[38;2;000;000;000m |\n",
      "| \u001b[38;2;204;204;000m●\u001b[38;2;000;000;000m--\u001b[38;2;204;204;000m●\u001b[38;2;000;000;000m |\n",
      "| \u001b[38;2;000;000;204m●\u001b[38;2;000;000;000m-   |\n",
      " ‾‾‾‾‾‾ \n",
      " ______  ______  ______  ______  ______  ______ \n",
      "| \u001b[38;2;204;000;000m●\u001b[38;2;000;000;000m--\u001b[38;2;204;000;000m●\u001b[38;2;000;000;000m || \u001b[38;2;204;000;000m●\u001b[38;2;000;000;000m--\u001b[38;2;204;000;204mX\u001b[38;2;000;000;000m ||   -\u001b[38;2;000;000;204m●\u001b[38;2;000;000;000m ||   -\u001b[38;2;000;000;204m●\u001b[38;2;000;000;000m || \u001b[38;2;204;000;000m●\u001b[38;2;000;000;000m--\u001b[38;2;204;000;000m●\u001b[38;2;000;000;000m ||   -\u001b[38;2;000;000;204m●\u001b[38;2;000;000;000m |\n",
      "| \u001b[38;2;000;000;204m●\u001b[38;2;000;000;000m--\u001b[38;2;000;000;204m●\u001b[38;2;000;000;000m || \u001b[38;2;000;000;204m●\u001b[38;2;000;000;000m-   || \u001b[38;2;000;000;204m●\u001b[38;2;000;000;000m-   || \u001b[38;2;204;000;204mX\u001b[38;2;000;000;000m--\u001b[38;2;204;000;000m●\u001b[38;2;000;000;000m || \u001b[38;2;000;000;204m●\u001b[38;2;000;000;000m-   || \u001b[38;2;204;000;000m●\u001b[38;2;000;000;000m--\u001b[38;2;204;000;000m●\u001b[38;2;000;000;000m |\n",
      "| \u001b[38;2;204;204;000m●\u001b[38;2;000;000;000m--\u001b[38;2;204;204;000m●\u001b[38;2;000;000;000m || \u001b[38;2;204;204;000m●\u001b[38;2;000;000;000m--\u001b[38;2;204;204;000m●\u001b[38;2;000;000;000m || \u001b[38;2;204;102;000mX\u001b[38;2;000;000;000m--\u001b[38;2;204;102;000mX\u001b[38;2;000;000;000m || \u001b[38;2;204;204;000m●\u001b[38;2;000;000;000m--\u001b[38;2;204;204;000m●\u001b[38;2;000;000;000m || \u001b[38;2;204;204;000m●\u001b[38;2;000;000;000m--\u001b[38;2;000;204;000mX\u001b[38;2;000;000;000m || \u001b[38;2;000;204;000mX\u001b[38;2;000;000;000m--\u001b[38;2;204;204;000m●\u001b[38;2;000;000;000m |\n",
      " ‾‾‾‾‾‾  ‾‾‾‾‾‾  ‾‾‾‾‾‾  ‾‾‾‾‾‾  ‾‾‾‾‾‾  ‾‾‾‾‾‾\n"
     ]
    },
    {
     "data": {
      "text/plain": [
       "[None]"
      ]
     },
     "execution_count": 13,
     "metadata": {},
     "output_type": "execute_result"
    }
   ],
   "source": [
    "# Coalescent\n",
    "\n",
    "i = [(1, 1), (0, 2), (4, 4), (2, 0)]\n",
    "print(print_states(i, 0))\n",
    "[print(i) for i in print_all_states(coalescent(i), 6)]"
   ]
  },
  {
   "cell_type": "markdown",
   "id": "53738ac8-54da-45e8-a674-2252029c1637",
   "metadata": {},
   "source": [
    "Note that the non-reversible coalescents are representes as crosses instead of balls. The color of the cross corresponds to the mix of colors representing the two individuals where it comes from. This way, pink represents red+blue, orange represents red+yellow and green represents blue+yellow. Additionally, black crosses represents the absorbing state, this is, red+blue+yellow."
   ]
  },
  {
   "cell_type": "markdown",
   "id": "2bc6bd94-b38c-421d-9e32-25d9ab80beb8",
   "metadata": {
    "tags": []
   },
   "source": [
    "## One individual"
   ]
  },
  {
   "cell_type": "markdown",
   "id": "a50ed276-b5e8-45e3-8fd4-cbe9c78f0aaf",
   "metadata": {},
   "source": [
    "Using the above rules, we can get the all possible states for one individual. The function `get_states` iteratively finds all possible states given a starting state:"
   ]
  },
  {
   "cell_type": "code",
   "execution_count": 14,
   "id": "e4aa6e81-0538-4dd5-b88a-c3a5a5646aba",
   "metadata": {},
   "outputs": [
    {
     "name": "stdout",
     "output_type": "stream",
     "text": [
      "[[(1, 1)], [(0, 1), (1, 0)]]\n"
     ]
    }
   ],
   "source": [
    "state_1 = [[(1, 1)]]\n",
    "iter_lst_1 = get_states(state_1)\n",
    "print(iter_lst_1)"
   ]
  },
  {
   "cell_type": "code",
   "execution_count": 15,
   "id": "9407b2ef-6bcb-45e0-bfb1-ac25848d8e73",
   "metadata": {},
   "outputs": [
    {
     "name": "stdout",
     "output_type": "stream",
     "text": [
      " ______  ______ \n",
      "| \u001b[38;2;204;000;000m●\u001b[38;2;000;000;000m--\u001b[38;2;204;000;000m●\u001b[38;2;000;000;000m ||   -\u001b[38;2;204;000;000m●\u001b[38;2;000;000;000m |\n",
      " ‾‾‾‾‾‾ | \u001b[38;2;204;000;000m●\u001b[38;2;000;000;000m-   |\n",
      "         ‾‾‾‾‾‾\n"
     ]
    }
   ],
   "source": [
    "for i in print_all_states(iter_lst_1, 2):\n",
    "    print(i)"
   ]
  },
  {
   "cell_type": "markdown",
   "id": "bf5455f3-ef9e-4eaf-ab63-7b68445e1ad5",
   "metadata": {},
   "source": [
    "The resulting 2x2 transition matrix can easily be created in this case:"
   ]
  },
  {
   "cell_type": "code",
   "execution_count": 16,
   "id": "76bc5d34-ac57-47bb-9e48-83288963c112",
   "metadata": {},
   "outputs": [
    {
     "name": "stdout",
     "output_type": "stream",
     "text": [
      "   0  1\n",
      "0  0  C\n",
      "1  R  0\n"
     ]
    }
   ],
   "source": [
    "trans_mat_1 = np.full((len(iter_lst_1), len(iter_lst_1)), '0')\n",
    "\n",
    "trans_mat_1[0, 1] = 'C'\n",
    "trans_mat_1[1, 0] = 'R'\n",
    "\n",
    "df = pd.DataFrame(trans_mat_1)\n",
    "print(df)"
   ]
  },
  {
   "cell_type": "markdown",
   "id": "01dd8670-5f71-4d8c-a4bb-f6f8db942646",
   "metadata": {},
   "source": [
    "And we can also retrieve non-zero matrix values in tidy format by melting the dataframe:"
   ]
  },
  {
   "cell_type": "code",
   "execution_count": 17,
   "id": "6a5ca96a-3b2a-47da-8787-f9686ddb34aa",
   "metadata": {},
   "outputs": [
    {
     "data": {
      "text/html": [
       "<div>\n",
       "<style scoped>\n",
       "    .dataframe tbody tr th:only-of-type {\n",
       "        vertical-align: middle;\n",
       "    }\n",
       "\n",
       "    .dataframe tbody tr th {\n",
       "        vertical-align: top;\n",
       "    }\n",
       "\n",
       "    .dataframe thead th {\n",
       "        text-align: right;\n",
       "    }\n",
       "</style>\n",
       "<table border=\"1\" class=\"dataframe\">\n",
       "  <thead>\n",
       "    <tr style=\"text-align: right;\">\n",
       "      <th></th>\n",
       "      <th>value</th>\n",
       "      <th>from</th>\n",
       "      <th>to</th>\n",
       "    </tr>\n",
       "  </thead>\n",
       "  <tbody>\n",
       "    <tr>\n",
       "      <th>1</th>\n",
       "      <td>R</td>\n",
       "      <td>1</td>\n",
       "      <td>0</td>\n",
       "    </tr>\n",
       "    <tr>\n",
       "      <th>2</th>\n",
       "      <td>C</td>\n",
       "      <td>0</td>\n",
       "      <td>1</td>\n",
       "    </tr>\n",
       "  </tbody>\n",
       "</table>\n",
       "</div>"
      ],
      "text/plain": [
       "  value  from to\n",
       "1     R     1  0\n",
       "2     C     0  1"
      ]
     },
     "execution_count": 17,
     "metadata": {},
     "output_type": "execute_result"
    }
   ],
   "source": [
    "new_df = (df.rename_axis(index = 'from')\n",
    "            .reset_index()\n",
    "            .melt('from', var_name='to')\n",
    "            .reindex(columns = ['value','from','to']))\n",
    "tab_mat_1 = new_df[new_df['value'] != '0']\n",
    "tab_mat_1"
   ]
  },
  {
   "cell_type": "markdown",
   "id": "f72bc48c-505d-4de1-87bb-5d0d4643125f",
   "metadata": {},
   "source": [
    "## Two individuals"
   ]
  },
  {
   "cell_type": "markdown",
   "id": "50a1d96e-bd1c-4fc4-92a9-44a3ae437a2a",
   "metadata": {},
   "source": [
    "Following Mailund et al. (2011), there are 15 different states for the 2-individual case. We can compute all these using `get_states`:"
   ]
  },
  {
   "cell_type": "code",
   "execution_count": 18,
   "id": "5f8ff55e-1019-4b4c-9237-ff5205df3938",
   "metadata": {},
   "outputs": [
    {
     "data": {
      "text/plain": [
       "[[(0, 1), (0, 2), (1, 0), (2, 0)],\n",
       " [(0, 2), (1, 1), (2, 0)],\n",
       " [(0, 2), (1, 0), (2, 1)],\n",
       " [(0, 1), (1, 2), (2, 0)],\n",
       " [(0, 1), (1, 0), (2, 2)],\n",
       " [(1, 1), (2, 2)],\n",
       " [(1, 2), (2, 1)],\n",
       " [(0, 3), (1, 0), (2, 0)],\n",
       " [(0, 1), (0, 2), (3, 0)],\n",
       " [(1, 3), (2, 0)],\n",
       " [(0, 2), (3, 1)],\n",
       " [(1, 0), (2, 3)],\n",
       " [(0, 1), (3, 2)],\n",
       " [(0, 3), (3, 0)],\n",
       " [(3, 3)]]"
      ]
     },
     "execution_count": 18,
     "metadata": {},
     "output_type": "execute_result"
    }
   ],
   "source": [
    "state_2 = [[(0, 1), (0, 2), (1, 0), (2, 0)]]\n",
    "iter_lst_2 = get_states(state_2)\n",
    "iter_lst_2"
   ]
  },
  {
   "cell_type": "code",
   "execution_count": 19,
   "id": "736a761a-2ed5-44f0-8745-a7371be4e5ac",
   "metadata": {},
   "outputs": [
    {
     "name": "stdout",
     "output_type": "stream",
     "text": [
      " ______  ______  ______  ______  ______ \n",
      "|   -\u001b[38;2;204;000;000m●\u001b[38;2;000;000;000m ||   -\u001b[38;2;000;000;204m●\u001b[38;2;000;000;000m ||   -\u001b[38;2;000;000;204m●\u001b[38;2;000;000;000m ||   -\u001b[38;2;204;000;000m●\u001b[38;2;000;000;000m ||   -\u001b[38;2;204;000;000m●\u001b[38;2;000;000;000m |\n",
      "|   -\u001b[38;2;000;000;204m●\u001b[38;2;000;000;000m || \u001b[38;2;204;000;000m●\u001b[38;2;000;000;000m--\u001b[38;2;204;000;000m●\u001b[38;2;000;000;000m || \u001b[38;2;204;000;000m●\u001b[38;2;000;000;000m-   || \u001b[38;2;204;000;000m●\u001b[38;2;000;000;000m--\u001b[38;2;000;000;204m●\u001b[38;2;000;000;000m || \u001b[38;2;204;000;000m●\u001b[38;2;000;000;000m-   |\n",
      "| \u001b[38;2;204;000;000m●\u001b[38;2;000;000;000m-   || \u001b[38;2;000;000;204m●\u001b[38;2;000;000;000m-   || \u001b[38;2;000;000;204m●\u001b[38;2;000;000;000m--\u001b[38;2;204;000;000m●\u001b[38;2;000;000;000m || \u001b[38;2;000;000;204m●\u001b[38;2;000;000;000m-   || \u001b[38;2;000;000;204m●\u001b[38;2;000;000;000m--\u001b[38;2;000;000;204m●\u001b[38;2;000;000;000m |\n",
      "| \u001b[38;2;000;000;204m●\u001b[38;2;000;000;000m-   | ‾‾‾‾‾‾  ‾‾‾‾‾‾  ‾‾‾‾‾‾  ‾‾‾‾‾‾ \n",
      " ‾‾‾‾‾‾                                \n",
      " ______  ______  ______  ______  ______ \n",
      "| \u001b[38;2;204;000;000m●\u001b[38;2;000;000;000m--\u001b[38;2;204;000;000m●\u001b[38;2;000;000;000m || \u001b[38;2;204;000;000m●\u001b[38;2;000;000;000m--\u001b[38;2;000;000;204m●\u001b[38;2;000;000;000m ||   -\u001b[38;2;204;000;204mX\u001b[38;2;000;000;000m ||   -\u001b[38;2;204;000;000m●\u001b[38;2;000;000;000m || \u001b[38;2;204;000;000m●\u001b[38;2;000;000;000m--\u001b[38;2;204;000;204mX\u001b[38;2;000;000;000m |\n",
      "| \u001b[38;2;000;000;204m●\u001b[38;2;000;000;000m--\u001b[38;2;000;000;204m●\u001b[38;2;000;000;000m || \u001b[38;2;000;000;204m●\u001b[38;2;000;000;000m--\u001b[38;2;204;000;000m●\u001b[38;2;000;000;000m || \u001b[38;2;204;000;000m●\u001b[38;2;000;000;000m-   ||   -\u001b[38;2;000;000;204m●\u001b[38;2;000;000;000m || \u001b[38;2;000;000;204m●\u001b[38;2;000;000;000m-   |\n",
      " ‾‾‾‾‾‾  ‾‾‾‾‾‾ | \u001b[38;2;000;000;204m●\u001b[38;2;000;000;000m-   || \u001b[38;2;204;000;204mX\u001b[38;2;000;000;000m-   | ‾‾‾‾‾‾ \n",
      "                 ‾‾‾‾‾‾  ‾‾‾‾‾‾        \n",
      " ______  ______  ______  ______  ______ \n",
      "|   -\u001b[38;2;000;000;204m●\u001b[38;2;000;000;000m || \u001b[38;2;204;000;000m●\u001b[38;2;000;000;000m-   ||   -\u001b[38;2;204;000;000m●\u001b[38;2;000;000;000m ||   -\u001b[38;2;204;000;204mX\u001b[38;2;000;000;000m || \u001b[38;2;204;000;204mX\u001b[38;2;000;000;000m--\u001b[38;2;204;000;204mX\u001b[38;2;000;000;000m |\n",
      "| \u001b[38;2;204;000;204mX\u001b[38;2;000;000;000m--\u001b[38;2;204;000;000m●\u001b[38;2;000;000;000m || \u001b[38;2;000;000;204m●\u001b[38;2;000;000;000m--\u001b[38;2;204;000;204mX\u001b[38;2;000;000;000m || \u001b[38;2;204;000;204mX\u001b[38;2;000;000;000m--\u001b[38;2;000;000;204m●\u001b[38;2;000;000;000m || \u001b[38;2;204;000;204mX\u001b[38;2;000;000;000m-   | ‾‾‾‾‾‾ \n",
      " ‾‾‾‾‾‾  ‾‾‾‾‾‾  ‾‾‾‾‾‾  ‾‾‾‾‾‾        \n"
     ]
    }
   ],
   "source": [
    "for i in print_all_states(iter_lst_2, 5):\n",
    "    print(i)"
   ]
  },
  {
   "cell_type": "markdown",
   "id": "0e409cc4-f33f-467c-b1a5-840803f7b75f",
   "metadata": {},
   "source": [
    "We can now calculate the transition matrix by recording where transitions can happen. `R` is the recombination rate, while `C` is the coalescent rate:"
   ]
  },
  {
   "cell_type": "code",
   "execution_count": 20,
   "id": "4a0b3dc2-96f6-4ddd-8a5e-3fe054bf9649",
   "metadata": {},
   "outputs": [
    {
     "data": {
      "text/html": [
       "<div>\n",
       "<style scoped>\n",
       "    .dataframe tbody tr th:only-of-type {\n",
       "        vertical-align: middle;\n",
       "    }\n",
       "\n",
       "    .dataframe tbody tr th {\n",
       "        vertical-align: top;\n",
       "    }\n",
       "\n",
       "    .dataframe thead th {\n",
       "        text-align: right;\n",
       "    }\n",
       "</style>\n",
       "<table border=\"1\" class=\"dataframe\">\n",
       "  <thead>\n",
       "    <tr style=\"text-align: right;\">\n",
       "      <th></th>\n",
       "      <th>0</th>\n",
       "      <th>1</th>\n",
       "      <th>2</th>\n",
       "      <th>3</th>\n",
       "      <th>4</th>\n",
       "      <th>5</th>\n",
       "      <th>6</th>\n",
       "      <th>7</th>\n",
       "      <th>8</th>\n",
       "      <th>9</th>\n",
       "      <th>10</th>\n",
       "      <th>11</th>\n",
       "      <th>12</th>\n",
       "      <th>13</th>\n",
       "      <th>14</th>\n",
       "    </tr>\n",
       "  </thead>\n",
       "  <tbody>\n",
       "    <tr>\n",
       "      <th>0</th>\n",
       "      <td>0</td>\n",
       "      <td>C</td>\n",
       "      <td>C</td>\n",
       "      <td>C</td>\n",
       "      <td>C</td>\n",
       "      <td>0</td>\n",
       "      <td>0</td>\n",
       "      <td>C</td>\n",
       "      <td>C</td>\n",
       "      <td>0</td>\n",
       "      <td>0</td>\n",
       "      <td>0</td>\n",
       "      <td>0</td>\n",
       "      <td>0</td>\n",
       "      <td>0</td>\n",
       "    </tr>\n",
       "    <tr>\n",
       "      <th>1</th>\n",
       "      <td>R</td>\n",
       "      <td>0</td>\n",
       "      <td>0</td>\n",
       "      <td>0</td>\n",
       "      <td>0</td>\n",
       "      <td>C</td>\n",
       "      <td>0</td>\n",
       "      <td>0</td>\n",
       "      <td>0</td>\n",
       "      <td>C</td>\n",
       "      <td>C</td>\n",
       "      <td>0</td>\n",
       "      <td>0</td>\n",
       "      <td>0</td>\n",
       "      <td>0</td>\n",
       "    </tr>\n",
       "    <tr>\n",
       "      <th>2</th>\n",
       "      <td>R</td>\n",
       "      <td>0</td>\n",
       "      <td>0</td>\n",
       "      <td>0</td>\n",
       "      <td>0</td>\n",
       "      <td>0</td>\n",
       "      <td>C</td>\n",
       "      <td>0</td>\n",
       "      <td>0</td>\n",
       "      <td>0</td>\n",
       "      <td>C</td>\n",
       "      <td>C</td>\n",
       "      <td>0</td>\n",
       "      <td>0</td>\n",
       "      <td>0</td>\n",
       "    </tr>\n",
       "    <tr>\n",
       "      <th>3</th>\n",
       "      <td>R</td>\n",
       "      <td>0</td>\n",
       "      <td>0</td>\n",
       "      <td>0</td>\n",
       "      <td>0</td>\n",
       "      <td>0</td>\n",
       "      <td>C</td>\n",
       "      <td>0</td>\n",
       "      <td>0</td>\n",
       "      <td>C</td>\n",
       "      <td>0</td>\n",
       "      <td>0</td>\n",
       "      <td>C</td>\n",
       "      <td>0</td>\n",
       "      <td>0</td>\n",
       "    </tr>\n",
       "    <tr>\n",
       "      <th>4</th>\n",
       "      <td>R</td>\n",
       "      <td>0</td>\n",
       "      <td>0</td>\n",
       "      <td>0</td>\n",
       "      <td>0</td>\n",
       "      <td>C</td>\n",
       "      <td>0</td>\n",
       "      <td>0</td>\n",
       "      <td>0</td>\n",
       "      <td>0</td>\n",
       "      <td>0</td>\n",
       "      <td>C</td>\n",
       "      <td>C</td>\n",
       "      <td>0</td>\n",
       "      <td>0</td>\n",
       "    </tr>\n",
       "    <tr>\n",
       "      <th>5</th>\n",
       "      <td>0</td>\n",
       "      <td>R</td>\n",
       "      <td>0</td>\n",
       "      <td>0</td>\n",
       "      <td>R</td>\n",
       "      <td>0</td>\n",
       "      <td>0</td>\n",
       "      <td>0</td>\n",
       "      <td>0</td>\n",
       "      <td>0</td>\n",
       "      <td>0</td>\n",
       "      <td>0</td>\n",
       "      <td>0</td>\n",
       "      <td>0</td>\n",
       "      <td>C</td>\n",
       "    </tr>\n",
       "    <tr>\n",
       "      <th>6</th>\n",
       "      <td>0</td>\n",
       "      <td>0</td>\n",
       "      <td>R</td>\n",
       "      <td>R</td>\n",
       "      <td>0</td>\n",
       "      <td>0</td>\n",
       "      <td>0</td>\n",
       "      <td>0</td>\n",
       "      <td>0</td>\n",
       "      <td>0</td>\n",
       "      <td>0</td>\n",
       "      <td>0</td>\n",
       "      <td>0</td>\n",
       "      <td>0</td>\n",
       "      <td>C</td>\n",
       "    </tr>\n",
       "    <tr>\n",
       "      <th>7</th>\n",
       "      <td>0</td>\n",
       "      <td>0</td>\n",
       "      <td>0</td>\n",
       "      <td>0</td>\n",
       "      <td>0</td>\n",
       "      <td>0</td>\n",
       "      <td>0</td>\n",
       "      <td>0</td>\n",
       "      <td>0</td>\n",
       "      <td>C</td>\n",
       "      <td>0</td>\n",
       "      <td>C</td>\n",
       "      <td>0</td>\n",
       "      <td>C</td>\n",
       "      <td>0</td>\n",
       "    </tr>\n",
       "    <tr>\n",
       "      <th>8</th>\n",
       "      <td>0</td>\n",
       "      <td>0</td>\n",
       "      <td>0</td>\n",
       "      <td>0</td>\n",
       "      <td>0</td>\n",
       "      <td>0</td>\n",
       "      <td>0</td>\n",
       "      <td>0</td>\n",
       "      <td>0</td>\n",
       "      <td>0</td>\n",
       "      <td>C</td>\n",
       "      <td>0</td>\n",
       "      <td>C</td>\n",
       "      <td>C</td>\n",
       "      <td>0</td>\n",
       "    </tr>\n",
       "    <tr>\n",
       "      <th>9</th>\n",
       "      <td>0</td>\n",
       "      <td>0</td>\n",
       "      <td>0</td>\n",
       "      <td>0</td>\n",
       "      <td>0</td>\n",
       "      <td>0</td>\n",
       "      <td>0</td>\n",
       "      <td>R</td>\n",
       "      <td>0</td>\n",
       "      <td>0</td>\n",
       "      <td>0</td>\n",
       "      <td>0</td>\n",
       "      <td>0</td>\n",
       "      <td>0</td>\n",
       "      <td>C</td>\n",
       "    </tr>\n",
       "    <tr>\n",
       "      <th>10</th>\n",
       "      <td>0</td>\n",
       "      <td>0</td>\n",
       "      <td>0</td>\n",
       "      <td>0</td>\n",
       "      <td>0</td>\n",
       "      <td>0</td>\n",
       "      <td>0</td>\n",
       "      <td>0</td>\n",
       "      <td>R</td>\n",
       "      <td>0</td>\n",
       "      <td>0</td>\n",
       "      <td>0</td>\n",
       "      <td>0</td>\n",
       "      <td>0</td>\n",
       "      <td>C</td>\n",
       "    </tr>\n",
       "    <tr>\n",
       "      <th>11</th>\n",
       "      <td>0</td>\n",
       "      <td>0</td>\n",
       "      <td>0</td>\n",
       "      <td>0</td>\n",
       "      <td>0</td>\n",
       "      <td>0</td>\n",
       "      <td>0</td>\n",
       "      <td>R</td>\n",
       "      <td>0</td>\n",
       "      <td>0</td>\n",
       "      <td>0</td>\n",
       "      <td>0</td>\n",
       "      <td>0</td>\n",
       "      <td>0</td>\n",
       "      <td>C</td>\n",
       "    </tr>\n",
       "    <tr>\n",
       "      <th>12</th>\n",
       "      <td>0</td>\n",
       "      <td>0</td>\n",
       "      <td>0</td>\n",
       "      <td>0</td>\n",
       "      <td>0</td>\n",
       "      <td>0</td>\n",
       "      <td>0</td>\n",
       "      <td>0</td>\n",
       "      <td>R</td>\n",
       "      <td>0</td>\n",
       "      <td>0</td>\n",
       "      <td>0</td>\n",
       "      <td>0</td>\n",
       "      <td>0</td>\n",
       "      <td>C</td>\n",
       "    </tr>\n",
       "    <tr>\n",
       "      <th>13</th>\n",
       "      <td>0</td>\n",
       "      <td>0</td>\n",
       "      <td>0</td>\n",
       "      <td>0</td>\n",
       "      <td>0</td>\n",
       "      <td>0</td>\n",
       "      <td>0</td>\n",
       "      <td>0</td>\n",
       "      <td>0</td>\n",
       "      <td>0</td>\n",
       "      <td>0</td>\n",
       "      <td>0</td>\n",
       "      <td>0</td>\n",
       "      <td>0</td>\n",
       "      <td>C</td>\n",
       "    </tr>\n",
       "    <tr>\n",
       "      <th>14</th>\n",
       "      <td>0</td>\n",
       "      <td>0</td>\n",
       "      <td>0</td>\n",
       "      <td>0</td>\n",
       "      <td>0</td>\n",
       "      <td>0</td>\n",
       "      <td>0</td>\n",
       "      <td>0</td>\n",
       "      <td>0</td>\n",
       "      <td>0</td>\n",
       "      <td>0</td>\n",
       "      <td>0</td>\n",
       "      <td>0</td>\n",
       "      <td>R</td>\n",
       "      <td>0</td>\n",
       "    </tr>\n",
       "  </tbody>\n",
       "</table>\n",
       "</div>"
      ],
      "text/plain": [
       "   0  1  2  3  4  5  6  7  8  9  10 11 12 13 14\n",
       "0   0  C  C  C  C  0  0  C  C  0  0  0  0  0  0\n",
       "1   R  0  0  0  0  C  0  0  0  C  C  0  0  0  0\n",
       "2   R  0  0  0  0  0  C  0  0  0  C  C  0  0  0\n",
       "3   R  0  0  0  0  0  C  0  0  C  0  0  C  0  0\n",
       "4   R  0  0  0  0  C  0  0  0  0  0  C  C  0  0\n",
       "5   0  R  0  0  R  0  0  0  0  0  0  0  0  0  C\n",
       "6   0  0  R  R  0  0  0  0  0  0  0  0  0  0  C\n",
       "7   0  0  0  0  0  0  0  0  0  C  0  C  0  C  0\n",
       "8   0  0  0  0  0  0  0  0  0  0  C  0  C  C  0\n",
       "9   0  0  0  0  0  0  0  R  0  0  0  0  0  0  C\n",
       "10  0  0  0  0  0  0  0  0  R  0  0  0  0  0  C\n",
       "11  0  0  0  0  0  0  0  R  0  0  0  0  0  0  C\n",
       "12  0  0  0  0  0  0  0  0  R  0  0  0  0  0  C\n",
       "13  0  0  0  0  0  0  0  0  0  0  0  0  0  0  C\n",
       "14  0  0  0  0  0  0  0  0  0  0  0  0  0  R  0"
      ]
     },
     "execution_count": 20,
     "metadata": {},
     "output_type": "execute_result"
    }
   ],
   "source": [
    "trans_mat_2 = np.full((len(iter_lst_2), len(iter_lst_2)), '0')\n",
    "\n",
    "for i in range(len(iter_lst_2)):\n",
    "    new_lst = recombination(iter_lst_2[i])\n",
    "    idx_lst = [iter_lst_2.index(j) for j in new_lst]\n",
    "    for j in idx_lst:\n",
    "        trans_mat_2[i,j]='R'\n",
    "    new_lst = coalescent(iter_lst_2[i])\n",
    "    idx_lst = [iter_lst_2.index(j) for j in new_lst]\n",
    "    for j in idx_lst:\n",
    "        trans_mat_2[i,j]='C'\n",
    "        \n",
    "pd.DataFrame(trans_mat_2)"
   ]
  },
  {
   "cell_type": "markdown",
   "id": "07f01660-6e32-44f6-b5da-7b36e4502448",
   "metadata": {},
   "source": [
    "We can get the same matrix in tidy format:"
   ]
  },
  {
   "cell_type": "code",
   "execution_count": 21,
   "id": "752d4dca-ece7-4329-9b54-2928488b5ea9",
   "metadata": {},
   "outputs": [
    {
     "data": {
      "text/html": [
       "<div>\n",
       "<style scoped>\n",
       "    .dataframe tbody tr th:only-of-type {\n",
       "        vertical-align: middle;\n",
       "    }\n",
       "\n",
       "    .dataframe tbody tr th {\n",
       "        vertical-align: top;\n",
       "    }\n",
       "\n",
       "    .dataframe thead th {\n",
       "        text-align: right;\n",
       "    }\n",
       "</style>\n",
       "<table border=\"1\" class=\"dataframe\">\n",
       "  <thead>\n",
       "    <tr style=\"text-align: right;\">\n",
       "      <th></th>\n",
       "      <th>value</th>\n",
       "      <th>from</th>\n",
       "      <th>to</th>\n",
       "    </tr>\n",
       "  </thead>\n",
       "  <tbody>\n",
       "    <tr>\n",
       "      <th>1</th>\n",
       "      <td>R</td>\n",
       "      <td>1</td>\n",
       "      <td>0</td>\n",
       "    </tr>\n",
       "    <tr>\n",
       "      <th>2</th>\n",
       "      <td>R</td>\n",
       "      <td>2</td>\n",
       "      <td>0</td>\n",
       "    </tr>\n",
       "    <tr>\n",
       "      <th>3</th>\n",
       "      <td>R</td>\n",
       "      <td>3</td>\n",
       "      <td>0</td>\n",
       "    </tr>\n",
       "    <tr>\n",
       "      <th>4</th>\n",
       "      <td>R</td>\n",
       "      <td>4</td>\n",
       "      <td>0</td>\n",
       "    </tr>\n",
       "    <tr>\n",
       "      <th>15</th>\n",
       "      <td>C</td>\n",
       "      <td>0</td>\n",
       "      <td>1</td>\n",
       "    </tr>\n",
       "  </tbody>\n",
       "</table>\n",
       "</div>"
      ],
      "text/plain": [
       "   value  from to\n",
       "1      R     1  0\n",
       "2      R     2  0\n",
       "3      R     3  0\n",
       "4      R     4  0\n",
       "15     C     0  1"
      ]
     },
     "execution_count": 21,
     "metadata": {},
     "output_type": "execute_result"
    }
   ],
   "source": [
    "df = pd.DataFrame(trans_mat_2)\n",
    "new_df = (df.rename_axis(index = 'from')\n",
    "            .reset_index()\n",
    "            .melt('from', var_name='to')\n",
    "            .reindex(columns = ['value','from','to']))\n",
    "tab_mat_2 = new_df[new_df['value'] != '0']\n",
    "tab_mat_2.head()"
   ]
  },
  {
   "cell_type": "markdown",
   "id": "cf240d97-9b06-4e59-84c2-ecf56574db65",
   "metadata": {},
   "source": [
    "Because the states returned by `get_states` are somewhat ordered, we can also get cutpoints for plotting the data that show the structure of the transition rate matrix. These cutpoints represent either the boundaries between the number of remaining alleles (transitions due to non-reversible coalescents) or the boundaries between the number of genomes (transitions due to reversible coalescents):"
   ]
  },
  {
   "cell_type": "code",
   "execution_count": 22,
   "id": "72f66984-1a9e-481d-aebd-13f98cc28442",
   "metadata": {},
   "outputs": [],
   "source": [
    "cutpoints_2_1 = []\n",
    "for i in range(1, len(iter_lst_2)):\n",
    "    if len(iter_lst_2[i]) < len(iter_lst_2[i-1]):\n",
    "        cutpoints_2_1.append(i)\n",
    "cutpoints_2_2 = []\n",
    "for i in range(1, len(iter_lst_2)):\n",
    "    if idx(iter_lst_2[i]) > idx(iter_lst_2[i-1]):\n",
    "        cutpoints_2_2.append(i)"
   ]
  },
  {
   "cell_type": "markdown",
   "id": "1c703ef7-e890-4840-ab0d-059013f509a4",
   "metadata": {},
   "source": [
    "The resulting matrix shows the transitions between all 15 states, where coalescents are in red and recombinations in blue. Gray lines represent reversible coalescent events, while black lines represent non-reversible coalescents. "
   ]
  },
  {
   "cell_type": "code",
   "execution_count": 23,
   "id": "c879d42f-31d8-4450-aa96-d049697a96ab",
   "metadata": {},
   "outputs": [
    {
     "name": "stderr",
     "output_type": "stream",
     "text": [
      "R[write to console]: ── Attaching packages ─────────────────────────────────────── tidyverse 1.3.1 ──\n",
      "\n",
      "R[write to console]: ✔ ggplot2 3.3.5     ✔ purrr   0.3.4\n",
      "✔ tibble  3.1.4     ✔ dplyr   1.0.7\n",
      "✔ tidyr   1.1.3     ✔ stringr 1.4.0\n",
      "✔ readr   2.0.1     ✔ forcats 0.5.1\n",
      "\n",
      "R[write to console]: ── Conflicts ────────────────────────────────────────── tidyverse_conflicts() ──\n",
      "✖ dplyr::filter() masks stats::filter()\n",
      "✖ dplyr::lag()    masks stats::lag()\n",
      "\n"
     ]
    },
    {
     "data": {
      "image/png": "[encoded data removed]"
     },
     "metadata": {},
     "output_type": "display_data"
    }
   ],
   "source": [
    "%%R -i tab_mat_2 -i cutpoints_2_1  -i cutpoints_2_2  -w 500 -h 500 -r 150\n",
    "\n",
    "library(tidyverse)\n",
    "\n",
    "cutpoints_2_1 <- tibble(x = unlist(cutpoints_2_1))\n",
    "cutpoints_2_2 <- tibble(x = unlist(cutpoints_2_2))\n",
    "a <- sort(c(0, max(tab_mat_2$to)+1, cutpoints_2_1$x, cutpoints_2_2$x))\n",
    "a <- a[-length(a)] + diff(a)/2 - 0.5\n",
    "b <- sort(c(0, max(tab_mat_2$to)+1, cutpoints_2_2$x))\n",
    "b <- b[-length(b)] + diff(b)/2 - 0.5\n",
    "\n",
    "\n",
    "\n",
    "as_tibble(tab_mat_2) %>% \n",
    "    ggplot() +\n",
    "    geom_tile(aes(to, from, fill = value)) +\n",
    "    geom_tile(aes(x, y, fill = fill), \n",
    "              data = tibble(x = 0:max(tab_mat_2$to), y = 0:max(tab_mat_2$to), fill = NA)) +\n",
    "    geom_hline(aes(yintercept = x-0.5), data = cutpoints_2_1, color = 'grey') +\n",
    "    geom_vline(aes(xintercept = x-0.5), data = cutpoints_2_1, color = 'grey') +\n",
    "    geom_hline(aes(yintercept = x-0.5), data = cutpoints_2_2) +\n",
    "    geom_vline(aes(xintercept = x-0.5), data = cutpoints_2_2) +\n",
    "    scale_y_reverse(\n",
    "        name = 'Number of genomes',\n",
    "        expand = c(0, 0), \n",
    "        breaks = a,\n",
    "        labels = c(4, 3, 2, 3, 2, 2, 1)\n",
    "    ) +\n",
    "    scale_x_continuous(\n",
    "        name = 'Number of alleles',\n",
    "        expand = c(0, 0),\n",
    "        breaks = b,\n",
    "        labels = 4:2,\n",
    "        position = \"top\"\n",
    "    ) +\n",
    "    theme(legend.position = 'none',\n",
    "          panel.border = element_rect(colour = \"black\", fill = NA, size = 1),\n",
    "          axis.line=element_blank(),\n",
    "          panel.background=element_blank(),panel.grid.major=element_blank(),\n",
    "          panel.grid.minor=element_blank(),plot.background=element_blank()) +\n",
    "    scale_fill_manual(values = c('red', 'blue')) "
   ]
  },
  {
   "cell_type": "code",
   "execution_count": 24,
   "id": "e235e34a-f01f-4903-acbf-bd1e04583dfd",
   "metadata": {},
   "outputs": [
    {
     "data": {
      "text/plain": [
       "[[(0, 1), (0, 2), (1, 0), (2, 0)],\n",
       " [(0, 2), (1, 1), (2, 0)],\n",
       " [(0, 2), (1, 0), (2, 1)],\n",
       " [(0, 1), (1, 2), (2, 0)],\n",
       " [(0, 1), (1, 0), (2, 2)],\n",
       " [(1, 1), (2, 2)],\n",
       " [(1, 2), (2, 1)],\n",
       " [(0, 3), (1, 0), (2, 0)],\n",
       " [(0, 1), (0, 2), (3, 0)],\n",
       " [(1, 3), (2, 0)],\n",
       " [(0, 2), (3, 1)],\n",
       " [(1, 0), (2, 3)],\n",
       " [(0, 1), (3, 2)],\n",
       " [(0, 3), (3, 0)],\n",
       " [(3, 3)]]"
      ]
     },
     "execution_count": 24,
     "metadata": {},
     "output_type": "execute_result"
    }
   ],
   "source": [
    "iter_lst_2"
   ]
  },
  {
   "cell_type": "code",
   "execution_count": 30,
   "id": "94cb3823-9d15-4494-aa53-2d89d2b225be",
   "metadata": {},
   "outputs": [],
   "source": [
    "dat = pd.DataFrame(columns = ['id', 'seg_y', 'seg_xmin', 'seg_xmax', 'dot_color_left', 'dot_color_right'])"
   ]
  },
  {
   "cell_type": "code",
   "execution_count": 29,
   "id": "e7a94b2e-a6b4-4085-aecb-46a5014098a5",
   "metadata": {},
   "outputs": [
    {
     "name": "stdout",
     "output_type": "stream",
     "text": [
      "(0, 1)\n",
      "(0, 2)\n",
      "(1, 0)\n",
      "(2, 0)\n"
     ]
    }
   ],
   "source": [
    "for i in iter_lst_2[0]:\n",
    "    print(i)"
   ]
  },
  {
   "cell_type": "code",
   "execution_count": 37,
   "id": "c20d0d4e-cee9-45a9-abc4-86d821c255f5",
   "metadata": {},
   "outputs": [
    {
     "data": {
      "text/html": [
       "<div>\n",
       "<style scoped>\n",
       "    .dataframe tbody tr th:only-of-type {\n",
       "        vertical-align: middle;\n",
       "    }\n",
       "\n",
       "    .dataframe tbody tr th {\n",
       "        vertical-align: top;\n",
       "    }\n",
       "\n",
       "    .dataframe thead th {\n",
       "        text-align: right;\n",
       "    }\n",
       "</style>\n",
       "<table border=\"1\" class=\"dataframe\">\n",
       "  <thead>\n",
       "    <tr style=\"text-align: right;\">\n",
       "      <th></th>\n",
       "      <th>id</th>\n",
       "      <th>seg_y</th>\n",
       "      <th>seg_xmin</th>\n",
       "      <th>seg_xmax</th>\n",
       "      <th>dot_color_left</th>\n",
       "      <th>dot_color_right</th>\n",
       "    </tr>\n",
       "  </thead>\n",
       "  <tbody>\n",
       "    <tr>\n",
       "      <th>0</th>\n",
       "      <td>0</td>\n",
       "      <td>0</td>\n",
       "      <td>0</td>\n",
       "      <td>1</td>\n",
       "      <td>-</td>\n",
       "      <td>1</td>\n",
       "    </tr>\n",
       "    <tr>\n",
       "      <th>1</th>\n",
       "      <td>0</td>\n",
       "      <td>1</td>\n",
       "      <td>0</td>\n",
       "      <td>1</td>\n",
       "      <td>-</td>\n",
       "      <td>2</td>\n",
       "    </tr>\n",
       "    <tr>\n",
       "      <th>2</th>\n",
       "      <td>0</td>\n",
       "      <td>2</td>\n",
       "      <td>-1</td>\n",
       "      <td>0</td>\n",
       "      <td>1</td>\n",
       "      <td>-</td>\n",
       "    </tr>\n",
       "    <tr>\n",
       "      <th>3</th>\n",
       "      <td>0</td>\n",
       "      <td>3</td>\n",
       "      <td>-1</td>\n",
       "      <td>0</td>\n",
       "      <td>2</td>\n",
       "      <td>-</td>\n",
       "    </tr>\n",
       "    <tr>\n",
       "      <th>4</th>\n",
       "      <td>1</td>\n",
       "      <td>0</td>\n",
       "      <td>0</td>\n",
       "      <td>1</td>\n",
       "      <td>-</td>\n",
       "      <td>2</td>\n",
       "    </tr>\n",
       "    <tr>\n",
       "      <th>5</th>\n",
       "      <td>1</td>\n",
       "      <td>1</td>\n",
       "      <td>-1</td>\n",
       "      <td>1</td>\n",
       "      <td>1</td>\n",
       "      <td>1</td>\n",
       "    </tr>\n",
       "    <tr>\n",
       "      <th>6</th>\n",
       "      <td>1</td>\n",
       "      <td>2</td>\n",
       "      <td>-1</td>\n",
       "      <td>0</td>\n",
       "      <td>2</td>\n",
       "      <td>-</td>\n",
       "    </tr>\n",
       "    <tr>\n",
       "      <th>7</th>\n",
       "      <td>2</td>\n",
       "      <td>0</td>\n",
       "      <td>0</td>\n",
       "      <td>1</td>\n",
       "      <td>-</td>\n",
       "      <td>2</td>\n",
       "    </tr>\n",
       "    <tr>\n",
       "      <th>8</th>\n",
       "      <td>2</td>\n",
       "      <td>1</td>\n",
       "      <td>-1</td>\n",
       "      <td>0</td>\n",
       "      <td>1</td>\n",
       "      <td>-</td>\n",
       "    </tr>\n",
       "    <tr>\n",
       "      <th>9</th>\n",
       "      <td>2</td>\n",
       "      <td>2</td>\n",
       "      <td>-1</td>\n",
       "      <td>1</td>\n",
       "      <td>2</td>\n",
       "      <td>1</td>\n",
       "    </tr>\n",
       "    <tr>\n",
       "      <th>10</th>\n",
       "      <td>3</td>\n",
       "      <td>0</td>\n",
       "      <td>0</td>\n",
       "      <td>1</td>\n",
       "      <td>-</td>\n",
       "      <td>1</td>\n",
       "    </tr>\n",
       "    <tr>\n",
       "      <th>11</th>\n",
       "      <td>3</td>\n",
       "      <td>1</td>\n",
       "      <td>-1</td>\n",
       "      <td>1</td>\n",
       "      <td>1</td>\n",
       "      <td>2</td>\n",
       "    </tr>\n",
       "    <tr>\n",
       "      <th>12</th>\n",
       "      <td>3</td>\n",
       "      <td>2</td>\n",
       "      <td>-1</td>\n",
       "      <td>0</td>\n",
       "      <td>2</td>\n",
       "      <td>-</td>\n",
       "    </tr>\n",
       "    <tr>\n",
       "      <th>13</th>\n",
       "      <td>4</td>\n",
       "      <td>0</td>\n",
       "      <td>0</td>\n",
       "      <td>1</td>\n",
       "      <td>-</td>\n",
       "      <td>1</td>\n",
       "    </tr>\n",
       "    <tr>\n",
       "      <th>14</th>\n",
       "      <td>4</td>\n",
       "      <td>1</td>\n",
       "      <td>-1</td>\n",
       "      <td>0</td>\n",
       "      <td>1</td>\n",
       "      <td>-</td>\n",
       "    </tr>\n",
       "    <tr>\n",
       "      <th>15</th>\n",
       "      <td>4</td>\n",
       "      <td>2</td>\n",
       "      <td>-1</td>\n",
       "      <td>1</td>\n",
       "      <td>2</td>\n",
       "      <td>2</td>\n",
       "    </tr>\n",
       "    <tr>\n",
       "      <th>16</th>\n",
       "      <td>5</td>\n",
       "      <td>0</td>\n",
       "      <td>-1</td>\n",
       "      <td>1</td>\n",
       "      <td>1</td>\n",
       "      <td>1</td>\n",
       "    </tr>\n",
       "    <tr>\n",
       "      <th>17</th>\n",
       "      <td>5</td>\n",
       "      <td>1</td>\n",
       "      <td>-1</td>\n",
       "      <td>1</td>\n",
       "      <td>2</td>\n",
       "      <td>2</td>\n",
       "    </tr>\n",
       "    <tr>\n",
       "      <th>18</th>\n",
       "      <td>6</td>\n",
       "      <td>0</td>\n",
       "      <td>-1</td>\n",
       "      <td>1</td>\n",
       "      <td>1</td>\n",
       "      <td>2</td>\n",
       "    </tr>\n",
       "    <tr>\n",
       "      <th>19</th>\n",
       "      <td>6</td>\n",
       "      <td>1</td>\n",
       "      <td>-1</td>\n",
       "      <td>1</td>\n",
       "      <td>2</td>\n",
       "      <td>1</td>\n",
       "    </tr>\n",
       "    <tr>\n",
       "      <th>20</th>\n",
       "      <td>7</td>\n",
       "      <td>0</td>\n",
       "      <td>0</td>\n",
       "      <td>1</td>\n",
       "      <td>-</td>\n",
       "      <td>3</td>\n",
       "    </tr>\n",
       "    <tr>\n",
       "      <th>21</th>\n",
       "      <td>7</td>\n",
       "      <td>1</td>\n",
       "      <td>-1</td>\n",
       "      <td>0</td>\n",
       "      <td>1</td>\n",
       "      <td>-</td>\n",
       "    </tr>\n",
       "    <tr>\n",
       "      <th>22</th>\n",
       "      <td>7</td>\n",
       "      <td>2</td>\n",
       "      <td>-1</td>\n",
       "      <td>0</td>\n",
       "      <td>2</td>\n",
       "      <td>-</td>\n",
       "    </tr>\n",
       "    <tr>\n",
       "      <th>23</th>\n",
       "      <td>8</td>\n",
       "      <td>0</td>\n",
       "      <td>0</td>\n",
       "      <td>1</td>\n",
       "      <td>-</td>\n",
       "      <td>1</td>\n",
       "    </tr>\n",
       "    <tr>\n",
       "      <th>24</th>\n",
       "      <td>8</td>\n",
       "      <td>1</td>\n",
       "      <td>0</td>\n",
       "      <td>1</td>\n",
       "      <td>-</td>\n",
       "      <td>2</td>\n",
       "    </tr>\n",
       "    <tr>\n",
       "      <th>25</th>\n",
       "      <td>8</td>\n",
       "      <td>2</td>\n",
       "      <td>-1</td>\n",
       "      <td>0</td>\n",
       "      <td>3</td>\n",
       "      <td>-</td>\n",
       "    </tr>\n",
       "    <tr>\n",
       "      <th>26</th>\n",
       "      <td>9</td>\n",
       "      <td>0</td>\n",
       "      <td>-1</td>\n",
       "      <td>1</td>\n",
       "      <td>1</td>\n",
       "      <td>3</td>\n",
       "    </tr>\n",
       "    <tr>\n",
       "      <th>27</th>\n",
       "      <td>9</td>\n",
       "      <td>1</td>\n",
       "      <td>-1</td>\n",
       "      <td>0</td>\n",
       "      <td>2</td>\n",
       "      <td>-</td>\n",
       "    </tr>\n",
       "    <tr>\n",
       "      <th>28</th>\n",
       "      <td>10</td>\n",
       "      <td>0</td>\n",
       "      <td>0</td>\n",
       "      <td>1</td>\n",
       "      <td>-</td>\n",
       "      <td>2</td>\n",
       "    </tr>\n",
       "    <tr>\n",
       "      <th>29</th>\n",
       "      <td>10</td>\n",
       "      <td>1</td>\n",
       "      <td>-1</td>\n",
       "      <td>1</td>\n",
       "      <td>3</td>\n",
       "      <td>1</td>\n",
       "    </tr>\n",
       "    <tr>\n",
       "      <th>30</th>\n",
       "      <td>11</td>\n",
       "      <td>0</td>\n",
       "      <td>-1</td>\n",
       "      <td>0</td>\n",
       "      <td>1</td>\n",
       "      <td>-</td>\n",
       "    </tr>\n",
       "    <tr>\n",
       "      <th>31</th>\n",
       "      <td>11</td>\n",
       "      <td>1</td>\n",
       "      <td>-1</td>\n",
       "      <td>1</td>\n",
       "      <td>2</td>\n",
       "      <td>3</td>\n",
       "    </tr>\n",
       "    <tr>\n",
       "      <th>32</th>\n",
       "      <td>12</td>\n",
       "      <td>0</td>\n",
       "      <td>0</td>\n",
       "      <td>1</td>\n",
       "      <td>-</td>\n",
       "      <td>1</td>\n",
       "    </tr>\n",
       "    <tr>\n",
       "      <th>33</th>\n",
       "      <td>12</td>\n",
       "      <td>1</td>\n",
       "      <td>-1</td>\n",
       "      <td>1</td>\n",
       "      <td>3</td>\n",
       "      <td>2</td>\n",
       "    </tr>\n",
       "    <tr>\n",
       "      <th>34</th>\n",
       "      <td>13</td>\n",
       "      <td>0</td>\n",
       "      <td>0</td>\n",
       "      <td>1</td>\n",
       "      <td>-</td>\n",
       "      <td>3</td>\n",
       "    </tr>\n",
       "    <tr>\n",
       "      <th>35</th>\n",
       "      <td>13</td>\n",
       "      <td>1</td>\n",
       "      <td>-1</td>\n",
       "      <td>0</td>\n",
       "      <td>3</td>\n",
       "      <td>-</td>\n",
       "    </tr>\n",
       "    <tr>\n",
       "      <th>36</th>\n",
       "      <td>14</td>\n",
       "      <td>0</td>\n",
       "      <td>-1</td>\n",
       "      <td>1</td>\n",
       "      <td>3</td>\n",
       "      <td>3</td>\n",
       "    </tr>\n",
       "  </tbody>\n",
       "</table>\n",
       "</div>"
      ],
      "text/plain": [
       "    id seg_y seg_xmin seg_xmax dot_color_left dot_color_right\n",
       "0    0     0        0        1              -               1\n",
       "1    0     1        0        1              -               2\n",
       "2    0     2       -1        0              1               -\n",
       "3    0     3       -1        0              2               -\n",
       "4    1     0        0        1              -               2\n",
       "5    1     1       -1        1              1               1\n",
       "6    1     2       -1        0              2               -\n",
       "7    2     0        0        1              -               2\n",
       "8    2     1       -1        0              1               -\n",
       "9    2     2       -1        1              2               1\n",
       "10   3     0        0        1              -               1\n",
       "11   3     1       -1        1              1               2\n",
       "12   3     2       -1        0              2               -\n",
       "13   4     0        0        1              -               1\n",
       "14   4     1       -1        0              1               -\n",
       "15   4     2       -1        1              2               2\n",
       "16   5     0       -1        1              1               1\n",
       "17   5     1       -1        1              2               2\n",
       "18   6     0       -1        1              1               2\n",
       "19   6     1       -1        1              2               1\n",
       "20   7     0        0        1              -               3\n",
       "21   7     1       -1        0              1               -\n",
       "22   7     2       -1        0              2               -\n",
       "23   8     0        0        1              -               1\n",
       "24   8     1        0        1              -               2\n",
       "25   8     2       -1        0              3               -\n",
       "26   9     0       -1        1              1               3\n",
       "27   9     1       -1        0              2               -\n",
       "28  10     0        0        1              -               2\n",
       "29  10     1       -1        1              3               1\n",
       "30  11     0       -1        0              1               -\n",
       "31  11     1       -1        1              2               3\n",
       "32  12     0        0        1              -               1\n",
       "33  12     1       -1        1              3               2\n",
       "34  13     0        0        1              -               3\n",
       "35  13     1       -1        0              3               -\n",
       "36  14     0       -1        1              3               3"
      ]
     },
     "execution_count": 37,
     "metadata": {},
     "output_type": "execute_result"
    }
   ],
   "source": [
    "dat = pd.DataFrame(columns = ['id', 'seg_y', 'seg_xmin', 'seg_xmax', 'dot_color_left', 'dot_color_right'])\n",
    "for i in range(len(iter_lst_2)):\n",
    "    for j in range(len(iter_lst_2[i])):\n",
    "        if iter_lst_2[i][j][0] == 0:\n",
    "            xmin = 0\n",
    "            xmax = 1\n",
    "            left = '-'\n",
    "            right = str(iter_lst_2[i][j][1])\n",
    "        elif iter_lst_2[i][j][1] == 0:\n",
    "            xmin = -1\n",
    "            xmax = 0\n",
    "            left = str(iter_lst_2[i][j][0])\n",
    "            right = '-'\n",
    "        else:\n",
    "            xmin = -1\n",
    "            xmax = 1\n",
    "            left = str(iter_lst_2[i][j][0])\n",
    "            right = str(iter_lst_2[i][j][1])\n",
    "        dat.loc[len(dat)] = [i, j, xmin, xmax, left, right]\n",
    "dat"
   ]
  },
  {
   "cell_type": "code",
   "execution_count": 68,
   "id": "b2dd4779-5563-4e88-8e82-878c0d3076bb",
   "metadata": {},
   "outputs": [
    {
     "data": {
      "image/png": "[encoded data removed]"
     },
     "metadata": {},
     "output_type": "display_data"
    }
   ],
   "source": [
    "%%R -i dat\n",
    "\n",
    "as_tibble(dat) %>%\n",
    "    mutate(\n",
    "        dot_color_left = ifelse(dot_color_left == '-', NA, dot_color_left),\n",
    "        dot_color_right = ifelse(dot_color_right == '-', NA, dot_color_right)\n",
    "    ) %>%\n",
    "    ggplot() +\n",
    "    geom_segment(aes(x = seg_xmin, xend = seg_xmax,\n",
    "                     y = seg_y, yend = seg_y)) +\n",
    "    geom_point(aes(x = seg_xmin, y = seg_y, color = dot_color_left,\n",
    "                  shape = dot_color_left %in% c('1', '2', '4')),\n",
    "              size = 4) +\n",
    "    geom_point(aes(x = seg_xmax, y = seg_y, color = dot_color_right,\n",
    "              shape = dot_color_right %in% c('1', '2', '4')),\n",
    "              size = 4) +\n",
    "    theme_void() +\n",
    "    facet_wrap(~id, scales = 'free') +\n",
    "    scale_color_discrete(na.value = 'transparent') +\n",
    "    scale_x_continuous(expand = c(0.2, 0.2)) +\n",
    "    scale_y_continuous(expand = c(0.2, 0.2)) +\n",
    "    scale_shape_manual(values=c(19, 4)) +\n",
    "    theme(legend.position = 'none',\n",
    "          panel.border = element_rect(colour = \"black\", fill = NA, size = 1),\n",
    "          axis.line=element_blank(),\n",
    "          panel.background=element_blank(),panel.grid.major=element_blank(),\n",
    "          panel.grid.minor=element_blank(),plot.background=element_blank()) "
   ]
  },
  {
   "cell_type": "code",
   "execution_count": null,
   "id": "527621b8-3994-49b5-a62e-be2d0a937a79",
   "metadata": {},
   "outputs": [],
   "source": []
  },
  {
   "cell_type": "code",
   "execution_count": null,
   "id": "39e4de60-b17d-4e70-9702-f02a659f57ed",
   "metadata": {},
   "outputs": [],
   "source": []
  },
  {
   "cell_type": "code",
   "execution_count": null,
   "id": "134f34cf-5dd4-4165-9644-e7186a7ea36e",
   "metadata": {},
   "outputs": [],
   "source": []
  },
  {
   "cell_type": "code",
   "execution_count": null,
   "id": "0062c116-30a7-4160-ab75-6c647b2b373c",
   "metadata": {},
   "outputs": [],
   "source": []
  },
  {
   "cell_type": "code",
   "execution_count": null,
   "id": "1a8f3bc3-0a2f-4320-b25f-c8b4684a4b0a",
   "metadata": {},
   "outputs": [],
   "source": []
  },
  {
   "cell_type": "code",
   "execution_count": null,
   "id": "12d1e2e6-6479-4432-bd8d-8f2ae792c193",
   "metadata": {},
   "outputs": [],
   "source": []
  },
  {
   "cell_type": "markdown",
   "id": "115303fe-f7b7-4232-b657-b52226fdc413",
   "metadata": {},
   "source": [
    "## Three populations"
   ]
  },
  {
   "cell_type": "code",
   "execution_count": 21,
   "id": "535b35a9-0c3a-4f46-9600-72c08fc06f77",
   "metadata": {},
   "outputs": [
    {
     "data": {
      "text/plain": [
       "203"
      ]
     },
     "execution_count": 21,
     "metadata": {},
     "output_type": "execute_result"
    }
   ],
   "source": [
    "state_3 = [[(0, 1), (0, 2), (0, 4), (1, 0), (2, 0), (4, 0)]]\n",
    "\n",
    "iter_lst_3 = get_states(state_3)\n",
    "len(iter_lst_3)"
   ]
  },
  {
   "cell_type": "code",
   "execution_count": 22,
   "id": "06cf0edc-89fb-46dd-b6c5-14a558491b2f",
   "metadata": {},
   "outputs": [],
   "source": [
    "#state_3 = [[(0, 1), (0, 2), (0, 4), (1, 0), (2, 0), (4, 0)]]\n",
    "#iter_lst_3 = get_states_parallel(state_n)\n",
    "#len(iter_lst_3)"
   ]
  },
  {
   "cell_type": "code",
   "execution_count": 207,
   "id": "1f43fdbe-52ff-423e-acb9-07945b1e1a53",
   "metadata": {},
   "outputs": [
    {
     "ename": "UnicodeEncodeError",
     "evalue": "'latin-1' codec can't encode character '\\u25cf' in position 307: ordinal not in range(256)",
     "output_type": "error",
     "traceback": [
      "\u001b[0;31m---------------------------------------------------------------------------\u001b[0m",
      "\u001b[0;31mUnicodeEncodeError\u001b[0m                        Traceback (most recent call last)",
      "\u001b[0;32m/scratch/56246862/ipykernel_46015/3884026510.py\u001b[0m in \u001b[0;36m<module>\u001b[0;34m\u001b[0m\n\u001b[1;32m      7\u001b[0m \u001b[0mpdf\u001b[0m\u001b[0;34m.\u001b[0m\u001b[0mset_font\u001b[0m\u001b[0;34m(\u001b[0m\u001b[0;34m'Arial'\u001b[0m\u001b[0;34m,\u001b[0m \u001b[0;34m'B'\u001b[0m\u001b[0;34m,\u001b[0m \u001b[0;36m16\u001b[0m\u001b[0;34m)\u001b[0m\u001b[0;34m\u001b[0m\u001b[0;34m\u001b[0m\u001b[0m\n\u001b[1;32m      8\u001b[0m \u001b[0mpdf\u001b[0m\u001b[0;34m.\u001b[0m\u001b[0mcell\u001b[0m\u001b[0;34m(\u001b[0m\u001b[0;36m40\u001b[0m\u001b[0;34m,\u001b[0m \u001b[0;36m10\u001b[0m\u001b[0;34m,\u001b[0m \u001b[0mprint_all_states\u001b[0m\u001b[0;34m(\u001b[0m\u001b[0miter_lst_3\u001b[0m\u001b[0;34m,\u001b[0m \u001b[0;36m29\u001b[0m\u001b[0;34m)\u001b[0m\u001b[0;34m[\u001b[0m\u001b[0;36m0\u001b[0m\u001b[0;34m]\u001b[0m\u001b[0;34m)\u001b[0m\u001b[0;34m\u001b[0m\u001b[0;34m\u001b[0m\u001b[0m\n\u001b[0;32m----> 9\u001b[0;31m \u001b[0mpdf\u001b[0m\u001b[0;34m.\u001b[0m\u001b[0moutput\u001b[0m\u001b[0;34m(\u001b[0m\u001b[0;34m'tuto1.pdf'\u001b[0m\u001b[0;34m,\u001b[0m \u001b[0;34m'F'\u001b[0m\u001b[0;34m)\u001b[0m\u001b[0;34m\u001b[0m\u001b[0;34m\u001b[0m\u001b[0m\n\u001b[0m\u001b[1;32m     10\u001b[0m \u001b[0;34m\u001b[0m\u001b[0m\n",
      "\u001b[0;32m~/Programs/anaconda3/envs/phasetype/lib/python3.7/site-packages/fpdf/fpdf.py\u001b[0m in \u001b[0;36moutput\u001b[0;34m(self, name, dest)\u001b[0m\n\u001b[1;32m   1063\u001b[0m         \u001b[0;31m#Finish document if necessary\u001b[0m\u001b[0;34m\u001b[0m\u001b[0;34m\u001b[0m\u001b[0;34m\u001b[0m\u001b[0m\n\u001b[1;32m   1064\u001b[0m         \u001b[0;32mif\u001b[0m\u001b[0;34m(\u001b[0m\u001b[0mself\u001b[0m\u001b[0;34m.\u001b[0m\u001b[0mstate\u001b[0m\u001b[0;34m<\u001b[0m\u001b[0;36m3\u001b[0m\u001b[0;34m)\u001b[0m\u001b[0;34m:\u001b[0m\u001b[0;34m\u001b[0m\u001b[0;34m\u001b[0m\u001b[0m\n\u001b[0;32m-> 1065\u001b[0;31m             \u001b[0mself\u001b[0m\u001b[0;34m.\u001b[0m\u001b[0mclose\u001b[0m\u001b[0;34m(\u001b[0m\u001b[0;34m)\u001b[0m\u001b[0;34m\u001b[0m\u001b[0;34m\u001b[0m\u001b[0m\n\u001b[0m\u001b[1;32m   1066\u001b[0m         \u001b[0mdest\u001b[0m\u001b[0;34m=\u001b[0m\u001b[0mdest\u001b[0m\u001b[0;34m.\u001b[0m\u001b[0mupper\u001b[0m\u001b[0;34m(\u001b[0m\u001b[0;34m)\u001b[0m\u001b[0;34m\u001b[0m\u001b[0;34m\u001b[0m\u001b[0m\n\u001b[1;32m   1067\u001b[0m         \u001b[0;32mif\u001b[0m\u001b[0;34m(\u001b[0m\u001b[0mdest\u001b[0m\u001b[0;34m==\u001b[0m\u001b[0;34m''\u001b[0m\u001b[0;34m)\u001b[0m\u001b[0;34m:\u001b[0m\u001b[0;34m\u001b[0m\u001b[0;34m\u001b[0m\u001b[0m\n",
      "\u001b[0;32m~/Programs/anaconda3/envs/phasetype/lib/python3.7/site-packages/fpdf/fpdf.py\u001b[0m in \u001b[0;36mclose\u001b[0;34m(self)\u001b[0m\n\u001b[1;32m    244\u001b[0m         \u001b[0mself\u001b[0m\u001b[0;34m.\u001b[0m\u001b[0m_endpage\u001b[0m\u001b[0;34m(\u001b[0m\u001b[0;34m)\u001b[0m\u001b[0;34m\u001b[0m\u001b[0;34m\u001b[0m\u001b[0m\n\u001b[1;32m    245\u001b[0m         \u001b[0;31m#close document\u001b[0m\u001b[0;34m\u001b[0m\u001b[0;34m\u001b[0m\u001b[0;34m\u001b[0m\u001b[0m\n\u001b[0;32m--> 246\u001b[0;31m         \u001b[0mself\u001b[0m\u001b[0;34m.\u001b[0m\u001b[0m_enddoc\u001b[0m\u001b[0;34m(\u001b[0m\u001b[0;34m)\u001b[0m\u001b[0;34m\u001b[0m\u001b[0;34m\u001b[0m\u001b[0m\n\u001b[0m\u001b[1;32m    247\u001b[0m \u001b[0;34m\u001b[0m\u001b[0m\n\u001b[1;32m    248\u001b[0m     \u001b[0;32mdef\u001b[0m \u001b[0madd_page\u001b[0m\u001b[0;34m(\u001b[0m\u001b[0mself\u001b[0m\u001b[0;34m,\u001b[0m \u001b[0morientation\u001b[0m\u001b[0;34m=\u001b[0m\u001b[0;34m''\u001b[0m\u001b[0;34m)\u001b[0m\u001b[0;34m:\u001b[0m\u001b[0;34m\u001b[0m\u001b[0;34m\u001b[0m\u001b[0m\n",
      "\u001b[0;32m~/Programs/anaconda3/envs/phasetype/lib/python3.7/site-packages/fpdf/fpdf.py\u001b[0m in \u001b[0;36m_enddoc\u001b[0;34m(self)\u001b[0m\n\u001b[1;32m   1634\u001b[0m     \u001b[0;32mdef\u001b[0m \u001b[0m_enddoc\u001b[0m\u001b[0;34m(\u001b[0m\u001b[0mself\u001b[0m\u001b[0;34m)\u001b[0m\u001b[0;34m:\u001b[0m\u001b[0;34m\u001b[0m\u001b[0;34m\u001b[0m\u001b[0m\n\u001b[1;32m   1635\u001b[0m         \u001b[0mself\u001b[0m\u001b[0;34m.\u001b[0m\u001b[0m_putheader\u001b[0m\u001b[0;34m(\u001b[0m\u001b[0;34m)\u001b[0m\u001b[0;34m\u001b[0m\u001b[0;34m\u001b[0m\u001b[0m\n\u001b[0;32m-> 1636\u001b[0;31m         \u001b[0mself\u001b[0m\u001b[0;34m.\u001b[0m\u001b[0m_putpages\u001b[0m\u001b[0;34m(\u001b[0m\u001b[0;34m)\u001b[0m\u001b[0;34m\u001b[0m\u001b[0;34m\u001b[0m\u001b[0m\n\u001b[0m\u001b[1;32m   1637\u001b[0m         \u001b[0mself\u001b[0m\u001b[0;34m.\u001b[0m\u001b[0m_putresources\u001b[0m\u001b[0;34m(\u001b[0m\u001b[0;34m)\u001b[0m\u001b[0;34m\u001b[0m\u001b[0;34m\u001b[0m\u001b[0m\n\u001b[1;32m   1638\u001b[0m         \u001b[0;31m#Info\u001b[0m\u001b[0;34m\u001b[0m\u001b[0;34m\u001b[0m\u001b[0;34m\u001b[0m\u001b[0m\n",
      "\u001b[0;32m~/Programs/anaconda3/envs/phasetype/lib/python3.7/site-packages/fpdf/fpdf.py\u001b[0m in \u001b[0;36m_putpages\u001b[0;34m(self)\u001b[0m\n\u001b[1;32m   1168\u001b[0m             \u001b[0;32mif\u001b[0m \u001b[0mself\u001b[0m\u001b[0;34m.\u001b[0m\u001b[0mcompress\u001b[0m\u001b[0;34m:\u001b[0m\u001b[0;34m\u001b[0m\u001b[0;34m\u001b[0m\u001b[0m\n\u001b[1;32m   1169\u001b[0m                 \u001b[0;31m# manage binary data as latin1 until PEP461 or similar is implemented\u001b[0m\u001b[0;34m\u001b[0m\u001b[0;34m\u001b[0m\u001b[0;34m\u001b[0m\u001b[0m\n\u001b[0;32m-> 1170\u001b[0;31m                 \u001b[0mp\u001b[0m \u001b[0;34m=\u001b[0m \u001b[0mself\u001b[0m\u001b[0;34m.\u001b[0m\u001b[0mpages\u001b[0m\u001b[0;34m[\u001b[0m\u001b[0mn\u001b[0m\u001b[0;34m]\u001b[0m\u001b[0;34m.\u001b[0m\u001b[0mencode\u001b[0m\u001b[0;34m(\u001b[0m\u001b[0;34m\"latin1\"\u001b[0m\u001b[0;34m)\u001b[0m \u001b[0;32mif\u001b[0m \u001b[0mPY3K\u001b[0m \u001b[0;32melse\u001b[0m \u001b[0mself\u001b[0m\u001b[0;34m.\u001b[0m\u001b[0mpages\u001b[0m\u001b[0;34m[\u001b[0m\u001b[0mn\u001b[0m\u001b[0;34m]\u001b[0m\u001b[0;34m\u001b[0m\u001b[0;34m\u001b[0m\u001b[0m\n\u001b[0m\u001b[1;32m   1171\u001b[0m                 \u001b[0mp\u001b[0m \u001b[0;34m=\u001b[0m \u001b[0mzlib\u001b[0m\u001b[0;34m.\u001b[0m\u001b[0mcompress\u001b[0m\u001b[0;34m(\u001b[0m\u001b[0mp\u001b[0m\u001b[0;34m)\u001b[0m\u001b[0;34m\u001b[0m\u001b[0;34m\u001b[0m\u001b[0m\n\u001b[1;32m   1172\u001b[0m             \u001b[0;32melse\u001b[0m\u001b[0;34m:\u001b[0m\u001b[0;34m\u001b[0m\u001b[0;34m\u001b[0m\u001b[0m\n",
      "\u001b[0;31mUnicodeEncodeError\u001b[0m: 'latin-1' codec can't encode character '\\u25cf' in position 307: ordinal not in range(256)"
     ]
    }
   ],
   "source": [
    "import fpdf\n",
    "\n",
    "\n",
    "\n",
    "pdf = fpdf.FPDF()\n",
    "pdf.add_page()\n",
    "pdf.set_font('Arial', 'B', 16)\n",
    "pdf.cell(40, 10, print_all_states(iter_lst_3, 29)[0])\n",
    "pdf.output('tuto1.pdf', 'F')\n",
    "\n"
   ]
  },
  {
   "cell_type": "code",
   "execution_count": 203,
   "id": "d9d2534f-b32b-4d32-87df-b57612fdd992",
   "metadata": {},
   "outputs": [
    {
     "ename": "ModuleNotFoundError",
     "evalue": "No module named 'fpdf'",
     "output_type": "error",
     "traceback": [
      "\u001b[0;31m---------------------------------------------------------------------------\u001b[0m",
      "\u001b[0;31mModuleNotFoundError\u001b[0m                       Traceback (most recent call last)",
      "\u001b[0;32m/scratch/56246862/ipykernel_46015/3990704542.py\u001b[0m in \u001b[0;36m<module>\u001b[0;34m\u001b[0m\n\u001b[0;32m----> 1\u001b[0;31m \u001b[0;32mimport\u001b[0m \u001b[0mfpdf\u001b[0m\u001b[0;34m\u001b[0m\u001b[0;34m\u001b[0m\u001b[0m\n\u001b[0m\u001b[1;32m      2\u001b[0m \u001b[0;34m\u001b[0m\u001b[0m\n\u001b[1;32m      3\u001b[0m \u001b[0;32mfor\u001b[0m \u001b[0mi\u001b[0m \u001b[0;32min\u001b[0m \u001b[0mprint_all_states\u001b[0m\u001b[0;34m(\u001b[0m\u001b[0miter_lst_3\u001b[0m\u001b[0;34m,\u001b[0m \u001b[0;36m29\u001b[0m\u001b[0;34m)\u001b[0m\u001b[0;34m:\u001b[0m\u001b[0;34m\u001b[0m\u001b[0;34m\u001b[0m\u001b[0m\n\u001b[1;32m      4\u001b[0m     \u001b[0mprint\u001b[0m\u001b[0;34m(\u001b[0m\u001b[0mi\u001b[0m\u001b[0;34m)\u001b[0m\u001b[0;34m\u001b[0m\u001b[0;34m\u001b[0m\u001b[0m\n",
      "\u001b[0;31mModuleNotFoundError\u001b[0m: No module named 'fpdf'"
     ]
    }
   ],
   "source": [
    "\n",
    "\n",
    "for i in print_all_states(iter_lst_3, 29):\n",
    "    print(i)"
   ]
  },
  {
   "cell_type": "code",
   "execution_count": 24,
   "id": "a4a7198c-9e45-4269-9bae-f9c587ce6998",
   "metadata": {},
   "outputs": [
    {
     "data": {
      "text/plain": [
       "[1, 10, 28, 40, 76, 123, 165, 189, 202]"
      ]
     },
     "execution_count": 24,
     "metadata": {},
     "output_type": "execute_result"
    }
   ],
   "source": [
    "cutpoints_3_1 = []\n",
    "for i in range(1, len(iter_lst_3)):\n",
    "    if len(iter_lst_3[i]) < len(iter_lst_3[i-1]):\n",
    "        cutpoints_3_1.append(i)\n",
    "cutpoints_3_1"
   ]
  },
  {
   "cell_type": "code",
   "execution_count": 25,
   "id": "01ce9503-b7f2-4f51-a007-f2098d77b27f",
   "metadata": {},
   "outputs": [
    {
     "data": {
      "text/plain": [
       "[34, 112, 183, 201]"
      ]
     },
     "execution_count": 25,
     "metadata": {},
     "output_type": "execute_result"
    }
   ],
   "source": [
    "cutpoints_3_2 = []\n",
    "for i in range(1, len(iter_lst_3)):\n",
    "    if idx(iter_lst_3[i]) > idx(iter_lst_3[i-1]):\n",
    "        cutpoints_3_2.append(i)\n",
    "cutpoints_3_2"
   ]
  },
  {
   "cell_type": "code",
   "execution_count": 26,
   "id": "7ed6ecf8-7602-4d04-8eb0-8c5773a7dd92",
   "metadata": {},
   "outputs": [],
   "source": [
    "import numpy as np\n",
    "trans_mat_3 = np.full((len(iter_lst_3), len(iter_lst_3)), '0')\n",
    "\n",
    "for i in range(len(iter_lst_3)):\n",
    "    new_lst = recombination(iter_lst_3[i])\n",
    "    idx_lst = [iter_lst_3.index(j) for j in new_lst]\n",
    "    for j in idx_lst:\n",
    "        trans_mat_3[i,j]='R'\n",
    "    new_lst = coalescent(iter_lst_3[i])\n",
    "    idx_lst = [iter_lst_3.index(j) for j in new_lst]\n",
    "    for j in idx_lst:\n",
    "        trans_mat_3[i,j]='C'"
   ]
  },
  {
   "cell_type": "code",
   "execution_count": 27,
   "id": "0c68515d-5a35-4168-a23c-5fc02804dbc3",
   "metadata": {},
   "outputs": [
    {
     "data": {
      "text/html": [
       "<div>\n",
       "<style scoped>\n",
       "    .dataframe tbody tr th:only-of-type {\n",
       "        vertical-align: middle;\n",
       "    }\n",
       "\n",
       "    .dataframe tbody tr th {\n",
       "        vertical-align: top;\n",
       "    }\n",
       "\n",
       "    .dataframe thead th {\n",
       "        text-align: right;\n",
       "    }\n",
       "</style>\n",
       "<table border=\"1\" class=\"dataframe\">\n",
       "  <thead>\n",
       "    <tr style=\"text-align: right;\">\n",
       "      <th></th>\n",
       "      <th>value</th>\n",
       "      <th>from</th>\n",
       "      <th>to</th>\n",
       "    </tr>\n",
       "  </thead>\n",
       "  <tbody>\n",
       "    <tr>\n",
       "      <th>1</th>\n",
       "      <td>R</td>\n",
       "      <td>1</td>\n",
       "      <td>0</td>\n",
       "    </tr>\n",
       "    <tr>\n",
       "      <th>2</th>\n",
       "      <td>R</td>\n",
       "      <td>2</td>\n",
       "      <td>0</td>\n",
       "    </tr>\n",
       "    <tr>\n",
       "      <th>3</th>\n",
       "      <td>R</td>\n",
       "      <td>3</td>\n",
       "      <td>0</td>\n",
       "    </tr>\n",
       "    <tr>\n",
       "      <th>4</th>\n",
       "      <td>R</td>\n",
       "      <td>4</td>\n",
       "      <td>0</td>\n",
       "    </tr>\n",
       "    <tr>\n",
       "      <th>5</th>\n",
       "      <td>R</td>\n",
       "      <td>5</td>\n",
       "      <td>0</td>\n",
       "    </tr>\n",
       "    <tr>\n",
       "      <th>...</th>\n",
       "      <td>...</td>\n",
       "      <td>...</td>\n",
       "      <td>...</td>\n",
       "    </tr>\n",
       "    <tr>\n",
       "      <th>41203</th>\n",
       "      <td>C</td>\n",
       "      <td>197</td>\n",
       "      <td>202</td>\n",
       "    </tr>\n",
       "    <tr>\n",
       "      <th>41204</th>\n",
       "      <td>C</td>\n",
       "      <td>198</td>\n",
       "      <td>202</td>\n",
       "    </tr>\n",
       "    <tr>\n",
       "      <th>41205</th>\n",
       "      <td>C</td>\n",
       "      <td>199</td>\n",
       "      <td>202</td>\n",
       "    </tr>\n",
       "    <tr>\n",
       "      <th>41206</th>\n",
       "      <td>C</td>\n",
       "      <td>200</td>\n",
       "      <td>202</td>\n",
       "    </tr>\n",
       "    <tr>\n",
       "      <th>41207</th>\n",
       "      <td>C</td>\n",
       "      <td>201</td>\n",
       "      <td>202</td>\n",
       "    </tr>\n",
       "  </tbody>\n",
       "</table>\n",
       "<p>1118 rows × 3 columns</p>\n",
       "</div>"
      ],
      "text/plain": [
       "      value  from   to\n",
       "1         R     1    0\n",
       "2         R     2    0\n",
       "3         R     3    0\n",
       "4         R     4    0\n",
       "5         R     5    0\n",
       "...     ...   ...  ...\n",
       "41203     C   197  202\n",
       "41204     C   198  202\n",
       "41205     C   199  202\n",
       "41206     C   200  202\n",
       "41207     C   201  202\n",
       "\n",
       "[1118 rows x 3 columns]"
      ]
     },
     "execution_count": 27,
     "metadata": {},
     "output_type": "execute_result"
    }
   ],
   "source": [
    "df = pd.DataFrame(trans_mat_3)\n",
    "new_df = (df.rename_axis(index = 'from')\n",
    "            .reset_index()\n",
    "            .melt('from', var_name='to')\n",
    "            .reindex(columns = ['value','from','to']))\n",
    "tab_mat_3 = new_df[new_df['value'] != '0']\n",
    "tab_mat_3"
   ]
  },
  {
   "cell_type": "code",
   "execution_count": 174,
   "id": "d1501000-2f00-480f-997e-bbf52f88e4c1",
   "metadata": {},
   "outputs": [
    {
     "data": {
      "image/png": "[encoded data removed]"
     },
     "metadata": {},
     "output_type": "display_data"
    }
   ],
   "source": [
    "%%R -i tab_mat_3 -i cutpoints_3_1  -i cutpoints_3_2 -w 1000 -h 1000 -r 150\n",
    "\n",
    "cutpoints_3_1 <- tibble(x = unlist(cutpoints_3_1))\n",
    "cutpoints_3_2 <- tibble(x = unlist(cutpoints_3_2))\n",
    "a <- sort(c(0, max(tab_mat_3$to)+1, cutpoints_3_1$x, cutpoints_3_2$x))\n",
    "a <- a[-length(a)] + diff(a)/2 - 0.5\n",
    "b <- sort(c(0, max(tab_mat_3$to)+1, cutpoints_3_2$x))\n",
    "b <- b[-length(b)] + diff(b)/2 - 0.5\n",
    "\n",
    "library(tidyverse)\n",
    "\n",
    "as_tibble(tab_mat_3) %>% \n",
    "    ggplot() +\n",
    "    geom_tile(aes(to, from, fill = value)) +\n",
    "    geom_tile(aes(x, y, fill = fill), \n",
    "              data = tibble(x = 0:max(tab_mat_3$to), y = 0:max(tab_mat_3$to), fill = NA)) +\n",
    "    geom_hline(aes(yintercept = x-0.5), data = cutpoints_3_1, color = 'grey') +\n",
    "    geom_vline(aes(xintercept = x-0.5), data = cutpoints_3_1, color = 'grey') +\n",
    "    geom_hline(aes(yintercept = x-0.5), data = cutpoints_3_2) +\n",
    "    geom_vline(aes(xintercept = x-0.5), data = cutpoints_3_2) +\n",
    "    scale_y_reverse(\n",
    "        name = 'Number of genomes',\n",
    "        expand = c(0, 0), \n",
    "        breaks = a,\n",
    "        labels = c(6:3, 5:3, 4:2, 3:2, 2:1)\n",
    "    ) +\n",
    "    scale_x_continuous(\n",
    "        name = 'Number of alleles',\n",
    "        expand = c(0, 0),\n",
    "        breaks = b,\n",
    "        labels = 6:2,\n",
    "        position = \"top\"\n",
    "    ) +\n",
    "    theme(legend.position = 'none',\n",
    "          panel.border = element_rect(colour = \"black\", fill = NA, size = 1),\n",
    "          axis.line=element_blank(),\n",
    "          panel.background=element_blank(),panel.grid.major=element_blank(),\n",
    "          panel.grid.minor=element_blank(),plot.background=element_blank()) +\n",
    "    scale_fill_manual(values = c('red', 'blue'))"
   ]
  },
  {
   "cell_type": "code",
   "execution_count": 30,
   "id": "03461779-c540-4219-906d-2ca7d8bcfb84",
   "metadata": {},
   "outputs": [
    {
     "data": {
      "text/plain": [
       "41209"
      ]
     },
     "execution_count": 30,
     "metadata": {},
     "output_type": "execute_result"
    }
   ],
   "source": [
    "203*203"
   ]
  },
  {
   "cell_type": "markdown",
   "id": "5186f461-618a-4bd7-9170-b69d915f2e04",
   "metadata": {},
   "source": [
    "## More populations"
   ]
  },
  {
   "cell_type": "code",
   "execution_count": 31,
   "id": "7591154f-4a14-4ab7-b8a5-fb20fc4c59c1",
   "metadata": {},
   "outputs": [
    {
     "data": {
      "text/plain": [
       "4140"
      ]
     },
     "execution_count": 31,
     "metadata": {},
     "output_type": "execute_result"
    }
   ],
   "source": [
    "state_4 = [[(0, 1), (0, 2), (0, 4), (0, 8), (1, 0), (2, 0), (4, 0), (8, 0)]]\n",
    "iter_lst_4 = get_states(state_4)\n",
    "len(iter_lst_4)"
   ]
  },
  {
   "cell_type": "code",
   "execution_count": 32,
   "id": "69d427b7-59ce-4c69-a98b-2db512222f02",
   "metadata": {},
   "outputs": [],
   "source": [
    "#state_4 = [[(0, 1), (0, 2), (0, 4), (0, 8), (1, 0), (2, 0), (4, 0), (8, 0)]]\n",
    "#len(get_states_parallel(state_4))"
   ]
  },
  {
   "cell_type": "code",
   "execution_count": 33,
   "id": "fc9eb59b-cc52-401d-853c-2bd6137e53bb",
   "metadata": {},
   "outputs": [
    {
     "data": {
      "text/plain": [
       "[1,\n",
       " 17,\n",
       " 89,\n",
       " 185,\n",
       " 221,\n",
       " 365,\n",
       " 797,\n",
       " 1135,\n",
       " 1571,\n",
       " 2387,\n",
       " 2689,\n",
       " 3201,\n",
       " 3766,\n",
       " 3998,\n",
       " 4110,\n",
       " 4139]"
      ]
     },
     "execution_count": 33,
     "metadata": {},
     "output_type": "execute_result"
    }
   ],
   "source": [
    "cutpoints_4_1 = []\n",
    "for i in range(1, len(iter_lst_4)):\n",
    "    if len(iter_lst_4[i]) < len(iter_lst_4[i-1]):\n",
    "        cutpoints_4_1.append(i)\n",
    "cutpoints_4_1"
   ]
  },
  {
   "cell_type": "code",
   "execution_count": 34,
   "id": "951edbc5-fd28-4bf7-bfc5-fe3e3d864530",
   "metadata": {},
   "outputs": [
    {
     "data": {
      "text/plain": [
       "[209, 1085, 2603, 3705, 4096, 4138]"
      ]
     },
     "execution_count": 34,
     "metadata": {},
     "output_type": "execute_result"
    }
   ],
   "source": [
    "cutpoints_4_2 = []\n",
    "for i in range(1, len(iter_lst_4)):\n",
    "    if idx(iter_lst_4[i]) > idx(iter_lst_4[i-1]):\n",
    "        cutpoints_4_2.append(i)\n",
    "cutpoints_4_2"
   ]
  },
  {
   "cell_type": "code",
   "execution_count": 35,
   "id": "9ad9e6ee-10dd-4254-ab41-9ab7e0d49fd7",
   "metadata": {},
   "outputs": [],
   "source": [
    "import numpy as np\n",
    "trans_mat_4 = np.full((len(iter_lst_4), len(iter_lst_4)), '0')\n",
    "\n",
    "for i in range(len(iter_lst_4)):\n",
    "    new_lst = recombination(iter_lst_4[i])\n",
    "    idx_lst = [iter_lst_4.index(j) for j in new_lst]\n",
    "    for j in idx_lst:\n",
    "        trans_mat_4[i,j]='R'\n",
    "    new_lst = coalescent(iter_lst_4[i])\n",
    "    idx_lst = [iter_lst_4.index(j) for j in new_lst]\n",
    "    for j in idx_lst:\n",
    "        trans_mat_4[i,j]='C'"
   ]
  },
  {
   "cell_type": "code",
   "execution_count": null,
   "id": "df33e0a7-f6c8-4c1d-bdc8-c7d399c3b332",
   "metadata": {},
   "outputs": [],
   "source": []
  },
  {
   "cell_type": "code",
   "execution_count": 36,
   "id": "566c6615-6b22-4f22-9226-8e5853070ab8",
   "metadata": {},
   "outputs": [],
   "source": [
    "df = pd.DataFrame(trans_mat_4)\n",
    "new_df = (df.rename_axis(index = 'from')\n",
    "            .reset_index()\n",
    "            .melt('from', var_name='to')\n",
    "            .reindex(columns = ['value','from','to']))\n",
    "tab_mat_4 = new_df[new_df['value'] != '0']"
   ]
  },
  {
   "cell_type": "code",
   "execution_count": 37,
   "id": "6449fa77-b6a4-47c8-932b-2d560e793b64",
   "metadata": {},
   "outputs": [
    {
     "data": {
      "text/plain": [
       "35446"
      ]
     },
     "execution_count": 37,
     "metadata": {},
     "output_type": "execute_result"
    }
   ],
   "source": [
    "len(tab_mat_4)"
   ]
  },
  {
   "cell_type": "code",
   "execution_count": 38,
   "id": "b229684e-3708-494a-a127-4b6ddfc867d2",
   "metadata": {},
   "outputs": [
    {
     "data": {
      "text/plain": [
       "17131321"
      ]
     },
     "execution_count": 38,
     "metadata": {},
     "output_type": "execute_result"
    }
   ],
   "source": [
    "4139*4139"
   ]
  },
  {
   "cell_type": "code",
   "execution_count": 200,
   "id": "a9629697-5329-4253-a08a-18150fc64bc2",
   "metadata": {},
   "outputs": [
    {
     "data": {
      "image/png": "[encoded data removed]"
     },
     "metadata": {},
     "output_type": "display_data"
    }
   ],
   "source": [
    "%%R -i tab_mat_4 -i cutpoints_4_1 -i cutpoints_4_2 -w 1000 -h 1000 -r 150\n",
    "\n",
    "cutpoints_4_1 <- tibble(x = unlist(cutpoints_4_1))\n",
    "cutpoints_4_2 <- tibble(x = unlist(cutpoints_4_2))\n",
    "a <- sort(c(0, max(tab_mat_4$to)+1, cutpoints_4_1$x, cutpoints_4_2$x))\n",
    "a <- a[-length(a)] + diff(a)/2 - 0.5\n",
    "b <- sort(c(0, max(tab_mat_4$to)+1, cutpoints_4_2$x))\n",
    "b <- b[-length(b)] + diff(b)/2 - 0.5\n",
    "\n",
    "library(tidyverse)\n",
    "    \n",
    "        \n",
    "tab_mat_4 %>% \n",
    "    as_tibble() %>% \n",
    "    ggplot() +\n",
    "    geom_abline(aes(intercept = 0, slope = -1), size = 0.2) +\n",
    "    geom_tile(aes(to, from, color = value)) +\n",
    "    geom_tile(aes(x, y, fill = fill), \n",
    "              data = tibble(x = 0:max(tab_mat_4$to), y = 0:max(tab_mat_4$to), fill = NA)) +\n",
    "    geom_hline(aes(yintercept = x-0.5), data = cutpoints_4_1, color = 'grey', size = 0.2) +\n",
    "    geom_vline(aes(xintercept = x-0.5), data = cutpoints_4_1, color = 'grey', size = 0.2) +\n",
    "    geom_hline(aes(yintercept = x-0.5), data = cutpoints_4_2, size = 0.2) +\n",
    "    geom_vline(aes(xintercept = x-0.5), data = cutpoints_4_2, size = 0.2) +\n",
    "    scale_y_reverse(\n",
    "        name = 'Number of genomes',\n",
    "        expand = c(0, 0), \n",
    "        breaks = a,\n",
    "        labels = c(8:4, 7:4, 6:3, 5:3, 4:2, 3:2, 2:1)\n",
    "    ) +\n",
    "    scale_x_continuous(\n",
    "        name = 'Number of alleles',\n",
    "        expand = c(0, 0),\n",
    "        breaks = b,\n",
    "        labels = 8:2,\n",
    "        position = \"top\"\n",
    "    ) +\n",
    "    theme(legend.position = 'none',\n",
    "          panel.border = element_rect(colour = \"black\", fill = NA, size = 0.2),\n",
    "          axis.line=element_blank(),\n",
    "          panel.background=element_blank(),panel.grid.major=element_blank(),\n",
    "          panel.grid.minor=element_blank(),plot.background=element_blank()) +\n",
    "    scale_fill_manual(values = c('red', 'blue'))"
   ]
  },
  {
   "cell_type": "markdown",
   "id": "00fd0552-35dc-49b2-b64b-713eea3c00a7",
   "metadata": {},
   "source": [
    "## Surveying the state space for more populations"
   ]
  },
  {
   "cell_type": "code",
   "execution_count": 59,
   "id": "c237c886-9dfe-4ec4-bed5-ffd4fd5a80f3",
   "metadata": {},
   "outputs": [
    {
     "name": "stdout",
     "output_type": "stream",
     "text": [
      "115975\r"
     ]
    }
   ],
   "source": [
    "# state_5 = [[(0, 1), (0, 2), (0, 4), (0, 8), (0, 16), (1, 0), (2, 0), (4, 0), (8, 0), (16, 0)]]\n",
    "# iter_lst_5 = get_states_parallel(state_5)\n",
    "# 115975"
   ]
  },
  {
   "cell_type": "markdown",
   "id": "7d22e8ba-29e9-42f3-8342-7528b7d59750",
   "metadata": {},
   "source": [
    "The sequence of numbers corresponds to the Bell numbers for n = number of sites. A Bell number counts the number of different ways to partition a set that has exactly n elements. "
   ]
  },
  {
   "cell_type": "code",
   "execution_count": null,
   "id": "4dcf9e93-3ce8-4961-8868-d38984121446",
   "metadata": {},
   "outputs": [],
   "source": []
  }
 ],
 "metadata": {
  "kernelspec": {
   "display_name": "Python 3 (ipykernel)",
   "language": "python",
   "name": "python3"
  },
  "language_info": {
   "codemirror_mode": {
    "name": "ipython",
    "version": 3
   },
   "file_extension": ".py",
   "mimetype": "text/x-python",
   "name": "python",
   "nbconvert_exporter": "python",
   "pygments_lexer": "ipython3",
   "version": "3.8.10"
  }
 },
 "nbformat": 4,
 "nbformat_minor": 5
}
