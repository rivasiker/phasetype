{
 "cells": [
  {
   "cell_type": "code",
   "execution_count": 1,
   "id": "853b59be",
   "metadata": {},
   "outputs": [],
   "source": [
    "import pandas as pd\n",
    "import numpy as np"
   ]
  },
  {
   "cell_type": "code",
   "execution_count": 2,
   "id": "8a79cd10",
   "metadata": {},
   "outputs": [],
   "source": [
    "def integ(eps, t):\n",
    "    if eps == 0:\n",
    "        return t\n",
    "    else:\n",
    "        return (1/eps)*(1-np.exp(-eps*t))\n",
    "\n",
    "def calc_prob(alpha, beta, gamma, t, mu):\n",
    "    res = 0\n",
    "    res += (1/64)*integ(1,t)\n",
    "    res += (1/16)*gamma*np.exp(-t*mu)*integ(1-mu,t)\n",
    "    res += (1/16)*(alpha+beta)*integ(1+mu,t)\n",
    "    res += (1/4)*(alpha+beta)*gamma*np.exp(-t*mu)*integ(1,t)\n",
    "    res += (1/4)*alpha*beta*integ(1+2*mu,t)\n",
    "    res += alpha*beta*gamma*np.exp(-t*mu)*integ(1+mu,t)\n",
    "    return res\n",
    "\n",
    "def wrapper(a, b, c, d, t, mu):\n",
    "    alpha = 3/4 if a==d else -1/4\n",
    "    beta  = 3/4 if b==d else -1/4\n",
    "    gamma = 3/4 if c==d else -1/4\n",
    "    return (1/(1-np.exp(-t)))*calc_prob(alpha, beta, gamma, t, mu)\n",
    "\n",
    "def calc_df(t, mu):\n",
    "    arr = []\n",
    "    for a in ['A', 'C', 'T', 'G']:\n",
    "        for b in ['A', 'C', 'T', 'G']:\n",
    "            for c in ['A', 'C', 'T', 'G']:\n",
    "                for d in ['A', 'C', 'T', 'G']:\n",
    "                    arr.append([a, b, c, d, wrapper(a, b, c, d, t, mu)])\n",
    "    return pd.DataFrame(arr, columns = ['a', 'b', 'c', 'd', 'prob'])"
   ]
  },
  {
   "cell_type": "code",
   "execution_count": 3,
   "id": "59c613c5",
   "metadata": {},
   "outputs": [
    {
     "data": {
      "text/plain": [
       "0.0001745310058324659"
      ]
     },
     "execution_count": 3,
     "metadata": {},
     "output_type": "execute_result"
    }
   ],
   "source": [
    "wrapper('A', 'C', 'A', 'A', 0.007, 0.2)"
   ]
  },
  {
   "cell_type": "markdown",
   "id": "e95f8702",
   "metadata": {},
   "source": [
    "$P(b,c,d|a,\\mu,t)=$"
   ]
  },
  {
   "cell_type": "code",
   "execution_count": 4,
   "id": "3c7292e6",
   "metadata": {},
   "outputs": [
    {
     "data": {
      "text/html": [
       "<div>\n",
       "<style scoped>\n",
       "    .dataframe tbody tr th:only-of-type {\n",
       "        vertical-align: middle;\n",
       "    }\n",
       "\n",
       "    .dataframe tbody tr th {\n",
       "        vertical-align: top;\n",
       "    }\n",
       "\n",
       "    .dataframe thead th {\n",
       "        text-align: right;\n",
       "    }\n",
       "</style>\n",
       "<table border=\"1\" class=\"dataframe\">\n",
       "  <thead>\n",
       "    <tr style=\"text-align: right;\">\n",
       "      <th></th>\n",
       "      <th>a</th>\n",
       "      <th>b</th>\n",
       "      <th>c</th>\n",
       "      <th>d</th>\n",
       "      <th>prob</th>\n",
       "    </tr>\n",
       "  </thead>\n",
       "  <tbody>\n",
       "    <tr>\n",
       "      <th>0</th>\n",
       "      <td>A</td>\n",
       "      <td>A</td>\n",
       "      <td>A</td>\n",
       "      <td>A</td>\n",
       "      <td>0.287676</td>\n",
       "    </tr>\n",
       "    <tr>\n",
       "      <th>1</th>\n",
       "      <td>A</td>\n",
       "      <td>A</td>\n",
       "      <td>A</td>\n",
       "      <td>C</td>\n",
       "      <td>0.001102</td>\n",
       "    </tr>\n",
       "    <tr>\n",
       "      <th>2</th>\n",
       "      <td>A</td>\n",
       "      <td>A</td>\n",
       "      <td>A</td>\n",
       "      <td>T</td>\n",
       "      <td>0.001102</td>\n",
       "    </tr>\n",
       "    <tr>\n",
       "      <th>3</th>\n",
       "      <td>A</td>\n",
       "      <td>A</td>\n",
       "      <td>A</td>\n",
       "      <td>G</td>\n",
       "      <td>0.001102</td>\n",
       "    </tr>\n",
       "    <tr>\n",
       "      <th>4</th>\n",
       "      <td>A</td>\n",
       "      <td>A</td>\n",
       "      <td>C</td>\n",
       "      <td>A</td>\n",
       "      <td>0.069801</td>\n",
       "    </tr>\n",
       "    <tr>\n",
       "      <th>...</th>\n",
       "      <td>...</td>\n",
       "      <td>...</td>\n",
       "      <td>...</td>\n",
       "      <td>...</td>\n",
       "      <td>...</td>\n",
       "    </tr>\n",
       "    <tr>\n",
       "      <th>251</th>\n",
       "      <td>G</td>\n",
       "      <td>G</td>\n",
       "      <td>T</td>\n",
       "      <td>G</td>\n",
       "      <td>0.069801</td>\n",
       "    </tr>\n",
       "    <tr>\n",
       "      <th>252</th>\n",
       "      <td>G</td>\n",
       "      <td>G</td>\n",
       "      <td>G</td>\n",
       "      <td>A</td>\n",
       "      <td>0.001102</td>\n",
       "    </tr>\n",
       "    <tr>\n",
       "      <th>253</th>\n",
       "      <td>G</td>\n",
       "      <td>G</td>\n",
       "      <td>G</td>\n",
       "      <td>C</td>\n",
       "      <td>0.001102</td>\n",
       "    </tr>\n",
       "    <tr>\n",
       "      <th>254</th>\n",
       "      <td>G</td>\n",
       "      <td>G</td>\n",
       "      <td>G</td>\n",
       "      <td>T</td>\n",
       "      <td>0.001102</td>\n",
       "    </tr>\n",
       "    <tr>\n",
       "      <th>255</th>\n",
       "      <td>G</td>\n",
       "      <td>G</td>\n",
       "      <td>G</td>\n",
       "      <td>G</td>\n",
       "      <td>0.287676</td>\n",
       "    </tr>\n",
       "  </tbody>\n",
       "</table>\n",
       "<p>256 rows × 5 columns</p>\n",
       "</div>"
      ],
      "text/plain": [
       "     a  b  c  d      prob\n",
       "0    A  A  A  A  0.287676\n",
       "1    A  A  A  C  0.001102\n",
       "2    A  A  A  T  0.001102\n",
       "3    A  A  A  G  0.001102\n",
       "4    A  A  C  A  0.069801\n",
       "..  .. .. .. ..       ...\n",
       "251  G  G  T  G  0.069801\n",
       "252  G  G  G  A  0.001102\n",
       "253  G  G  G  C  0.001102\n",
       "254  G  G  G  T  0.001102\n",
       "255  G  G  G  G  0.287676\n",
       "\n",
       "[256 rows x 5 columns]"
      ]
     },
     "execution_count": 4,
     "metadata": {},
     "output_type": "execute_result"
    }
   ],
   "source": [
    "t = 0.5\n",
    "theta = 2\n",
    "mu = (4/3)*theta\n",
    "df = calc_df(t, mu)\n",
    "df"
   ]
  },
  {
   "cell_type": "code",
   "execution_count": 5,
   "id": "4baa397c",
   "metadata": {},
   "outputs": [
    {
     "data": {
      "text/html": [
       "<div>\n",
       "<style scoped>\n",
       "    .dataframe tbody tr th:only-of-type {\n",
       "        vertical-align: middle;\n",
       "    }\n",
       "\n",
       "    .dataframe tbody tr th {\n",
       "        vertical-align: top;\n",
       "    }\n",
       "\n",
       "    .dataframe thead th {\n",
       "        text-align: right;\n",
       "    }\n",
       "</style>\n",
       "<table border=\"1\" class=\"dataframe\">\n",
       "  <thead>\n",
       "    <tr style=\"text-align: right;\">\n",
       "      <th></th>\n",
       "      <th>prob</th>\n",
       "    </tr>\n",
       "    <tr>\n",
       "      <th>a</th>\n",
       "      <th></th>\n",
       "    </tr>\n",
       "  </thead>\n",
       "  <tbody>\n",
       "    <tr>\n",
       "      <th>A</th>\n",
       "      <td>1.0</td>\n",
       "    </tr>\n",
       "    <tr>\n",
       "      <th>C</th>\n",
       "      <td>1.0</td>\n",
       "    </tr>\n",
       "    <tr>\n",
       "      <th>G</th>\n",
       "      <td>1.0</td>\n",
       "    </tr>\n",
       "    <tr>\n",
       "      <th>T</th>\n",
       "      <td>1.0</td>\n",
       "    </tr>\n",
       "  </tbody>\n",
       "</table>\n",
       "</div>"
      ],
      "text/plain": [
       "   prob\n",
       "a      \n",
       "A   1.0\n",
       "C   1.0\n",
       "G   1.0\n",
       "T   1.0"
      ]
     },
     "execution_count": 5,
     "metadata": {},
     "output_type": "execute_result"
    }
   ],
   "source": [
    "df.groupby(['a']).sum()"
   ]
  },
  {
   "cell_type": "markdown",
   "id": "be59a9a9",
   "metadata": {},
   "source": [
    "$P(b,c|a,\\mu,t)=$"
   ]
  },
  {
   "cell_type": "code",
   "execution_count": 6,
   "id": "07d70cf4",
   "metadata": {},
   "outputs": [
    {
     "data": {
      "text/html": [
       "<div>\n",
       "<style scoped>\n",
       "    .dataframe tbody tr th:only-of-type {\n",
       "        vertical-align: middle;\n",
       "    }\n",
       "\n",
       "    .dataframe tbody tr th {\n",
       "        vertical-align: top;\n",
       "    }\n",
       "\n",
       "    .dataframe thead th {\n",
       "        text-align: right;\n",
       "    }\n",
       "</style>\n",
       "<table border=\"1\" class=\"dataframe\">\n",
       "  <thead>\n",
       "    <tr style=\"text-align: right;\">\n",
       "      <th></th>\n",
       "      <th></th>\n",
       "      <th></th>\n",
       "      <th>prob</th>\n",
       "    </tr>\n",
       "    <tr>\n",
       "      <th>a</th>\n",
       "      <th>b</th>\n",
       "      <th>c</th>\n",
       "      <th></th>\n",
       "    </tr>\n",
       "  </thead>\n",
       "  <tbody>\n",
       "    <tr>\n",
       "      <th rowspan=\"5\" valign=\"top\">A</th>\n",
       "      <th rowspan=\"4\" valign=\"top\">A</th>\n",
       "      <th>A</th>\n",
       "      <td>0.290981</td>\n",
       "    </tr>\n",
       "    <tr>\n",
       "      <th>C</th>\n",
       "      <td>0.082434</td>\n",
       "    </tr>\n",
       "    <tr>\n",
       "      <th>G</th>\n",
       "      <td>0.082434</td>\n",
       "    </tr>\n",
       "    <tr>\n",
       "      <th>T</th>\n",
       "      <td>0.082434</td>\n",
       "    </tr>\n",
       "    <tr>\n",
       "      <th>C</th>\n",
       "      <th>A</th>\n",
       "      <td>0.052239</td>\n",
       "    </tr>\n",
       "    <tr>\n",
       "      <th>...</th>\n",
       "      <th>...</th>\n",
       "      <th>...</th>\n",
       "      <td>...</td>\n",
       "    </tr>\n",
       "    <tr>\n",
       "      <th rowspan=\"5\" valign=\"top\">T</th>\n",
       "      <th>G</th>\n",
       "      <th>T</th>\n",
       "      <td>0.052239</td>\n",
       "    </tr>\n",
       "    <tr>\n",
       "      <th rowspan=\"4\" valign=\"top\">T</th>\n",
       "      <th>A</th>\n",
       "      <td>0.082434</td>\n",
       "    </tr>\n",
       "    <tr>\n",
       "      <th>C</th>\n",
       "      <td>0.082434</td>\n",
       "    </tr>\n",
       "    <tr>\n",
       "      <th>G</th>\n",
       "      <td>0.082434</td>\n",
       "    </tr>\n",
       "    <tr>\n",
       "      <th>T</th>\n",
       "      <td>0.290981</td>\n",
       "    </tr>\n",
       "  </tbody>\n",
       "</table>\n",
       "<p>64 rows × 1 columns</p>\n",
       "</div>"
      ],
      "text/plain": [
       "           prob\n",
       "a b c          \n",
       "A A A  0.290981\n",
       "    C  0.082434\n",
       "    G  0.082434\n",
       "    T  0.082434\n",
       "  C A  0.052239\n",
       "...         ...\n",
       "T G T  0.052239\n",
       "  T A  0.082434\n",
       "    C  0.082434\n",
       "    G  0.082434\n",
       "    T  0.290981\n",
       "\n",
       "[64 rows x 1 columns]"
      ]
     },
     "execution_count": 6,
     "metadata": {},
     "output_type": "execute_result"
    }
   ],
   "source": [
    "df.groupby(['a', 'b', 'c']).sum()"
   ]
  },
  {
   "cell_type": "code",
   "execution_count": 7,
   "id": "47ea5c99",
   "metadata": {},
   "outputs": [],
   "source": [
    "def rate_mat(mu, t):\n",
    "    return (1/4)+np.exp(-t*mu)*(1/4)*(np.full((4, 4), -1)+np.diag([4, 4, 4, 4]))\n",
    "def wrapper_2(mu, t):\n",
    "    bases = {0:'A', 1:'C', 2:'T', 3:'G'}\n",
    "    arr1 = rate_mat(mu, t)\n",
    "    df1 = pd.DataFrame(arr1).stack().reset_index()\n",
    "    df1['level_0'] = [bases[i] for i in df1['level_0']]\n",
    "    df1['level_1'] = [bases[i] for i in df1['level_1']]\n",
    "    df1.columns = ['A','a','prob']\n",
    "    return df1"
   ]
  },
  {
   "cell_type": "markdown",
   "id": "77f7f88e",
   "metadata": {},
   "source": [
    "$P(a|A)=$"
   ]
  },
  {
   "cell_type": "code",
   "execution_count": 8,
   "id": "d4eff2e5",
   "metadata": {},
   "outputs": [
    {
     "data": {
      "text/html": [
       "<div>\n",
       "<style scoped>\n",
       "    .dataframe tbody tr th:only-of-type {\n",
       "        vertical-align: middle;\n",
       "    }\n",
       "\n",
       "    .dataframe tbody tr th {\n",
       "        vertical-align: top;\n",
       "    }\n",
       "\n",
       "    .dataframe thead th {\n",
       "        text-align: right;\n",
       "    }\n",
       "</style>\n",
       "<table border=\"1\" class=\"dataframe\">\n",
       "  <thead>\n",
       "    <tr style=\"text-align: right;\">\n",
       "      <th></th>\n",
       "      <th>A</th>\n",
       "      <th>a</th>\n",
       "      <th>prob</th>\n",
       "    </tr>\n",
       "  </thead>\n",
       "  <tbody>\n",
       "    <tr>\n",
       "      <th>0</th>\n",
       "      <td>A</td>\n",
       "      <td>A</td>\n",
       "      <td>0.417348</td>\n",
       "    </tr>\n",
       "    <tr>\n",
       "      <th>1</th>\n",
       "      <td>A</td>\n",
       "      <td>C</td>\n",
       "      <td>0.194217</td>\n",
       "    </tr>\n",
       "    <tr>\n",
       "      <th>2</th>\n",
       "      <td>A</td>\n",
       "      <td>T</td>\n",
       "      <td>0.194217</td>\n",
       "    </tr>\n",
       "    <tr>\n",
       "      <th>3</th>\n",
       "      <td>A</td>\n",
       "      <td>G</td>\n",
       "      <td>0.194217</td>\n",
       "    </tr>\n",
       "    <tr>\n",
       "      <th>4</th>\n",
       "      <td>C</td>\n",
       "      <td>A</td>\n",
       "      <td>0.194217</td>\n",
       "    </tr>\n",
       "    <tr>\n",
       "      <th>5</th>\n",
       "      <td>C</td>\n",
       "      <td>C</td>\n",
       "      <td>0.417348</td>\n",
       "    </tr>\n",
       "    <tr>\n",
       "      <th>6</th>\n",
       "      <td>C</td>\n",
       "      <td>T</td>\n",
       "      <td>0.194217</td>\n",
       "    </tr>\n",
       "    <tr>\n",
       "      <th>7</th>\n",
       "      <td>C</td>\n",
       "      <td>G</td>\n",
       "      <td>0.194217</td>\n",
       "    </tr>\n",
       "    <tr>\n",
       "      <th>8</th>\n",
       "      <td>T</td>\n",
       "      <td>A</td>\n",
       "      <td>0.194217</td>\n",
       "    </tr>\n",
       "    <tr>\n",
       "      <th>9</th>\n",
       "      <td>T</td>\n",
       "      <td>C</td>\n",
       "      <td>0.194217</td>\n",
       "    </tr>\n",
       "    <tr>\n",
       "      <th>10</th>\n",
       "      <td>T</td>\n",
       "      <td>T</td>\n",
       "      <td>0.417348</td>\n",
       "    </tr>\n",
       "    <tr>\n",
       "      <th>11</th>\n",
       "      <td>T</td>\n",
       "      <td>G</td>\n",
       "      <td>0.194217</td>\n",
       "    </tr>\n",
       "    <tr>\n",
       "      <th>12</th>\n",
       "      <td>G</td>\n",
       "      <td>A</td>\n",
       "      <td>0.194217</td>\n",
       "    </tr>\n",
       "    <tr>\n",
       "      <th>13</th>\n",
       "      <td>G</td>\n",
       "      <td>C</td>\n",
       "      <td>0.194217</td>\n",
       "    </tr>\n",
       "    <tr>\n",
       "      <th>14</th>\n",
       "      <td>G</td>\n",
       "      <td>T</td>\n",
       "      <td>0.194217</td>\n",
       "    </tr>\n",
       "    <tr>\n",
       "      <th>15</th>\n",
       "      <td>G</td>\n",
       "      <td>G</td>\n",
       "      <td>0.417348</td>\n",
       "    </tr>\n",
       "  </tbody>\n",
       "</table>\n",
       "</div>"
      ],
      "text/plain": [
       "    A  a      prob\n",
       "0   A  A  0.417348\n",
       "1   A  C  0.194217\n",
       "2   A  T  0.194217\n",
       "3   A  G  0.194217\n",
       "4   C  A  0.194217\n",
       "5   C  C  0.417348\n",
       "6   C  T  0.194217\n",
       "7   C  G  0.194217\n",
       "8   T  A  0.194217\n",
       "9   T  C  0.194217\n",
       "10  T  T  0.417348\n",
       "11  T  G  0.194217\n",
       "12  G  A  0.194217\n",
       "13  G  C  0.194217\n",
       "14  G  T  0.194217\n",
       "15  G  G  0.417348"
      ]
     },
     "execution_count": 8,
     "metadata": {},
     "output_type": "execute_result"
    }
   ],
   "source": [
    "mu_A = 0.5\n",
    "t_AB = 3\n",
    "wrapper_2(mu_A, t_AB)"
   ]
  },
  {
   "cell_type": "markdown",
   "id": "e5c9b215",
   "metadata": {},
   "source": [
    "$P(a,A)=P(A)P(a|A)=(1/4)\\cdot P(a|A)$"
   ]
  },
  {
   "cell_type": "markdown",
   "id": "c68c789a",
   "metadata": {},
   "source": [
    "$P(b,B)=P(B)P(b|B)=(1/4)\\cdot P(b|B)$"
   ]
  },
  {
   "cell_type": "markdown",
   "id": "a6761f33",
   "metadata": {},
   "source": [
    "$P(c|A,B)=\\sum_{d}P(c,d|A,B)=\\sum_{d}\\sum_{a}P(c,d|a,A,B)=\\sum_{d}\\sum_{a}\\sum_{b}P(c,d|a,A,bB)$"
   ]
  },
  {
   "cell_type": "markdown",
   "id": "8f288a79",
   "metadata": {},
   "source": [
    "$P(c|A,B)=\\sum_{a}\\sum_{b}P(c|a,A,b,B)=\\sum_{a}\\sum_{b}\\frac{P(c,A,B|a,b)}{P(A,B)}$"
   ]
  },
  {
   "cell_type": "code",
   "execution_count": null,
   "id": "f7f4fbfc",
   "metadata": {},
   "outputs": [],
   "source": []
  },
  {
   "cell_type": "code",
   "execution_count": null,
   "id": "4837892d",
   "metadata": {},
   "outputs": [],
   "source": []
  },
  {
   "cell_type": "markdown",
   "id": "2c9966df",
   "metadata": {},
   "source": [
    "## Emission probs"
   ]
  },
  {
   "cell_type": "markdown",
   "id": "f5de60b3",
   "metadata": {},
   "source": [
    "$P(b,c|a)=$"
   ]
  },
  {
   "cell_type": "code",
   "execution_count": 10,
   "id": "13ac1fae",
   "metadata": {},
   "outputs": [],
   "source": [
    "t1 = 0.1\n",
    "t2 = 0.5\n",
    "t3 = 0.3\n",
    "t4 = 0.2\n",
    "t5 = t1+t2+t3+t4+0.4\n",
    "t6 = t1+t2+t3\n",
    "theta = 2\n",
    "mu = (4/3)*theta\n",
    "df2 = calc_df(t2, mu).groupby(['a', 'b', 'c']).sum().reset_index()\n",
    "df4 = calc_df(t4, mu).groupby(['a', 'b', 'c']).sum().reset_index()"
   ]
  },
  {
   "cell_type": "code",
   "execution_count": 11,
   "id": "d151e239",
   "metadata": {},
   "outputs": [],
   "source": [
    "df2_ = df2.groupby(['a', 'b']).apply(lambda x: dict(zip(x.c, x.prob))).reset_index()\n",
    "df2_.columns = ['a', 'b', 'val']\n",
    "df2_ = df2_.groupby('a').apply(lambda x: dict(zip(x.b, x.val))).to_dict()\n",
    "\n",
    "df4_ = df4.groupby(['a', 'b']).apply(lambda x: dict(zip(x.c, x.prob))).reset_index()\n",
    "df4_.columns = ['a', 'b', 'val']\n",
    "df4_ = df4_.groupby('a').apply(lambda x: dict(zip(x.b, x.val))).to_dict()"
   ]
  },
  {
   "cell_type": "markdown",
   "id": "cff7933d",
   "metadata": {},
   "source": [
    "$P(a|A)=$"
   ]
  },
  {
   "cell_type": "code",
   "execution_count": 12,
   "id": "0a33e769",
   "metadata": {},
   "outputs": [],
   "source": [
    "df1 = wrapper_2(mu, t1)\n",
    "df1_ = df1.groupby(['A']).apply(lambda x: dict(zip(x.a, x.prob))).to_dict()\n",
    "df3 = wrapper_2(mu, t3)\n",
    "df3_ = df3.groupby(['A']).apply(lambda x: dict(zip(x.a, x.prob))).to_dict()\n",
    "df5 = wrapper_2(mu, t5)\n",
    "df5_ = df5.groupby(['A']).apply(lambda x: dict(zip(x.a, x.prob))).to_dict()\n",
    "df6 = wrapper_2(mu, t6)\n",
    "df6_ = df6.groupby(['A']).apply(lambda x: dict(zip(x.a, x.prob))).to_dict()"
   ]
  },
  {
   "cell_type": "markdown",
   "id": "f1f84bdb",
   "metadata": {},
   "source": [
    "$P(A,B,C,D)=\\pi(A)P(B,C,D|A)=\\pi(A)\\sum_{a,b,c}\\sum_{a',b',c'}P(a,b,c,d,a',b',c',d',B,C,D|A)=\\\\ \\pi(A)\\sum_{a,b,c}\\sum_{a',b',c'}P(a|A)P(b,c|a)P(B,b)P(a'|c)P(c',b'|a')P(C|b')P(D|c')$"
   ]
  },
  {
   "cell_type": "code",
   "execution_count": 15,
   "id": "e8ab2264",
   "metadata": {},
   "outputs": [],
   "source": [
    "emissions = {}\n",
    "for A in ['A', 'C', 'T', 'G']:\n",
    "    for B in ['A', 'C', 'T', 'G']:\n",
    "        for C in ['A', 'C', 'T', 'G']:\n",
    "            for D in ['A', 'C', 'T', 'G']:\n",
    "                acc = 0\n",
    "                for a in ['A', 'C', 'T', 'G']:\n",
    "                    for b in ['A', 'C', 'T', 'G']:\n",
    "                        for c in ['A', 'C', 'T', 'G']:\n",
    "                            for a_ in ['A', 'C', 'T', 'G']:\n",
    "                                for b_ in ['A', 'C', 'T', 'G']:\n",
    "                                    for c_ in ['A', 'C', 'T', 'G']:\n",
    "                                        res = 1\n",
    "                                        res = res*df1_[A][a]\n",
    "                                        res = res*df1_[B][b]\n",
    "                                        res = res*df2_[a][b][c]\n",
    "                                        res = res*df3_[c][a_]\n",
    "                                        res = res*df4_[a_][b_][c_]\n",
    "                                        res = res*df6_[b_][C]\n",
    "                                        res = res*df5_[c_][D]\n",
    "                                        acc += res\n",
    "                emissions[A+B+C+D] = acc/4\n",
    "                                        \n"
   ]
  },
  {
   "cell_type": "code",
   "execution_count": 16,
   "id": "450bbc56",
   "metadata": {},
   "outputs": [
    {
     "data": {
      "text/plain": [
       "1.0"
      ]
     },
     "execution_count": 16,
     "metadata": {},
     "output_type": "execute_result"
    }
   ],
   "source": [
    "sum(list(emissions.values()))"
   ]
  },
  {
   "cell_type": "markdown",
   "id": "f7912822",
   "metadata": {},
   "source": [
    "# Two coalescents at the same interval"
   ]
  },
  {
   "cell_type": "code",
   "execution_count": 1,
   "id": "0adac778",
   "metadata": {},
   "outputs": [],
   "source": [
    "import numpy as np\n",
    "from scipy.integrate import dblquad\n",
    "import pandas as pd"
   ]
  },
  {
   "cell_type": "code",
   "execution_count": 2,
   "id": "f1097f86",
   "metadata": {},
   "outputs": [],
   "source": [
    "t = 0.2\n",
    "mu=0.1\n",
    "prmv = [0, 0, 0, 0, 0]\n",
    "k = 1+0.5*np.exp(-3*t)-1.5*np.exp(-t)"
   ]
  },
  {
   "cell_type": "code",
   "execution_count": 3,
   "id": "fbc06001",
   "metadata": {},
   "outputs": [],
   "source": [
    "def g(u,v,prm=prmv,mu=mu,t=t):\n",
    "    tmp = 1\n",
    "    tm = [-mu*u,-mu*u,-mu*v,-mu*(v+u),-mu*(t-v-u)]\n",
    "    for i in range(5):\n",
    "        tmp = tmp*(1/4+prm[i]*np.exp(tm[i]))\n",
    "    tmp = tmp*3*np.exp(-3*u)*np.exp(-(v-u))\n",
    "    return tmp\n",
    "def g_wrapper(u,v):\n",
    "    return g(u,v,prm=prmv,mu=mu,t=t)"
   ]
  },
  {
   "cell_type": "code",
   "execution_count": 9,
   "id": "32de4d4e",
   "metadata": {},
   "outputs": [
    {
     "data": {
      "text/html": [
       "<div>\n",
       "<style scoped>\n",
       "    .dataframe tbody tr th:only-of-type {\n",
       "        vertical-align: middle;\n",
       "    }\n",
       "\n",
       "    .dataframe tbody tr th {\n",
       "        vertical-align: top;\n",
       "    }\n",
       "\n",
       "    .dataframe thead th {\n",
       "        text-align: right;\n",
       "    }\n",
       "</style>\n",
       "<table border=\"1\" class=\"dataframe\">\n",
       "  <thead>\n",
       "    <tr style=\"text-align: right;\">\n",
       "      <th></th>\n",
       "      <th>a</th>\n",
       "      <th>b</th>\n",
       "      <th>c</th>\n",
       "      <th>d</th>\n",
       "      <th>prob</th>\n",
       "    </tr>\n",
       "  </thead>\n",
       "  <tbody>\n",
       "    <tr>\n",
       "      <th>0</th>\n",
       "      <td>A</td>\n",
       "      <td>A</td>\n",
       "      <td>A</td>\n",
       "      <td>A</td>\n",
       "      <td>0.966822</td>\n",
       "    </tr>\n",
       "    <tr>\n",
       "      <th>1</th>\n",
       "      <td>A</td>\n",
       "      <td>A</td>\n",
       "      <td>A</td>\n",
       "      <td>T</td>\n",
       "      <td>0.000277</td>\n",
       "    </tr>\n",
       "    <tr>\n",
       "      <th>2</th>\n",
       "      <td>A</td>\n",
       "      <td>A</td>\n",
       "      <td>A</td>\n",
       "      <td>G</td>\n",
       "      <td>0.000277</td>\n",
       "    </tr>\n",
       "    <tr>\n",
       "      <th>3</th>\n",
       "      <td>A</td>\n",
       "      <td>A</td>\n",
       "      <td>A</td>\n",
       "      <td>C</td>\n",
       "      <td>0.000277</td>\n",
       "    </tr>\n",
       "    <tr>\n",
       "      <th>4</th>\n",
       "      <td>A</td>\n",
       "      <td>A</td>\n",
       "      <td>T</td>\n",
       "      <td>A</td>\n",
       "      <td>0.004603</td>\n",
       "    </tr>\n",
       "    <tr>\n",
       "      <th>...</th>\n",
       "      <td>...</td>\n",
       "      <td>...</td>\n",
       "      <td>...</td>\n",
       "      <td>...</td>\n",
       "      <td>...</td>\n",
       "    </tr>\n",
       "    <tr>\n",
       "      <th>251</th>\n",
       "      <td>C</td>\n",
       "      <td>C</td>\n",
       "      <td>G</td>\n",
       "      <td>C</td>\n",
       "      <td>0.004603</td>\n",
       "    </tr>\n",
       "    <tr>\n",
       "      <th>252</th>\n",
       "      <td>C</td>\n",
       "      <td>C</td>\n",
       "      <td>C</td>\n",
       "      <td>A</td>\n",
       "      <td>0.000277</td>\n",
       "    </tr>\n",
       "    <tr>\n",
       "      <th>253</th>\n",
       "      <td>C</td>\n",
       "      <td>C</td>\n",
       "      <td>C</td>\n",
       "      <td>T</td>\n",
       "      <td>0.000277</td>\n",
       "    </tr>\n",
       "    <tr>\n",
       "      <th>254</th>\n",
       "      <td>C</td>\n",
       "      <td>C</td>\n",
       "      <td>C</td>\n",
       "      <td>G</td>\n",
       "      <td>0.000277</td>\n",
       "    </tr>\n",
       "    <tr>\n",
       "      <th>255</th>\n",
       "      <td>C</td>\n",
       "      <td>C</td>\n",
       "      <td>C</td>\n",
       "      <td>C</td>\n",
       "      <td>0.966822</td>\n",
       "    </tr>\n",
       "  </tbody>\n",
       "</table>\n",
       "<p>256 rows × 5 columns</p>\n",
       "</div>"
      ],
      "text/plain": [
       "     a  b  c  d      prob\n",
       "0    A  A  A  A  0.966822\n",
       "1    A  A  A  T  0.000277\n",
       "2    A  A  A  G  0.000277\n",
       "3    A  A  A  C  0.000277\n",
       "4    A  A  T  A  0.004603\n",
       "..  .. .. .. ..       ...\n",
       "251  C  C  G  C  0.004603\n",
       "252  C  C  C  A  0.000277\n",
       "253  C  C  C  T  0.000277\n",
       "254  C  C  C  G  0.000277\n",
       "255  C  C  C  C  0.966822\n",
       "\n",
       "[256 rows x 5 columns]"
      ]
     },
     "execution_count": 9,
     "metadata": {},
     "output_type": "execute_result"
    }
   ],
   "source": [
    "arr = []\n",
    "for aa in ['A', 'T', 'G', 'C']:\n",
    "    for bb in ['A', 'T', 'G', 'C']:\n",
    "        for cc in ['A', 'T', 'G', 'C']:\n",
    "            for dd in ['A', 'T', 'G', 'C']:\n",
    "                cumsum = 0\n",
    "                for ee in ['A', 'T', 'G', 'C']:\n",
    "                    for ff in ['A', 'T', 'G', 'C']:\n",
    "                        prmv[0] = 3/4 if aa==ee else -1/4\n",
    "                        prmv[1] = 3/4 if ee==bb else -1/4\n",
    "                        prmv[2] = 3/4 if ee==ff else -1/4\n",
    "                        prmv[3] = 3/4 if ff==cc else -1/4\n",
    "                        prmv[4] = 3/4 if ff==dd else -1/4\n",
    "                        res, err = dblquad(lambda x, y: g(y,x,prm=prmv,mu=mu,t=t), 0, t, lambda x: x, lambda x: t)\n",
    "                        cumsum += res\n",
    "                arr.append([aa, bb, cc, dd, cumsum/k])\n",
    "df = pd.DataFrame(arr, columns = ['a', 'b', 'c', 'd', 'prob'])\n",
    "df"
   ]
  },
  {
   "cell_type": "code",
   "execution_count": 10,
   "id": "a5955492",
   "metadata": {},
   "outputs": [
    {
     "data": {
      "text/html": [
       "<div>\n",
       "<style scoped>\n",
       "    .dataframe tbody tr th:only-of-type {\n",
       "        vertical-align: middle;\n",
       "    }\n",
       "\n",
       "    .dataframe tbody tr th {\n",
       "        vertical-align: top;\n",
       "    }\n",
       "\n",
       "    .dataframe thead th {\n",
       "        text-align: right;\n",
       "    }\n",
       "</style>\n",
       "<table border=\"1\" class=\"dataframe\">\n",
       "  <thead>\n",
       "    <tr style=\"text-align: right;\">\n",
       "      <th></th>\n",
       "      <th>prob</th>\n",
       "    </tr>\n",
       "    <tr>\n",
       "      <th>a</th>\n",
       "      <th></th>\n",
       "    </tr>\n",
       "  </thead>\n",
       "  <tbody>\n",
       "    <tr>\n",
       "      <th>A</th>\n",
       "      <td>1.0</td>\n",
       "    </tr>\n",
       "    <tr>\n",
       "      <th>C</th>\n",
       "      <td>1.0</td>\n",
       "    </tr>\n",
       "    <tr>\n",
       "      <th>G</th>\n",
       "      <td>1.0</td>\n",
       "    </tr>\n",
       "    <tr>\n",
       "      <th>T</th>\n",
       "      <td>1.0</td>\n",
       "    </tr>\n",
       "  </tbody>\n",
       "</table>\n",
       "</div>"
      ],
      "text/plain": [
       "   prob\n",
       "a      \n",
       "A   1.0\n",
       "C   1.0\n",
       "G   1.0\n",
       "T   1.0"
      ]
     },
     "execution_count": 10,
     "metadata": {},
     "output_type": "execute_result"
    }
   ],
   "source": [
    "df.groupby(['a']).sum()"
   ]
  },
  {
   "cell_type": "code",
   "execution_count": null,
   "id": "6da6626e",
   "metadata": {},
   "outputs": [],
   "source": []
  },
  {
   "cell_type": "code",
   "execution_count": null,
   "id": "cd545f80",
   "metadata": {},
   "outputs": [],
   "source": []
  },
  {
   "cell_type": "code",
   "execution_count": null,
   "id": "6013cb5f",
   "metadata": {},
   "outputs": [],
   "source": []
  },
  {
   "cell_type": "code",
   "execution_count": null,
   "id": "dc44c753",
   "metadata": {},
   "outputs": [],
   "source": []
  },
  {
   "cell_type": "code",
   "execution_count": 49,
   "id": "4e53a135",
   "metadata": {},
   "outputs": [],
   "source": [
    "def integ(x, t):\n",
    "    if x == 0:\n",
    "        return t\n",
    "    else:\n",
    "        return (1/x)*(1-np.exp(-x*t))"
   ]
  },
  {
   "cell_type": "code",
   "execution_count": 50,
   "id": "44ec49d3",
   "metadata": {},
   "outputs": [],
   "source": [
    "def gfun(start, tupper, ininteg, t):\n",
    "    return start*np.exp(tupper)*integ(ininteg, t)"
   ]
  },
  {
   "cell_type": "code",
   "execution_count": 70,
   "id": "188e7422",
   "metadata": {},
   "outputs": [],
   "source": [
    "def iterator(k_list, a_list, b_list, c_list, alpha, beta, t, mu):\n",
    "    res = 0\n",
    "    for i in range(8):\n",
    "        k = k_list[i]\n",
    "        a = a_list[i]\n",
    "        b = b_list[i]\n",
    "        c = c_list[i]\n",
    "        start_list = [\n",
    "             (alpha*beta*k)/(c),  (alpha*k)/(4*c),  (beta*k)/(4*c),  (k)/(16*c),\n",
    "            -(alpha*beta*k)/(c), -(alpha*k)/(4*c), -(beta*k)/(4*c), -(k)/(16*c)\n",
    "        ]\n",
    "        tupper_list = [a,     a,     a,     a, \n",
    "                       a-c*t, a-c*t, a-c*t, a-c*t]\n",
    "        ininteg_list = [\n",
    "            3+2*mu-b+c, 3+mu-b+c, 3+mu-b+c, 3-b+c,\n",
    "            3+2*mu-b,   3+mu-b,   3+mu-b,   3-b\n",
    "        ]\n",
    "        for j in range(8):\n",
    "            res += gfun(start_list[j], tupper_list[j], ininteg_list[j], t)\n",
    "    return res"
   ]
  },
  {
   "cell_type": "code",
   "execution_count": 83,
   "id": "6462baf0",
   "metadata": {},
   "outputs": [],
   "source": [
    "def wrapper_2(a, b, c, d, e, f, t, mu):\n",
    "    alpha   = 3/4 if a==e else -1/4\n",
    "    beta    = 3/4 if e==b else -1/4\n",
    "    gamma   = 3/4 if e==f else -1/4\n",
    "    delta   = 3/4 if f==c else -1/4\n",
    "    epsilon = 3/4 if f==d else -1/4\n",
    "    constant = 3/(1+0.5*np.exp(-3*t)-1.5*np.exp(-t))\n",
    "    k_list = [\n",
    "        1/64, delta/16, gamma/16, (delta*gamma)/4, \n",
    "        epsilon/16, (delta*epsilon)/4, (gamma*epsilon)/4, gamma*delta*epsilon\n",
    "    ]\n",
    "    a_list = [0, 0, 0, 0, -mu*t, -mu*t, -mu*t, -mu*t]\n",
    "    b_list = [0, -mu, 0, -mu, mu, 0, mu, 0]\n",
    "    c_list = [1, mu+1, mu+1, 2*mu+1, 1-mu, 1, 1, 1+mu]\n",
    "    return constant*iterator(k_list, a_list, b_list, c_list, alpha, beta, t, mu)"
   ]
  },
  {
   "cell_type": "code",
   "execution_count": 105,
   "id": "c018c8c7",
   "metadata": {},
   "outputs": [
    {
     "data": {
      "text/plain": [
       "-2.7990143710363957e-09"
      ]
     },
     "execution_count": 105,
     "metadata": {},
     "output_type": "execute_result"
    }
   ],
   "source": [
    "wrapper_2('A', 'A', 'A', 'A', 'A', 'C', 0.001, 10)"
   ]
  },
  {
   "cell_type": "code",
   "execution_count": 121,
   "id": "47cd2cf6",
   "metadata": {},
   "outputs": [],
   "source": [
    "t = 4\n",
    "theta = 10\n",
    "mu = (4/3)*theta\n",
    "arr = []\n",
    "for a in ['A', 'C', 'T', 'G']:\n",
    "    for b in ['A', 'C', 'T', 'G']:\n",
    "        for c in ['A', 'C', 'T', 'G']:\n",
    "            for d in ['A', 'C', 'T', 'G']:\n",
    "                for e in ['A', 'C', 'T', 'G']:\n",
    "                    for f in ['A', 'C', 'T', 'G']:\n",
    "                        arr.append([a, b, c, d, e, f, wrapper_2(a, b, c, d, e, f, t, mu)])\n",
    "df = pd.DataFrame(arr, columns = ['a', 'b', 'c', 'd', 'e', 'f', 'prob'])\n",
    "# df"
   ]
  },
  {
   "cell_type": "code",
   "execution_count": 122,
   "id": "a30fe370",
   "metadata": {},
   "outputs": [
    {
     "data": {
      "text/html": [
       "<div>\n",
       "<style scoped>\n",
       "    .dataframe tbody tr th:only-of-type {\n",
       "        vertical-align: middle;\n",
       "    }\n",
       "\n",
       "    .dataframe tbody tr th {\n",
       "        vertical-align: top;\n",
       "    }\n",
       "\n",
       "    .dataframe thead th {\n",
       "        text-align: right;\n",
       "    }\n",
       "</style>\n",
       "<table border=\"1\" class=\"dataframe\">\n",
       "  <thead>\n",
       "    <tr style=\"text-align: right;\">\n",
       "      <th></th>\n",
       "      <th>prob</th>\n",
       "    </tr>\n",
       "    <tr>\n",
       "      <th>a</th>\n",
       "      <th></th>\n",
       "    </tr>\n",
       "  </thead>\n",
       "  <tbody>\n",
       "    <tr>\n",
       "      <th>A</th>\n",
       "      <td>0.749023</td>\n",
       "    </tr>\n",
       "    <tr>\n",
       "      <th>C</th>\n",
       "      <td>0.749023</td>\n",
       "    </tr>\n",
       "    <tr>\n",
       "      <th>G</th>\n",
       "      <td>0.748657</td>\n",
       "    </tr>\n",
       "    <tr>\n",
       "      <th>T</th>\n",
       "      <td>0.749146</td>\n",
       "    </tr>\n",
       "  </tbody>\n",
       "</table>\n",
       "</div>"
      ],
      "text/plain": [
       "       prob\n",
       "a          \n",
       "A  0.749023\n",
       "C  0.749023\n",
       "G  0.748657\n",
       "T  0.749146"
      ]
     },
     "execution_count": 122,
     "metadata": {},
     "output_type": "execute_result"
    }
   ],
   "source": [
    "df.groupby(['a']).sum()"
   ]
  },
  {
   "cell_type": "code",
   "execution_count": 93,
   "id": "ec7bbd10",
   "metadata": {},
   "outputs": [
    {
     "data": {
      "text/plain": [
       "0.74078"
      ]
     },
     "execution_count": 93,
     "metadata": {},
     "output_type": "execute_result"
    }
   ],
   "source": [
    "0.697619+0.014387*3"
   ]
  },
  {
   "cell_type": "code",
   "execution_count": null,
   "id": "d2107117",
   "metadata": {},
   "outputs": [],
   "source": []
  }
 ],
 "metadata": {
  "kernelspec": {
   "display_name": "Python 3 (ipykernel)",
   "language": "python",
   "name": "python3"
  },
  "language_info": {
   "codemirror_mode": {
    "name": "ipython",
    "version": 3
   },
   "file_extension": ".py",
   "mimetype": "text/x-python",
   "name": "python",
   "nbconvert_exporter": "python",
   "pygments_lexer": "ipython3",
   "version": "3.7.12"
  }
 },
 "nbformat": 4,
 "nbformat_minor": 5
}
