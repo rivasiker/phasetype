{
 "cells": [
  {
   "cell_type": "code",
   "execution_count": 1,
   "metadata": {},
   "outputs": [],
   "source": [
    "import msprime\n",
    "import numpy as np\n",
    "import sys\n",
    "from IPython.display import SVG\n",
    "%load_ext rpy2.ipython\n",
    "# %reload_ext rpy2.ipython"
   ]
  },
  {
   "cell_type": "code",
   "execution_count": 6,
   "metadata": {},
   "outputs": [],
   "source": [
    "ide = sys.argv[1]\n",
    "rho = sys.argv[2]\n",
    "tht = sys.argv[3]"
   ]
  },
  {
   "cell_type": "code",
   "execution_count": 7,
   "metadata": {},
   "outputs": [
    {
     "name": "stderr",
     "output_type": "stream",
     "text": [
      "R[write to console]: ── Attaching packages ─────────────────────────────────────── tidyverse 1.3.1 ──\n",
      "\n",
      "R[write to console]: ✔ ggplot2 3.3.5     ✔ purrr   0.3.4\n",
      "✔ tibble  3.1.4     ✔ dplyr   1.0.7\n",
      "✔ tidyr   1.1.3     ✔ stringr 1.4.0\n",
      "✔ readr   2.0.1     ✔ forcats 0.5.1\n",
      "\n",
      "R[write to console]: ── Conflicts ────────────────────────────────────────── tidyverse_conflicts() ──\n",
      "✖ dplyr::filter() masks stats::filter()\n",
      "✖ dplyr::lag()    masks stats::lag()\n",
      "\n",
      "R[write to console]: Loading required package: Matrix\n",
      "\n",
      "R[write to console]: \n",
      "Attaching package: ‘Matrix’\n",
      "\n",
      "\n",
      "R[write to console]: The following objects are masked from ‘package:tidyr’:\n",
      "\n",
      "    expand, pack, unpack\n",
      "\n",
      "\n",
      "R[write to console]: \n",
      "Attaching package: ‘expm’\n",
      "\n",
      "\n",
      "R[write to console]: The following object is masked from ‘package:Matrix’:\n",
      "\n",
      "    expm\n",
      "\n",
      "\n"
     ]
    }
   ],
   "source": [
    "%%R -i rho -i tht -i ide\n",
    "\n",
    "library(tidyverse)\n",
    "library(expm)\n",
    "library(parallel)\n",
    "library(optimParallel)"
   ]
  },
  {
   "cell_type": "code",
   "execution_count": 8,
   "metadata": {},
   "outputs": [],
   "source": [
    "ide = sys.argv[1]\n",
    "rho = float(sys.argv[2])\n",
    "tht = float(sys.argv[3])"
   ]
  },
  {
   "cell_type": "code",
   "execution_count": 9,
   "metadata": {},
   "outputs": [],
   "source": [
    "%%R\n",
    "\n",
    "FastTransMat <- function(tm,rho){\n",
    "  # This produces a rate matrix which has an additional state,\n",
    "  # number 4, which represents states 4, 5, 6 and 7 of the \n",
    "  # 'slow' matrix. Thus, state 5 corresponds to the absorbing\n",
    "  # state, i.e. state 8 in the 'slow' matrix. \n",
    "  rate_mat <- matrix(c(-(1+rho),rho,0,0,1,\n",
    "                              1,-(3+rho/2),rho/2,2,0,             \n",
    "                              0,4,-6,2,0,\n",
    "                              0,0,0,-1,1,\n",
    "                              0,0,0,0,0),\n",
    "                            nrow=5,ncol=5,byrow=TRUE)\n",
    "  nInt <- length(tm) ## Number of intervals\n",
    "  tm0 <- c(0,tm) ## tm0 is tm with time 0 added\n",
    "  ##-------------------------------------\n",
    "  JointMat <- matrix(0,nrow=nInt,ncol=nInt) ## Joint prb matrix\n",
    "  for (j in 1:(nInt-1)){  ## Left state\n",
    "    for (k in j:nInt){  ## Right state\n",
    "      if (j<k){\n",
    "        JointMat[j,k] <-\n",
    "          expm(tm0[j]*rate_mat)[1,1:3]%*%\n",
    "          expm((tm[j]-tm0[j])*rate_mat)[1:3,4]*\n",
    "          exp(-(tm0[k]-tm[j]))*\n",
    "          # which is the same as \n",
    "          # expm((tm0[k]-tm[j])*rate_mat)[4,4]*0.5*\n",
    "            (1-exp(-(tm[k]-tm0[k])))*0.5\n",
    "            # which is the same as \n",
    "            # expm((tm[k]-tm0[k])*rate_mat)[4,5]\n",
    "            # but because expm can't handle infinity, \n",
    "            # we need to do a workaround \n",
    "        # Symmetrize\n",
    "        JointMat[k,j] <- JointMat[j,k]\n",
    "      }\n",
    "      if (j==k){\n",
    "        JointMat[j,k] <-\n",
    "          expm(tm0[j]*rate_mat)[1,1:3]%*%\n",
    "          expm((tm[j]-tm0[j])*rate_mat)[1:3,5]\n",
    "      }\n",
    "    }\n",
    "  }\n",
    "  ## Final entry\n",
    "  JointMat[nInt,nInt] <- sum(expm(tm0[nInt]*rate_mat)[1,1:3])\n",
    "  ## Again: expm can't handle infinity, and state 8 is absorbing\n",
    "  ## Transition matrix \n",
    "  TransMat <- JointMat/rowSums(JointMat)\n",
    "  return(TransMat)\n",
    "}\n"
   ]
  },
  {
   "cell_type": "code",
   "execution_count": 10,
   "metadata": {},
   "outputs": [],
   "source": [
    "%%R\n",
    "\n",
    "calc_p_mut <- function(tm, tht) {\n",
    "    tm_1 <- c(0, tm[1:(length(tm)-1)])\n",
    "    prob_mutation <- rep(NA, length(tm))\n",
    "    for (i in 1:length(tm)){\n",
    "        prob_mutation[i] <- 1-exp(-tht*tm_1[i])*(1-exp(-(1+tht)*(tm[i]-tm_1[i])))/(1-exp(-(tm[i]-tm_1[i])))/(1+tht)\n",
    "    }\n",
    "    prob_mutation\n",
    "}\n"
   ]
  },
  {
   "cell_type": "code",
   "execution_count": 11,
   "metadata": {},
   "outputs": [],
   "source": [
    "%%R\n",
    "\n",
    "logFrwdLikFct <- function(InitProb,TransProb,EndProb,EmisProb,ObsSeq){\n",
    "  # Number of observations\n",
    "  len <- length(ObsSeq)\n",
    "  # Number of hidden states\n",
    "  nHS <- nrow(TransProb)\n",
    "  # Define logForwardLik\n",
    "  logForwardLik <- matrix(0,nrow=len,ncol=nHS)\n",
    "  # Start condition\n",
    "  logForwardLik[1,] <- log(InitProb*EmisProb[,ObsSeq[1]])\n",
    "  # Determine logForwardLik by recursion \n",
    "  for(k in 2:len){\n",
    "    a <- max(logForwardLik[k-1,])\n",
    "    # Calculate the loglik of current iteration\n",
    "    logForwardLik[k,] <- \n",
    "      log(colSums(\n",
    "          (exp(logForwardLik[k-1,]-a)%*%TransProb)*EmisProb[,ObsSeq[k]]\n",
    "      ))+a\n",
    "  }  \n",
    "  a <- max(logForwardLik[len,])\n",
    "  logForwardLikVal <- log(sum(EndProb*exp(logForwardLik[len,]-a)))+a\n",
    "  return(logForwardLikVal)\n",
    "}"
   ]
  },
  {
   "cell_type": "code",
   "execution_count": 12,
   "metadata": {},
   "outputs": [],
   "source": [
    "ts = msprime.sim_ancestry(\n",
    "    samples=2,\n",
    "    recombination_rate=rho/2,\n",
    "    sequence_length=100_000,\n",
    "    population_size = 1,\n",
    "    ploidy = 1\n",
    ")\n",
    "\n",
    "mutated_ts = msprime.sim_mutations(\n",
    "    ts,\n",
    "    rate = tht/2,\n",
    "    model = 'infinite_alleles'\n",
    ")"
   ]
  },
  {
   "cell_type": "code",
   "execution_count": 13,
   "metadata": {},
   "outputs": [],
   "source": [
    "tree_heights = ts.tables.nodes[2:].asdict()['time'].tolist()"
   ]
  },
  {
   "cell_type": "code",
   "execution_count": 14,
   "metadata": {},
   "outputs": [],
   "source": [
    "mut_mat = np.zeros((mutated_ts.num_nodes-2, 2))\n",
    "first = True\n",
    "# For each tree\n",
    "for tree in mutated_ts.trees():\n",
    "    # Save the number of positions in the tree\n",
    "    mut_mat[tree.root-2, 0] += tree.span\n",
    "    # save the number of mutations\n",
    "    mut_mat[tree.root-2, 1] += tree.num_mutations"
   ]
  },
  {
   "cell_type": "code",
   "execution_count": 30,
   "metadata": {},
   "outputs": [],
   "source": [
    "mut_pos = []\n",
    "for variant in mutated_ts.variants():\n",
    "    mut_pos.append(int(variant.position))\n",
    "mut_pos_bin = np.zeros(int(mutated_ts.sequence_length), dtype=np.int32)\n",
    "for i in range(int(mutated_ts.sequence_length)):\n",
    "    if i in mut_pos:\n",
    "        mut_pos_bin[i] = 1\n",
    "    else:\n",
    "        mut_pos_bin[i] = 0"
   ]
  },
  {
   "cell_type": "code",
   "execution_count": 39,
   "metadata": {},
   "outputs": [],
   "source": [
    "%%R -i mut_pos_bin\n",
    "\n",
    "calc_tm <- function(nInt) -log(1-1:(nInt)/nInt)\n",
    "nInt <- 20\n",
    "tm <- calc_tm(nInt)\n",
    "\n",
    "\n",
    "\n",
    "fun_optim <- function(x) {\n",
    "    require(expm)\n",
    "    rho <- x[1]\n",
    "    tht <- x[2]\n",
    "    initial <- rep(1/nInt, nInt)\n",
    "    transition <- FastTransMat(tm, rho)\n",
    "    emission <- matrix(c(1-calc_p_mut(tm, tht),calc_p_mut(tm, tht)),ncol=2,byrow=FALSE)\n",
    "    logFrwdLikFct(initial, transition, initial, emission, mut_pos_bin+1)\n",
    "}\n",
    "\n",
    "cl <- makeCluster(20)     # set the number of processor cores\n",
    "setDefaultCluster(cl=cl)  # set 'cl' as default cluster\n",
    "clusterExport(cl=cl, c('nInt', 'mut_pos_bin', 'tm', 'FastTransMat', 'calc_p_mut', 'logFrwdLikFct'))\n",
    "optim_both <- optimParallel(c(0.1, 0.01), \n",
    "                            fun_optim, \n",
    "                            lower = c(0.000001, 0.000001),\n",
    "                            upper = c(10, 10),\n",
    "                            parallel = list(loginfo = TRUE),\n",
    "                            control = list(ndeps=1e-4, fnscale = -1, pgtol = 0),\n",
    "                            )"
   ]
  },
  {
   "cell_type": "code",
   "execution_count": 40,
   "metadata": {},
   "outputs": [
    {
     "name": "stdout",
     "output_type": "stream",
     "text": [
      "$par\n",
      "[1] 0.0000100000 0.0001132662\n",
      "\n",
      "$value\n",
      "[1] -83.0374\n",
      "\n",
      "$counts\n",
      "function gradient \n",
      "      34       34 \n",
      "\n",
      "$convergence\n",
      "[1] 0\n",
      "\n",
      "$message\n",
      "[1] \"CONVERGENCE: REL_REDUCTION_OF_F <= FACTR*EPSMCH\"\n",
      "\n",
      "$loginfo\n",
      "      step  par1         par2         fn       gr1         gr2\n",
      " [1,]    1 1e-01 0.0100000000  328.88370  2242.073   2949.5032\n",
      " [2,]    2 1e-05 0.0000100000   85.37061 26721.330 -23750.9169\n",
      " [3,]    3 1e-05 1.0000000000 2567.10491  2415.516   2512.7565\n",
      " [4,]    4 1e-05 0.2891590886  779.63794  2413.605   2508.6686\n",
      " [5,]    5 1e-05 0.0840985156  268.95463  2406.928   2445.7044\n",
      " [6,]    6 1e-05 0.0248244439  128.07184  2384.435   2219.8774\n",
      " [7,]    7 1e-05 0.0075555351   93.68442  2311.039   1483.7639\n",
      " [8,]    8 1e-05 0.0023812961   89.65878  2305.370   -281.8379\n",
      " [9,]    9 1e-05 0.0006922358   86.76550  8457.489   3402.4676\n",
      "[10,]   10 1e-05 0.0002172100   84.18162 10170.985   9453.5383\n",
      "[11,]   11 1e-05 0.0001582159   83.57985  8230.696  10753.1546\n",
      "[12,]   12 1e-05 0.0000100000   85.37061     0.000 -23750.9169\n",
      "[13,]   13 1e-05 0.0001325978   83.27934  6842.088   9219.6555\n",
      "[14,]   14 1e-05 0.0001191078   83.11168  5985.207   4979.2707\n",
      "[15,]   15 1e-05 0.0000100000   85.37061 26721.330 -23750.9169\n",
      "[16,]   16 1e-05 0.0001132662   83.03740  5595.631   -463.1837\n",
      "[17,]   17 1e-05 1.0000000000 2567.10491  2415.516   2512.7565\n",
      "[18,]   18 1e-05 0.0408217462  164.75728  2396.937   2345.8090\n",
      "[19,]   19 1e-05 0.0022385968   89.68558  2583.659    -20.0143\n",
      "[20,]   20 1e-05 0.0001620058   83.62221  8406.454  10754.4203\n",
      "[21,]   21 1e-05 0.0001137006   83.04295  5624.854    113.7166\n",
      "[22,]   22 1e-05 0.0001132688   83.03743  5595.805   -459.6409\n",
      "[23,]   23 1e-05 0.0001132663   83.03740  5595.632   -463.1629\n",
      "[24,]   24 1e-05 0.0001132662   83.03740  5595.631   -463.1836\n",
      "[25,]   25 1e-05 0.0001132662   83.03740  5595.631   -463.1837\n",
      "[26,]   26 1e-05 0.0001132662   83.03740  5595.631   -463.1837\n",
      "[27,]   27 1e-05 0.0001132662   83.03740  5595.631   -463.1837\n",
      "[28,]   28 1e-05 0.0001132662   83.03740  5595.631   -463.1837\n",
      "[29,]   29 1e-05 0.0001132662   83.03740  5595.631   -463.1837\n",
      "[30,]   30 1e-05 0.0001132662   83.03740  5595.631   -463.1837\n",
      "[31,]   31 1e-05 0.0001132662   83.03740  5595.631   -463.1837\n",
      "[32,]   32 1e-05 0.0001132662   83.03740  5595.631   -463.1837\n",
      "[33,]   33 1e-05 0.0001132662   83.03740  5595.631   -463.1837\n",
      "\n"
     ]
    }
   ],
   "source": [
    "%%R\n",
    "\n",
    "optim_both"
   ]
  },
  {
   "cell_type": "code",
   "execution_count": 19,
   "metadata": {},
   "outputs": [],
   "source": [
    "%%R\n",
    "\n",
    "write_csv(as_tibble(optim_both$loginfo), paste0('../../steps/01_msprime_simulations/sim', ide, '_rho', rho, '_tht', tht, '.csv'))"
   ]
  },
  {
   "cell_type": "code",
   "execution_count": 1,
   "metadata": {},
   "outputs": [
    {
     "name": "stdout",
     "output_type": "stream",
     "text": [
      "[NbConvertApp] Converting notebook 02_msprime_simulations.ipynb to script\n",
      "[NbConvertApp] Writing 5898 bytes to 02_msprime_simulations.py\n"
     ]
    }
   ],
   "source": [
    "!jupyter nbconvert --to script 02_msprime_simulations.ipynb"
   ]
  },
  {
   "cell_type": "code",
   "execution_count": null,
   "metadata": {},
   "outputs": [],
   "source": []
  }
 ],
 "metadata": {
  "kernelspec": {
   "display_name": "Python 3 (ipykernel)",
   "language": "python",
   "name": "python3"
  },
  "language_info": {
   "codemirror_mode": {
    "name": "ipython",
    "version": 3
   },
   "file_extension": ".py",
   "mimetype": "text/x-python",
   "name": "python",
   "nbconvert_exporter": "python",
   "pygments_lexer": "ipython3",
   "version": "3.7.10"
  }
 },
 "nbformat": 4,
 "nbformat_minor": 4
}
