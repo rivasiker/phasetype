{
 "cells": [
  {
   "cell_type": "code",
   "execution_count": 87,
   "id": "139cfa81-6cfc-4b56-b169-5bfbabdff309",
   "metadata": {},
   "outputs": [],
   "source": [
    "import itertools\n",
    "from itertools import permutations"
   ]
  },
  {
   "cell_type": "code",
   "execution_count": 88,
   "id": "f6696378-e569-4fad-a8e6-4734464f4d97",
   "metadata": {},
   "outputs": [],
   "source": [
    "list_blocks = ['L1', 'L2', 'L3', 'R1', 'R2', 'R3']"
   ]
  },
  {
   "cell_type": "code",
   "execution_count": 89,
   "id": "1a2172e7-e866-4773-b827-9631723aba9f",
   "metadata": {},
   "outputs": [
    {
     "data": {
      "text/plain": [
       "[('L1',),\n",
       " ('L2',),\n",
       " ('L3',),\n",
       " ('R1',),\n",
       " ('R2',),\n",
       " ('R3',),\n",
       " ('L1', 'L2'),\n",
       " ('L1', 'L3'),\n",
       " ('L1', 'R1'),\n",
       " ('L1', 'R2'),\n",
       " ('L1', 'R3'),\n",
       " ('L2', 'L3'),\n",
       " ('L2', 'R1'),\n",
       " ('L2', 'R2'),\n",
       " ('L2', 'R3'),\n",
       " ('L3', 'R1'),\n",
       " ('L3', 'R2'),\n",
       " ('L3', 'R3'),\n",
       " ('R1', 'R2'),\n",
       " ('R1', 'R3'),\n",
       " ('R2', 'R3'),\n",
       " ('L1', 'L2', 'L3'),\n",
       " ('L1', 'L2', 'R1'),\n",
       " ('L1', 'L2', 'R2'),\n",
       " ('L1', 'L2', 'R3'),\n",
       " ('L1', 'L3', 'R1'),\n",
       " ('L1', 'L3', 'R2'),\n",
       " ('L1', 'L3', 'R3'),\n",
       " ('L1', 'R1', 'R2'),\n",
       " ('L1', 'R1', 'R3'),\n",
       " ('L1', 'R2', 'R3'),\n",
       " ('L2', 'L3', 'R1'),\n",
       " ('L2', 'L3', 'R2'),\n",
       " ('L2', 'L3', 'R3'),\n",
       " ('L2', 'R1', 'R2'),\n",
       " ('L2', 'R1', 'R3'),\n",
       " ('L2', 'R2', 'R3'),\n",
       " ('L3', 'R1', 'R2'),\n",
       " ('L3', 'R1', 'R3'),\n",
       " ('L3', 'R2', 'R3'),\n",
       " ('R1', 'R2', 'R3'),\n",
       " ('L1', 'L2', 'L3', 'R1'),\n",
       " ('L1', 'L2', 'L3', 'R2'),\n",
       " ('L1', 'L2', 'L3', 'R3'),\n",
       " ('L1', 'L2', 'R1', 'R2'),\n",
       " ('L1', 'L2', 'R1', 'R3'),\n",
       " ('L1', 'L2', 'R2', 'R3'),\n",
       " ('L1', 'L3', 'R1', 'R2'),\n",
       " ('L1', 'L3', 'R1', 'R3'),\n",
       " ('L1', 'L3', 'R2', 'R3'),\n",
       " ('L1', 'R1', 'R2', 'R3'),\n",
       " ('L2', 'L3', 'R1', 'R2'),\n",
       " ('L2', 'L3', 'R1', 'R3'),\n",
       " ('L2', 'L3', 'R2', 'R3'),\n",
       " ('L2', 'R1', 'R2', 'R3'),\n",
       " ('L3', 'R1', 'R2', 'R3')]"
      ]
     },
     "execution_count": 89,
     "metadata": {},
     "output_type": "execute_result"
    }
   ],
   "source": [
    "all_combinations = []\n",
    "for r in range(1, 5, 1):\n",
    "    combinations_object = itertools.combinations(list_blocks, r)\n",
    "    combinations_list = list(combinations_object)\n",
    "    all_combinations += combinations_list\n",
    "all_combinations"
   ]
  },
  {
   "cell_type": "code",
   "execution_count": 90,
   "id": "d2b29f82-26be-447f-8121-e0e259bf793c",
   "metadata": {},
   "outputs": [
    {
     "data": {
      "text/plain": [
       "[('L3', 'R3'),\n",
       " ('L1', 'L2', 'R3'),\n",
       " ('L3', 'R1', 'R2'),\n",
       " ('L1', 'L2', 'R1', 'R2')]"
      ]
     },
     "execution_count": 90,
     "metadata": {},
     "output_type": "execute_result"
    }
   ],
   "source": [
    "new_list = []\n",
    "for i in all_combinations:\n",
    "    left_n = 0\n",
    "    left_3 = False\n",
    "    left_good = False\n",
    "    right_n = 0\n",
    "    right_3 = False\n",
    "    right_good = False\n",
    "    for j in i:\n",
    "        if 'L3' in j:\n",
    "            left_3 = True\n",
    "        if 'R3' in j:\n",
    "            right_3 = True\n",
    "        if 'L' in j:\n",
    "            left_n += 1\n",
    "        if 'R' in j:\n",
    "            right_n += 1\n",
    "    if left_3 and (left_n == 1):\n",
    "        left_good = True\n",
    "    elif (not left_3) and (left_n == 2):\n",
    "        left_good = True\n",
    "    if right_3 and (right_n == 1):\n",
    "        right_good = True\n",
    "    elif (not right_3) and (right_n == 2):\n",
    "        right_good = True\n",
    "    \n",
    "    if left_good and right_good:\n",
    "        new_list.append(i)\n",
    "new_list"
   ]
  },
  {
   "cell_type": "code",
   "execution_count": 91,
   "id": "032b829c-e4a0-4ac3-800b-cec9206074f5",
   "metadata": {},
   "outputs": [
    {
     "data": {
      "text/plain": [
       "[['L3', 'R3'],\n",
       " ['L3R3'],\n",
       " ['L1', 'L2', 'R3'],\n",
       " ['L1R3', 'L2'],\n",
       " ['L2R3', 'L1'],\n",
       " ['L3', 'R1', 'R2'],\n",
       " ['L3R1', 'R2'],\n",
       " ['L3R2', 'R1'],\n",
       " ['L1', 'L2', 'R1', 'R2'],\n",
       " ['L2R1', 'L1', 'R2'],\n",
       " ['L1R2', 'L2', 'R1'],\n",
       " ['L1R1', 'L2', 'R2'],\n",
       " ['L2R2', 'L1', 'R1'],\n",
       " ['L1R2', 'L2R1'],\n",
       " ['L1R1', 'L2R2']]"
      ]
     },
     "execution_count": 91,
     "metadata": {},
     "output_type": "execute_result"
    }
   ],
   "source": [
    "lst_clean = []\n",
    "for i in new_list:\n",
    "    n_lst = []\n",
    "    n_lst_2 = []\n",
    "    for j in list(permutations(i, len(i))):\n",
    "        if (j[0][0] == 'L') and (j[1][0] == 'R'):\n",
    "            n_lst.append([j[0]+j[1]]+sorted(list(j[2:])))\n",
    "            \n",
    "    if len(i) == 4:\n",
    "        n_lst = set(map(tuple,n_lst))  \n",
    "        n_lst = list(map(list,n_lst))\n",
    "        for j in n_lst:\n",
    "            n_lst_2.append(sorted([j[0], ''.join(j[1:])]))\n",
    "        n_lst_2.sort()\n",
    "        n_lst_2 = set(map(tuple,n_lst_2))  \n",
    "        n_lst_2 = list(map(list,n_lst_2))\n",
    "    \n",
    "    lst_clean = lst_clean+[list(i)]+n_lst+n_lst_2\n",
    "lst_clean      "
   ]
  },
  {
   "cell_type": "code",
   "execution_count": 97,
   "id": "0103cb59-47a4-43fa-b060-0b16dc4b6ed4",
   "metadata": {},
   "outputs": [
    {
     "data": {
      "text/plain": [
       "True"
      ]
     },
     "execution_count": 97,
     "metadata": {},
     "output_type": "execute_result"
    }
   ],
   "source": [
    "len(list(itertools.permutations(lst_clean, 2))) == 15*15-15"
   ]
  },
  {
   "cell_type": "code",
   "execution_count": null,
   "id": "979b55d1-3813-4263-b25a-afcf9acde5f1",
   "metadata": {},
   "outputs": [],
   "source": []
  }
 ],
 "metadata": {
  "kernelspec": {
   "display_name": "Python 3 (ipykernel)",
   "language": "python",
   "name": "python3"
  },
  "language_info": {
   "codemirror_mode": {
    "name": "ipython",
    "version": 3
   },
   "file_extension": ".py",
   "mimetype": "text/x-python",
   "name": "python",
   "nbconvert_exporter": "python",
   "pygments_lexer": "ipython3",
   "version": "3.7.10"
  }
 },
 "nbformat": 4,
 "nbformat_minor": 5
}
