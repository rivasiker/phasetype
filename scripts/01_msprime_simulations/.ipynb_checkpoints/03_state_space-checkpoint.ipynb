{
 "cells": [
  {
   "cell_type": "code",
   "execution_count": 1,
   "id": "562126d1-d105-4512-ba18-89c0f90e6e23",
   "metadata": {},
   "outputs": [],
   "source": [
    "from IPython.display import SVG\n",
    "%load_ext rpy2.ipython\n",
    "# %reload_ext rpy2.ipython\n",
    "import random"
   ]
  },
  {
   "cell_type": "code",
   "execution_count": 2,
   "id": "0e2e7c7d-c169-4ad6-83a7-ba76f1079645",
   "metadata": {},
   "outputs": [
    {
     "data": {
      "text/plain": [
       "[[(0, 1), (1, 0), (2, 2), (4, 4)],\n",
       " [(0, 2), (1, 1), (2, 0), (4, 4)],\n",
       " [(0, 4), (1, 1), (2, 2), (4, 0)]]"
      ]
     },
     "execution_count": 2,
     "metadata": {},
     "output_type": "execute_result"
    }
   ],
   "source": [
    "def recombination(i):\n",
    "    \"\"\"\n",
    "    This function returns all possible states after a \n",
    "    single recombination event given an initial state\n",
    "    \"\"\"\n",
    "    # Create empty list\n",
    "    new_lst = []\n",
    "    # For each block index in the list\n",
    "    for block in range(len(i)):\n",
    "        # If the site is linked\n",
    "        if 0 not in i[block]:\n",
    "            # Remove block\n",
    "            lst = i[:block]+i[block+1:]\n",
    "            # Split block\n",
    "            lst = lst + [(i[block][0], 0), (0, i[block][1])]\n",
    "            # Append to list\n",
    "            new_lst.append(sorted(lst))\n",
    "    return new_lst\n",
    "\n",
    "i = [(1, 1), (2, 2), (4, 4)]\n",
    "recombination(i)"
   ]
  },
  {
   "cell_type": "code",
   "execution_count": 13,
   "id": "d3a70237-0121-4abb-a54d-83faf79d3783",
   "metadata": {},
   "outputs": [
    {
     "data": {
      "text/plain": [
       "[[(1, 1), (2, 2), (4, 4)],\n",
       " [(1, 3), (2, 0), (4, 4)],\n",
       " [(0, 2), (2, 0), (5, 5)],\n",
       " [(0, 2), (3, 1), (4, 4)],\n",
       " [(1, 1), (2, 0), (4, 6)],\n",
       " [(0, 2), (1, 1), (6, 4)]]"
      ]
     },
     "execution_count": 13,
     "metadata": {},
     "output_type": "execute_result"
    }
   ],
   "source": [
    "def coalescent(i):\n",
    "    \"\"\"\n",
    "    This function returns all possible states after a \n",
    "    single coalescence event given an initial state. \n",
    "    The returned list is somewhat ordered, so that the \n",
    "    first states correspond to reversible coalescence \n",
    "    events, and the last to non-reversible ones.\n",
    "    \"\"\"\n",
    "    # Get unique values per site\n",
    "    n_0 = set([0]+list(sum(i, ())))\n",
    "    reversible = []\n",
    "    nonreversible = []\n",
    "    # For each combination of blocks\n",
    "    for b1 in range(len(i)):\n",
    "        for b2 in range(b1+1, len(i)):\n",
    "            # Create new block by merging\n",
    "            add_lst = [(i[b1][0]+i[b2][0], i[b1][1]+i[b2][1])]\n",
    "            # For each index in i\n",
    "            for b3 in range(len(i)):\n",
    "                # If the index is not in among the merged blocks\n",
    "                if b3 not in [b1, b2]:\n",
    "                    # Append to list\n",
    "                    add_lst.append(i[b3])\n",
    "            # If the unique values are different from the \n",
    "            # original block\n",
    "            if set([0]+list(sum(add_lst, ()))) == n_0:\n",
    "                # Append to reversible coalescence list\n",
    "                reversible.append(sorted(add_lst))\n",
    "            else:\n",
    "                # Append to non-reversible coalescence list\n",
    "                nonreversible.append(sorted(add_lst))\n",
    "    l = reversible+nonreversible\n",
    "    return l\n",
    "\n",
    "\n",
    "def reversible(i):\n",
    "    \"\"\"\n",
    "    This function returns all possible states after a \n",
    "    single coalescence event given an initial state. \n",
    "    The returned list is somewhat ordered, so that the \n",
    "    first states correspond to reversible coalescence \n",
    "    events, and the last to non-reversible ones.\n",
    "    \"\"\"\n",
    "    # Get unique values per site\n",
    "    n_0 = set([0]+list(sum(i, ())))\n",
    "    reversible = []\n",
    "    # For each combination of blocks\n",
    "    for b1 in range(len(i)):\n",
    "        for b2 in range(b1+1, len(i)):\n",
    "            # Create new block by merging\n",
    "            add_lst = [(i[b1][0]+i[b2][0], i[b1][1]+i[b2][1])]\n",
    "            # For each index in i\n",
    "            for b3 in range(len(i)):\n",
    "                # If the index is not in among the merged blocks\n",
    "                if b3 not in [b1, b2]:\n",
    "                    # Append to list\n",
    "                    add_lst.append(i[b3])\n",
    "            # If the unique values are different from the \n",
    "            # original block\n",
    "            if set([0]+list(sum(add_lst, ()))) == n_0:\n",
    "                # Append to reversible coalescence list\n",
    "                reversible.append(sorted(add_lst))\n",
    "    return reversible\n",
    "\n",
    "\n",
    "def nonreversible(i):\n",
    "    \"\"\"\n",
    "    This function returns all possible states after a \n",
    "    single coalescence event given an initial state. \n",
    "    The returned list is somewhat ordered, so that the \n",
    "    first states correspond to reversible coalescence \n",
    "    events, and the last to non-reversible ones.\n",
    "    \"\"\"\n",
    "    # Get unique values per site\n",
    "    n_0 = set([0]+list(sum(i, ())))\n",
    "    nonreversible = []\n",
    "    # For each combination of blocks\n",
    "    for b1 in range(len(i)):\n",
    "        for b2 in range(b1+1, len(i)):\n",
    "            # Create new block by merging\n",
    "            add_lst = [(i[b1][0]+i[b2][0], i[b1][1]+i[b2][1])]\n",
    "            # For each index in i\n",
    "            for b3 in range(len(i)):\n",
    "                # If the index is not in among the merged blocks\n",
    "                if b3 not in [b1, b2]:\n",
    "                    # Append to list\n",
    "                    add_lst.append(i[b3])\n",
    "            # If the unique values are different from the \n",
    "            # original block\n",
    "            if not (set([0]+list(sum(add_lst, ()))) == n_0):\n",
    "                # Append to non-reversible coalescence list\n",
    "                nonreversible.append(sorted(add_lst))\n",
    "    return nonreversible\n",
    "\n",
    "i = [(1, 1), (0, 2), (4, 4), (2, 0)]\n",
    "coalescent(i)"
   ]
  },
  {
   "cell_type": "code",
   "execution_count": 14,
   "id": "e5419b83-cfb5-4444-83af-10dbe95cf42d",
   "metadata": {},
   "outputs": [
    {
     "data": {
      "text/plain": [
       "[[(1, 1), (2, 2), (4, 4)]]"
      ]
     },
     "execution_count": 14,
     "metadata": {},
     "output_type": "execute_result"
    }
   ],
   "source": [
    "reversible(i)"
   ]
  },
  {
   "cell_type": "code",
   "execution_count": 16,
   "id": "b93b235c-83a9-4a96-b205-45a562d9795f",
   "metadata": {},
   "outputs": [
    {
     "data": {
      "text/plain": [
       "[[(1, 3), (2, 0), (4, 4)],\n",
       " [(0, 2), (2, 0), (5, 5)],\n",
       " [(0, 2), (3, 1), (4, 4)],\n",
       " [(1, 1), (2, 0), (4, 6)],\n",
       " [(0, 2), (1, 1), (6, 4)]]"
      ]
     },
     "execution_count": 16,
     "metadata": {},
     "output_type": "execute_result"
    }
   ],
   "source": [
    "nonreversible(i)"
   ]
  },
  {
   "cell_type": "code",
   "execution_count": 17,
   "id": "6f14d627-e18d-442b-81bc-276c34d53aec",
   "metadata": {},
   "outputs": [],
   "source": [
    "\n",
    "def get_states(lst):\n",
    "    \"\"\"\n",
    "    Given a list of states, this function finds all possible\n",
    "    recombination and coalescence states iteratively.\n",
    "    \"\"\"\n",
    "    # Sort block per states just in case\n",
    "    all_states = [sorted(i) for i in lst]\n",
    "    # Define pool of states to be transformed\n",
    "    state_pool = all_states\n",
    "    # While the pool is non-empty\n",
    "    while len(state_pool) > 0:\n",
    "        # Define result list per iteration\n",
    "        iter_states = []\n",
    "        # For each of the states in the pool\n",
    "        for i in state_pool:\n",
    "            # Save coalescent transformation\n",
    "            iter_states = iter_states+coalescent(i)\n",
    "            # Save recombination transformation\n",
    "            iter_states = iter_states+recombination(i)\n",
    "        # Keep unique values in the original order\n",
    "        iter_states = sorted(list(list(i) for i in set(tuple(row) for row in iter_states)), key = iter_states.index)\n",
    "        # Define pool for next round\n",
    "        state_pool = [i for i in iter_states if i not in all_states]\n",
    "        # Add pool to overall list\n",
    "        all_states += state_pool\n",
    "    return all_states\n",
    "\n",
    "\n",
    "def get_states_rev_nonrev(lst):\n",
    "    \"\"\"\n",
    "    Given a list of states, this function finds all possible\n",
    "    recombination and coalescence states iteratively.\n",
    "    \"\"\"\n",
    "    # Sort block per states just in case\n",
    "    all_states = [sorted(i) for i in lst]\n",
    "    # Define pool of states to be transformed\n",
    "    state_pool = all_states\n",
    "    # While the pool is non-empty\n",
    "    while len(state_pool) > 0:\n",
    "        # Define result list per iteration\n",
    "        iter_states = []\n",
    "        # For each of the states in the pool\n",
    "        for i in state_pool:\n",
    "            # Save coalescent transformation\n",
    "            iter_states = iter_states+reversible(i)\n",
    "            # Save recombination transformation\n",
    "            iter_states = iter_states+recombination(i)\n",
    "        # Keep unique values in the original order\n",
    "        iter_states = sorted(list(list(i) for i in set(tuple(row) for row in iter_states)), key = iter_states.index)\n",
    "        # Define pool for next round\n",
    "        state_pool = [i for i in iter_states if i not in all_states]\n",
    "        # Add pool to overall list\n",
    "        all_states += state_pool\n",
    "    state_pool = all_states\n",
    "    while len(state_pool) > 0:\n",
    "        # Define result list per iteration\n",
    "        iter_states = []\n",
    "        # For each of the states in the pool\n",
    "        for i in state_pool:\n",
    "            # Save coalescent transformation\n",
    "            iter_states = iter_states+nonreversible(i)\n",
    "            # Save recombination transformation\n",
    "            iter_states = iter_states+recombination(i)\n",
    "        # Keep unique values in the original order\n",
    "        iter_states = sorted(list(list(i) for i in set(tuple(row) for row in iter_states)), key = iter_states.index)\n",
    "        # Define pool for next round\n",
    "        state_pool = [i for i in iter_states if i not in all_states]\n",
    "        # Add pool to overall list\n",
    "        all_states += state_pool\n",
    "    return all_states\n",
    "\n",
    "import multiprocessing as mp\n",
    "def get_states_parallel(lst):\n",
    "    all_states = [sorted(i) for i in lst]\n",
    "    state_pool = all_states\n",
    "    while len(state_pool) > 0:\n",
    "        iter_states = []\n",
    "        pool = mp.Pool(mp.cpu_count())\n",
    "        iter_states = iter_states+[item for sublist in pool.map(coalescent, state_pool) for item in sublist]\n",
    "        iter_states = iter_states+[item for sublist in pool.map(recombination, state_pool) for item in sublist]\n",
    "        pool.close()\n",
    "        # Keep unique values in the original order\n",
    "        iter_states = sorted(list(list(i) for i in set(tuple(row) for row in iter_states)), key = iter_states.index)\n",
    "        state_pool = [i for i in iter_states if i not in all_states]\n",
    "        all_states += state_pool\n",
    "    return all_states\n"
   ]
  },
  {
   "cell_type": "code",
   "execution_count": null,
   "id": "28e5f971-077f-466c-aacb-eca5c3e986c0",
   "metadata": {},
   "outputs": [],
   "source": []
  },
  {
   "cell_type": "code",
   "execution_count": 5,
   "id": "b60f7444-f89b-44df-b28e-91116f56fd1b",
   "metadata": {},
   "outputs": [
    {
     "name": "stdout",
     "output_type": "stream",
     "text": [
      "[[(1, 1)], [(0, 1), (1, 0)]]\n",
      "[[(2, 2)], [(0, 2), (2, 0)]]\n"
     ]
    }
   ],
   "source": [
    "state_1 = [[(1, 1)]]\n",
    "iter_lst_1 = get_states(state_1)\n",
    "print(iter_lst_1)\n",
    "state_2 = [[(2, 2)]]\n",
    "iter_lst_2 = get_states(state_2)\n",
    "print(iter_lst_2)"
   ]
  },
  {
   "cell_type": "code",
   "execution_count": 6,
   "id": "1427e654-ca8f-47cd-9486-db6d39291473",
   "metadata": {},
   "outputs": [],
   "source": [
    "#from itertools import product\n",
    "#starting_states_2 = list([[item for sublist in i for item in sublist] for i in product(iter_lst_1, iter_lst_2)])\n",
    "#starting_states_2"
   ]
  },
  {
   "cell_type": "code",
   "execution_count": 7,
   "id": "5f8ff55e-1019-4b4c-9237-ff5205df3938",
   "metadata": {},
   "outputs": [
    {
     "data": {
      "text/plain": [
       "[[(0, 1), (0, 2), (1, 0), (2, 0)],\n",
       " [(0, 2), (1, 1), (2, 0)],\n",
       " [(0, 2), (1, 0), (2, 1)],\n",
       " [(0, 1), (1, 2), (2, 0)],\n",
       " [(0, 1), (1, 0), (2, 2)],\n",
       " [(0, 3), (1, 0), (2, 0)],\n",
       " [(0, 1), (0, 2), (3, 0)],\n",
       " [(1, 1), (2, 2)],\n",
       " [(1, 3), (2, 0)],\n",
       " [(0, 2), (3, 1)],\n",
       " [(1, 2), (2, 1)],\n",
       " [(1, 0), (2, 3)],\n",
       " [(0, 1), (3, 2)],\n",
       " [(0, 3), (3, 0)],\n",
       " [(3, 3)]]"
      ]
     },
     "execution_count": 42,
     "metadata": {},
     "output_type": "execute_result"
    }
   ],
   "source": [
    "state_4 = [[(0, 1), (0, 2), (1, 0), (2, 0)]]\n",
    "iter_lst = get_states(state_4)\n",
    "iter_lst"
   ]
  },
  {
   "cell_type": "code",
   "execution_count": 18,
   "id": "70cb81de-b653-4a6b-8011-85106c6438f6",
   "metadata": {},
   "outputs": [
    {
     "data": {
      "text/plain": [
       "[[(0, 1), (0, 2), (1, 0), (2, 0)],\n",
       " [(0, 2), (1, 1), (2, 0)],\n",
       " [(0, 2), (1, 0), (2, 1)],\n",
       " [(0, 1), (1, 2), (2, 0)],\n",
       " [(0, 1), (1, 0), (2, 2)],\n",
       " [(1, 1), (2, 2)],\n",
       " [(1, 2), (2, 1)]]"
      ]
     },
     "execution_count": 43,
     "metadata": {},
     "output_type": "execute_result"
    }
   ],
   "source": [
    "state_4 = [[(0, 1), (0, 2), (1, 0), (2, 0)]]\n",
    "iter_lst = get_states_rev_nonrev(state_4)\n",
    "iter_lst"
   ]
  },
  {
   "cell_type": "code",
   "execution_count": 8,
   "id": "72f66984-1a9e-481d-aebd-13f98cc28442",
   "metadata": {},
   "outputs": [
    {
     "data": {
      "text/plain": [
       "[[(0, 2), (1, 1), (2, 0)],\n",
       " [(0, 2), (1, 0), (2, 1)],\n",
       " [(0, 1), (1, 2), (2, 0)],\n",
       " [(0, 1), (1, 0), (2, 2)],\n",
       " [(0, 3), (1, 0), (2, 0)],\n",
       " [(0, 1), (0, 2), (3, 0)]]"
      ]
     },
     "execution_count": 44,
     "metadata": {},
     "output_type": "execute_result"
    }
   ],
   "source": [
    "coalescent([(0, 1), (0, 2), (1, 0), (2, 0)])"
   ]
  },
  {
   "cell_type": "code",
   "execution_count": 19,
   "id": "cab3f3ec-b7f6-4905-ab6c-95322498f780",
   "metadata": {},
   "outputs": [
    {
     "ename": "ValueError",
     "evalue": "[(0, 3), (1, 0), (2, 0)] is not in list",
     "output_type": "error",
     "traceback": [
      "\u001b[0;31m---------------------------------------------------------------------------\u001b[0m",
      "\u001b[0;31mValueError\u001b[0m                                Traceback (most recent call last)",
      "\u001b[0;32m/var/folders/f2/kh1g9nkd125769chspqz3121r__05x/T/ipykernel_40842/2490372547.py\u001b[0m in \u001b[0;36m<module>\u001b[0;34m\u001b[0m\n\u001b[1;32m      8\u001b[0m         \u001b[0mtrans_mat\u001b[0m\u001b[0;34m[\u001b[0m\u001b[0mi\u001b[0m\u001b[0;34m,\u001b[0m\u001b[0mj\u001b[0m\u001b[0;34m]\u001b[0m\u001b[0;34m=\u001b[0m\u001b[0;34m'R'\u001b[0m\u001b[0;34m\u001b[0m\u001b[0;34m\u001b[0m\u001b[0m\n\u001b[1;32m      9\u001b[0m     \u001b[0mnew_lst\u001b[0m \u001b[0;34m=\u001b[0m \u001b[0mcoalescent\u001b[0m\u001b[0;34m(\u001b[0m\u001b[0miter_lst\u001b[0m\u001b[0;34m[\u001b[0m\u001b[0mi\u001b[0m\u001b[0;34m]\u001b[0m\u001b[0;34m)\u001b[0m\u001b[0;34m\u001b[0m\u001b[0;34m\u001b[0m\u001b[0m\n\u001b[0;32m---> 10\u001b[0;31m     \u001b[0midx_lst\u001b[0m \u001b[0;34m=\u001b[0m \u001b[0;34m[\u001b[0m\u001b[0miter_lst\u001b[0m\u001b[0;34m.\u001b[0m\u001b[0mindex\u001b[0m\u001b[0;34m(\u001b[0m\u001b[0mj\u001b[0m\u001b[0;34m)\u001b[0m \u001b[0;32mfor\u001b[0m \u001b[0mj\u001b[0m \u001b[0;32min\u001b[0m \u001b[0mnew_lst\u001b[0m\u001b[0;34m]\u001b[0m\u001b[0;34m\u001b[0m\u001b[0;34m\u001b[0m\u001b[0m\n\u001b[0m\u001b[1;32m     11\u001b[0m     \u001b[0;32mfor\u001b[0m \u001b[0mj\u001b[0m \u001b[0;32min\u001b[0m \u001b[0midx_lst\u001b[0m\u001b[0;34m:\u001b[0m\u001b[0;34m\u001b[0m\u001b[0;34m\u001b[0m\u001b[0m\n\u001b[1;32m     12\u001b[0m         \u001b[0mtrans_mat\u001b[0m\u001b[0;34m[\u001b[0m\u001b[0mi\u001b[0m\u001b[0;34m,\u001b[0m\u001b[0mj\u001b[0m\u001b[0;34m]\u001b[0m\u001b[0;34m=\u001b[0m\u001b[0;34m'C'\u001b[0m\u001b[0;34m\u001b[0m\u001b[0;34m\u001b[0m\u001b[0m\n",
      "\u001b[0;32m/var/folders/f2/kh1g9nkd125769chspqz3121r__05x/T/ipykernel_40842/2490372547.py\u001b[0m in \u001b[0;36m<listcomp>\u001b[0;34m(.0)\u001b[0m\n\u001b[1;32m      8\u001b[0m         \u001b[0mtrans_mat\u001b[0m\u001b[0;34m[\u001b[0m\u001b[0mi\u001b[0m\u001b[0;34m,\u001b[0m\u001b[0mj\u001b[0m\u001b[0;34m]\u001b[0m\u001b[0;34m=\u001b[0m\u001b[0;34m'R'\u001b[0m\u001b[0;34m\u001b[0m\u001b[0;34m\u001b[0m\u001b[0m\n\u001b[1;32m      9\u001b[0m     \u001b[0mnew_lst\u001b[0m \u001b[0;34m=\u001b[0m \u001b[0mcoalescent\u001b[0m\u001b[0;34m(\u001b[0m\u001b[0miter_lst\u001b[0m\u001b[0;34m[\u001b[0m\u001b[0mi\u001b[0m\u001b[0;34m]\u001b[0m\u001b[0;34m)\u001b[0m\u001b[0;34m\u001b[0m\u001b[0;34m\u001b[0m\u001b[0m\n\u001b[0;32m---> 10\u001b[0;31m     \u001b[0midx_lst\u001b[0m \u001b[0;34m=\u001b[0m \u001b[0;34m[\u001b[0m\u001b[0miter_lst\u001b[0m\u001b[0;34m.\u001b[0m\u001b[0mindex\u001b[0m\u001b[0;34m(\u001b[0m\u001b[0mj\u001b[0m\u001b[0;34m)\u001b[0m \u001b[0;32mfor\u001b[0m \u001b[0mj\u001b[0m \u001b[0;32min\u001b[0m \u001b[0mnew_lst\u001b[0m\u001b[0;34m]\u001b[0m\u001b[0;34m\u001b[0m\u001b[0;34m\u001b[0m\u001b[0m\n\u001b[0m\u001b[1;32m     11\u001b[0m     \u001b[0;32mfor\u001b[0m \u001b[0mj\u001b[0m \u001b[0;32min\u001b[0m \u001b[0midx_lst\u001b[0m\u001b[0;34m:\u001b[0m\u001b[0;34m\u001b[0m\u001b[0;34m\u001b[0m\u001b[0m\n\u001b[1;32m     12\u001b[0m         \u001b[0mtrans_mat\u001b[0m\u001b[0;34m[\u001b[0m\u001b[0mi\u001b[0m\u001b[0;34m,\u001b[0m\u001b[0mj\u001b[0m\u001b[0;34m]\u001b[0m\u001b[0;34m=\u001b[0m\u001b[0;34m'C'\u001b[0m\u001b[0;34m\u001b[0m\u001b[0;34m\u001b[0m\u001b[0m\n",
      "\u001b[0;31mValueError\u001b[0m: [(0, 3), (1, 0), (2, 0)] is not in list"
     ]
    }
   ],
   "source": [
    "import numpy as np\n",
    "trans_mat = np.full((len(iter_lst), len(iter_lst)), '0')\n",
    "\n",
    "for i in range(len(iter_lst)):\n",
    "    new_lst = recombination(iter_lst[i])\n",
    "    idx_lst = [iter_lst.index(j) for j in new_lst]\n",
    "    for j in idx_lst:\n",
    "        trans_mat[i,j]='R'\n",
    "    new_lst = coalescent(iter_lst[i])\n",
    "    idx_lst = [iter_lst.index(j) for j in new_lst]\n",
    "    for j in idx_lst:\n",
    "        trans_mat[i,j]='C'\n",
    "        \n"
   ]
  },
  {
   "cell_type": "code",
   "execution_count": 20,
   "id": "c879d42f-31d8-4450-aa96-d049697a96ab",
   "metadata": {},
   "outputs": [
    {
     "data": {
      "image/png": "[encoded data removed]"
     },
     "metadata": {},
     "output_type": "display_data"
    }
   ],
   "source": [
    "%%R -i trans_mat  -w 1000 -h 1000 -r 150\n",
    "\n",
    "library(tidyverse)\n",
    "\n",
    "as_tibble(trans_mat) %>% \n",
    "    mutate(from = 1:n()) %>% \n",
    "    pivot_longer(-from) %>% \n",
    "    mutate(to = as.integer(str_remove_all(name, 'V'))) %>% \n",
    "    select(from, to, value) %>% \n",
    "    mutate(value = ifelse(from==to, NA, value))  %>% \n",
    "    ggplot() +\n",
    "    geom_tile(aes(to, from, fill = value)) +\n",
    "    scale_y_reverse(expand = c(0, 0)) +\n",
    "    scale_x_continuous(expand = c(0, 0)) +\n",
    "    theme(legend.position = 'bottom')"
   ]
  },
  {
   "cell_type": "code",
   "execution_count": null,
   "id": "e235e34a-f01f-4903-acbf-bd1e04583dfd",
   "metadata": {},
   "outputs": [],
   "source": []
  },
  {
   "cell_type": "code",
   "execution_count": null,
   "id": "94cb3823-9d15-4494-aa53-2d89d2b225be",
   "metadata": {},
   "outputs": [],
   "source": []
  },
  {
   "cell_type": "code",
   "execution_count": null,
   "id": "84d249c3-0d55-4f82-af02-dda3065eec25",
   "metadata": {},
   "outputs": [],
   "source": []
  },
  {
   "cell_type": "code",
   "execution_count": 11,
   "id": "535b35a9-0c3a-4f46-9600-72c08fc06f77",
   "metadata": {},
   "outputs": [
    {
     "data": {
      "text/plain": [
       "203"
      ]
     },
     "execution_count": 11,
     "metadata": {},
     "output_type": "execute_result"
    }
   ],
   "source": [
    "state_n = [[(0, 1), (0, 2), (0, 4), (1, 0), (2, 0), (4, 0)]]\n",
    "\n",
    "iter_lst_2 = get_states(state_n)\n",
    "len(iter_lst_2)"
   ]
  },
  {
   "cell_type": "code",
   "execution_count": 29,
   "id": "7188879d-d655-4885-9629-0b6672b29c08",
   "metadata": {},
   "outputs": [
    {
     "data": {
      "text/plain": [
       "203"
      ]
     },
     "execution_count": 29,
     "metadata": {},
     "output_type": "execute_result"
    }
   ],
   "source": [
    "state_n = [[(0, 1), (0, 2), (0, 4), (1, 0), (2, 0), (4, 0)]]\n",
    "\n",
    "iter_lst_2 = get_states_rev_nonrev(state_n)\n",
    "len(iter_lst_2)"
   ]
  },
  {
   "cell_type": "code",
   "execution_count": 402,
   "id": "ea24dbb8-9e87-4d1e-a49a-21b83fa4798e",
   "metadata": {},
   "outputs": [
    {
     "data": {
      "text/plain": [
       "203"
      ]
     },
     "execution_count": 402,
     "metadata": {},
     "output_type": "execute_result"
    }
   ],
   "source": [
    "state_n = [[(0, 1), (0, 2), (0, 4), (1, 0), (2, 0), (4, 0)]]\n",
    "iter_lst_2 = get_states_parallel(state_n)\n",
    "len(iter_lst_2)"
   ]
  },
  {
   "cell_type": "code",
   "execution_count": 403,
   "id": "7591154f-4a14-4ab7-b8a5-fb20fc4c59c1",
   "metadata": {},
   "outputs": [
    {
     "data": {
      "text/plain": [
       "4140"
      ]
     },
     "execution_count": 403,
     "metadata": {},
     "output_type": "execute_result"
    }
   ],
   "source": [
    "state_n = [[(1, 1), (2, 2), (4, 4), (8, 8)]]\n",
    "len(get_states(state_n))"
   ]
  },
  {
   "cell_type": "code",
   "execution_count": 404,
   "id": "69d427b7-59ce-4c69-a98b-2db512222f02",
   "metadata": {},
   "outputs": [
    {
     "data": {
      "text/plain": [
       "4140"
      ]
     },
     "execution_count": 404,
     "metadata": {},
     "output_type": "execute_result"
    }
   ],
   "source": [
    "state_n = [[(1, 1), (2, 2), (4, 4), (8, 8)]]\n",
    "len(get_states_parallel(state_n))"
   ]
  },
  {
   "cell_type": "code",
   "execution_count": 405,
   "id": "c237c886-9dfe-4ec4-bed5-ffd4fd5a80f3",
   "metadata": {},
   "outputs": [],
   "source": [
    "# state_n = [[(1, 1), (2, 2), (4, 4), (8, 8), (16, 16)]]\n",
    "# len(get_states_parallel(state_n))\n",
    "# 115975"
   ]
  },
  {
   "cell_type": "markdown",
   "id": "7d22e8ba-29e9-42f3-8342-7528b7d59750",
   "metadata": {},
   "source": [
    "The sequence of numbers corresponds to the Bell numbers for n = number of sites. A Bell number counts the number of different ways to partition a set that has exactly n elements. "
   ]
  },
  {
   "cell_type": "code",
   "execution_count": 406,
   "id": "f1e2a7d8-0164-4017-8e4e-09cb08f1a046",
   "metadata": {},
   "outputs": [
    {
     "data": {
      "text/plain": [
       "True"
      ]
     },
     "execution_count": 406,
     "metadata": {},
     "output_type": "execute_result"
    }
   ],
   "source": [
    "from itertools import combinations\n",
    "\n",
    "lst = [1, 2, 4]\n",
    "comb = []\n",
    "for i in range(1, len(lst)+1):\n",
    "    [comb.append(sum(j)) for j in list(combinations(lst, i))]\n",
    "\n",
    "sorted(list(set(comb))) == sorted(comb)"
   ]
  },
  {
   "cell_type": "code",
   "execution_count": 407,
   "id": "1ca670d3-4b68-49d4-ae10-cd462ad79a36",
   "metadata": {},
   "outputs": [
    {
     "data": {
      "text/plain": [
       "True"
      ]
     },
     "execution_count": 407,
     "metadata": {},
     "output_type": "execute_result"
    }
   ],
   "source": [
    "from itertools import combinations\n",
    "lst = [1, 2, 4, 8]\n",
    "comb = []\n",
    "for i in range(2, len(lst)+1):\n",
    "    [comb.append(sum(j)) for j in list(combinations(lst, i))]\n",
    "\n",
    "sorted(list(set(comb))) == sorted(comb)"
   ]
  },
  {
   "cell_type": "code",
   "execution_count": 408,
   "id": "f9c6cd18-4805-4543-920b-25ff86e587cb",
   "metadata": {},
   "outputs": [
    {
     "data": {
      "text/plain": [
       "True"
      ]
     },
     "execution_count": 408,
     "metadata": {},
     "output_type": "execute_result"
    }
   ],
   "source": [
    "# Minimally superincreasing integer sequence\n",
    "lst = [1, 2, 4, 8, 16]\n",
    "comb = []\n",
    "for i in range(2, len(lst)+1):\n",
    "    [comb.append(sum(j)) for j in list(combinations(lst, i))]\n",
    "\n",
    "\n",
    "sorted(list(set(comb))) == sorted(comb)"
   ]
  },
  {
   "cell_type": "code",
   "execution_count": 30,
   "id": "da26d7ea-c5e0-480f-bdd9-419d60c5b1bf",
   "metadata": {},
   "outputs": [
    {
     "name": "stdout",
     "output_type": "stream",
     "text": [
      "-\u001b[38;2;204;000;000m1\u001b[38;2;000;000;000m\n",
      "-\u001b[38;2;000;000;204m2\u001b[38;2;000;000;000m\n",
      "-\u001b[38;2;204;204;000m4\u001b[38;2;000;000;000m\n",
      "-\u001b[38;2;204;000;204m3\u001b[38;2;000;000;000m\n",
      "-\u001b[38;2;204;102;000m5\u001b[38;2;000;000;000m\n",
      "-\u001b[38;2;000;204;000m6\u001b[38;2;000;000;000m\n",
      "-\u001b[38;2;000;000;000m7\u001b[38;2;000;000;000m\n"
     ]
    }
   ],
   "source": [
    "def colored(r, g, b, text):\n",
    "    return \"\\033[38;2;{};{};{}m{}\\033[38;2;000;000;000m\".format(r, g, b, text)\n",
    "\n",
    "dct = {\n",
    "    1:('204', '000', '000'),\n",
    "    2:('000', '000', '204'),\n",
    "    4:('204', '204', '000'),\n",
    "    3:('204', '000', '204'),\n",
    "    5:('204', '102', '000'),\n",
    "    6:('000', '204', '000'),\n",
    "    7:('000', '000', '000'),\n",
    "}\n",
    "\n",
    "for i in dct:\n",
    "    entry = dct[i]\n",
    "    print('-'+colored(entry[0], entry[1], entry[2], i))"
   ]
  },
  {
   "cell_type": "code",
   "execution_count": 31,
   "id": "f381dd2d-73ba-4fd6-828f-164b558953ec",
   "metadata": {},
   "outputs": [
    {
     "name": "stdout",
     "output_type": "stream",
     "text": [
      " ______ \n",
      "|   -\u001b[38;2;204;000;000m●\u001b[38;2;000;000;000m |\n",
      "|   -\u001b[38;2;000;000;204m●\u001b[38;2;000;000;000m |\n",
      "|   -\u001b[38;2;204;204;000m●\u001b[38;2;000;000;000m |\n",
      "| \u001b[38;2;204;000;000m●\u001b[38;2;000;000;000m-   |\n",
      "| \u001b[38;2;000;204;000mX\u001b[38;2;000;000;000m-   |\n",
      " ‾‾‾‾‾‾ \n"
     ]
    }
   ],
   "source": [
    "\n",
    "def print_states(i, fill):\n",
    "    string = ' ______ \\n'\n",
    "    for j in i:\n",
    "        string += '| '\n",
    "        if j[0] == 0:\n",
    "            string += '  '\n",
    "        else:\n",
    "            entry = dct[j[0]]\n",
    "            if j[0] in [1, 2, 4]:\n",
    "                symbol = '●'\n",
    "            else:\n",
    "                symbol = 'X'\n",
    "            string += (colored(entry[0], entry[1], entry[2], symbol)+'-')\n",
    "        if j[1] == 0:\n",
    "            string += '  '\n",
    "        else:\n",
    "            if j[1] in [1, 2, 4]:\n",
    "                symbol = '●'\n",
    "            else:\n",
    "                symbol = 'X'\n",
    "            entry = dct[j[1]]\n",
    "            string += ('-'+colored(entry[0], entry[1], entry[2], symbol))\n",
    "        string += ' |\\n'\n",
    "    string += ' ‾‾‾‾‾‾ '\n",
    "    string += '\\n        '*(fill-len(string.split('\\n')))\n",
    "    return string\n",
    "\n",
    "print(print_states([(0, 1), (0, 2), (0, 4), (1, 0), (6, 0)], 7))"
   ]
  },
  {
   "cell_type": "code",
   "execution_count": null,
   "id": "f5bbae82-3009-468b-bb26-ae64bb5026c2",
   "metadata": {},
   "outputs": [],
   "source": []
  },
  {
   "cell_type": "code",
   "execution_count": 32,
   "id": "1f43fdbe-52ff-423e-acb9-07945b1e1a53",
   "metadata": {},
   "outputs": [],
   "source": [
    "\n",
    "\n",
    "def print_all_states(iter_lst, n_col):\n",
    "    \n",
    "    new_string = []\n",
    "    for row in range(0, len(iter_lst), n_col):\n",
    "        \n",
    "        end = row+n_col\n",
    "        if end > len(iter_lst):\n",
    "            end = len(iter_lst)\n",
    "        \n",
    "        max_len = max([len(i) for i in iter_lst[row:end]])+2\n",
    "        x = []\n",
    "        for i in iter_lst[row:end]:\n",
    "            x.append(print_states(i, max_len))\n",
    "                    \n",
    "        string = ''\n",
    "        for max_depth in range(max_len):\n",
    "            for i in x:\n",
    "                string += i.split('\\n')[max_depth]\n",
    "            string += '\\n'\n",
    "        new_string.append(string[:-2])\n",
    "    \n",
    "    return new_string\n",
    "\n",
    "\n"
   ]
  },
  {
   "cell_type": "code",
   "execution_count": 33,
   "id": "b6abc1ad-9992-451b-a827-bd06409a9a3a",
   "metadata": {},
   "outputs": [
    {
     "ename": "NameError",
     "evalue": "name 'iter_lst_0' is not defined",
     "output_type": "error",
     "traceback": [
      "\u001b[0;31m---------------------------------------------------------------------------\u001b[0m",
      "\u001b[0;31mNameError\u001b[0m                                 Traceback (most recent call last)",
      "\u001b[0;32m/var/folders/f2/kh1g9nkd125769chspqz3121r__05x/T/ipykernel_40842/1915913427.py\u001b[0m in \u001b[0;36m<module>\u001b[0;34m\u001b[0m\n\u001b[0;32m----> 1\u001b[0;31m \u001b[0;32mfor\u001b[0m \u001b[0mi\u001b[0m \u001b[0;32min\u001b[0m \u001b[0mprint_all_states\u001b[0m\u001b[0;34m(\u001b[0m\u001b[0miter_lst_0\u001b[0m\u001b[0;34m,\u001b[0m \u001b[0;36m1\u001b[0m\u001b[0;34m)\u001b[0m\u001b[0;34m:\u001b[0m\u001b[0;34m\u001b[0m\u001b[0;34m\u001b[0m\u001b[0m\n\u001b[0m\u001b[1;32m      2\u001b[0m     \u001b[0mprint\u001b[0m\u001b[0;34m(\u001b[0m\u001b[0mi\u001b[0m\u001b[0;34m)\u001b[0m\u001b[0;34m\u001b[0m\u001b[0;34m\u001b[0m\u001b[0m\n",
      "\u001b[0;31mNameError\u001b[0m: name 'iter_lst_0' is not defined"
     ]
    }
   ],
   "source": [
    "for i in print_all_states(iter_lst_0, 1):\n",
    "    print(i)"
   ]
  },
  {
   "cell_type": "code",
   "execution_count": 34,
   "id": "ca22c34c-26dd-49c5-9196-8479b038cd7d",
   "metadata": {},
   "outputs": [
    {
     "name": "stdout",
     "output_type": "stream",
     "text": [
      " ______  ______  ______  ______  ______ \n",
      "|   -\u001b[38;2;204;000;000m●\u001b[38;2;000;000;000m ||   -\u001b[38;2;000;000;204m●\u001b[38;2;000;000;000m ||   -\u001b[38;2;000;000;204m●\u001b[38;2;000;000;000m ||   -\u001b[38;2;204;000;000m●\u001b[38;2;000;000;000m ||   -\u001b[38;2;204;000;000m●\u001b[38;2;000;000;000m |\n",
      "|   -\u001b[38;2;000;000;204m●\u001b[38;2;000;000;000m || \u001b[38;2;204;000;000m●\u001b[38;2;000;000;000m--\u001b[38;2;204;000;000m●\u001b[38;2;000;000;000m || \u001b[38;2;204;000;000m●\u001b[38;2;000;000;000m-   || \u001b[38;2;204;000;000m●\u001b[38;2;000;000;000m--\u001b[38;2;000;000;204m●\u001b[38;2;000;000;000m || \u001b[38;2;204;000;000m●\u001b[38;2;000;000;000m-   |\n",
      "| \u001b[38;2;204;000;000m●\u001b[38;2;000;000;000m-   || \u001b[38;2;000;000;204m●\u001b[38;2;000;000;000m-   || \u001b[38;2;000;000;204m●\u001b[38;2;000;000;000m--\u001b[38;2;204;000;000m●\u001b[38;2;000;000;000m || \u001b[38;2;000;000;204m●\u001b[38;2;000;000;000m-   || \u001b[38;2;000;000;204m●\u001b[38;2;000;000;000m--\u001b[38;2;000;000;204m●\u001b[38;2;000;000;000m |\n",
      "| \u001b[38;2;000;000;204m●\u001b[38;2;000;000;000m-   | ‾‾‾‾‾‾  ‾‾‾‾‾‾  ‾‾‾‾‾‾  ‾‾‾‾‾‾ \n",
      " ‾‾‾‾‾‾                                \n",
      " ______  ______  ______  ______  ______ \n",
      "| \u001b[38;2;204;000;000m●\u001b[38;2;000;000;000m--\u001b[38;2;204;000;000m●\u001b[38;2;000;000;000m || \u001b[38;2;204;000;000m●\u001b[38;2;000;000;000m--\u001b[38;2;000;000;204m●\u001b[38;2;000;000;000m ||   -\u001b[38;2;204;000;204mX\u001b[38;2;000;000;000m ||   -\u001b[38;2;204;000;000m●\u001b[38;2;000;000;000m || \u001b[38;2;204;000;000m●\u001b[38;2;000;000;000m--\u001b[38;2;204;000;204mX\u001b[38;2;000;000;000m |\n",
      "| \u001b[38;2;000;000;204m●\u001b[38;2;000;000;000m--\u001b[38;2;000;000;204m●\u001b[38;2;000;000;000m || \u001b[38;2;000;000;204m●\u001b[38;2;000;000;000m--\u001b[38;2;204;000;000m●\u001b[38;2;000;000;000m || \u001b[38;2;204;000;000m●\u001b[38;2;000;000;000m-   ||   -\u001b[38;2;000;000;204m●\u001b[38;2;000;000;000m || \u001b[38;2;000;000;204m●\u001b[38;2;000;000;000m-   |\n",
      " ‾‾‾‾‾‾  ‾‾‾‾‾‾ | \u001b[38;2;000;000;204m●\u001b[38;2;000;000;000m-   || \u001b[38;2;204;000;204mX\u001b[38;2;000;000;000m-   | ‾‾‾‾‾‾ \n",
      "                 ‾‾‾‾‾‾  ‾‾‾‾‾‾        \n",
      " ______  ______  ______  ______  ______ \n",
      "|   -\u001b[38;2;000;000;204m●\u001b[38;2;000;000;000m || \u001b[38;2;204;000;000m●\u001b[38;2;000;000;000m-   ||   -\u001b[38;2;204;000;000m●\u001b[38;2;000;000;000m || \u001b[38;2;204;000;204mX\u001b[38;2;000;000;000m--\u001b[38;2;204;000;204mX\u001b[38;2;000;000;000m ||   -\u001b[38;2;204;000;204mX\u001b[38;2;000;000;000m |\n",
      "| \u001b[38;2;204;000;204mX\u001b[38;2;000;000;000m--\u001b[38;2;204;000;000m●\u001b[38;2;000;000;000m || \u001b[38;2;000;000;204m●\u001b[38;2;000;000;000m--\u001b[38;2;204;000;204mX\u001b[38;2;000;000;000m || \u001b[38;2;204;000;204mX\u001b[38;2;000;000;000m--\u001b[38;2;000;000;204m●\u001b[38;2;000;000;000m | ‾‾‾‾‾‾ | \u001b[38;2;204;000;204mX\u001b[38;2;000;000;000m-   |\n",
      " ‾‾‾‾‾‾  ‾‾‾‾‾‾  ‾‾‾‾‾‾          ‾‾‾‾‾‾\n"
     ]
    }
   ],
   "source": [
    "for i in print_all_states(iter_lst, 5):\n",
    "    print(i)"
   ]
  },
  {
   "cell_type": "code",
   "execution_count": 35,
   "id": "7d541585-1135-4689-a247-0f2e66e8fcbc",
   "metadata": {},
   "outputs": [
    {
     "name": "stdout",
     "output_type": "stream",
     "text": [
      " ______  ______  ______  ______  ______  ______  ______  ______  ______  ______ \n",
      "|   -\u001b[38;2;204;000;000m●\u001b[38;2;000;000;000m ||   -\u001b[38;2;000;000;204m●\u001b[38;2;000;000;000m ||   -\u001b[38;2;000;000;204m●\u001b[38;2;000;000;000m ||   -\u001b[38;2;000;000;204m●\u001b[38;2;000;000;000m ||   -\u001b[38;2;204;000;000m●\u001b[38;2;000;000;000m ||   -\u001b[38;2;204;000;000m●\u001b[38;2;000;000;000m ||   -\u001b[38;2;204;000;000m●\u001b[38;2;000;000;000m ||   -\u001b[38;2;204;000;000m●\u001b[38;2;000;000;000m ||   -\u001b[38;2;204;000;000m●\u001b[38;2;000;000;000m ||   -\u001b[38;2;204;000;000m●\u001b[38;2;000;000;000m |\n",
      "|   -\u001b[38;2;000;000;204m●\u001b[38;2;000;000;000m ||   -\u001b[38;2;204;204;000m●\u001b[38;2;000;000;000m ||   -\u001b[38;2;204;204;000m●\u001b[38;2;000;000;000m ||   -\u001b[38;2;204;204;000m●\u001b[38;2;000;000;000m ||   -\u001b[38;2;204;204;000m●\u001b[38;2;000;000;000m ||   -\u001b[38;2;204;204;000m●\u001b[38;2;000;000;000m ||   -\u001b[38;2;204;204;000m●\u001b[38;2;000;000;000m ||   -\u001b[38;2;000;000;204m●\u001b[38;2;000;000;000m ||   -\u001b[38;2;000;000;204m●\u001b[38;2;000;000;000m ||   -\u001b[38;2;000;000;204m●\u001b[38;2;000;000;000m |\n",
      "|   -\u001b[38;2;204;204;000m●\u001b[38;2;000;000;000m || \u001b[38;2;204;000;000m●\u001b[38;2;000;000;000m--\u001b[38;2;204;000;000m●\u001b[38;2;000;000;000m || \u001b[38;2;204;000;000m●\u001b[38;2;000;000;000m-   || \u001b[38;2;204;000;000m●\u001b[38;2;000;000;000m-   || \u001b[38;2;204;000;000m●\u001b[38;2;000;000;000m--\u001b[38;2;000;000;204m●\u001b[38;2;000;000;000m || \u001b[38;2;204;000;000m●\u001b[38;2;000;000;000m-   || \u001b[38;2;204;000;000m●\u001b[38;2;000;000;000m-   || \u001b[38;2;204;000;000m●\u001b[38;2;000;000;000m--\u001b[38;2;204;204;000m●\u001b[38;2;000;000;000m || \u001b[38;2;204;000;000m●\u001b[38;2;000;000;000m-   || \u001b[38;2;204;000;000m●\u001b[38;2;000;000;000m-   |\n",
      "| \u001b[38;2;204;000;000m●\u001b[38;2;000;000;000m-   || \u001b[38;2;000;000;204m●\u001b[38;2;000;000;000m-   || \u001b[38;2;000;000;204m●\u001b[38;2;000;000;000m--\u001b[38;2;204;000;000m●\u001b[38;2;000;000;000m || \u001b[38;2;000;000;204m●\u001b[38;2;000;000;000m-   || \u001b[38;2;000;000;204m●\u001b[38;2;000;000;000m-   || \u001b[38;2;000;000;204m●\u001b[38;2;000;000;000m--\u001b[38;2;000;000;204m●\u001b[38;2;000;000;000m || \u001b[38;2;000;000;204m●\u001b[38;2;000;000;000m-   || \u001b[38;2;000;000;204m●\u001b[38;2;000;000;000m-   || \u001b[38;2;000;000;204m●\u001b[38;2;000;000;000m--\u001b[38;2;204;204;000m●\u001b[38;2;000;000;000m || \u001b[38;2;000;000;204m●\u001b[38;2;000;000;000m-   |\n",
      "| \u001b[38;2;000;000;204m●\u001b[38;2;000;000;000m-   || \u001b[38;2;204;204;000m●\u001b[38;2;000;000;000m-   || \u001b[38;2;204;204;000m●\u001b[38;2;000;000;000m-   || \u001b[38;2;204;204;000m●\u001b[38;2;000;000;000m--\u001b[38;2;204;000;000m●\u001b[38;2;000;000;000m || \u001b[38;2;204;204;000m●\u001b[38;2;000;000;000m-   || \u001b[38;2;204;204;000m●\u001b[38;2;000;000;000m-   || \u001b[38;2;204;204;000m●\u001b[38;2;000;000;000m--\u001b[38;2;000;000;204m●\u001b[38;2;000;000;000m || \u001b[38;2;204;204;000m●\u001b[38;2;000;000;000m-   || \u001b[38;2;204;204;000m●\u001b[38;2;000;000;000m-   || \u001b[38;2;204;204;000m●\u001b[38;2;000;000;000m--\u001b[38;2;204;204;000m●\u001b[38;2;000;000;000m |\n",
      "| \u001b[38;2;204;204;000m●\u001b[38;2;000;000;000m-   | ‾‾‾‾‾‾  ‾‾‾‾‾‾  ‾‾‾‾‾‾  ‾‾‾‾‾‾  ‾‾‾‾‾‾  ‾‾‾‾‾‾  ‾‾‾‾‾‾  ‾‾‾‾‾‾  ‾‾‾‾‾‾ \n",
      " ‾‾‾‾‾‾                                                                        \n",
      " ______  ______  ______  ______  ______  ______  ______  ______  ______  ______ \n",
      "|   -\u001b[38;2;204;204;000m●\u001b[38;2;000;000;000m ||   -\u001b[38;2;204;204;000m●\u001b[38;2;000;000;000m ||   -\u001b[38;2;000;000;204m●\u001b[38;2;000;000;000m ||   -\u001b[38;2;000;000;204m●\u001b[38;2;000;000;000m ||   -\u001b[38;2;204;204;000m●\u001b[38;2;000;000;000m ||   -\u001b[38;2;204;204;000m●\u001b[38;2;000;000;000m ||   -\u001b[38;2;000;000;204m●\u001b[38;2;000;000;000m ||   -\u001b[38;2;000;000;204m●\u001b[38;2;000;000;000m ||   -\u001b[38;2;204;204;000m●\u001b[38;2;000;000;000m ||   -\u001b[38;2;204;204;000m●\u001b[38;2;000;000;000m |\n",
      "| \u001b[38;2;204;000;000m●\u001b[38;2;000;000;000m--\u001b[38;2;204;000;000m●\u001b[38;2;000;000;000m || \u001b[38;2;204;000;000m●\u001b[38;2;000;000;000m--\u001b[38;2;204;000;000m●\u001b[38;2;000;000;000m || \u001b[38;2;204;000;000m●\u001b[38;2;000;000;000m--\u001b[38;2;204;000;000m●\u001b[38;2;000;000;000m || \u001b[38;2;204;000;000m●\u001b[38;2;000;000;000m--\u001b[38;2;204;000;000m●\u001b[38;2;000;000;000m || \u001b[38;2;204;000;000m●\u001b[38;2;000;000;000m--\u001b[38;2;000;000;204m●\u001b[38;2;000;000;000m || \u001b[38;2;204;000;000m●\u001b[38;2;000;000;000m-   || \u001b[38;2;204;000;000m●\u001b[38;2;000;000;000m--\u001b[38;2;204;204;000m●\u001b[38;2;000;000;000m || \u001b[38;2;204;000;000m●\u001b[38;2;000;000;000m-   || \u001b[38;2;204;000;000m●\u001b[38;2;000;000;000m--\u001b[38;2;000;000;204m●\u001b[38;2;000;000;000m || \u001b[38;2;204;000;000m●\u001b[38;2;000;000;000m-   |\n",
      "| \u001b[38;2;000;000;204m●\u001b[38;2;000;000;000m--\u001b[38;2;000;000;204m●\u001b[38;2;000;000;000m || \u001b[38;2;000;000;204m●\u001b[38;2;000;000;000m-   || \u001b[38;2;000;000;204m●\u001b[38;2;000;000;000m--\u001b[38;2;204;204;000m●\u001b[38;2;000;000;000m || \u001b[38;2;000;000;204m●\u001b[38;2;000;000;000m-   || \u001b[38;2;000;000;204m●\u001b[38;2;000;000;000m--\u001b[38;2;204;000;000m●\u001b[38;2;000;000;000m || \u001b[38;2;000;000;204m●\u001b[38;2;000;000;000m--\u001b[38;2;204;000;000m●\u001b[38;2;000;000;000m || \u001b[38;2;000;000;204m●\u001b[38;2;000;000;000m--\u001b[38;2;204;000;000m●\u001b[38;2;000;000;000m || \u001b[38;2;000;000;204m●\u001b[38;2;000;000;000m--\u001b[38;2;204;000;000m●\u001b[38;2;000;000;000m || \u001b[38;2;000;000;204m●\u001b[38;2;000;000;000m-   || \u001b[38;2;000;000;204m●\u001b[38;2;000;000;000m--\u001b[38;2;000;000;204m●\u001b[38;2;000;000;000m |\n",
      "| \u001b[38;2;204;204;000m●\u001b[38;2;000;000;000m-   || \u001b[38;2;204;204;000m●\u001b[38;2;000;000;000m--\u001b[38;2;000;000;204m●\u001b[38;2;000;000;000m || \u001b[38;2;204;204;000m●\u001b[38;2;000;000;000m-   || \u001b[38;2;204;204;000m●\u001b[38;2;000;000;000m--\u001b[38;2;204;204;000m●\u001b[38;2;000;000;000m || \u001b[38;2;204;204;000m●\u001b[38;2;000;000;000m-   || \u001b[38;2;204;204;000m●\u001b[38;2;000;000;000m--\u001b[38;2;000;000;204m●\u001b[38;2;000;000;000m || \u001b[38;2;204;204;000m●\u001b[38;2;000;000;000m-   || \u001b[38;2;204;204;000m●\u001b[38;2;000;000;000m--\u001b[38;2;204;204;000m●\u001b[38;2;000;000;000m || \u001b[38;2;204;204;000m●\u001b[38;2;000;000;000m--\u001b[38;2;204;000;000m●\u001b[38;2;000;000;000m || \u001b[38;2;204;204;000m●\u001b[38;2;000;000;000m--\u001b[38;2;204;000;000m●\u001b[38;2;000;000;000m |\n",
      " ‾‾‾‾‾‾  ‾‾‾‾‾‾  ‾‾‾‾‾‾  ‾‾‾‾‾‾  ‾‾‾‾‾‾  ‾‾‾‾‾‾  ‾‾‾‾‾‾  ‾‾‾‾‾‾  ‾‾‾‾‾‾  ‾‾‾‾‾‾\n",
      " ______  ______  ______  ______  ______  ______  ______  ______  ______  ______ \n",
      "|   -\u001b[38;2;000;000;204m●\u001b[38;2;000;000;000m ||   -\u001b[38;2;000;000;204m●\u001b[38;2;000;000;000m ||   -\u001b[38;2;204;000;000m●\u001b[38;2;000;000;000m ||   -\u001b[38;2;204;000;000m●\u001b[38;2;000;000;000m ||   -\u001b[38;2;204;000;000m●\u001b[38;2;000;000;000m ||   -\u001b[38;2;204;000;000m●\u001b[38;2;000;000;000m ||   -\u001b[38;2;204;000;000m●\u001b[38;2;000;000;000m ||   -\u001b[38;2;204;000;000m●\u001b[38;2;000;000;000m || \u001b[38;2;204;000;000m●\u001b[38;2;000;000;000m--\u001b[38;2;204;000;000m●\u001b[38;2;000;000;000m || \u001b[38;2;204;000;000m●\u001b[38;2;000;000;000m--\u001b[38;2;204;000;000m●\u001b[38;2;000;000;000m |\n",
      "| \u001b[38;2;204;000;000m●\u001b[38;2;000;000;000m--\u001b[38;2;204;204;000m●\u001b[38;2;000;000;000m || \u001b[38;2;204;000;000m●\u001b[38;2;000;000;000m-   || \u001b[38;2;204;000;000m●\u001b[38;2;000;000;000m--\u001b[38;2;000;000;204m●\u001b[38;2;000;000;000m || \u001b[38;2;204;000;000m●\u001b[38;2;000;000;000m--\u001b[38;2;000;000;204m●\u001b[38;2;000;000;000m || \u001b[38;2;204;000;000m●\u001b[38;2;000;000;000m--\u001b[38;2;204;204;000m●\u001b[38;2;000;000;000m || \u001b[38;2;204;000;000m●\u001b[38;2;000;000;000m-   || \u001b[38;2;204;000;000m●\u001b[38;2;000;000;000m--\u001b[38;2;204;204;000m●\u001b[38;2;000;000;000m || \u001b[38;2;204;000;000m●\u001b[38;2;000;000;000m-   || \u001b[38;2;000;000;204m●\u001b[38;2;000;000;000m--\u001b[38;2;000;000;204m●\u001b[38;2;000;000;000m || \u001b[38;2;000;000;204m●\u001b[38;2;000;000;000m--\u001b[38;2;204;204;000m●\u001b[38;2;000;000;000m |\n",
      "| \u001b[38;2;000;000;204m●\u001b[38;2;000;000;000m-   || \u001b[38;2;000;000;204m●\u001b[38;2;000;000;000m--\u001b[38;2;204;204;000m●\u001b[38;2;000;000;000m || \u001b[38;2;000;000;204m●\u001b[38;2;000;000;000m--\u001b[38;2;204;204;000m●\u001b[38;2;000;000;000m || \u001b[38;2;000;000;204m●\u001b[38;2;000;000;000m-   || \u001b[38;2;000;000;204m●\u001b[38;2;000;000;000m--\u001b[38;2;000;000;204m●\u001b[38;2;000;000;000m || \u001b[38;2;000;000;204m●\u001b[38;2;000;000;000m--\u001b[38;2;000;000;204m●\u001b[38;2;000;000;000m || \u001b[38;2;000;000;204m●\u001b[38;2;000;000;000m-   || \u001b[38;2;000;000;204m●\u001b[38;2;000;000;000m--\u001b[38;2;204;204;000m●\u001b[38;2;000;000;000m || \u001b[38;2;204;204;000m●\u001b[38;2;000;000;000m--\u001b[38;2;204;204;000m●\u001b[38;2;000;000;000m || \u001b[38;2;204;204;000m●\u001b[38;2;000;000;000m--\u001b[38;2;000;000;204m●\u001b[38;2;000;000;000m |\n",
      "| \u001b[38;2;204;204;000m●\u001b[38;2;000;000;000m--\u001b[38;2;204;000;000m●\u001b[38;2;000;000;000m || \u001b[38;2;204;204;000m●\u001b[38;2;000;000;000m--\u001b[38;2;204;000;000m●\u001b[38;2;000;000;000m || \u001b[38;2;204;204;000m●\u001b[38;2;000;000;000m-   || \u001b[38;2;204;204;000m●\u001b[38;2;000;000;000m--\u001b[38;2;204;204;000m●\u001b[38;2;000;000;000m || \u001b[38;2;204;204;000m●\u001b[38;2;000;000;000m-   || \u001b[38;2;204;204;000m●\u001b[38;2;000;000;000m--\u001b[38;2;204;204;000m●\u001b[38;2;000;000;000m || \u001b[38;2;204;204;000m●\u001b[38;2;000;000;000m--\u001b[38;2;000;000;204m●\u001b[38;2;000;000;000m || \u001b[38;2;204;204;000m●\u001b[38;2;000;000;000m--\u001b[38;2;000;000;204m●\u001b[38;2;000;000;000m | ‾‾‾‾‾‾  ‾‾‾‾‾‾ \n",
      " ‾‾‾‾‾‾  ‾‾‾‾‾‾  ‾‾‾‾‾‾  ‾‾‾‾‾‾  ‾‾‾‾‾‾  ‾‾‾‾‾‾  ‾‾‾‾‾‾  ‾‾‾‾‾‾                \n",
      " ______  ______  ______  ______  ______  ______  ______  ______  ______  ______ \n",
      "| \u001b[38;2;204;000;000m●\u001b[38;2;000;000;000m--\u001b[38;2;000;000;204m●\u001b[38;2;000;000;000m || \u001b[38;2;204;000;000m●\u001b[38;2;000;000;000m--\u001b[38;2;204;204;000m●\u001b[38;2;000;000;000m || \u001b[38;2;204;000;000m●\u001b[38;2;000;000;000m--\u001b[38;2;000;000;204m●\u001b[38;2;000;000;000m || \u001b[38;2;204;000;000m●\u001b[38;2;000;000;000m--\u001b[38;2;204;204;000m●\u001b[38;2;000;000;000m ||   -\u001b[38;2;204;000;204mX\u001b[38;2;000;000;000m ||   -\u001b[38;2;000;000;204m●\u001b[38;2;000;000;000m ||   -\u001b[38;2;204;000;000m●\u001b[38;2;000;000;000m ||   -\u001b[38;2;204;000;000m●\u001b[38;2;000;000;000m ||   -\u001b[38;2;204;000;000m●\u001b[38;2;000;000;000m ||   -\u001b[38;2;204;000;000m●\u001b[38;2;000;000;000m |\n",
      "| \u001b[38;2;000;000;204m●\u001b[38;2;000;000;000m--\u001b[38;2;204;000;000m●\u001b[38;2;000;000;000m || \u001b[38;2;000;000;204m●\u001b[38;2;000;000;000m--\u001b[38;2;204;000;000m●\u001b[38;2;000;000;000m || \u001b[38;2;000;000;204m●\u001b[38;2;000;000;000m--\u001b[38;2;204;204;000m●\u001b[38;2;000;000;000m || \u001b[38;2;000;000;204m●\u001b[38;2;000;000;000m--\u001b[38;2;000;000;204m●\u001b[38;2;000;000;000m ||   -\u001b[38;2;204;204;000m●\u001b[38;2;000;000;000m ||   -\u001b[38;2;204;102;000mX\u001b[38;2;000;000;000m ||   -\u001b[38;2;000;204;000mX\u001b[38;2;000;000;000m ||   -\u001b[38;2;000;000;204m●\u001b[38;2;000;000;000m ||   -\u001b[38;2;000;000;204m●\u001b[38;2;000;000;000m ||   -\u001b[38;2;000;000;204m●\u001b[38;2;000;000;000m |\n",
      "| \u001b[38;2;204;204;000m●\u001b[38;2;000;000;000m--\u001b[38;2;204;204;000m●\u001b[38;2;000;000;000m || \u001b[38;2;204;204;000m●\u001b[38;2;000;000;000m--\u001b[38;2;000;000;204m●\u001b[38;2;000;000;000m || \u001b[38;2;204;204;000m●\u001b[38;2;000;000;000m--\u001b[38;2;204;000;000m●\u001b[38;2;000;000;000m || \u001b[38;2;204;204;000m●\u001b[38;2;000;000;000m--\u001b[38;2;204;000;000m●\u001b[38;2;000;000;000m || \u001b[38;2;204;000;000m●\u001b[38;2;000;000;000m-   || \u001b[38;2;204;000;000m●\u001b[38;2;000;000;000m-   || \u001b[38;2;204;000;000m●\u001b[38;2;000;000;000m-   ||   -\u001b[38;2;204;204;000m●\u001b[38;2;000;000;000m ||   -\u001b[38;2;204;204;000m●\u001b[38;2;000;000;000m ||   -\u001b[38;2;204;204;000m●\u001b[38;2;000;000;000m |\n",
      " ‾‾‾‾‾‾  ‾‾‾‾‾‾  ‾‾‾‾‾‾  ‾‾‾‾‾‾ | \u001b[38;2;000;000;204m●\u001b[38;2;000;000;000m-   || \u001b[38;2;000;000;204m●\u001b[38;2;000;000;000m-   || \u001b[38;2;000;000;204m●\u001b[38;2;000;000;000m-   || \u001b[38;2;204;000;204mX\u001b[38;2;000;000;000m-   || \u001b[38;2;000;000;204m●\u001b[38;2;000;000;000m-   || \u001b[38;2;204;000;000m●\u001b[38;2;000;000;000m-   |\n",
      "                                | \u001b[38;2;204;204;000m●\u001b[38;2;000;000;000m-   || \u001b[38;2;204;204;000m●\u001b[38;2;000;000;000m-   || \u001b[38;2;204;204;000m●\u001b[38;2;000;000;000m-   || \u001b[38;2;204;204;000m●\u001b[38;2;000;000;000m-   || \u001b[38;2;204;102;000mX\u001b[38;2;000;000;000m-   || \u001b[38;2;000;204;000mX\u001b[38;2;000;000;000m-   |\n",
      "                                 ‾‾‾‾‾‾  ‾‾‾‾‾‾  ‾‾‾‾‾‾  ‾‾‾‾‾‾  ‾‾‾‾‾‾  ‾‾‾‾‾‾\n",
      " ______  ______  ______  ______  ______  ______  ______  ______  ______  ______ \n",
      "|   -\u001b[38;2;000;204;000mX\u001b[38;2;000;000;000m ||   -\u001b[38;2;204;204;000m●\u001b[38;2;000;000;000m ||   -\u001b[38;2;000;000;204m●\u001b[38;2;000;000;000m ||   -\u001b[38;2;000;000;204m●\u001b[38;2;000;000;000m ||   -\u001b[38;2;000;000;204m●\u001b[38;2;000;000;000m ||   -\u001b[38;2;000;000;204m●\u001b[38;2;000;000;000m ||   -\u001b[38;2;000;204;000mX\u001b[38;2;000;000;000m ||   -\u001b[38;2;204;204;000m●\u001b[38;2;000;000;000m ||   -\u001b[38;2;000;000;204m●\u001b[38;2;000;000;000m ||   -\u001b[38;2;000;000;204m●\u001b[38;2;000;000;000m |\n",
      "| \u001b[38;2;204;000;000m●\u001b[38;2;000;000;000m--\u001b[38;2;204;000;000m●\u001b[38;2;000;000;000m || \u001b[38;2;204;000;000m●\u001b[38;2;000;000;000m--\u001b[38;2;204;000;204mX\u001b[38;2;000;000;000m || \u001b[38;2;204;000;000m●\u001b[38;2;000;000;000m--\u001b[38;2;204;102;000mX\u001b[38;2;000;000;000m ||   -\u001b[38;2;204;204;000m●\u001b[38;2;000;000;000m ||   -\u001b[38;2;204;204;000m●\u001b[38;2;000;000;000m ||   -\u001b[38;2;204;204;000m●\u001b[38;2;000;000;000m || \u001b[38;2;204;000;000m●\u001b[38;2;000;000;000m-   || \u001b[38;2;204;000;000m●\u001b[38;2;000;000;000m-   || \u001b[38;2;204;000;000m●\u001b[38;2;000;000;000m-   ||   -\u001b[38;2;204;204;000m●\u001b[38;2;000;000;000m |\n",
      "| \u001b[38;2;000;000;204m●\u001b[38;2;000;000;000m-   || \u001b[38;2;000;000;204m●\u001b[38;2;000;000;000m-   || \u001b[38;2;000;000;204m●\u001b[38;2;000;000;000m-   || \u001b[38;2;204;000;204mX\u001b[38;2;000;000;000m--\u001b[38;2;204;000;000m●\u001b[38;2;000;000;000m || \u001b[38;2;000;000;204m●\u001b[38;2;000;000;000m-   || \u001b[38;2;204;000;000m●\u001b[38;2;000;000;000m--\u001b[38;2;204;000;000m●\u001b[38;2;000;000;000m || \u001b[38;2;000;000;204m●\u001b[38;2;000;000;000m--\u001b[38;2;204;000;000m●\u001b[38;2;000;000;000m || \u001b[38;2;000;000;204m●\u001b[38;2;000;000;000m--\u001b[38;2;204;000;204mX\u001b[38;2;000;000;000m || \u001b[38;2;000;000;204m●\u001b[38;2;000;000;000m--\u001b[38;2;204;102;000mX\u001b[38;2;000;000;000m || \u001b[38;2;000;000;204m●\u001b[38;2;000;000;000m--\u001b[38;2;204;000;000m●\u001b[38;2;000;000;000m |\n",
      "| \u001b[38;2;204;204;000m●\u001b[38;2;000;000;000m-   || \u001b[38;2;204;204;000m●\u001b[38;2;000;000;000m-   || \u001b[38;2;204;204;000m●\u001b[38;2;000;000;000m-   || \u001b[38;2;204;204;000m●\u001b[38;2;000;000;000m-   || \u001b[38;2;204;102;000mX\u001b[38;2;000;000;000m--\u001b[38;2;204;000;000m●\u001b[38;2;000;000;000m || \u001b[38;2;000;204;000mX\u001b[38;2;000;000;000m-   || \u001b[38;2;204;204;000m●\u001b[38;2;000;000;000m-   || \u001b[38;2;204;204;000m●\u001b[38;2;000;000;000m-   || \u001b[38;2;204;204;000m●\u001b[38;2;000;000;000m-   || \u001b[38;2;204;102;000mX\u001b[38;2;000;000;000m-   |\n",
      " ‾‾‾‾‾‾  ‾‾‾‾‾‾  ‾‾‾‾‾‾  ‾‾‾‾‾‾  ‾‾‾‾‾‾  ‾‾‾‾‾‾  ‾‾‾‾‾‾  ‾‾‾‾‾‾  ‾‾‾‾‾‾  ‾‾‾‾‾‾\n",
      " ______  ______  ______  ______  ______  ______  ______  ______  ______  ______ \n",
      "|   -\u001b[38;2;000;000;204m●\u001b[38;2;000;000;000m ||   -\u001b[38;2;000;204;000mX\u001b[38;2;000;000;000m ||   -\u001b[38;2;204;204;000m●\u001b[38;2;000;000;000m ||   -\u001b[38;2;000;000;204m●\u001b[38;2;000;000;000m ||   -\u001b[38;2;000;000;204m●\u001b[38;2;000;000;000m ||   -\u001b[38;2;204;102;000mX\u001b[38;2;000;000;000m ||   -\u001b[38;2;204;000;000m●\u001b[38;2;000;000;000m ||   -\u001b[38;2;204;000;000m●\u001b[38;2;000;000;000m ||   -\u001b[38;2;204;000;000m●\u001b[38;2;000;000;000m ||   -\u001b[38;2;204;000;000m●\u001b[38;2;000;000;000m |\n",
      "|   -\u001b[38;2;204;204;000m●\u001b[38;2;000;000;000m || \u001b[38;2;204;000;000m●\u001b[38;2;000;000;000m-   || \u001b[38;2;204;000;000m●\u001b[38;2;000;000;000m-   || \u001b[38;2;204;000;000m●\u001b[38;2;000;000;000m-   ||   -\u001b[38;2;204;204;000m●\u001b[38;2;000;000;000m || \u001b[38;2;204;000;000m●\u001b[38;2;000;000;000m--\u001b[38;2;000;000;204m●\u001b[38;2;000;000;000m || \u001b[38;2;204;000;000m●\u001b[38;2;000;000;000m--\u001b[38;2;000;204;000mX\u001b[38;2;000;000;000m ||   -\u001b[38;2;204;204;000m●\u001b[38;2;000;000;000m ||   -\u001b[38;2;204;204;000m●\u001b[38;2;000;000;000m ||   -\u001b[38;2;204;204;000m●\u001b[38;2;000;000;000m |\n",
      "| \u001b[38;2;204;000;000m●\u001b[38;2;000;000;000m-   || \u001b[38;2;000;000;204m●\u001b[38;2;000;000;000m-   || \u001b[38;2;000;000;204m●\u001b[38;2;000;000;000m-   || \u001b[38;2;000;000;204m●\u001b[38;2;000;000;000m-   || \u001b[38;2;204;000;204mX\u001b[38;2;000;000;000m-   || \u001b[38;2;000;000;204m●\u001b[38;2;000;000;000m-   || \u001b[38;2;000;000;204m●\u001b[38;2;000;000;000m-   || \u001b[38;2;204;000;204mX\u001b[38;2;000;000;000m--\u001b[38;2;000;000;204m●\u001b[38;2;000;000;000m || \u001b[38;2;000;000;204m●\u001b[38;2;000;000;000m-   || \u001b[38;2;204;000;000m●\u001b[38;2;000;000;000m--\u001b[38;2;000;000;204m●\u001b[38;2;000;000;000m |\n",
      "| \u001b[38;2;000;204;000mX\u001b[38;2;000;000;000m--\u001b[38;2;204;000;000m●\u001b[38;2;000;000;000m || \u001b[38;2;204;204;000m●\u001b[38;2;000;000;000m--\u001b[38;2;204;000;000m●\u001b[38;2;000;000;000m || \u001b[38;2;204;204;000m●\u001b[38;2;000;000;000m--\u001b[38;2;204;000;204mX\u001b[38;2;000;000;000m || \u001b[38;2;204;204;000m●\u001b[38;2;000;000;000m--\u001b[38;2;204;102;000mX\u001b[38;2;000;000;000m || \u001b[38;2;204;204;000m●\u001b[38;2;000;000;000m--\u001b[38;2;204;000;000m●\u001b[38;2;000;000;000m || \u001b[38;2;204;204;000m●\u001b[38;2;000;000;000m-   || \u001b[38;2;204;204;000m●\u001b[38;2;000;000;000m-   || \u001b[38;2;204;204;000m●\u001b[38;2;000;000;000m-   || \u001b[38;2;204;102;000mX\u001b[38;2;000;000;000m--\u001b[38;2;000;000;204m●\u001b[38;2;000;000;000m || \u001b[38;2;000;204;000mX\u001b[38;2;000;000;000m-   |\n",
      " ‾‾‾‾‾‾  ‾‾‾‾‾‾  ‾‾‾‾‾‾  ‾‾‾‾‾‾  ‾‾‾‾‾‾  ‾‾‾‾‾‾  ‾‾‾‾‾‾  ‾‾‾‾‾‾  ‾‾‾‾‾‾  ‾‾‾‾‾‾\n",
      " ______  ______  ______  ______  ______  ______  ______  ______  ______  ______ \n",
      "|   -\u001b[38;2;204;102;000mX\u001b[38;2;000;000;000m ||   -\u001b[38;2;204;000;000m●\u001b[38;2;000;000;000m ||   -\u001b[38;2;204;000;000m●\u001b[38;2;000;000;000m ||   -\u001b[38;2;204;000;000m●\u001b[38;2;000;000;000m ||   -\u001b[38;2;204;102;000mX\u001b[38;2;000;000;000m ||   -\u001b[38;2;204;000;000m●\u001b[38;2;000;000;000m ||   -\u001b[38;2;204;000;000m●\u001b[38;2;000;000;000m ||   -\u001b[38;2;204;000;204mX\u001b[38;2;000;000;000m ||   -\u001b[38;2;204;000;000m●\u001b[38;2;000;000;000m ||   -\u001b[38;2;204;000;000m●\u001b[38;2;000;000;000m |\n",
      "| \u001b[38;2;204;000;000m●\u001b[38;2;000;000;000m-   || \u001b[38;2;204;000;000m●\u001b[38;2;000;000;000m-   ||   -\u001b[38;2;204;204;000m●\u001b[38;2;000;000;000m ||   -\u001b[38;2;204;204;000m●\u001b[38;2;000;000;000m || \u001b[38;2;204;000;000m●\u001b[38;2;000;000;000m-   || \u001b[38;2;204;000;000m●\u001b[38;2;000;000;000m-   ||   -\u001b[38;2;204;204;000m●\u001b[38;2;000;000;000m || \u001b[38;2;204;000;000m●\u001b[38;2;000;000;000m--\u001b[38;2;204;204;000m●\u001b[38;2;000;000;000m ||   -\u001b[38;2;000;000;204m●\u001b[38;2;000;000;000m ||   -\u001b[38;2;000;000;204m●\u001b[38;2;000;000;000m |\n",
      "| \u001b[38;2;000;000;204m●\u001b[38;2;000;000;000m--\u001b[38;2;000;000;204m●\u001b[38;2;000;000;000m || \u001b[38;2;000;000;204m●\u001b[38;2;000;000;000m--\u001b[38;2;000;204;000mX\u001b[38;2;000;000;000m || \u001b[38;2;000;000;204m●\u001b[38;2;000;000;000m--\u001b[38;2;000;000;204m●\u001b[38;2;000;000;000m || \u001b[38;2;204;000;000m●\u001b[38;2;000;000;000m-   || \u001b[38;2;000;000;204m●\u001b[38;2;000;000;000m-   || \u001b[38;2;000;000;204m●\u001b[38;2;000;000;000m-   || \u001b[38;2;204;000;204mX\u001b[38;2;000;000;000m-   || \u001b[38;2;000;000;204m●\u001b[38;2;000;000;000m-   || \u001b[38;2;204;000;204mX\u001b[38;2;000;000;000m--\u001b[38;2;204;204;000m●\u001b[38;2;000;000;000m || \u001b[38;2;000;000;204m●\u001b[38;2;000;000;000m-   |\n",
      "| \u001b[38;2;204;204;000m●\u001b[38;2;000;000;000m-   || \u001b[38;2;204;204;000m●\u001b[38;2;000;000;000m-   || \u001b[38;2;204;102;000mX\u001b[38;2;000;000;000m-   || \u001b[38;2;000;204;000mX\u001b[38;2;000;000;000m--\u001b[38;2;000;000;204m●\u001b[38;2;000;000;000m || \u001b[38;2;204;204;000m●\u001b[38;2;000;000;000m--\u001b[38;2;000;000;204m●\u001b[38;2;000;000;000m || \u001b[38;2;204;204;000m●\u001b[38;2;000;000;000m--\u001b[38;2;000;204;000mX\u001b[38;2;000;000;000m || \u001b[38;2;204;204;000m●\u001b[38;2;000;000;000m--\u001b[38;2;000;000;204m●\u001b[38;2;000;000;000m || \u001b[38;2;204;204;000m●\u001b[38;2;000;000;000m-   || \u001b[38;2;204;204;000m●\u001b[38;2;000;000;000m-   || \u001b[38;2;204;102;000mX\u001b[38;2;000;000;000m--\u001b[38;2;204;204;000m●\u001b[38;2;000;000;000m |\n",
      " ‾‾‾‾‾‾  ‾‾‾‾‾‾  ‾‾‾‾‾‾  ‾‾‾‾‾‾  ‾‾‾‾‾‾  ‾‾‾‾‾‾  ‾‾‾‾‾‾  ‾‾‾‾‾‾  ‾‾‾‾‾‾  ‾‾‾‾‾‾\n",
      " ______  ______  ______  ______  ______  ______  ______  ______  ______  ______ \n",
      "|   -\u001b[38;2;204;000;000m●\u001b[38;2;000;000;000m ||   -\u001b[38;2;204;000;204mX\u001b[38;2;000;000;000m ||   -\u001b[38;2;204;000;000m●\u001b[38;2;000;000;000m ||   -\u001b[38;2;204;000;000m●\u001b[38;2;000;000;000m ||   -\u001b[38;2;204;000;204mX\u001b[38;2;000;000;000m ||   -\u001b[38;2;204;000;000m●\u001b[38;2;000;000;000m || \u001b[38;2;204;000;000m●\u001b[38;2;000;000;000m--\u001b[38;2;204;102;000mX\u001b[38;2;000;000;000m || \u001b[38;2;204;000;000m●\u001b[38;2;000;000;000m--\u001b[38;2;204;000;000m●\u001b[38;2;000;000;000m ||   -\u001b[38;2;204;204;000m●\u001b[38;2;000;000;000m ||   -\u001b[38;2;204;204;000m●\u001b[38;2;000;000;000m |\n",
      "|   -\u001b[38;2;000;000;204m●\u001b[38;2;000;000;000m || \u001b[38;2;204;000;000m●\u001b[38;2;000;000;000m-   ||   -\u001b[38;2;000;000;204m●\u001b[38;2;000;000;000m ||   -\u001b[38;2;000;000;204m●\u001b[38;2;000;000;000m || \u001b[38;2;204;000;000m●\u001b[38;2;000;000;000m-   ||   -\u001b[38;2;000;000;204m●\u001b[38;2;000;000;000m || \u001b[38;2;000;000;204m●\u001b[38;2;000;000;000m--\u001b[38;2;000;000;204m●\u001b[38;2;000;000;000m || \u001b[38;2;000;000;204m●\u001b[38;2;000;000;000m--\u001b[38;2;000;204;000mX\u001b[38;2;000;000;000m || \u001b[38;2;204;000;204mX\u001b[38;2;000;000;000m--\u001b[38;2;204;000;204mX\u001b[38;2;000;000;000m || \u001b[38;2;000;000;204m●\u001b[38;2;000;000;000m--\u001b[38;2;000;000;204m●\u001b[38;2;000;000;000m |\n",
      "| \u001b[38;2;204;000;000m●\u001b[38;2;000;000;000m--\u001b[38;2;204;204;000m●\u001b[38;2;000;000;000m || \u001b[38;2;000;000;204m●\u001b[38;2;000;000;000m--\u001b[38;2;204;204;000m●\u001b[38;2;000;000;000m || \u001b[38;2;000;000;204m●\u001b[38;2;000;000;000m--\u001b[38;2;204;204;000m●\u001b[38;2;000;000;000m || \u001b[38;2;204;000;000m●\u001b[38;2;000;000;000m-   || \u001b[38;2;000;000;204m●\u001b[38;2;000;000;000m-   || \u001b[38;2;204;000;204mX\u001b[38;2;000;000;000m-   || \u001b[38;2;204;204;000m●\u001b[38;2;000;000;000m-   || \u001b[38;2;204;204;000m●\u001b[38;2;000;000;000m-   || \u001b[38;2;204;204;000m●\u001b[38;2;000;000;000m-   || \u001b[38;2;204;102;000mX\u001b[38;2;000;000;000m--\u001b[38;2;204;000;000m●\u001b[38;2;000;000;000m |\n",
      "| \u001b[38;2;000;204;000mX\u001b[38;2;000;000;000m-   || \u001b[38;2;204;204;000m●\u001b[38;2;000;000;000m-   || \u001b[38;2;204;102;000mX\u001b[38;2;000;000;000m-   || \u001b[38;2;000;204;000mX\u001b[38;2;000;000;000m--\u001b[38;2;204;204;000m●\u001b[38;2;000;000;000m || \u001b[38;2;204;204;000m●\u001b[38;2;000;000;000m--\u001b[38;2;204;204;000m●\u001b[38;2;000;000;000m || \u001b[38;2;204;204;000m●\u001b[38;2;000;000;000m--\u001b[38;2;204;204;000m●\u001b[38;2;000;000;000m | ‾‾‾‾‾‾  ‾‾‾‾‾‾  ‾‾‾‾‾‾  ‾‾‾‾‾‾ \n",
      " ‾‾‾‾‾‾  ‾‾‾‾‾‾  ‾‾‾‾‾‾  ‾‾‾‾‾‾  ‾‾‾‾‾‾  ‾‾‾‾‾‾                                \n",
      " ______  ______  ______  ______  ______  ______  ______  ______  ______  ______ \n",
      "|   -\u001b[38;2;204;204;000m●\u001b[38;2;000;000;000m || \u001b[38;2;204;000;000m●\u001b[38;2;000;000;000m--\u001b[38;2;204;102;000mX\u001b[38;2;000;000;000m || \u001b[38;2;204;000;000m●\u001b[38;2;000;000;000m--\u001b[38;2;204;000;000m●\u001b[38;2;000;000;000m ||   -\u001b[38;2;204;204;000m●\u001b[38;2;000;000;000m ||   -\u001b[38;2;204;204;000m●\u001b[38;2;000;000;000m || \u001b[38;2;204;000;000m●\u001b[38;2;000;000;000m--\u001b[38;2;204;000;204mX\u001b[38;2;000;000;000m ||   -\u001b[38;2;000;000;204m●\u001b[38;2;000;000;000m ||   -\u001b[38;2;000;000;204m●\u001b[38;2;000;000;000m ||   -\u001b[38;2;000;000;204m●\u001b[38;2;000;000;000m || \u001b[38;2;204;000;000m●\u001b[38;2;000;000;000m--\u001b[38;2;204;000;204mX\u001b[38;2;000;000;000m |\n",
      "| \u001b[38;2;204;000;000m●\u001b[38;2;000;000;000m--\u001b[38;2;204;000;000m●\u001b[38;2;000;000;000m || \u001b[38;2;000;000;204m●\u001b[38;2;000;000;000m-   || \u001b[38;2;000;000;204m●\u001b[38;2;000;000;000m-   || \u001b[38;2;204;000;204mX\u001b[38;2;000;000;000m--\u001b[38;2;204;000;000m●\u001b[38;2;000;000;000m || \u001b[38;2;000;000;204m●\u001b[38;2;000;000;000m-   || \u001b[38;2;000;000;204m●\u001b[38;2;000;000;000m--\u001b[38;2;204;204;000m●\u001b[38;2;000;000;000m || \u001b[38;2;204;000;204mX\u001b[38;2;000;000;000m--\u001b[38;2;204;102;000mX\u001b[38;2;000;000;000m || \u001b[38;2;000;000;204m●\u001b[38;2;000;000;000m--\u001b[38;2;204;204;000m●\u001b[38;2;000;000;000m || \u001b[38;2;204;000;000m●\u001b[38;2;000;000;000m--\u001b[38;2;204;000;000m●\u001b[38;2;000;000;000m || \u001b[38;2;000;000;204m●\u001b[38;2;000;000;000m-   |\n",
      "| \u001b[38;2;000;204;000mX\u001b[38;2;000;000;000m--\u001b[38;2;000;000;204m●\u001b[38;2;000;000;000m || \u001b[38;2;204;204;000m●\u001b[38;2;000;000;000m--\u001b[38;2;000;000;204m●\u001b[38;2;000;000;000m || \u001b[38;2;204;204;000m●\u001b[38;2;000;000;000m--\u001b[38;2;000;204;000mX\u001b[38;2;000;000;000m || \u001b[38;2;204;204;000m●\u001b[38;2;000;000;000m--\u001b[38;2;000;000;204m●\u001b[38;2;000;000;000m || \u001b[38;2;204;102;000mX\u001b[38;2;000;000;000m--\u001b[38;2;204;000;204mX\u001b[38;2;000;000;000m || \u001b[38;2;204;204;000m●\u001b[38;2;000;000;000m-   || \u001b[38;2;204;204;000m●\u001b[38;2;000;000;000m-   || \u001b[38;2;204;102;000mX\u001b[38;2;000;000;000m--\u001b[38;2;204;000;000m●\u001b[38;2;000;000;000m || \u001b[38;2;000;204;000mX\u001b[38;2;000;000;000m--\u001b[38;2;204;204;000m●\u001b[38;2;000;000;000m || \u001b[38;2;204;204;000m●\u001b[38;2;000;000;000m--\u001b[38;2;204;204;000m●\u001b[38;2;000;000;000m |\n",
      " ‾‾‾‾‾‾  ‾‾‾‾‾‾  ‾‾‾‾‾‾  ‾‾‾‾‾‾  ‾‾‾‾‾‾  ‾‾‾‾‾‾  ‾‾‾‾‾‾  ‾‾‾‾‾‾  ‾‾‾‾‾‾  ‾‾‾‾‾‾\n",
      " ______  ______  ______  ______  ______  ______  ______  ______  ______  ______ \n",
      "|   -\u001b[38;2;000;000;204m●\u001b[38;2;000;000;000m ||   -\u001b[38;2;000;000;204m●\u001b[38;2;000;000;000m || \u001b[38;2;204;000;000m●\u001b[38;2;000;000;000m--\u001b[38;2;000;204;000mX\u001b[38;2;000;000;000m || \u001b[38;2;204;000;000m●\u001b[38;2;000;000;000m--\u001b[38;2;000;000;204m●\u001b[38;2;000;000;000m ||   -\u001b[38;2;204;204;000m●\u001b[38;2;000;000;000m ||   -\u001b[38;2;204;204;000m●\u001b[38;2;000;000;000m || \u001b[38;2;204;000;000m●\u001b[38;2;000;000;000m-   || \u001b[38;2;204;000;000m●\u001b[38;2;000;000;000m-   ||   -\u001b[38;2;204;204;000m●\u001b[38;2;000;000;000m || \u001b[38;2;204;000;000m●\u001b[38;2;000;000;000m--\u001b[38;2;204;204;000m●\u001b[38;2;000;000;000m |\n",
      "| \u001b[38;2;204;000;204mX\u001b[38;2;000;000;000m--\u001b[38;2;204;000;000m●\u001b[38;2;000;000;000m || \u001b[38;2;000;000;204m●\u001b[38;2;000;000;000m-   || \u001b[38;2;000;000;204m●\u001b[38;2;000;000;000m--\u001b[38;2;204;000;000m●\u001b[38;2;000;000;000m || \u001b[38;2;000;000;204m●\u001b[38;2;000;000;000m--\u001b[38;2;204;102;000mX\u001b[38;2;000;000;000m || \u001b[38;2;000;000;204m●\u001b[38;2;000;000;000m--\u001b[38;2;204;000;000m●\u001b[38;2;000;000;000m || \u001b[38;2;204;000;000m●\u001b[38;2;000;000;000m--\u001b[38;2;000;000;204m●\u001b[38;2;000;000;000m || \u001b[38;2;000;000;204m●\u001b[38;2;000;000;000m--\u001b[38;2;204;102;000mX\u001b[38;2;000;000;000m || \u001b[38;2;000;000;204m●\u001b[38;2;000;000;000m--\u001b[38;2;204;000;000m●\u001b[38;2;000;000;000m || \u001b[38;2;204;000;000m●\u001b[38;2;000;000;000m-   || \u001b[38;2;000;000;204m●\u001b[38;2;000;000;000m--\u001b[38;2;204;000;204mX\u001b[38;2;000;000;000m |\n",
      "| \u001b[38;2;204;204;000m●\u001b[38;2;000;000;000m--\u001b[38;2;204;204;000m●\u001b[38;2;000;000;000m || \u001b[38;2;204;102;000mX\u001b[38;2;000;000;000m--\u001b[38;2;204;102;000mX\u001b[38;2;000;000;000m || \u001b[38;2;204;204;000m●\u001b[38;2;000;000;000m-   || \u001b[38;2;204;204;000m●\u001b[38;2;000;000;000m-   || \u001b[38;2;204;102;000mX\u001b[38;2;000;000;000m--\u001b[38;2;000;000;204m●\u001b[38;2;000;000;000m || \u001b[38;2;000;204;000mX\u001b[38;2;000;000;000m--\u001b[38;2;204;000;000m●\u001b[38;2;000;000;000m || \u001b[38;2;204;204;000m●\u001b[38;2;000;000;000m--\u001b[38;2;000;000;204m●\u001b[38;2;000;000;000m || \u001b[38;2;204;204;000m●\u001b[38;2;000;000;000m--\u001b[38;2;000;204;000mX\u001b[38;2;000;000;000m || \u001b[38;2;000;204;000mX\u001b[38;2;000;000;000m--\u001b[38;2;204;000;204mX\u001b[38;2;000;000;000m || \u001b[38;2;204;204;000m●\u001b[38;2;000;000;000m-   |\n",
      " ‾‾‾‾‾‾  ‾‾‾‾‾‾  ‾‾‾‾‾‾  ‾‾‾‾‾‾  ‾‾‾‾‾‾  ‾‾‾‾‾‾  ‾‾‾‾‾‾  ‾‾‾‾‾‾  ‾‾‾‾‾‾  ‾‾‾‾‾‾\n",
      " ______  ______  ______  ______  ______  ______  ______  ______  ______  ______ \n",
      "|   -\u001b[38;2;000;000;204m●\u001b[38;2;000;000;000m ||   -\u001b[38;2;000;000;204m●\u001b[38;2;000;000;000m || \u001b[38;2;204;000;000m●\u001b[38;2;000;000;000m-   ||   -\u001b[38;2;000;000;204m●\u001b[38;2;000;000;000m || \u001b[38;2;204;000;000m●\u001b[38;2;000;000;000m--\u001b[38;2;000;204;000mX\u001b[38;2;000;000;000m || \u001b[38;2;204;000;000m●\u001b[38;2;000;000;000m--\u001b[38;2;000;000;204m●\u001b[38;2;000;000;000m ||   -\u001b[38;2;204;204;000m●\u001b[38;2;000;000;000m || \u001b[38;2;204;000;000m●\u001b[38;2;000;000;000m-   || \u001b[38;2;204;000;000m●\u001b[38;2;000;000;000m-   || \u001b[38;2;204;000;000m●\u001b[38;2;000;000;000m--\u001b[38;2;204;204;000m●\u001b[38;2;000;000;000m |\n",
      "| \u001b[38;2;000;000;204m●\u001b[38;2;000;000;000m--\u001b[38;2;204;000;000m●\u001b[38;2;000;000;000m || \u001b[38;2;204;000;000m●\u001b[38;2;000;000;000m--\u001b[38;2;204;204;000m●\u001b[38;2;000;000;000m || \u001b[38;2;000;000;204m●\u001b[38;2;000;000;000m--\u001b[38;2;204;000;204mX\u001b[38;2;000;000;000m || \u001b[38;2;204;000;000m●\u001b[38;2;000;000;000m-   || \u001b[38;2;000;000;204m●\u001b[38;2;000;000;000m-   || \u001b[38;2;000;000;204m●\u001b[38;2;000;000;000m-   || \u001b[38;2;204;000;204mX\u001b[38;2;000;000;000m--\u001b[38;2;000;000;204m●\u001b[38;2;000;000;000m || \u001b[38;2;000;000;204m●\u001b[38;2;000;000;000m--\u001b[38;2;000;204;000mX\u001b[38;2;000;000;000m || \u001b[38;2;000;000;204m●\u001b[38;2;000;000;000m--\u001b[38;2;000;000;204m●\u001b[38;2;000;000;000m || \u001b[38;2;000;000;204m●\u001b[38;2;000;000;000m-   |\n",
      "| \u001b[38;2;204;102;000mX\u001b[38;2;000;000;000m--\u001b[38;2;204;204;000m●\u001b[38;2;000;000;000m || \u001b[38;2;000;204;000mX\u001b[38;2;000;000;000m--\u001b[38;2;204;000;000m●\u001b[38;2;000;000;000m || \u001b[38;2;204;204;000m●\u001b[38;2;000;000;000m--\u001b[38;2;204;204;000m●\u001b[38;2;000;000;000m || \u001b[38;2;000;204;000mX\u001b[38;2;000;000;000m--\u001b[38;2;204;102;000mX\u001b[38;2;000;000;000m || \u001b[38;2;204;204;000m●\u001b[38;2;000;000;000m--\u001b[38;2;204;000;000m●\u001b[38;2;000;000;000m || \u001b[38;2;204;204;000m●\u001b[38;2;000;000;000m--\u001b[38;2;204;102;000mX\u001b[38;2;000;000;000m || \u001b[38;2;204;204;000m●\u001b[38;2;000;000;000m--\u001b[38;2;204;000;000m●\u001b[38;2;000;000;000m || \u001b[38;2;204;204;000m●\u001b[38;2;000;000;000m--\u001b[38;2;204;000;000m●\u001b[38;2;000;000;000m || \u001b[38;2;204;204;000m●\u001b[38;2;000;000;000m--\u001b[38;2;204;102;000mX\u001b[38;2;000;000;000m || \u001b[38;2;204;204;000m●\u001b[38;2;000;000;000m--\u001b[38;2;204;000;204mX\u001b[38;2;000;000;000m |\n",
      " ‾‾‾‾‾‾  ‾‾‾‾‾‾  ‾‾‾‾‾‾  ‾‾‾‾‾‾  ‾‾‾‾‾‾  ‾‾‾‾‾‾  ‾‾‾‾‾‾  ‾‾‾‾‾‾  ‾‾‾‾‾‾  ‾‾‾‾‾‾\n",
      " ______  ______  ______  ______  ______  ______  ______  ______  ______  ______ \n",
      "|   -\u001b[38;2;000;000;204m●\u001b[38;2;000;000;000m || \u001b[38;2;204;000;000m●\u001b[38;2;000;000;000m-   ||   -\u001b[38;2;204;000;000m●\u001b[38;2;000;000;000m ||   -\u001b[38;2;204;000;000m●\u001b[38;2;000;000;000m ||   -\u001b[38;2;204;000;000m●\u001b[38;2;000;000;000m ||   -\u001b[38;2;204;000;000m●\u001b[38;2;000;000;000m ||   -\u001b[38;2;204;000;000m●\u001b[38;2;000;000;000m ||   -\u001b[38;2;204;000;000m●\u001b[38;2;000;000;000m ||   -\u001b[38;2;204;000;000m●\u001b[38;2;000;000;000m ||   -\u001b[38;2;204;000;000m●\u001b[38;2;000;000;000m |\n",
      "| \u001b[38;2;204;000;204mX\u001b[38;2;000;000;000m--\u001b[38;2;204;204;000m●\u001b[38;2;000;000;000m || \u001b[38;2;000;000;204m●\u001b[38;2;000;000;000m--\u001b[38;2;204;204;000m●\u001b[38;2;000;000;000m || \u001b[38;2;204;000;204mX\u001b[38;2;000;000;000m--\u001b[38;2;000;204;000mX\u001b[38;2;000;000;000m || \u001b[38;2;000;000;204m●\u001b[38;2;000;000;000m--\u001b[38;2;204;204;000m●\u001b[38;2;000;000;000m || \u001b[38;2;204;000;000m●\u001b[38;2;000;000;000m--\u001b[38;2;000;000;204m●\u001b[38;2;000;000;000m || \u001b[38;2;204;000;204mX\u001b[38;2;000;000;000m--\u001b[38;2;000;000;204m●\u001b[38;2;000;000;000m || \u001b[38;2;000;000;204m●\u001b[38;2;000;000;000m-   || \u001b[38;2;000;000;204m●\u001b[38;2;000;000;000m--\u001b[38;2;000;000;204m●\u001b[38;2;000;000;000m || \u001b[38;2;204;000;000m●\u001b[38;2;000;000;000m--\u001b[38;2;204;204;000m●\u001b[38;2;000;000;000m || \u001b[38;2;204;000;000m●\u001b[38;2;000;000;000m-   |\n",
      "| \u001b[38;2;204;204;000m●\u001b[38;2;000;000;000m--\u001b[38;2;204;000;000m●\u001b[38;2;000;000;000m || \u001b[38;2;204;204;000m●\u001b[38;2;000;000;000m--\u001b[38;2;204;000;204mX\u001b[38;2;000;000;000m || \u001b[38;2;204;204;000m●\u001b[38;2;000;000;000m-   || \u001b[38;2;204;102;000mX\u001b[38;2;000;000;000m--\u001b[38;2;000;000;204m●\u001b[38;2;000;000;000m || \u001b[38;2;000;204;000mX\u001b[38;2;000;000;000m--\u001b[38;2;204;204;000m●\u001b[38;2;000;000;000m || \u001b[38;2;204;204;000m●\u001b[38;2;000;000;000m--\u001b[38;2;204;204;000m●\u001b[38;2;000;000;000m || \u001b[38;2;204;102;000mX\u001b[38;2;000;000;000m--\u001b[38;2;000;204;000mX\u001b[38;2;000;000;000m || \u001b[38;2;204;102;000mX\u001b[38;2;000;000;000m--\u001b[38;2;204;204;000m●\u001b[38;2;000;000;000m || \u001b[38;2;000;204;000mX\u001b[38;2;000;000;000m--\u001b[38;2;000;000;204m●\u001b[38;2;000;000;000m || \u001b[38;2;000;204;000mX\u001b[38;2;000;000;000m--\u001b[38;2;000;204;000mX\u001b[38;2;000;000;000m |\n",
      " ‾‾‾‾‾‾  ‾‾‾‾‾‾  ‾‾‾‾‾‾  ‾‾‾‾‾‾  ‾‾‾‾‾‾  ‾‾‾‾‾‾  ‾‾‾‾‾‾  ‾‾‾‾‾‾  ‾‾‾‾‾‾  ‾‾‾‾‾‾\n",
      " ______  ______  ______  ______  ______  ______  ______  ______  ______  ______ \n",
      "|   -\u001b[38;2;204;000;000m●\u001b[38;2;000;000;000m || \u001b[38;2;204;000;204mX\u001b[38;2;000;000;000m--\u001b[38;2;204;000;204mX\u001b[38;2;000;000;000m || \u001b[38;2;000;000;204m●\u001b[38;2;000;000;000m--\u001b[38;2;000;000;204m●\u001b[38;2;000;000;000m || \u001b[38;2;204;000;000m●\u001b[38;2;000;000;000m--\u001b[38;2;204;000;000m●\u001b[38;2;000;000;000m || \u001b[38;2;204;000;204mX\u001b[38;2;000;000;000m--\u001b[38;2;204;102;000mX\u001b[38;2;000;000;000m || \u001b[38;2;000;000;204m●\u001b[38;2;000;000;000m--\u001b[38;2;204;204;000m●\u001b[38;2;000;000;000m || \u001b[38;2;000;000;204m●\u001b[38;2;000;000;000m--\u001b[38;2;204;000;000m●\u001b[38;2;000;000;000m || \u001b[38;2;204;000;000m●\u001b[38;2;000;000;000m--\u001b[38;2;000;000;204m●\u001b[38;2;000;000;000m || \u001b[38;2;204;000;000m●\u001b[38;2;000;000;000m--\u001b[38;2;204;204;000m●\u001b[38;2;000;000;000m || \u001b[38;2;204;000;204mX\u001b[38;2;000;000;000m--\u001b[38;2;000;204;000mX\u001b[38;2;000;000;000m |\n",
      "| \u001b[38;2;204;000;204mX\u001b[38;2;000;000;000m--\u001b[38;2;204;204;000m●\u001b[38;2;000;000;000m || \u001b[38;2;204;204;000m●\u001b[38;2;000;000;000m--\u001b[38;2;204;204;000m●\u001b[38;2;000;000;000m || \u001b[38;2;204;102;000mX\u001b[38;2;000;000;000m--\u001b[38;2;204;102;000mX\u001b[38;2;000;000;000m || \u001b[38;2;000;204;000mX\u001b[38;2;000;000;000m--\u001b[38;2;000;204;000mX\u001b[38;2;000;000;000m || \u001b[38;2;204;204;000m●\u001b[38;2;000;000;000m--\u001b[38;2;000;000;204m●\u001b[38;2;000;000;000m || \u001b[38;2;204;102;000mX\u001b[38;2;000;000;000m--\u001b[38;2;204;000;204mX\u001b[38;2;000;000;000m || \u001b[38;2;204;102;000mX\u001b[38;2;000;000;000m--\u001b[38;2;000;204;000mX\u001b[38;2;000;000;000m || \u001b[38;2;000;204;000mX\u001b[38;2;000;000;000m--\u001b[38;2;204;102;000mX\u001b[38;2;000;000;000m || \u001b[38;2;000;204;000mX\u001b[38;2;000;000;000m--\u001b[38;2;204;000;204mX\u001b[38;2;000;000;000m || \u001b[38;2;204;204;000m●\u001b[38;2;000;000;000m--\u001b[38;2;204;000;000m●\u001b[38;2;000;000;000m |\n",
      "| \u001b[38;2;204;204;000m●\u001b[38;2;000;000;000m--\u001b[38;2;000;000;204m●\u001b[38;2;000;000;000m | ‾‾‾‾‾‾  ‾‾‾‾‾‾  ‾‾‾‾‾‾  ‾‾‾‾‾‾  ‾‾‾‾‾‾  ‾‾‾‾‾‾  ‾‾‾‾‾‾  ‾‾‾‾‾‾  ‾‾‾‾‾‾ \n",
      " ‾‾‾‾‾‾                                                                        \n",
      " ______  ______  ______  ______  ______  ______  ______  ______  ______  ______ \n",
      "|   -\u001b[38;2;000;000;000mX\u001b[38;2;000;000;000m ||   -\u001b[38;2;204;000;204mX\u001b[38;2;000;000;000m ||   -\u001b[38;2;204;000;204mX\u001b[38;2;000;000;000m ||   -\u001b[38;2;204;000;204mX\u001b[38;2;000;000;000m ||   -\u001b[38;2;000;000;204m●\u001b[38;2;000;000;000m ||   -\u001b[38;2;000;000;204m●\u001b[38;2;000;000;000m ||   -\u001b[38;2;000;000;204m●\u001b[38;2;000;000;000m ||   -\u001b[38;2;204;000;000m●\u001b[38;2;000;000;000m ||   -\u001b[38;2;204;000;000m●\u001b[38;2;000;000;000m ||   -\u001b[38;2;204;000;000m●\u001b[38;2;000;000;000m |\n",
      "| \u001b[38;2;204;000;000m●\u001b[38;2;000;000;000m-   ||   -\u001b[38;2;204;204;000m●\u001b[38;2;000;000;000m ||   -\u001b[38;2;204;204;000m●\u001b[38;2;000;000;000m ||   -\u001b[38;2;204;204;000m●\u001b[38;2;000;000;000m ||   -\u001b[38;2;204;102;000mX\u001b[38;2;000;000;000m ||   -\u001b[38;2;204;102;000mX\u001b[38;2;000;000;000m ||   -\u001b[38;2;204;102;000mX\u001b[38;2;000;000;000m ||   -\u001b[38;2;000;204;000mX\u001b[38;2;000;000;000m ||   -\u001b[38;2;000;204;000mX\u001b[38;2;000;000;000m ||   -\u001b[38;2;000;204;000mX\u001b[38;2;000;000;000m |\n",
      "| \u001b[38;2;000;000;204m●\u001b[38;2;000;000;000m-   || \u001b[38;2;204;000;204mX\u001b[38;2;000;000;000m-   || \u001b[38;2;000;000;204m●\u001b[38;2;000;000;000m-   || \u001b[38;2;204;000;000m●\u001b[38;2;000;000;000m-   || \u001b[38;2;204;000;204mX\u001b[38;2;000;000;000m-   || \u001b[38;2;000;000;204m●\u001b[38;2;000;000;000m-   || \u001b[38;2;204;000;000m●\u001b[38;2;000;000;000m-   || \u001b[38;2;204;000;204mX\u001b[38;2;000;000;000m-   || \u001b[38;2;000;000;204m●\u001b[38;2;000;000;000m-   || \u001b[38;2;204;000;000m●\u001b[38;2;000;000;000m-   |\n",
      "| \u001b[38;2;204;204;000m●\u001b[38;2;000;000;000m-   || \u001b[38;2;204;204;000m●\u001b[38;2;000;000;000m-   || \u001b[38;2;204;102;000mX\u001b[38;2;000;000;000m-   || \u001b[38;2;000;204;000mX\u001b[38;2;000;000;000m-   || \u001b[38;2;204;204;000m●\u001b[38;2;000;000;000m-   || \u001b[38;2;204;102;000mX\u001b[38;2;000;000;000m-   || \u001b[38;2;000;204;000mX\u001b[38;2;000;000;000m-   || \u001b[38;2;204;204;000m●\u001b[38;2;000;000;000m-   || \u001b[38;2;204;102;000mX\u001b[38;2;000;000;000m-   || \u001b[38;2;000;204;000mX\u001b[38;2;000;000;000m-   |\n",
      " ‾‾‾‾‾‾  ‾‾‾‾‾‾  ‾‾‾‾‾‾  ‾‾‾‾‾‾  ‾‾‾‾‾‾  ‾‾‾‾‾‾  ‾‾‾‾‾‾  ‾‾‾‾‾‾  ‾‾‾‾‾‾  ‾‾‾‾‾‾\n",
      " ______  ______  ______  ______  ______  ______  ______  ______  ______  ______ \n",
      "|   -\u001b[38;2;204;000;000m●\u001b[38;2;000;000;000m || \u001b[38;2;204;000;000m●\u001b[38;2;000;000;000m--\u001b[38;2;000;000;000mX\u001b[38;2;000;000;000m ||   -\u001b[38;2;000;204;000mX\u001b[38;2;000;000;000m ||   -\u001b[38;2;000;204;000mX\u001b[38;2;000;000;000m ||   -\u001b[38;2;000;204;000mX\u001b[38;2;000;000;000m ||   -\u001b[38;2;204;204;000m●\u001b[38;2;000;000;000m ||   -\u001b[38;2;000;000;204m●\u001b[38;2;000;000;000m ||   -\u001b[38;2;000;000;204m●\u001b[38;2;000;000;000m || \u001b[38;2;204;000;000m●\u001b[38;2;000;000;000m-   ||   -\u001b[38;2;000;204;000mX\u001b[38;2;000;000;000m |\n",
      "|   -\u001b[38;2;000;000;204m●\u001b[38;2;000;000;000m || \u001b[38;2;000;000;204m●\u001b[38;2;000;000;000m-   || \u001b[38;2;204;000;204mX\u001b[38;2;000;000;000m--\u001b[38;2;204;000;000m●\u001b[38;2;000;000;000m || \u001b[38;2;000;000;204m●\u001b[38;2;000;000;000m-   || \u001b[38;2;204;000;000m●\u001b[38;2;000;000;000m--\u001b[38;2;204;000;000m●\u001b[38;2;000;000;000m || \u001b[38;2;204;000;000m●\u001b[38;2;000;000;000m--\u001b[38;2;204;000;204mX\u001b[38;2;000;000;000m || \u001b[38;2;204;000;000m●\u001b[38;2;000;000;000m--\u001b[38;2;204;102;000mX\u001b[38;2;000;000;000m ||   -\u001b[38;2;204;204;000m●\u001b[38;2;000;000;000m || \u001b[38;2;000;000;204m●\u001b[38;2;000;000;000m--\u001b[38;2;000;000;000mX\u001b[38;2;000;000;000m || \u001b[38;2;000;000;204m●\u001b[38;2;000;000;000m--\u001b[38;2;204;000;000m●\u001b[38;2;000;000;000m |\n",
      "|   -\u001b[38;2;204;204;000m●\u001b[38;2;000;000;000m || \u001b[38;2;204;204;000m●\u001b[38;2;000;000;000m-   || \u001b[38;2;204;204;000m●\u001b[38;2;000;000;000m-   || \u001b[38;2;204;102;000mX\u001b[38;2;000;000;000m--\u001b[38;2;204;000;000m●\u001b[38;2;000;000;000m || \u001b[38;2;000;204;000mX\u001b[38;2;000;000;000m-   || \u001b[38;2;000;204;000mX\u001b[38;2;000;000;000m-   || \u001b[38;2;000;204;000mX\u001b[38;2;000;000;000m-   || \u001b[38;2;000;000;000mX\u001b[38;2;000;000;000m--\u001b[38;2;204;000;000m●\u001b[38;2;000;000;000m || \u001b[38;2;204;204;000m●\u001b[38;2;000;000;000m-   || \u001b[38;2;204;102;000mX\u001b[38;2;000;000;000m-   |\n",
      "| \u001b[38;2;000;000;000mX\u001b[38;2;000;000;000m-   | ‾‾‾‾‾‾  ‾‾‾‾‾‾  ‾‾‾‾‾‾  ‾‾‾‾‾‾  ‾‾‾‾‾‾  ‾‾‾‾‾‾  ‾‾‾‾‾‾  ‾‾‾‾‾‾  ‾‾‾‾‾‾ \n",
      " ‾‾‾‾‾‾                                                                        \n",
      " ______  ______  ______  ______  ______  ______  ______  ______  ______  ______ \n",
      "|   -\u001b[38;2;000;204;000mX\u001b[38;2;000;000;000m ||   -\u001b[38;2;204;204;000m●\u001b[38;2;000;000;000m ||   -\u001b[38;2;000;000;204m●\u001b[38;2;000;000;000m || \u001b[38;2;204;000;000m●\u001b[38;2;000;000;000m-   ||   -\u001b[38;2;000;204;000mX\u001b[38;2;000;000;000m ||   -\u001b[38;2;204;204;000m●\u001b[38;2;000;000;000m ||   -\u001b[38;2;000;000;204m●\u001b[38;2;000;000;000m ||   -\u001b[38;2;204;102;000mX\u001b[38;2;000;000;000m ||   -\u001b[38;2;204;102;000mX\u001b[38;2;000;000;000m ||   -\u001b[38;2;204;102;000mX\u001b[38;2;000;000;000m |\n",
      "| \u001b[38;2;204;000;000m●\u001b[38;2;000;000;000m-   || \u001b[38;2;000;000;204m●\u001b[38;2;000;000;000m--\u001b[38;2;204;000;204mX\u001b[38;2;000;000;000m || \u001b[38;2;000;000;204m●\u001b[38;2;000;000;000m--\u001b[38;2;204;102;000mX\u001b[38;2;000;000;000m || \u001b[38;2;000;000;204m●\u001b[38;2;000;000;000m-   || \u001b[38;2;204;000;204mX\u001b[38;2;000;000;000m-   || \u001b[38;2;204;000;204mX\u001b[38;2;000;000;000m-   || \u001b[38;2;204;000;204mX\u001b[38;2;000;000;000m-   || \u001b[38;2;204;000;204mX\u001b[38;2;000;000;000m--\u001b[38;2;000;000;204m●\u001b[38;2;000;000;000m || \u001b[38;2;000;000;204m●\u001b[38;2;000;000;000m-   || \u001b[38;2;204;000;000m●\u001b[38;2;000;000;000m--\u001b[38;2;000;000;204m●\u001b[38;2;000;000;000m |\n",
      "| \u001b[38;2;000;204;000mX\u001b[38;2;000;000;000m--\u001b[38;2;204;000;000m●\u001b[38;2;000;000;000m || \u001b[38;2;204;102;000mX\u001b[38;2;000;000;000m-   || \u001b[38;2;204;102;000mX\u001b[38;2;000;000;000m-   || \u001b[38;2;204;204;000m●\u001b[38;2;000;000;000m--\u001b[38;2;000;000;000mX\u001b[38;2;000;000;000m || \u001b[38;2;204;204;000m●\u001b[38;2;000;000;000m--\u001b[38;2;204;000;000m●\u001b[38;2;000;000;000m || \u001b[38;2;204;204;000m●\u001b[38;2;000;000;000m--\u001b[38;2;204;000;204mX\u001b[38;2;000;000;000m || \u001b[38;2;204;204;000m●\u001b[38;2;000;000;000m--\u001b[38;2;204;102;000mX\u001b[38;2;000;000;000m || \u001b[38;2;204;204;000m●\u001b[38;2;000;000;000m-   || \u001b[38;2;204;102;000mX\u001b[38;2;000;000;000m--\u001b[38;2;000;000;204m●\u001b[38;2;000;000;000m || \u001b[38;2;000;204;000mX\u001b[38;2;000;000;000m-   |\n",
      " ‾‾‾‾‾‾  ‾‾‾‾‾‾  ‾‾‾‾‾‾  ‾‾‾‾‾‾  ‾‾‾‾‾‾  ‾‾‾‾‾‾  ‾‾‾‾‾‾  ‾‾‾‾‾‾  ‾‾‾‾‾‾  ‾‾‾‾‾‾\n",
      " ______  ______  ______  ______  ______  ______  ______  ______  ______  ______ \n",
      "|   -\u001b[38;2;204;000;000m●\u001b[38;2;000;000;000m ||   -\u001b[38;2;204;000;000m●\u001b[38;2;000;000;000m ||   -\u001b[38;2;204;102;000mX\u001b[38;2;000;000;000m ||   -\u001b[38;2;204;102;000mX\u001b[38;2;000;000;000m ||   -\u001b[38;2;204;000;000m●\u001b[38;2;000;000;000m ||   -\u001b[38;2;204;102;000mX\u001b[38;2;000;000;000m ||   -\u001b[38;2;204;000;000m●\u001b[38;2;000;000;000m ||   -\u001b[38;2;204;000;204mX\u001b[38;2;000;000;000m ||   -\u001b[38;2;204;000;204mX\u001b[38;2;000;000;000m ||   -\u001b[38;2;204;000;204mX\u001b[38;2;000;000;000m |\n",
      "| \u001b[38;2;204;000;000m●\u001b[38;2;000;000;000m--\u001b[38;2;000;204;000mX\u001b[38;2;000;000;000m ||   -\u001b[38;2;204;204;000m●\u001b[38;2;000;000;000m || \u001b[38;2;000;000;204m●\u001b[38;2;000;000;000m--\u001b[38;2;000;000;204m●\u001b[38;2;000;000;000m || \u001b[38;2;204;000;000m●\u001b[38;2;000;000;000m-   || \u001b[38;2;000;000;204m●\u001b[38;2;000;000;000m--\u001b[38;2;000;204;000mX\u001b[38;2;000;000;000m || \u001b[38;2;204;000;204mX\u001b[38;2;000;000;000m-   || \u001b[38;2;204;000;204mX\u001b[38;2;000;000;000m-   || \u001b[38;2;204;000;204mX\u001b[38;2;000;000;000m--\u001b[38;2;204;204;000m●\u001b[38;2;000;000;000m || \u001b[38;2;000;000;204m●\u001b[38;2;000;000;000m-   || \u001b[38;2;204;000;000m●\u001b[38;2;000;000;000m--\u001b[38;2;204;204;000m●\u001b[38;2;000;000;000m |\n",
      "| \u001b[38;2;000;204;000mX\u001b[38;2;000;000;000m-   || \u001b[38;2;000;000;000mX\u001b[38;2;000;000;000m--\u001b[38;2;000;000;204m●\u001b[38;2;000;000;000m || \u001b[38;2;204;102;000mX\u001b[38;2;000;000;000m-   || \u001b[38;2;000;204;000mX\u001b[38;2;000;000;000m--\u001b[38;2;000;000;204m●\u001b[38;2;000;000;000m || \u001b[38;2;204;102;000mX\u001b[38;2;000;000;000m-   || \u001b[38;2;204;204;000m●\u001b[38;2;000;000;000m--\u001b[38;2;000;000;204m●\u001b[38;2;000;000;000m || \u001b[38;2;204;204;000m●\u001b[38;2;000;000;000m--\u001b[38;2;000;204;000mX\u001b[38;2;000;000;000m || \u001b[38;2;204;204;000m●\u001b[38;2;000;000;000m-   || \u001b[38;2;204;102;000mX\u001b[38;2;000;000;000m--\u001b[38;2;204;204;000m●\u001b[38;2;000;000;000m || \u001b[38;2;000;204;000mX\u001b[38;2;000;000;000m-   |\n",
      " ‾‾‾‾‾‾  ‾‾‾‾‾‾  ‾‾‾‾‾‾  ‾‾‾‾‾‾  ‾‾‾‾‾‾  ‾‾‾‾‾‾  ‾‾‾‾‾‾  ‾‾‾‾‾‾  ‾‾‾‾‾‾  ‾‾‾‾‾‾\n",
      " ______  ______  ______  ______  ______  ______  ______  ______  ______  ______ \n",
      "|   -\u001b[38;2;204;000;000m●\u001b[38;2;000;000;000m ||   -\u001b[38;2;204;000;204mX\u001b[38;2;000;000;000m ||   -\u001b[38;2;204;000;204mX\u001b[38;2;000;000;000m ||   -\u001b[38;2;204;000;204mX\u001b[38;2;000;000;000m || \u001b[38;2;204;000;204mX\u001b[38;2;000;000;000m--\u001b[38;2;000;000;000mX\u001b[38;2;000;000;000m || \u001b[38;2;204;000;000m●\u001b[38;2;000;000;000m--\u001b[38;2;204;102;000mX\u001b[38;2;000;000;000m || \u001b[38;2;000;000;204m●\u001b[38;2;000;000;000m--\u001b[38;2;000;204;000mX\u001b[38;2;000;000;000m ||   -\u001b[38;2;204;204;000m●\u001b[38;2;000;000;000m || \u001b[38;2;000;000;204m●\u001b[38;2;000;000;000m-   || \u001b[38;2;204;000;204mX\u001b[38;2;000;000;000m--\u001b[38;2;204;000;000m●\u001b[38;2;000;000;000m |\n",
      "|   -\u001b[38;2;000;000;204m●\u001b[38;2;000;000;000m || \u001b[38;2;000;000;204m●\u001b[38;2;000;000;000m--\u001b[38;2;204;204;000m●\u001b[38;2;000;000;000m || \u001b[38;2;204;000;000m●\u001b[38;2;000;000;000m-   || \u001b[38;2;204;000;204mX\u001b[38;2;000;000;000m-   || \u001b[38;2;204;204;000m●\u001b[38;2;000;000;000m-   || \u001b[38;2;000;204;000mX\u001b[38;2;000;000;000m--\u001b[38;2;000;000;204m●\u001b[38;2;000;000;000m || \u001b[38;2;204;102;000mX\u001b[38;2;000;000;000m--\u001b[38;2;204;000;000m●\u001b[38;2;000;000;000m || \u001b[38;2;000;000;000mX\u001b[38;2;000;000;000m--\u001b[38;2;204;000;204mX\u001b[38;2;000;000;000m || \u001b[38;2;204;102;000mX\u001b[38;2;000;000;000m--\u001b[38;2;000;000;000mX\u001b[38;2;000;000;000m || \u001b[38;2;204;204;000m●\u001b[38;2;000;000;000m--\u001b[38;2;000;204;000mX\u001b[38;2;000;000;000m |\n",
      "| \u001b[38;2;000;000;000mX\u001b[38;2;000;000;000m--\u001b[38;2;204;204;000m●\u001b[38;2;000;000;000m || \u001b[38;2;204;102;000mX\u001b[38;2;000;000;000m-   || \u001b[38;2;000;204;000mX\u001b[38;2;000;000;000m--\u001b[38;2;204;204;000m●\u001b[38;2;000;000;000m || \u001b[38;2;204;204;000m●\u001b[38;2;000;000;000m--\u001b[38;2;204;204;000m●\u001b[38;2;000;000;000m | ‾‾‾‾‾‾  ‾‾‾‾‾‾  ‾‾‾‾‾‾  ‾‾‾‾‾‾  ‾‾‾‾‾‾  ‾‾‾‾‾‾ \n",
      " ‾‾‾‾‾‾  ‾‾‾‾‾‾  ‾‾‾‾‾‾  ‾‾‾‾‾‾                                                \n",
      " ______  ______  ______  ______  ______  ______  ______  ______  ______  ______ \n",
      "| \u001b[38;2;204;000;000m●\u001b[38;2;000;000;000m--\u001b[38;2;204;000;204mX\u001b[38;2;000;000;000m ||   -\u001b[38;2;000;000;204m●\u001b[38;2;000;000;000m || \u001b[38;2;204;000;000m●\u001b[38;2;000;000;000m--\u001b[38;2;000;204;000mX\u001b[38;2;000;000;000m || \u001b[38;2;000;000;204m●\u001b[38;2;000;000;000m--\u001b[38;2;204;102;000mX\u001b[38;2;000;000;000m || \u001b[38;2;204;000;000m●\u001b[38;2;000;000;000m-   || \u001b[38;2;000;000;204m●\u001b[38;2;000;000;000m--\u001b[38;2;204;000;204mX\u001b[38;2;000;000;000m || \u001b[38;2;204;000;204mX\u001b[38;2;000;000;000m--\u001b[38;2;000;000;204m●\u001b[38;2;000;000;000m || \u001b[38;2;204;000;204mX\u001b[38;2;000;000;000m--\u001b[38;2;204;204;000m●\u001b[38;2;000;000;000m ||   -\u001b[38;2;204;000;000m●\u001b[38;2;000;000;000m || \u001b[38;2;000;000;000mX\u001b[38;2;000;000;000m--\u001b[38;2;000;000;000mX\u001b[38;2;000;000;000m |\n",
      "| \u001b[38;2;000;204;000mX\u001b[38;2;000;000;000m--\u001b[38;2;204;204;000m●\u001b[38;2;000;000;000m || \u001b[38;2;000;000;000mX\u001b[38;2;000;000;000m--\u001b[38;2;204;102;000mX\u001b[38;2;000;000;000m || \u001b[38;2;000;204;000mX\u001b[38;2;000;000;000m--\u001b[38;2;204;000;000m●\u001b[38;2;000;000;000m || \u001b[38;2;204;102;000mX\u001b[38;2;000;000;000m--\u001b[38;2;000;000;204m●\u001b[38;2;000;000;000m || \u001b[38;2;000;204;000mX\u001b[38;2;000;000;000m--\u001b[38;2;000;000;000mX\u001b[38;2;000;000;000m || \u001b[38;2;204;102;000mX\u001b[38;2;000;000;000m--\u001b[38;2;204;204;000m●\u001b[38;2;000;000;000m || \u001b[38;2;204;204;000m●\u001b[38;2;000;000;000m--\u001b[38;2;204;102;000mX\u001b[38;2;000;000;000m || \u001b[38;2;204;204;000m●\u001b[38;2;000;000;000m--\u001b[38;2;204;000;204mX\u001b[38;2;000;000;000m || \u001b[38;2;000;000;000mX\u001b[38;2;000;000;000m--\u001b[38;2;000;204;000mX\u001b[38;2;000;000;000m | ‾‾‾‾‾‾ \n",
      " ‾‾‾‾‾‾  ‾‾‾‾‾‾  ‾‾‾‾‾‾  ‾‾‾‾‾‾  ‾‾‾‾‾‾  ‾‾‾‾‾‾  ‾‾‾‾‾‾  ‾‾‾‾‾‾  ‾‾‾‾‾‾        \n",
      " ______  ______  ______  ______  ______  ______  ______  ______  ______  ______ \n",
      "|   -\u001b[38;2;000;000;000mX\u001b[38;2;000;000;000m ||   -\u001b[38;2;000;000;000mX\u001b[38;2;000;000;000m ||   -\u001b[38;2;000;000;000mX\u001b[38;2;000;000;000m ||   -\u001b[38;2;204;000;204mX\u001b[38;2;000;000;000m ||   -\u001b[38;2;000;000;204m●\u001b[38;2;000;000;000m ||   -\u001b[38;2;204;000;000m●\u001b[38;2;000;000;000m || \u001b[38;2;204;000;000m●\u001b[38;2;000;000;000m--\u001b[38;2;000;000;000mX\u001b[38;2;000;000;000m ||   -\u001b[38;2;000;204;000mX\u001b[38;2;000;000;000m || \u001b[38;2;000;000;204m●\u001b[38;2;000;000;000m--\u001b[38;2;000;000;000mX\u001b[38;2;000;000;000m || \u001b[38;2;204;000;204mX\u001b[38;2;000;000;000m-   |\n",
      "| \u001b[38;2;204;000;204mX\u001b[38;2;000;000;000m-   || \u001b[38;2;000;000;204m●\u001b[38;2;000;000;000m-   || \u001b[38;2;204;000;000m●\u001b[38;2;000;000;000m-   ||   -\u001b[38;2;204;204;000m●\u001b[38;2;000;000;000m ||   -\u001b[38;2;204;102;000mX\u001b[38;2;000;000;000m ||   -\u001b[38;2;000;204;000mX\u001b[38;2;000;000;000m || \u001b[38;2;000;204;000mX\u001b[38;2;000;000;000m-   || \u001b[38;2;000;000;000mX\u001b[38;2;000;000;000m--\u001b[38;2;204;000;000m●\u001b[38;2;000;000;000m || \u001b[38;2;204;102;000mX\u001b[38;2;000;000;000m-   || \u001b[38;2;204;204;000m●\u001b[38;2;000;000;000m--\u001b[38;2;000;000;000mX\u001b[38;2;000;000;000m |\n",
      "| \u001b[38;2;204;204;000m●\u001b[38;2;000;000;000m-   || \u001b[38;2;204;102;000mX\u001b[38;2;000;000;000m-   || \u001b[38;2;000;204;000mX\u001b[38;2;000;000;000m-   || \u001b[38;2;000;000;000mX\u001b[38;2;000;000;000m-   || \u001b[38;2;000;000;000mX\u001b[38;2;000;000;000m-   || \u001b[38;2;000;000;000mX\u001b[38;2;000;000;000m-   | ‾‾‾‾‾‾  ‾‾‾‾‾‾  ‾‾‾‾‾‾  ‾‾‾‾‾‾ \n",
      " ‾‾‾‾‾‾  ‾‾‾‾‾‾  ‾‾‾‾‾‾  ‾‾‾‾‾‾  ‾‾‾‾‾‾  ‾‾‾‾‾‾                                \n",
      " ______  ______  ______ \n",
      "|   -\u001b[38;2;204;102;000mX\u001b[38;2;000;000;000m ||   -\u001b[38;2;204;000;204mX\u001b[38;2;000;000;000m ||   -\u001b[38;2;000;000;000mX\u001b[38;2;000;000;000m |\n",
      "| \u001b[38;2;000;000;000mX\u001b[38;2;000;000;000m--\u001b[38;2;000;000;204m●\u001b[38;2;000;000;000m || \u001b[38;2;000;000;000mX\u001b[38;2;000;000;000m--\u001b[38;2;204;204;000m●\u001b[38;2;000;000;000m || \u001b[38;2;000;000;000mX\u001b[38;2;000;000;000m-   |\n",
      " ‾‾‾‾‾‾  ‾‾‾‾‾‾  ‾‾‾‾‾‾\n"
     ]
    }
   ],
   "source": [
    "for i in print_all_states(iter_lst_2, 10):\n",
    "    print(i)"
   ]
  },
  {
   "cell_type": "code",
   "execution_count": 36,
   "id": "93dc5255-1177-4e30-b204-b5e15366a1c1",
   "metadata": {},
   "outputs": [
    {
     "data": {
      "text/plain": [
       "[[(0, 1), (0, 2), (0, 4), (1, 0), (2, 0), (4, 0)],\n",
       " [(0, 2), (0, 4), (1, 1), (2, 0), (4, 0)],\n",
       " [(0, 2), (0, 4), (1, 0), (2, 1), (4, 0)],\n",
       " [(0, 2), (0, 4), (1, 0), (2, 0), (4, 1)],\n",
       " [(0, 1), (0, 4), (1, 2), (2, 0), (4, 0)],\n",
       " [(0, 1), (0, 4), (1, 0), (2, 2), (4, 0)],\n",
       " [(0, 1), (0, 4), (1, 0), (2, 0), (4, 2)],\n",
       " [(0, 1), (0, 2), (1, 4), (2, 0), (4, 0)],\n",
       " [(0, 1), (0, 2), (1, 0), (2, 4), (4, 0)],\n",
       " [(0, 1), (0, 2), (1, 0), (2, 0), (4, 4)],\n",
       " [(0, 4), (1, 1), (2, 2), (4, 0)],\n",
       " [(0, 4), (1, 1), (2, 0), (4, 2)],\n",
       " [(0, 2), (1, 1), (2, 4), (4, 0)],\n",
       " [(0, 2), (1, 1), (2, 0), (4, 4)],\n",
       " [(0, 4), (1, 2), (2, 1), (4, 0)],\n",
       " [(0, 4), (1, 0), (2, 1), (4, 2)],\n",
       " [(0, 2), (1, 4), (2, 1), (4, 0)],\n",
       " [(0, 2), (1, 0), (2, 1), (4, 4)],\n",
       " [(0, 4), (1, 2), (2, 0), (4, 1)],\n",
       " [(0, 4), (1, 0), (2, 2), (4, 1)],\n",
       " [(0, 2), (1, 4), (2, 0), (4, 1)],\n",
       " [(0, 2), (1, 0), (2, 4), (4, 1)],\n",
       " [(0, 1), (1, 2), (2, 4), (4, 0)],\n",
       " [(0, 1), (1, 2), (2, 0), (4, 4)],\n",
       " [(0, 1), (1, 4), (2, 2), (4, 0)],\n",
       " [(0, 1), (1, 0), (2, 2), (4, 4)],\n",
       " [(0, 1), (1, 4), (2, 0), (4, 2)],\n",
       " [(0, 1), (1, 0), (2, 4), (4, 2)],\n",
       " [(1, 1), (2, 2), (4, 4)],\n",
       " [(1, 1), (2, 4), (4, 2)],\n",
       " [(1, 2), (2, 1), (4, 4)],\n",
       " [(1, 4), (2, 1), (4, 2)],\n",
       " [(1, 2), (2, 4), (4, 1)],\n",
       " [(1, 4), (2, 2), (4, 1)],\n",
       " [(0, 3), (0, 4), (1, 0), (2, 0), (4, 0)],\n",
       " [(0, 2), (0, 5), (1, 0), (2, 0), (4, 0)],\n",
       " [(0, 1), (0, 6), (1, 0), (2, 0), (4, 0)],\n",
       " [(0, 1), (0, 2), (0, 4), (3, 0), (4, 0)],\n",
       " [(0, 1), (0, 2), (0, 4), (2, 0), (5, 0)],\n",
       " [(0, 1), (0, 2), (0, 4), (1, 0), (6, 0)],\n",
       " [(0, 6), (1, 1), (2, 0), (4, 0)],\n",
       " [(0, 4), (1, 3), (2, 0), (4, 0)],\n",
       " [(0, 2), (1, 5), (2, 0), (4, 0)],\n",
       " [(0, 2), (0, 4), (3, 1), (4, 0)],\n",
       " [(0, 2), (0, 4), (2, 0), (5, 1)],\n",
       " [(0, 2), (0, 4), (1, 1), (6, 0)],\n",
       " [(0, 6), (1, 0), (2, 1), (4, 0)],\n",
       " [(0, 4), (1, 0), (2, 3), (4, 0)],\n",
       " [(0, 2), (1, 0), (2, 5), (4, 0)],\n",
       " [(0, 2), (0, 4), (2, 1), (5, 0)],\n",
       " [(0, 2), (0, 4), (1, 0), (6, 1)],\n",
       " [(0, 6), (1, 0), (2, 0), (4, 1)],\n",
       " [(0, 4), (1, 0), (2, 0), (4, 3)],\n",
       " [(0, 2), (1, 0), (2, 0), (4, 5)],\n",
       " [(0, 2), (0, 4), (3, 0), (4, 1)],\n",
       " [(0, 5), (1, 2), (2, 0), (4, 0)],\n",
       " [(0, 1), (1, 6), (2, 0), (4, 0)],\n",
       " [(0, 1), (0, 4), (3, 2), (4, 0)],\n",
       " [(0, 1), (0, 4), (2, 0), (5, 2)],\n",
       " [(0, 1), (0, 4), (1, 2), (6, 0)],\n",
       " [(0, 5), (1, 0), (2, 2), (4, 0)],\n",
       " [(0, 1), (1, 0), (2, 6), (4, 0)],\n",
       " [(0, 1), (0, 4), (2, 2), (5, 0)],\n",
       " [(0, 1), (0, 4), (1, 0), (6, 2)],\n",
       " [(0, 5), (1, 0), (2, 0), (4, 2)],\n",
       " [(0, 1), (1, 0), (2, 0), (4, 6)],\n",
       " [(0, 1), (0, 4), (3, 0), (4, 2)],\n",
       " [(0, 3), (1, 4), (2, 0), (4, 0)],\n",
       " [(0, 1), (0, 2), (3, 4), (4, 0)],\n",
       " [(0, 1), (0, 2), (2, 0), (5, 4)],\n",
       " [(0, 1), (0, 2), (1, 4), (6, 0)],\n",
       " [(0, 3), (1, 0), (2, 4), (4, 0)],\n",
       " [(0, 1), (0, 2), (2, 4), (5, 0)],\n",
       " [(0, 1), (0, 2), (1, 0), (6, 4)],\n",
       " [(0, 3), (1, 0), (2, 0), (4, 4)],\n",
       " [(0, 1), (0, 2), (3, 0), (4, 4)],\n",
       " [(1, 5), (2, 2), (4, 0)],\n",
       " [(1, 1), (2, 6), (4, 0)],\n",
       " [(0, 4), (3, 3), (4, 0)],\n",
       " [(0, 4), (2, 2), (5, 1)],\n",
       " [(0, 4), (1, 1), (6, 2)],\n",
       " [(1, 5), (2, 0), (4, 2)],\n",
       " [(1, 1), (2, 0), (4, 6)],\n",
       " [(0, 4), (3, 1), (4, 2)],\n",
       " [(0, 4), (2, 0), (5, 3)],\n",
       " [(1, 3), (2, 4), (4, 0)],\n",
       " [(0, 2), (3, 5), (4, 0)],\n",
       " [(0, 2), (2, 4), (5, 1)],\n",
       " [(0, 2), (1, 1), (6, 4)],\n",
       " [(1, 3), (2, 0), (4, 4)],\n",
       " [(0, 2), (3, 1), (4, 4)],\n",
       " [(0, 2), (2, 0), (5, 5)],\n",
       " [(1, 6), (2, 1), (4, 0)],\n",
       " [(1, 2), (2, 5), (4, 0)],\n",
       " [(0, 4), (2, 1), (5, 2)],\n",
       " [(0, 4), (1, 2), (6, 1)],\n",
       " [(1, 0), (2, 5), (4, 2)],\n",
       " [(1, 0), (2, 1), (4, 6)],\n",
       " [(0, 4), (1, 0), (6, 3)],\n",
       " [(1, 4), (2, 3), (4, 0)],\n",
       " [(0, 2), (2, 1), (5, 4)],\n",
       " [(0, 2), (1, 4), (6, 1)],\n",
       " [(1, 0), (2, 3), (4, 4)],\n",
       " [(0, 2), (1, 0), (6, 5)],\n",
       " [(1, 6), (2, 0), (4, 1)],\n",
       " [(1, 2), (2, 0), (4, 5)],\n",
       " [(0, 4), (3, 2), (4, 1)],\n",
       " [(1, 0), (2, 6), (4, 1)],\n",
       " [(1, 0), (2, 2), (4, 5)],\n",
       " [(1, 4), (2, 0), (4, 3)],\n",
       " [(0, 2), (3, 4), (4, 1)],\n",
       " [(1, 0), (2, 4), (4, 3)],\n",
       " [(0, 1), (3, 6), (4, 0)],\n",
       " [(0, 1), (2, 4), (5, 2)],\n",
       " [(0, 1), (1, 2), (6, 4)],\n",
       " [(0, 1), (3, 2), (4, 4)],\n",
       " [(0, 1), (2, 0), (5, 6)],\n",
       " [(0, 1), (2, 2), (5, 4)],\n",
       " [(0, 1), (1, 4), (6, 2)],\n",
       " [(0, 1), (1, 0), (6, 6)],\n",
       " [(0, 1), (3, 4), (4, 2)],\n",
       " [(3, 3), (4, 4)],\n",
       " [(2, 2), (5, 5)],\n",
       " [(1, 1), (6, 6)],\n",
       " [(3, 5), (4, 2)],\n",
       " [(2, 4), (5, 3)],\n",
       " [(2, 1), (5, 6)],\n",
       " [(1, 2), (6, 5)],\n",
       " [(1, 4), (6, 3)],\n",
       " [(3, 6), (4, 1)],\n",
       " [(0, 7), (1, 0), (2, 0), (4, 0)],\n",
       " [(0, 3), (0, 4), (3, 0), (4, 0)],\n",
       " [(0, 3), (0, 4), (2, 0), (5, 0)],\n",
       " [(0, 3), (0, 4), (1, 0), (6, 0)],\n",
       " [(0, 2), (0, 5), (3, 0), (4, 0)],\n",
       " [(0, 2), (0, 5), (2, 0), (5, 0)],\n",
       " [(0, 2), (0, 5), (1, 0), (6, 0)],\n",
       " [(0, 1), (0, 6), (3, 0), (4, 0)],\n",
       " [(0, 1), (0, 6), (2, 0), (5, 0)],\n",
       " [(0, 1), (0, 6), (1, 0), (6, 0)],\n",
       " [(0, 1), (0, 2), (0, 4), (7, 0)],\n",
       " [(1, 7), (2, 0), (4, 0)],\n",
       " [(0, 6), (3, 1), (4, 0)],\n",
       " [(0, 6), (2, 0), (5, 1)],\n",
       " [(0, 6), (1, 1), (6, 0)],\n",
       " [(0, 4), (1, 3), (6, 0)],\n",
       " [(0, 2), (1, 5), (6, 0)],\n",
       " [(0, 2), (0, 4), (7, 1)],\n",
       " [(1, 0), (2, 7), (4, 0)],\n",
       " [(0, 6), (2, 1), (5, 0)],\n",
       " [(0, 6), (1, 0), (6, 1)],\n",
       " [(0, 4), (2, 3), (5, 0)],\n",
       " [(0, 2), (2, 5), (5, 0)],\n",
       " [(1, 0), (2, 0), (4, 7)],\n",
       " [(0, 6), (3, 0), (4, 1)],\n",
       " [(0, 4), (3, 0), (4, 3)],\n",
       " [(0, 2), (3, 0), (4, 5)],\n",
       " [(0, 5), (3, 2), (4, 0)],\n",
       " [(0, 5), (2, 0), (5, 2)],\n",
       " [(0, 5), (1, 2), (6, 0)],\n",
       " [(0, 1), (1, 6), (6, 0)],\n",
       " [(0, 1), (0, 4), (7, 2)],\n",
       " [(0, 5), (2, 2), (5, 0)],\n",
       " [(0, 5), (1, 0), (6, 2)],\n",
       " [(0, 1), (2, 6), (5, 0)],\n",
       " [(0, 5), (3, 0), (4, 2)],\n",
       " [(0, 1), (3, 0), (4, 6)],\n",
       " [(0, 3), (3, 4), (4, 0)],\n",
       " [(0, 3), (2, 0), (5, 4)],\n",
       " [(0, 3), (1, 4), (6, 0)],\n",
       " [(0, 1), (0, 2), (7, 4)],\n",
       " [(0, 3), (2, 4), (5, 0)],\n",
       " [(0, 3), (1, 0), (6, 4)],\n",
       " [(0, 3), (3, 0), (4, 4)],\n",
       " [(3, 7), (4, 0)],\n",
       " [(1, 5), (6, 2)],\n",
       " [(2, 6), (5, 1)],\n",
       " [(0, 4), (7, 3)],\n",
       " [(2, 0), (5, 7)],\n",
       " [(3, 1), (4, 6)],\n",
       " [(1, 3), (6, 4)],\n",
       " [(0, 2), (7, 5)],\n",
       " [(1, 6), (6, 1)],\n",
       " [(2, 5), (5, 2)],\n",
       " [(1, 0), (6, 7)],\n",
       " [(2, 3), (5, 4)],\n",
       " [(3, 2), (4, 5)],\n",
       " [(3, 4), (4, 3)],\n",
       " [(0, 1), (7, 6)],\n",
       " [(7, 7)],\n",
       " [(0, 7), (3, 0), (4, 0)],\n",
       " [(0, 7), (2, 0), (5, 0)],\n",
       " [(0, 7), (1, 0), (6, 0)],\n",
       " [(0, 3), (0, 4), (7, 0)],\n",
       " [(0, 2), (0, 5), (7, 0)],\n",
       " [(0, 1), (0, 6), (7, 0)],\n",
       " [(1, 7), (6, 0)],\n",
       " [(0, 6), (7, 1)],\n",
       " [(2, 7), (5, 0)],\n",
       " [(3, 0), (4, 7)],\n",
       " [(0, 5), (7, 2)],\n",
       " [(0, 3), (7, 4)],\n",
       " [(0, 7), (7, 0)]]"
      ]
     },
     "execution_count": 36,
     "metadata": {},
     "output_type": "execute_result"
    }
   ],
   "source": [
    "iter_lst_2"
   ]
  },
  {
   "cell_type": "code",
   "execution_count": 37,
   "id": "7ed6ecf8-7602-4d04-8eb0-8c5773a7dd92",
   "metadata": {},
   "outputs": [],
   "source": [
    "import numpy as np\n",
    "trans_mat = np.full((len(iter_lst_2), len(iter_lst_2)), '0')\n",
    "\n",
    "for i in range(len(iter_lst_2)):\n",
    "    new_lst = recombination(iter_lst_2[i])\n",
    "    idx_lst = [iter_lst_2.index(j) for j in new_lst]\n",
    "    for j in idx_lst:\n",
    "        trans_mat[i,j]='R'\n",
    "    new_lst = coalescent(iter_lst_2[i])\n",
    "    idx_lst = [iter_lst_2.index(j) for j in new_lst]\n",
    "    for j in idx_lst:\n",
    "        trans_mat[i,j]='C'"
   ]
  },
  {
   "cell_type": "code",
   "execution_count": 38,
   "id": "d1501000-2f00-480f-997e-bbf52f88e4c1",
   "metadata": {},
   "outputs": [
    {
     "data": {
      "image/png": "[encoded data removed]"
     },
     "metadata": {},
     "output_type": "display_data"
    }
   ],
   "source": [
    "%%R -i trans_mat  -w 1000 -h 1000 -r 150\n",
    "\n",
    "library(tidyverse)\n",
    "\n",
    "as_tibble(trans_mat) %>% \n",
    "    mutate(from = 1:n()) %>% \n",
    "    pivot_longer(-from) %>% \n",
    "    mutate(to = as.integer(str_remove_all(name, 'V'))) %>% \n",
    "    select(from, to, value) %>% \n",
    "    mutate(value = ifelse(from==to, NA, value))  %>% \n",
    "    ggplot() +\n",
    "    geom_tile(aes(to, from, fill = value)) +\n",
    "    # geom_hline(aes(yintercept = 100.5)) +\n",
    "    scale_y_reverse(expand = c(0, 0)) +\n",
    "    scale_x_continuous(expand = c(0, 0)) +\n",
    "    theme(legend.position = 'bottom')"
   ]
  },
  {
   "cell_type": "code",
   "execution_count": 247,
   "id": "63015693-358b-496b-9c63-4382297f64a5",
   "metadata": {},
   "outputs": [
    {
     "data": {
      "text/plain": [
       "[(0, 3), (0, 4), (1, 0), (2, 0), (4, 0)]"
      ]
     },
     "execution_count": 247,
     "metadata": {},
     "output_type": "execute_result"
    }
   ],
   "source": [
    "iter_lst_2[1]"
   ]
  },
  {
   "cell_type": "code",
   "execution_count": 25,
   "id": "35c1f623-4863-4abb-804c-25a3f3d0a40d",
   "metadata": {},
   "outputs": [
    {
     "data": {
      "text/plain": [
       "[]"
      ]
     },
     "execution_count": 25,
     "metadata": {},
     "output_type": "execute_result"
    }
   ],
   "source": [
    "state_n = [(0, 1), (0, 2), (0, 4), (1, 0), (2, 0), (4, 0)]\n",
    "coalescent(state_n)"
   ]
  },
  {
   "cell_type": "code",
   "execution_count": null,
   "id": "14f51205-89f6-4c46-b0b5-9c78f1fafabd",
   "metadata": {},
   "outputs": [],
   "source": []
  }
 ],
 "metadata": {
  "kernelspec": {
   "display_name": "Python 3 (ipykernel)",
   "language": "python",
   "name": "python3"
  },
  "language_info": {
   "codemirror_mode": {
    "name": "ipython",
    "version": 3
   },
   "file_extension": ".py",
   "mimetype": "text/x-python",
   "name": "python",
   "nbconvert_exporter": "python",
   "pygments_lexer": "ipython3",
   "version": "3.8.10"
  }
 },
 "nbformat": 4,
 "nbformat_minor": 5
}
