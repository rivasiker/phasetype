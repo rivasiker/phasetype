{
 "cells": [
  {
   "cell_type": "code",
   "execution_count": 1,
   "id": "0adbe700",
   "metadata": {},
   "outputs": [
    {
     "data": {
      "text/html": [
       "<div>\n",
       "<style scoped>\n",
       "    .dataframe tbody tr th:only-of-type {\n",
       "        vertical-align: middle;\n",
       "    }\n",
       "\n",
       "    .dataframe tbody tr th {\n",
       "        vertical-align: top;\n",
       "    }\n",
       "\n",
       "    .dataframe thead th {\n",
       "        text-align: right;\n",
       "    }\n",
       "</style>\n",
       "<table border=\"1\" class=\"dataframe\">\n",
       "  <thead>\n",
       "    <tr style=\"text-align: right;\">\n",
       "      <th></th>\n",
       "      <th>From</th>\n",
       "      <th>To</th>\n",
       "      <th>Prob</th>\n",
       "    </tr>\n",
       "  </thead>\n",
       "  <tbody>\n",
       "    <tr>\n",
       "      <th>0</th>\n",
       "      <td>(0, 0, 0)</td>\n",
       "      <td>(0, 0, 0)</td>\n",
       "      <td>0.004491</td>\n",
       "    </tr>\n",
       "    <tr>\n",
       "      <th>1</th>\n",
       "      <td>(0, 0, 0)</td>\n",
       "      <td>(0, 0, 1)</td>\n",
       "      <td>0.001976</td>\n",
       "    </tr>\n",
       "    <tr>\n",
       "      <th>2</th>\n",
       "      <td>(0, 0, 1)</td>\n",
       "      <td>(0, 0, 0)</td>\n",
       "      <td>0.001976</td>\n",
       "    </tr>\n",
       "    <tr>\n",
       "      <th>3</th>\n",
       "      <td>(0, 0, 0)</td>\n",
       "      <td>(0, 0, 2)</td>\n",
       "      <td>0.001976</td>\n",
       "    </tr>\n",
       "    <tr>\n",
       "      <th>4</th>\n",
       "      <td>(0, 0, 2)</td>\n",
       "      <td>(0, 0, 0)</td>\n",
       "      <td>0.001976</td>\n",
       "    </tr>\n",
       "    <tr>\n",
       "      <th>...</th>\n",
       "      <td>...</td>\n",
       "      <td>...</td>\n",
       "      <td>...</td>\n",
       "    </tr>\n",
       "    <tr>\n",
       "      <th>11020</th>\n",
       "      <td>(2, 6, 6)</td>\n",
       "      <td>(2, 6, 6)</td>\n",
       "      <td>0.000002</td>\n",
       "    </tr>\n",
       "    <tr>\n",
       "      <th>11021</th>\n",
       "      <td>(2, 6, 6)</td>\n",
       "      <td>(3, 6, 6)</td>\n",
       "      <td>0.000002</td>\n",
       "    </tr>\n",
       "    <tr>\n",
       "      <th>11022</th>\n",
       "      <td>(3, 6, 6)</td>\n",
       "      <td>(1, 6, 6)</td>\n",
       "      <td>0.000002</td>\n",
       "    </tr>\n",
       "    <tr>\n",
       "      <th>11023</th>\n",
       "      <td>(3, 6, 6)</td>\n",
       "      <td>(2, 6, 6)</td>\n",
       "      <td>0.000002</td>\n",
       "    </tr>\n",
       "    <tr>\n",
       "      <th>11024</th>\n",
       "      <td>(3, 6, 6)</td>\n",
       "      <td>(3, 6, 6)</td>\n",
       "      <td>0.000002</td>\n",
       "    </tr>\n",
       "  </tbody>\n",
       "</table>\n",
       "<p>11025 rows × 3 columns</p>\n",
       "</div>"
      ],
      "text/plain": [
       "            From         To      Prob\n",
       "0      (0, 0, 0)  (0, 0, 0)  0.004491\n",
       "1      (0, 0, 0)  (0, 0, 1)  0.001976\n",
       "2      (0, 0, 1)  (0, 0, 0)  0.001976\n",
       "3      (0, 0, 0)  (0, 0, 2)  0.001976\n",
       "4      (0, 0, 2)  (0, 0, 0)  0.001976\n",
       "...          ...        ...       ...\n",
       "11020  (2, 6, 6)  (2, 6, 6)  0.000002\n",
       "11021  (2, 6, 6)  (3, 6, 6)  0.000002\n",
       "11022  (3, 6, 6)  (1, 6, 6)  0.000002\n",
       "11023  (3, 6, 6)  (2, 6, 6)  0.000002\n",
       "11024  (3, 6, 6)  (3, 6, 6)  0.000002\n",
       "\n",
       "[11025 rows x 3 columns]"
      ]
     },
     "execution_count": 1,
     "metadata": {},
     "output_type": "execute_result"
    }
   ],
   "source": [
    "from ilsmc.get_joint_prob_mat import get_joint_prob_mat\n",
    "import pandas as pd\n",
    "\n",
    "arr = get_joint_prob_mat(\n",
    "    t_A = 0.1,    t_B = 0.1,    t_AB = 1,    t_C = 2, \n",
    "    rho_A = 2,    rho_B = 1,    rho_AB = 3,  rho_C = 1,  rho_ABC = 1, \n",
    "    coal_A = 1,   coal_B = 0.5, coal_AB = 1, coal_C = 1, coal_ABC = 1,\n",
    "    n_int_AB = 3, n_int_ABC = 7\n",
    ")\n",
    "\n",
    "pd.DataFrame(arr, columns=['From', 'To', 'Prob'])"
   ]
  },
  {
   "cell_type": "code",
   "execution_count": 2,
   "id": "3a1f4568-d919-48bd-88b0-3c7643a890fd",
   "metadata": {},
   "outputs": [
    {
     "data": {
      "text/plain": [
       "0.999999999999987"
      ]
     },
     "execution_count": 2,
     "metadata": {},
     "output_type": "execute_result"
    }
   ],
   "source": [
    "pd.DataFrame(arr, columns=['From', 'To', 'Prob'])['Prob'].sum()"
   ]
  },
  {
   "cell_type": "code",
   "execution_count": null,
   "id": "7584fe69-e072-4a42-9bc4-f5900278da09",
   "metadata": {},
   "outputs": [],
   "source": []
  }
 ],
 "metadata": {
  "kernelspec": {
   "display_name": "Python 3 (ipykernel)",
   "language": "python",
   "name": "python3"
  },
  "language_info": {
   "codemirror_mode": {
    "name": "ipython",
    "version": 3
   },
   "file_extension": ".py",
   "mimetype": "text/x-python",
   "name": "python",
   "nbconvert_exporter": "python",
   "pygments_lexer": "ipython3",
   "version": "3.8.10"
  }
 },
 "nbformat": 4,
 "nbformat_minor": 5
}
