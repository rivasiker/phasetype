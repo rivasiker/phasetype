{
 "cells": [
  {
   "cell_type": "code",
   "execution_count": 23,
   "id": "b68b8d38-08e5-493d-b0b4-4dfd8b9c6ca5",
   "metadata": {},
   "outputs": [
    {
     "data": {
      "text/plain": [
       "0.24525296078096154"
      ]
     },
     "execution_count": 23,
     "metadata": {},
     "output_type": "execute_result"
    }
   ],
   "source": [
    "from Bio import AlignIO\n",
    "import numpy as np\n",
    "from trails.cutpoints import cutpoints_ABC\n",
    "from trails.optimizer import trans_emiss_calc\n",
    "\n",
    "\n",
    "n_int_AB = 3\n",
    "n_int_ABC = 3\n",
    "\n",
    "N_AB = 10000*2\n",
    "N_ABC = 20000*2\n",
    "N_ref = N_ABC\n",
    "t_1 = 200000\n",
    "t_2 = 20000\n",
    "t_3 = 400000\n",
    "t_upper = t_3-cutpoints_ABC(n_int_ABC,  N_ref/N_ABC)[-2]*N_ref\n",
    "r = 1e-08\n",
    "mu = 1.25e-08\n",
    "\n",
    "(2/3)*(np.exp(-t_2/(N_AB)))\n",
    "\n",
    "\n",
    "\n"
   ]
  },
  {
   "cell_type": "code",
   "execution_count": null,
   "id": "9f36e65d-f937-4be2-ae02-898377c197dd",
   "metadata": {},
   "outputs": [],
   "source": [
    "a, b, pi, hidden_states, observed_states = trans_emiss_calc(\n",
    "    t_1, t_1, t_1+t_2, t_2, t_upper, t_1+t_2+t_3+2*N_ABC,\n",
    "    N_AB, N_ABC,\n",
    "    r, mu, mu, mu, mu, mu, mu, n_int_AB, n_int_ABC)"
   ]
  },
  {
   "cell_type": "code",
   "execution_count": 16,
   "id": "eb7c2b87-b3b4-474d-afc3-872a875ffd6d",
   "metadata": {},
   "outputs": [],
   "source": [
    "from trails.read_data import maf_parser\n",
    "from trails.optimizer import loglik_wrapper\n",
    "\n",
    "sp_lst = ['hg38','panTro5','gorGor5','ponAbe2']\n",
    "\n",
    "if 'maf_alignment' not in globals():\n",
    "    maf_alignment = maf_parser('chr21.filtered.maf', sp_lst)"
   ]
  },
  {
   "cell_type": "code",
   "execution_count": 17,
   "id": "d772697d-f22f-4b23-b446-29e5757a452d",
   "metadata": {},
   "outputs": [
    {
     "name": "stdout",
     "output_type": "stream",
     "text": [
      "99.967%\r"
     ]
    },
    {
     "data": {
      "text/plain": [
       "-52851440.92558349"
      ]
     },
     "execution_count": 17,
     "metadata": {},
     "output_type": "execute_result"
    }
   ],
   "source": [
    "loglik_wrapper(a, b, pi, maf_alignment)"
   ]
  },
  {
   "cell_type": "code",
   "execution_count": null,
   "id": "aea1b8ce-ab81-4107-ac98-3ebc495ee7c5",
   "metadata": {},
   "outputs": [],
   "source": [
    "-52672283.87140624"
   ]
  }
 ],
 "metadata": {
  "kernelspec": {
   "display_name": "Python 3 (ipykernel)",
   "language": "python",
   "name": "python3"
  },
  "language_info": {
   "codemirror_mode": {
    "name": "ipython",
    "version": 3
   },
   "file_extension": ".py",
   "mimetype": "text/x-python",
   "name": "python",
   "nbconvert_exporter": "python",
   "pygments_lexer": "ipython3",
   "version": "3.8.10"
  }
 },
 "nbformat": 4,
 "nbformat_minor": 5
}
