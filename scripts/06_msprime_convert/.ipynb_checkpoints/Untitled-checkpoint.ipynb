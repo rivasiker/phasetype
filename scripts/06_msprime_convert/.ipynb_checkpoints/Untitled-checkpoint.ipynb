{
 "cells": [
  {
   "cell_type": "code",
   "execution_count": 1,
   "id": "931e2bf0-c8b9-4941-bf35-43de2c97edb2",
   "metadata": {},
   "outputs": [],
   "source": [
    "import sys\n",
    "from trails.optimizer import trans_emiss_calc\n",
    "from trails.cutpoints import cutpoints_ABC, cutpoints_AB\n",
    "import numpy as np\n",
    "from trails.optimizer import forward_loglik, post_prob\n",
    "import pandas as pd\n",
    "import time\n",
    "import re\n",
    "import msprime\n",
    "%load_ext rpy2.ipython"
   ]
  },
  {
   "cell_type": "code",
   "execution_count": 2,
   "id": "27771926-f0c8-464e-9944-8c48c2e010cd",
   "metadata": {},
   "outputs": [
    {
     "name": "stderr",
     "output_type": "stream",
     "text": [
      "2023-01-17 11:31:16,945\tINFO worker.py:1518 -- Started a local Ray instance.\n"
     ]
    }
   ],
   "source": [
    "####################### Model parameters #######################\n",
    "\n",
    "\n",
    "N_AB = 50000\n",
    "N_ABC = 30000\n",
    "t_A = 160000\n",
    "t_B = 190000\n",
    "t_C = 110000\n",
    "t_1 = max([t_A, t_B, t_C])\n",
    "t_2 = 40000\n",
    "t_3 = t_1*5\n",
    "r = 1e-8\n",
    "mu = 2e-8\n",
    "n_int_AB = 3\n",
    "n_int_ABC = 3\n",
    "\n",
    "t_out = t_1+t_2+t_3+2*N_ABC\n",
    "\n",
    "N_ref = N_ABC\n",
    "\n",
    "coal_ABC = N_ref/N_ABC\n",
    "coal_AB = N_ref/N_AB\n",
    "t_upper = t_3-cutpoints_ABC(n_int_ABC, coal_ABC)[-2]*N_ref\n",
    "t_AB = t_2/N_ref\n",
    "\n",
    "cut_AB = t_1+cutpoints_AB(n_int_AB, t_AB, coal_AB)*N_ref\n",
    "cut_ABC = t_1+t_2+cutpoints_ABC(n_int_ABC, coal_ABC)*N_ref\n",
    "\n",
    "transitions, emissions, starting, hidden_states, observed_states = trans_emiss_calc(\n",
    "    t_A, t_B, t_C, t_2, t_upper, t_out,\n",
    "    N_AB, N_ABC,\n",
    "    r, mu, mu, mu, mu, mu, mu, n_int_AB, n_int_ABC)\n",
    "\n",
    "dct_hid = {v: k for k, v in hidden_states.items()}\n",
    "dct = {v: k for k, v in observed_states.items()}\n",
    "\n"
   ]
  },
  {
   "cell_type": "code",
   "execution_count": 96,
   "id": "82ca0100-ce55-4357-b720-e6d62bbd819f",
   "metadata": {},
   "outputs": [
    {
     "data": {
      "text/plain": [
       "0.29955264274481436"
      ]
     },
     "execution_count": 96,
     "metadata": {},
     "output_type": "execute_result"
    }
   ],
   "source": [
    "(2/3)*(np.exp(-t_2/(N_AB)))"
   ]
  },
  {
   "cell_type": "code",
   "execution_count": 107,
   "id": "553a97ca-a175-4af2-b073-06d0b9e40189",
   "metadata": {},
   "outputs": [],
   "source": [
    "####################### Add demography #######################\n",
    "\n",
    "n_sites = 100_000\n",
    "seed = 100\n",
    "\n",
    "demography = msprime.Demography()\n",
    "demography.add_population(name=\"A\", initial_size=N_AB, default_sampling_time=t_1-t_A)\n",
    "demography.add_population(name=\"B\", initial_size=N_AB, default_sampling_time=t_1-t_B)\n",
    "demography.add_population(name=\"C\", initial_size=N_AB, default_sampling_time=t_1-t_C)\n",
    "demography.add_population(name=\"D\", initial_size=N_AB, default_sampling_time=t_1-t_1)\n",
    "demography.add_population(name=\"AB\", initial_size=N_AB)\n",
    "demography.add_population(name=\"ABC\", initial_size=N_ABC)\n",
    "demography.add_population(name=\"ABCD\", initial_size=N_ABC)\n",
    "demography.add_population_split(time=t_1, derived=[\"A\", \"B\"], ancestral=\"AB\")\n",
    "demography.add_population_split(time=t_1+t_2, derived=[\"AB\", \"C\"], ancestral=\"ABC\")\n",
    "demography.add_population_split(time=t_1+t_2+t_3, derived=[\"ABC\", \"D\"], ancestral=\"ABCD\")\n",
    "\n",
    "ts = msprime.sim_ancestry(\n",
    "    {\"A\": 1, \"B\": 1, \"C\": 1,\n",
    "     \"D\": 1\n",
    "    },\n",
    "    demography=demography,\n",
    "    recombination_rate=r*2,\n",
    "    sequence_length=n_sites,\n",
    "    ploidy=1,\n",
    "    random_seed=seed\n",
    ")\n"
   ]
  },
  {
   "cell_type": "code",
   "execution_count": 108,
   "id": "816fecdc-1efd-4dea-9381-66de9584d214",
   "metadata": {},
   "outputs": [],
   "source": [
    "#### Add mutations\n",
    "\n",
    "mutated_ts = msprime.sim_mutations(ts, rate=mu*2, random_seed=seed)\n",
    "\n",
    "nochange_lst = [dct['AAAA'], dct['CCCC'], dct['TTTT'], dct['GGGG']]\n",
    "np.random.seed(seed) ; sim_genome = np.random.choice(nochange_lst, n_sites)\n",
    "\n",
    "mut_lst = []\n",
    "mut_loc = []\n",
    "for variant in mutated_ts.variants():\n",
    "    mut_loc.append(variant.site.position)\n",
    "    mut_lst.append(''.join([variant.alleles[i] for i in variant.genotypes]))\n",
    "\n",
    "for i in range(len(mut_loc)):\n",
    "    sim_genome[int(mut_loc[i])] = dct[mut_lst[i]]\n"
   ]
  },
  {
   "cell_type": "code",
   "execution_count": 109,
   "id": "e590c045-ad25-430a-a2e2-5449b1bc3926",
   "metadata": {},
   "outputs": [],
   "source": [
    "loglik = forward_loglik(transitions, emissions, starting, sim_genome)"
   ]
  },
  {
   "cell_type": "code",
   "execution_count": 110,
   "id": "fca3b69b-a30a-426f-9420-c79c12fe2484",
   "metadata": {},
   "outputs": [],
   "source": [
    "post = post_prob(transitions, emissions, starting, sim_genome)"
   ]
  },
  {
   "cell_type": "code",
   "execution_count": 111,
   "id": "73711adf-0e72-40ab-a80e-dc22721452fc",
   "metadata": {},
   "outputs": [],
   "source": [
    "hidden_matrix = np.random.randint(max([n_int_AB, n_int_ABC]), size=(len(dct_hid), 4))\n",
    "hidden_matrix[:,0] = list(range(len(dct_hid)))\n",
    "hidden_matrix[:,1] = [i[0] for i in dct_hid.keys()]\n",
    "hidden_matrix[:,2] = [i[1] for i in dct_hid.keys()]\n",
    "hidden_matrix[:,3] = [i[2] for i in dct_hid.keys()]"
   ]
  },
  {
   "cell_type": "code",
   "execution_count": 112,
   "id": "7cf38494-e0f5-47b4-9622-4f17b2e760d0",
   "metadata": {},
   "outputs": [],
   "source": [
    "left_lst = []\n",
    "right_lst = []\n",
    "tree_state = []\n",
    "t_AB_vec = []\n",
    "t_ABC_vec = []\n",
    "for t in ts.trees():\n",
    "    # Append start coordinate\n",
    "    left_lst.append(t.interval.left)\n",
    "    # Append end coordinate\n",
    "    right_lst.append(t.interval.right-1)\n",
    "    # Get all non-zero coalescent times\n",
    "    ntimes = [ts.nodes()[n].time for n in t.nodes() if ts.nodes()[n].time not in [0, t_1-t_A, t_1-t_B, t_1-t_C]]\n",
    "    ntimes = sorted(ntimes)\n",
    "    # Get time of the first event\n",
    "    mint = ntimes[0]\n",
    "    mint2 = ntimes[1]\n",
    "    # Find topology\n",
    "    find_re = re.findall(\"n\\d,n\\d\", t.as_newick(include_branch_lengths=False))[0]\n",
    "    # Sort species within topology\n",
    "    find_re = sorted(find_re.split(','))\n",
    "    # If V0 or V1\n",
    "    if find_re == ['n0', 'n1']:\n",
    "        # If the time of the first coalescent is larger than the deepest speciation event\n",
    "        if mint>=(t_1+t_2):\n",
    "            state = (1, (mint>cut_ABC).sum()-1, (mint2>cut_ABC).sum()-1)\n",
    "            # Append V1 state\n",
    "        else:\n",
    "            state = (0, (mint>cut_AB).sum()-1, (mint2>cut_ABC).sum()-1)\n",
    "            # Append V0 state\n",
    "    # If V2\n",
    "    elif find_re == ['n0', 'n2']:\n",
    "        state = (2, (mint>cut_ABC).sum()-1, (mint2>cut_ABC).sum()-1)\n",
    "    # If V3\n",
    "    elif find_re == ['n1', 'n2']:\n",
    "        state = (3, (mint>cut_ABC).sum()-1, (mint2>cut_ABC).sum()-1)\n",
    "    else:\n",
    "        state = (4, (mint>cut_ABC).sum()-1, (mint2>cut_ABC).sum()-1)\n",
    "    tree_state.append(state)\n",
    "    t_AB_vec.append(mint)\n",
    "    t_ABC_vec.append(mint2)\n"
   ]
  },
  {
   "cell_type": "code",
   "execution_count": 113,
   "id": "2df25fd0-9d6c-48aa-bc4f-a404907fcf6c",
   "metadata": {},
   "outputs": [],
   "source": [
    "tree_matrix = np.random.randint(max(left_lst), size=(len(left_lst), 3))\n",
    "tree_matrix[:,0] = left_lst\n",
    "tree_matrix[:,1] = right_lst\n",
    "tree_matrix[:,2] = [dct_hid[i] for i in tree_state]"
   ]
  },
  {
   "cell_type": "code",
   "execution_count": 114,
   "id": "8e3507e0-9838-4a5d-989b-34965f5aceb9",
   "metadata": {},
   "outputs": [
    {
     "name": "stdout",
     "output_type": "stream",
     "text": [
      "`summarise()` has grouped output by 'gr'. You can override using the `.groups` argument.\n",
      "# A tibble: 243 × 7\n",
      "# Groups:   gr [243]\n",
      "      gr  name start   end topology int_1 int_2\n",
      "   <dbl> <int> <int> <int>    <int> <int> <int>\n",
      " 1     1    16     0   549        2     0     1\n",
      " 2     2    12   550  1196        1     1     1\n",
      " 3     3     4  1197  1613        0     1     1\n",
      " 4     4    10  1614  1795        1     0     1\n",
      " 5     5    16  1796  2097        2     0     1\n",
      " 6     6     4  2098  3140        0     1     1\n",
      " 7     7     1  3141  4945        0     0     1\n",
      " 8     8    16  4946  5169        2     0     1\n",
      " 9     9     1  5170  5582        0     0     1\n",
      "10    10     7  5583  6287        0     2     1\n",
      "# … with 233 more rows\n"
     ]
    }
   ],
   "source": [
    "%%R -i post -i hidden_matrix -i tree_matrix\n",
    "\n",
    "library(tidyverse)\n",
    "\n",
    "hid_tab <- as_tibble(hidden_matrix) %>%\n",
    "    rename(name = V1, topology = V2, int_1 = V3, int_2 = V4)\n",
    "    \n",
    "tree_tab <- as_tibble(tree_matrix) %>%\n",
    "    rename(start = V1, end = V2, name = V3) %>%\n",
    "    mutate(\n",
    "        gr = ifelse(lag(name) != name, 1, 0) %>% coalesce(0),\n",
    "        gr = cumsum(gr) + 1\n",
    "    ) %>% \n",
    "    group_by(gr, name) %>%\n",
    "    summarize(start = min(start), end = max(end)) %>%\n",
    "    left_join(hid_tab, by = 'name')\n",
    "\n",
    "post_tab <- as_tibble(post) %>%\n",
    "    mutate(pos = 0:(n()-1)) %>%\n",
    "    pivot_longer(-pos) %>%\n",
    "    mutate(name = as.integer(str_remove_all(name, 'V'))-1) %>%\n",
    "    left_join(hid_tab, by = 'name')\n",
    "     \n",
    "tree_tab"
   ]
  },
  {
   "cell_type": "code",
   "execution_count": 116,
   "id": "40ef7931-0803-433c-bda9-a08491576032",
   "metadata": {},
   "outputs": [
    {
     "name": "stdout",
     "output_type": "stream",
     "text": [
      "`summarise()` has grouped output by 'pos'. You can override using the `.groups` argument.\n"
     ]
    },
    {
     "data": {
      "image/png": "[encoded data removed]"
     },
     "metadata": {},
     "output_type": "display_data"
    }
   ],
   "source": [
    "%%R\n",
    "\n",
    "post_tab %>%\n",
    "    group_by(pos, int_2) %>%\n",
    "    summarize(prob = sum(value)) %>%\n",
    "    ggplot() +\n",
    "    geom_tile(aes(pos, int_2, fill = prob)) +\n",
    "    geom_segment(aes(x = start, xend = end, y = int_2, yend = int_2), \n",
    "                 color = 'red',\n",
    "                 data = tree_tab) +\n",
    "    scale_fill_viridis_c()"
   ]
  },
  {
   "cell_type": "code",
   "execution_count": 115,
   "id": "5de210b1-bf73-43d0-8b92-b398e15aa631",
   "metadata": {},
   "outputs": [
    {
     "name": "stdout",
     "output_type": "stream",
     "text": [
      "`summarise()` has grouped output by 'pos'. You can override using the `.groups` argument.\n"
     ]
    },
    {
     "data": {
      "image/png": "[encoded data removed]"
     },
     "metadata": {},
     "output_type": "display_data"
    }
   ],
   "source": [
    "%%R\n",
    "\n",
    "post_tab %>%\n",
    "    group_by(pos, topology) %>%\n",
    "    summarize(prob = sum(value)) %>%\n",
    "    ggplot() +\n",
    "    geom_tile(aes(pos, topology, fill = prob)) +\n",
    "    geom_segment(aes(x = start, xend = end, y = topology, yend = topology), \n",
    "                 color = 'red',\n",
    "                 data = tree_tab) +\n",
    "    scale_fill_viridis_c()"
   ]
  },
  {
   "cell_type": "code",
   "execution_count": 117,
   "id": "875e24fc-09b3-4f1c-afcb-084122e63c1a",
   "metadata": {},
   "outputs": [
    {
     "name": "stdout",
     "output_type": "stream",
     "text": [
      "# A tibble: 2 × 2\n",
      "  `topology %in% c(0, 1)`   len\n",
      "  <lgl>                   <int>\n",
      "1 FALSE                   25934\n",
      "2 TRUE                    73823\n"
     ]
    }
   ],
   "source": [
    "%%R\n",
    "\n",
    "tree_tab %>%\n",
    "    group_by(topology %in% c(0, 1)) %>%\n",
    "    summarize(len = sum(end-start))"
   ]
  },
  {
   "cell_type": "code",
   "execution_count": null,
   "id": "81064926-9bfe-4cc8-850a-f70bda209cb4",
   "metadata": {},
   "outputs": [],
   "source": []
  }
 ],
 "metadata": {
  "kernelspec": {
   "display_name": "Python 3 (ipykernel)",
   "language": "python",
   "name": "python3"
  },
  "language_info": {
   "codemirror_mode": {
    "name": "ipython",
    "version": 3
   },
   "file_extension": ".py",
   "mimetype": "text/x-python",
   "name": "python",
   "nbconvert_exporter": "python",
   "pygments_lexer": "ipython3",
   "version": "3.8.10"
  }
 },
 "nbformat": 4,
 "nbformat_minor": 5
}
