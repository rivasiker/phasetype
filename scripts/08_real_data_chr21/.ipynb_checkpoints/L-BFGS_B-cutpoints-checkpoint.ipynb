{
 "cells": [
  {
   "cell_type": "code",
   "execution_count": 152,
   "id": "d0203d2b-4d3c-4203-a558-8e7dfcd1a85a",
   "metadata": {},
   "outputs": [
    {
     "name": "stdout",
     "output_type": "stream",
     "text": [
      "The rpy2.ipython extension is already loaded. To reload it, use:\n",
      "  %reload_ext rpy2.ipython\n"
     ]
    }
   ],
   "source": [
    "import pandas as pd\n",
    "import numpy as np\n",
    "from trails.optimizer import trans_emiss_calc, post_prob_wrapper\n",
    "from trails.read_data import maf_parser\n",
    "from trails.cutpoints import cutpoints_ABC\n",
    "%load_ext rpy2.ipython\n",
    "\n",
    "n_int_AB_original = 3\n",
    "n_int_ABC_original = 3\n",
    "\n",
    "n_int_AB = 1\n",
    "n_int_ABC = 1"
   ]
  },
  {
   "cell_type": "code",
   "execution_count": 153,
   "id": "c378e420-1d5a-4f6c-8dd3-4903547916cc",
   "metadata": {},
   "outputs": [],
   "source": [
    "df = pd.read_csv('chr21_L-BFGS-B.csv')\n",
    "df = df[df['loglik'] == df['loglik'].max()]\n",
    "dct = dict(zip(list(df.columns), df.iloc[0].to_list()))"
   ]
  },
  {
   "cell_type": "code",
   "execution_count": 154,
   "id": "c943ab95-8237-436c-bc58-c6e774c741d8",
   "metadata": {},
   "outputs": [
    {
     "data": {
      "text/plain": [
       "{'n_eval': 296.0,\n",
       " 't_A': 0.0033401224406377,\n",
       " 't_B': 0.0035824845097278,\n",
       " 't_C': 0.0062805113432487,\n",
       " 't_2': 0.0023889437722545,\n",
       " 't_upper': 0.0180277542266378,\n",
       " 't_out': 0.0100957399885109,\n",
       " 'N_AB': 0.0055229657239598,\n",
       " 'N_ABC': 0.003953618877348,\n",
       " 'r': 0.5103483216469739,\n",
       " 'loglik': -52516466.2216394,\n",
       " 'time': 96822.11412930489}"
      ]
     },
     "execution_count": 154,
     "metadata": {},
     "output_type": "execute_result"
    }
   ],
   "source": [
    "dct"
   ]
  },
  {
   "cell_type": "code",
   "execution_count": 155,
   "id": "3011bce7-cb80-4904-be08-60d690a14367",
   "metadata": {},
   "outputs": [
    {
     "data": {
      "text/plain": [
       "0.43256945200780456"
      ]
     },
     "execution_count": 155,
     "metadata": {},
     "output_type": "execute_result"
    }
   ],
   "source": [
    "(2/3)*np.exp(-(dct[\"t_2\"])/(dct[\"N_AB\"]))"
   ]
  },
  {
   "cell_type": "code",
   "execution_count": 156,
   "id": "4a622b02-5c8a-43d9-ab66-340df7912203",
   "metadata": {},
   "outputs": [],
   "source": [
    "cut_ABC_original = (cutpoints_ABC(n_int_ABC_original, 1)*dct[\"N_ABC\"])[-2]"
   ]
  },
  {
   "cell_type": "code",
   "execution_count": 157,
   "id": "3a3bc940-01bf-4b85-8271-94a11d84d5c6",
   "metadata": {},
   "outputs": [
    {
     "data": {
      "text/plain": [
       "0.022371248510002526"
      ]
     },
     "execution_count": 157,
     "metadata": {},
     "output_type": "execute_result"
    }
   ],
   "source": [
    "t_ABC = cut_ABC_original+dct[\"t_upper\"]\n",
    "t_ABC"
   ]
  },
  {
   "cell_type": "code",
   "execution_count": 158,
   "id": "f9c50bca-e586-4ad4-9ef1-a4fc9c1e7ec1",
   "metadata": {},
   "outputs": [
    {
     "data": {
      "text/plain": [
       "0.022371248510002526"
      ]
     },
     "execution_count": 158,
     "metadata": {},
     "output_type": "execute_result"
    }
   ],
   "source": [
    "cut_ABC = (cutpoints_ABC(n_int_ABC, 2)*dct[\"N_ABC\"])[-2]\n",
    "t_upper = t_ABC-cut_ABC\n",
    "t_upper"
   ]
  },
  {
   "cell_type": "code",
   "execution_count": 159,
   "id": "bcff1bd5-167c-449a-b859-6f5a2f5062a4",
   "metadata": {},
   "outputs": [],
   "source": [
    "new_cut_ABC = cutpoints_ABC(n_int_ABC, 2)"
   ]
  },
  {
   "cell_type": "code",
   "execution_count": 160,
   "id": "d5b75fa5-42c3-4e06-9d37-1b2db80f53b3",
   "metadata": {},
   "outputs": [],
   "source": [
    "orig_cut_ABC_r = cutpoints_ABC(n_int_ABC, 1)*dct[\"N_ABC\"]\n",
    "new_cut_ABC_r = new_cut_ABC*dct[\"N_ABC\"]\n",
    "cut_exp_3 = cutpoints_ABC(n_int_ABC, 3)*dct[\"N_ABC\"]\n",
    "N_ref = dct[\"N_ABC\"]"
   ]
  },
  {
   "cell_type": "code",
   "execution_count": 161,
   "id": "43b1e32e-c358-4cca-82e1-c7976f0c98c5",
   "metadata": {},
   "outputs": [],
   "source": [
    "%%R -i n_int_ABC -i N_ref\n",
    "\n",
    "library(PhaseTypeR)\n",
    "library(ggthemes)\n",
    "\n",
    "mat <- matrix(c(-3, 3, 0, -1), ncol = 2, byrow = TRUE)\n",
    "ph <- PH(mat)\n",
    "phase_type <- qPH((0:n_int_ABC)/n_int_ABC, ph)*N_ref\n",
    "phase_type <- c(phase_type[0:(length(phase_type)-1)], Inf)"
   ]
  },
  {
   "cell_type": "code",
   "execution_count": 162,
   "id": "3b7b4ca5-3b9f-4247-822e-049597ae6c55",
   "metadata": {},
   "outputs": [
    {
     "data": {
      "image/png": "[encoded data removed]"
     },
     "metadata": {},
     "output_type": "display_data"
    }
   ],
   "source": [
    "%%R -i orig_cut_ABC_r -i new_cut_ABC_r -i cut_exp_3\n",
    "\n",
    "library(tidyverse)\n",
    "\n",
    "tibble(\n",
    "    `exp(1)` = orig_cut_ABC_r,\n",
    "    `exp(2)` = new_cut_ABC_r,\n",
    "    `PH` = phase_type,\n",
    "    `exp(3)` = cut_exp_3\n",
    ") %>%\n",
    "    mutate(Interval = factor((1:n())-1, (n():1)-1)) %>%\n",
    "    # filter(row_number() <= n()-1) %>%\n",
    "    pivot_longer(-Interval) %>% \n",
    "    mutate(name = factor(name, c('exp(3)', 'exp(2)', 'exp(1)', 'PH'))) %>%\n",
    "    ggplot() +\n",
    "    geom_col(aes(name, value/N_ref, fill = Interval), color = 'white') +\n",
    "    theme_minimal() +\n",
    "    labs(x = 'Distribution', y = 'Time')"
   ]
  },
  {
   "cell_type": "code",
   "execution_count": 163,
   "id": "a09cd3d4-db62-49c8-a199-53b069ccaac1",
   "metadata": {},
   "outputs": [
    {
     "name": "stderr",
     "output_type": "stream",
     "text": [
      "/Users/au595587/opt/miniconda3/envs/phasetype/lib/python3.8/site-packages/trails/get_emission_prob_mat.py:632: FutureWarning: elementwise comparison failed; returning scalar instead, but in the future will perform elementwise comparison\n",
      "  if cut_ABC == 'standard':\n"
     ]
    }
   ],
   "source": [
    "a, b, pi, hidden_names, observed_names = trans_emiss_calc(\n",
    "    dct[\"t_A\"], dct[\"t_B\"], dct[\"t_C\"], dct[\"t_2\"], t_upper, dct[\"t_out\"], \n",
    "    dct[\"N_AB\"], dct[\"N_ABC\"], dct[\"r\"], n_int_AB, n_int_ABC,\n",
    "    cut_AB = 'standard', cut_ABC = new_cut_ABC\n",
    ")"
   ]
  },
  {
   "cell_type": "code",
   "execution_count": 164,
   "id": "63eac3b1-9f87-473d-81c4-0c1b757c44ed",
   "metadata": {},
   "outputs": [],
   "source": [
    "if 'obs' not in globals():\n",
    "    obs = maf_parser('chr21.filtered.maf', ['hg38','panTro5','gorGor5','ponAbe2'])"
   ]
  },
  {
   "cell_type": "code",
   "execution_count": 165,
   "id": "3ebb2488-0d5b-4d58-93e5-f5ea42ac3224",
   "metadata": {},
   "outputs": [
    {
     "data": {
      "text/plain": [
       "9647"
      ]
     },
     "execution_count": 165,
     "metadata": {},
     "output_type": "execute_result"
    }
   ],
   "source": [
    "max_idx = np.argmax([len(i) for i in obs])\n",
    "max_idx"
   ]
  },
  {
   "cell_type": "code",
   "execution_count": 166,
   "id": "91c231a6-e9e8-409b-87c7-d02ada13b7c1",
   "metadata": {},
   "outputs": [
    {
     "data": {
      "text/plain": [
       "27280"
      ]
     },
     "execution_count": 166,
     "metadata": {},
     "output_type": "execute_result"
    }
   ],
   "source": [
    "len(obs[max_idx])"
   ]
  },
  {
   "cell_type": "code",
   "execution_count": 167,
   "id": "da8b0fbe-7e3e-4aa5-906c-f75de6355c0e",
   "metadata": {},
   "outputs": [
    {
     "data": {
      "text/plain": [
       "2750"
      ]
     },
     "execution_count": 167,
     "metadata": {},
     "output_type": "execute_result"
    }
   ],
   "source": [
    "max_idx_2 = np.argmax([len(obs[i]) for i in range(len(obs)) if i != max_idx ])\n",
    "max_idx_2"
   ]
  },
  {
   "cell_type": "code",
   "execution_count": 168,
   "id": "c8005679-f93f-4d9e-baa8-d99744309ade",
   "metadata": {},
   "outputs": [
    {
     "data": {
      "text/plain": [
       "27212"
      ]
     },
     "execution_count": 168,
     "metadata": {},
     "output_type": "execute_result"
    }
   ],
   "source": [
    "len(obs[max_idx_2])"
   ]
  },
  {
   "cell_type": "code",
   "execution_count": null,
   "id": "a91a1d51-e259-4d15-a3b1-cdc027c47e76",
   "metadata": {},
   "outputs": [],
   "source": [
    "post_prob = post_prob_wrapper(a, b, pi, [obs[max_idx_2]])"
   ]
  },
  {
   "cell_type": "code",
   "execution_count": null,
   "id": "edcd142b-96ba-4677-af30-79b69a4e3218",
   "metadata": {},
   "outputs": [],
   "source": [
    "dat = pd.DataFrame(post_prob[0])\n",
    "dat.columns = [str(i) for i in list(hidden_names.values())]\n",
    "dat"
   ]
  },
  {
   "cell_type": "code",
   "execution_count": null,
   "id": "7cc571b0-4050-44e6-955a-6fb8be648d6d",
   "metadata": {},
   "outputs": [],
   "source": [
    "%%R -i dat -i n_int_AB -i n_int_ABC\n",
    "\n",
    "library(tidyverse)\n",
    "library(ggthemes)\n",
    "\n",
    "y_tab <- as_tibble(dat) %>%\n",
    "    mutate(pos = 1:n()) %>%\n",
    "    pivot_longer(-pos) %>%\n",
    "    mutate(\n",
    "        name = str_remove_all(name, '\\\\('),\n",
    "        name = str_remove_all(name, '\\\\)')\n",
    "    ) %>%\n",
    "    separate(name, c('V', 't1', 't2'), ', ') %>%\n",
    "    mutate(\n",
    "        V = as.integer(V),\n",
    "        t1 = as.integer(t1),\n",
    "        t2 = as.integer(t2),\n",
    "        is_V0 = V == 0\n",
    "    ) "
   ]
  },
  {
   "cell_type": "code",
   "execution_count": null,
   "id": "dca2a537-a99d-49d3-82ee-bcdc8b8a936f",
   "metadata": {},
   "outputs": [],
   "source": [
    "%%R\n",
    "\n",
    "v_post_plt <- y_tab %>% \n",
    "    # filter(between(pos, lo, up)) %>%\n",
    "    group_by(pos, V) %>% \n",
    "    summarize(value = sum(value)) %>% \n",
    "    ggplot() +\n",
    "    geom_tile(aes(pos, V, fill = value, color = value),\n",
    "             color = NA) +\n",
    "    theme_few() +\n",
    "    scale_fill_viridis_c(name = 'Posterior\\nprobability', \n",
    "                         # limits = c(0, 1)\n",
    "                         option=\"inferno\"\n",
    "                        ) +\n",
    "    scale_color_viridis_c(name = 'Posterior\\nprobability', \n",
    "                         # limits = c(0, 1)\n",
    "                          option=\"inferno\"\n",
    "                         ) +\n",
    "    scale_y_continuous(\n",
    "        breaks = c(0, 1, 2, 3), \n",
    "        labels = c('V0', 'V1', 'V2', 'V3'),\n",
    "        expand = c(0, 0)\n",
    "    ) +\n",
    "    scale_x_continuous(expand = c(0, 0)) +\n",
    "    ylab('Topology') +\n",
    "    xlab('Position')"
   ]
  },
  {
   "cell_type": "code",
   "execution_count": null,
   "id": "7c78b464-a53c-4179-a8ac-87330b55cc52",
   "metadata": {},
   "outputs": [],
   "source": [
    "%%R -w 2000 -h 700 -r 150\n",
    "    \n",
    "v_post_plt"
   ]
  },
  {
   "cell_type": "code",
   "execution_count": null,
   "id": "69184b02-b3fc-4cce-936f-2e042e8fc4c7",
   "metadata": {},
   "outputs": [],
   "source": [
    "%%R\n",
    "\n",
    "ggsave(paste0('v_post_plt_', n_int_AB, '_', n_int_ABC, '.pdf'), \n",
    "       v_post_plt, width = 12, height = 4)"
   ]
  },
  {
   "cell_type": "code",
   "execution_count": null,
   "id": "63587860-d5ea-4803-9b14-6f36d10b6b2e",
   "metadata": {},
   "outputs": [],
   "source": [
    "%%R \n",
    "\n",
    "t1_post_plt <- y_tab %>% \n",
    "    group_by(pos, is_V0, t1) %>% \n",
    "    summarize(value = sum(value)) %>% \n",
    "    ggplot() +\n",
    "    geom_tile(aes(pos, t1+(!is_V0)*(n_int_AB), fill = value, color = value),\n",
    "             color = NA) +\n",
    "    geom_hline(aes(yintercept = n_int_AB-1+0.5), color = 'white') +\n",
    "    theme_few() +\n",
    "    scale_fill_viridis_c(name = 'Posterior\\nprobability', \n",
    "                         # limits = c(0, 1)\n",
    "                         option=\"inferno\"\n",
    "                        ) +\n",
    "    scale_color_viridis_c(name = 'Posterior\\nprobability', \n",
    "                         # limits = c(0, 1)\n",
    "                          option=\"inferno\"\n",
    "                         ) +\n",
    "    ylab('Interval of first coalescent') +\n",
    "    xlab('Position') +\n",
    "    scale_y_continuous(\n",
    "        breaks = c(0:(n_int_AB-1), ((n_int_AB):(n_int_AB+n_int_ABC-1))+0.1), \n",
    "        labels = c(0:(n_int_AB-1), 0:(n_int_ABC-1)),\n",
    "        expand = c(0, 0)\n",
    "    ) +\n",
    "    scale_x_continuous(expand = c(0, 0))"
   ]
  },
  {
   "cell_type": "code",
   "execution_count": null,
   "id": "a09d21b8-e089-4c70-b92a-8fc551decb83",
   "metadata": {},
   "outputs": [],
   "source": [
    "%%R -w 2000 -h 700 -r 150\n",
    "\n",
    "t1_post_plt"
   ]
  },
  {
   "cell_type": "code",
   "execution_count": null,
   "id": "7faf7464-eb81-4d0c-92ff-2907050892f0",
   "metadata": {},
   "outputs": [],
   "source": [
    "%%R\n",
    "\n",
    "ggsave(paste0('t1_post_plt_', n_int_AB, '_', n_int_ABC, '.pdf'), \n",
    "       t1_post_plt, width = 12, height = 4)"
   ]
  },
  {
   "cell_type": "code",
   "execution_count": null,
   "id": "3547e0d9-3690-42db-987e-6b6fe005a397",
   "metadata": {},
   "outputs": [],
   "source": [
    "%%R\n",
    "\n",
    "t2_post_plt <- y_tab %>% \n",
    "    # filter(between(pos, lo, up)) %>%\n",
    "    group_by(pos, t2) %>% \n",
    "    summarize(value = sum(value)) %>% \n",
    "    ggplot() +\n",
    "    geom_tile(aes(pos, t2, fill = value, color = value),\n",
    "             color = NA) +\n",
    "    theme_few() +\n",
    "    scale_fill_viridis_c(name = 'Posterior\\nprobability', \n",
    "                         # limits = c(0, 1)\n",
    "                         option=\"inferno\"\n",
    "                        ) +\n",
    "    scale_color_viridis_c(name = 'Posterior\\nprobability', \n",
    "                         # limits = c(0, 1)\n",
    "                          option=\"inferno\"\n",
    "                         ) +\n",
    "    ylab('Interval of second coalescent') +\n",
    "    xlab('Position') +\n",
    "    scale_y_continuous(\n",
    "        breaks = 0:(n_int_ABC-1), \n",
    "        labels = 0:(n_int_ABC-1),\n",
    "        expand = c(0, 0)\n",
    "    ) +\n",
    "    scale_x_continuous(expand = c(0, 0))"
   ]
  },
  {
   "cell_type": "code",
   "execution_count": null,
   "id": "9dcdc4b1-e340-4d1e-b882-8ece6687db39",
   "metadata": {},
   "outputs": [],
   "source": [
    "%%R -w 2000 -h 700 -r 150\n",
    "\n",
    "t2_post_plt"
   ]
  },
  {
   "cell_type": "code",
   "execution_count": null,
   "id": "922dd79c-75bf-474b-a513-c3e57b711418",
   "metadata": {},
   "outputs": [],
   "source": [
    "%%R\n",
    "\n",
    "ggsave(paste0('t2_post_plt_', n_int_AB, '_', n_int_ABC, '.pdf'), \n",
    "       t2_post_plt, width = 12, height = 4)"
   ]
  },
  {
   "cell_type": "code",
   "execution_count": null,
   "id": "6d95c46e-2eb0-41d1-819a-f2a887118450",
   "metadata": {},
   "outputs": [],
   "source": []
  },
  {
   "cell_type": "code",
   "execution_count": null,
   "id": "3d7f888c-8fa2-4b43-a676-2fd10cb66a16",
   "metadata": {},
   "outputs": [],
   "source": [
    "%%R\n",
    "\n",
    "y_tab %>%\n",
    "    group_by(pos) %>%\n",
    "    filter(value == max(value)) %>%\n",
    "    group_by(V) %>%\n",
    "    summarize(\n",
    "        n = n(),\n",
    "        med = median(value),\n",
    "        mea = mean(value)\n",
    "    ) %>%\n",
    "    ungroup() %>%\n",
    "    mutate(\n",
    "        ILS = (n[V==2]+n[V==3])/sum(n)\n",
    "    )"
   ]
  },
  {
   "cell_type": "code",
   "execution_count": null,
   "id": "30ab202d-a537-4220-a81a-de7a38b4c450",
   "metadata": {},
   "outputs": [],
   "source": [
    "%%R\n",
    "\n",
    "y_tab %>%\n",
    "    group_by(pos) %>%\n",
    "    filter(value == max(value)) %>%\n",
    "    group_by(t2) %>%\n",
    "    summarize(\n",
    "        n = n(),\n",
    "        med = median(value),\n",
    "        mea = mean(value)\n",
    "    )"
   ]
  },
  {
   "cell_type": "code",
   "execution_count": null,
   "id": "f826fbc1-98e6-46b6-949e-5455417cf499",
   "metadata": {},
   "outputs": [],
   "source": [
    "%%R\n",
    "\n",
    "y_tab %>%\n",
    "    group_by(pos) %>%\n",
    "    filter(value == max(value)) %>%\n",
    "    group_by(is_V0, t1) %>%\n",
    "    summarize(\n",
    "        n = n(),\n",
    "        med = median(value),\n",
    "        mea = mean(value)\n",
    "    )"
   ]
  },
  {
   "cell_type": "code",
   "execution_count": null,
   "id": "20101bd0-b647-4f7a-b231-685d2da860ba",
   "metadata": {},
   "outputs": [],
   "source": []
  },
  {
   "cell_type": "code",
   "execution_count": null,
   "id": "50e43716-7058-4357-8709-ed03176e51d7",
   "metadata": {},
   "outputs": [],
   "source": []
  },
  {
   "cell_type": "code",
   "execution_count": null,
   "id": "d4614cc7-babe-454c-86ff-7d4bc29e7228",
   "metadata": {},
   "outputs": [],
   "source": []
  }
 ],
 "metadata": {
  "kernelspec": {
   "display_name": "Python 3 (ipykernel)",
   "language": "python",
   "name": "python3"
  },
  "language_info": {
   "codemirror_mode": {
    "name": "ipython",
    "version": 3
   },
   "file_extension": ".py",
   "mimetype": "text/x-python",
   "name": "python",
   "nbconvert_exporter": "python",
   "pygments_lexer": "ipython3",
   "version": "3.8.10"
  }
 },
 "nbformat": 4,
 "nbformat_minor": 5
}
