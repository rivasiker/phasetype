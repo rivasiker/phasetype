{
 "cells": [
  {
   "cell_type": "code",
   "execution_count": 1,
   "metadata": {},
   "outputs": [],
   "source": [
    "import msprime\n",
    "import numpy as np\n",
    "from IPython.display import SVG\n",
    "%load_ext rpy2.ipython\n",
    "# %reload_ext rpy2.ipython"
   ]
  },
  {
   "cell_type": "markdown",
   "metadata": {},
   "source": [
    "# A state space model for mutations along two genomes"
   ]
  },
  {
   "cell_type": "markdown",
   "metadata": {
    "tags": []
   },
   "source": [
    "## State space model: Simonsen-Chrchill framework"
   ]
  },
  {
   "cell_type": "markdown",
   "metadata": {},
   "source": [
    "This is the full transition rate matrix:"
   ]
  },
  {
   "cell_type": "code",
   "execution_count": 2,
   "metadata": {},
   "outputs": [
    {
     "name": "stdout",
     "output_type": "stream",
     "text": [
      "     [,1] [,2] [,3] [,4] [,5] [,6] [,7] [,8]\n",
      "[1,] -1.2  0.2  0.0  0.0  0.0  0.0  0.0    1\n",
      "[2,]  1.0 -3.1  0.1  1.0  1.0  0.0  0.0    0\n",
      "[3,]  0.0  4.0 -6.0  0.0  0.0  1.0  1.0    0\n",
      "[4,]  0.0  0.0  0.0 -1.1  0.0  0.1  0.0    1\n",
      "[5,]  0.0  0.0  0.0  0.0 -1.1  0.0  0.1    1\n",
      "[6,]  0.0  0.0  0.0  2.0  0.0 -3.0  0.0    1\n",
      "[7,]  0.0  0.0  0.0  0.0  2.0  0.0 -3.0    1\n",
      "[8,]  0.0  0.0  0.0  0.0  0.0  0.0  0.0    0\n"
     ]
    }
   ],
   "source": [
    "%%R\n",
    "\n",
    "ARGRateM_slow <- function(rho){\n",
    "  RateM <-\n",
    "    matrix(c(0,rho,0,0,0,0,0,1,\n",
    "             1,0,rho/2,1,1,0,0,0,             \n",
    "             0,4,0,0,0,1,1,0,\n",
    "             0,0,0,0,0,rho/2,0,1,\n",
    "             0,0,0,0,0,0,rho/2,1,\n",
    "             0,0,0,2,0,0,0,1,\n",
    "             0,0,0,0,2,0,0,1,\n",
    "             0,0,0,0,0,0,0,0),nrow=8,ncol=8,byrow=TRUE)\n",
    "  ## Get diagonals right (must sum to 0)\n",
    "  for (rw in 1:8){\n",
    "    RateM[rw,rw] <- -sum(RateM[rw,])\n",
    "  }\n",
    "  return(RateM)\n",
    "}\n",
    "\n",
    "ARGRateMat_slow <- ARGRateM_slow(0.1*2)\n",
    "\n",
    "ARGRateMat_slow"
   ]
  },
  {
   "cell_type": "markdown",
   "metadata": {},
   "source": [
    "This is the fast version of the function above, where some of the states are removed from the chain if we are only interested in the heights:"
   ]
  },
  {
   "cell_type": "code",
   "execution_count": 3,
   "metadata": {},
   "outputs": [
    {
     "name": "stdout",
     "output_type": "stream",
     "text": [
      "     [,1] [,2] [,3] [,4]\n",
      "[1,] -1.2  0.2  0.0    1\n",
      "[2,]  1.0 -3.1  0.1    2\n",
      "[3,]  0.0  4.0 -6.0    2\n",
      "[4,]  0.0  0.0  0.0    0\n"
     ]
    }
   ],
   "source": [
    "%%R\n",
    "\n",
    "ARGRateM <- function(rho){\n",
    "  RateM <-\n",
    "    matrix(\n",
    "        c(-(1+rho),        rho,     0, 1,\n",
    "                 1, -(3+rho/2), rho/2, 2,\n",
    "                 0,          4,    -6, 2, \n",
    "                 0,          0,     0, 0),\n",
    "        nrow=4,ncol=4,byrow=TRUE)\n",
    "}\n",
    "\n",
    "ARGRateMat <- ARGRateM(0.1*2)\n",
    "\n",
    "ARGRateMat"
   ]
  },
  {
   "cell_type": "markdown",
   "metadata": {},
   "source": [
    "Equation (1) and figure 2A can be coded this way:"
   ]
  },
  {
   "cell_type": "code",
   "execution_count": 4,
   "metadata": {},
   "outputs": [
    {
     "name": "stderr",
     "output_type": "stream",
     "text": [
      "R[write to console]: ── Attaching packages ─────────────────────────────────────── tidyverse 1.3.1 ──\n",
      "\n",
      "R[write to console]: ✔ ggplot2 3.3.5     ✔ purrr   0.3.4\n",
      "✔ tibble  3.1.4     ✔ dplyr   1.0.7\n",
      "✔ tidyr   1.1.3     ✔ stringr 1.4.0\n",
      "✔ readr   2.0.1     ✔ forcats 0.5.1\n",
      "\n",
      "R[write to console]: ── Conflicts ────────────────────────────────────────── tidyverse_conflicts() ──\n",
      "✖ dplyr::filter() masks stats::filter()\n",
      "✖ dplyr::lag()    masks stats::lag()\n",
      "\n",
      "R[write to console]: Loading required package: Matrix\n",
      "\n",
      "R[write to console]: \n",
      "Attaching package: ‘Matrix’\n",
      "\n",
      "\n",
      "R[write to console]: The following objects are masked from ‘package:tidyr’:\n",
      "\n",
      "    expand, pack, unpack\n",
      "\n",
      "\n",
      "R[write to console]: \n",
      "Attaching package: ‘expm’\n",
      "\n",
      "\n",
      "R[write to console]: The following object is masked from ‘package:Matrix’:\n",
      "\n",
      "    expm\n",
      "\n",
      "\n",
      "R[write to console]: \n",
      "Attaching package: ‘reshape2’\n",
      "\n",
      "\n",
      "R[write to console]: The following object is masked from ‘package:tidyr’:\n",
      "\n",
      "    smiths\n",
      "\n",
      "\n"
     ]
    }
   ],
   "source": [
    "%%R\n",
    "\n",
    "\n",
    "library(\"tidyverse\")\n",
    "library('expm')\n",
    "library('reshape2')\n",
    "library('patchwork')"
   ]
  },
  {
   "cell_type": "code",
   "execution_count": 5,
   "metadata": {},
   "outputs": [],
   "source": [
    "%%R\n",
    "\n",
    "\n",
    "\n",
    "n <- 1000\n",
    "s <- seq(from=0.001, to=4.0,length=n)\n",
    "\n",
    "# Table with the values\n",
    "tab_dat <- expand.grid(\n",
    "        s_tib = s, \n",
    "        rho_tib = c(0.02, 0.2, 0.5, 2.5)) %>%\n",
    "    # For each row\n",
    "    rowwise() %>%\n",
    "    # Get the probablity by applying eq. (1)\n",
    "    mutate(\n",
    "        den = (exp(s_tib)*expm(ARGRateM(rho_tib)*s_tib)[1,1])) %>%\n",
    "    ungroup() %>%\n",
    "    mutate(\n",
    "        Recombination = as.character(rho_tib)\n",
    "    )\n",
    "    \n",
    "    \n",
    "plt <- tab_dat %>% \n",
    "    ggplot() + \n",
    "    geom_line(aes(s_tib, den, color = Recombination)) +\n",
    "    theme_minimal() +\n",
    "    ylab('Probability of the same tree height') +\n",
    "    xlab('Left tree height (s)')\n",
    "    \n",
    "ggsave('images/plt_P_same_height.png', plt, width = 8, height = 5)\n"
   ]
  },
  {
   "cell_type": "markdown",
   "metadata": {},
   "source": [
    "<img src=\"images/plt_P_same_height.png\" alt=\"Drawing\" style=\"width: 8in;\"/>"
   ]
  },
  {
   "cell_type": "markdown",
   "metadata": {},
   "source": [
    "The following code is for reproducing figure 2B from equation (2):"
   ]
  },
  {
   "cell_type": "code",
   "execution_count": 6,
   "metadata": {},
   "outputs": [],
   "source": [
    "%%R\n",
    "\n",
    "# This function is the variable part\n",
    "# within equation (2), this is, the \n",
    "# numerator\n",
    "ARGTrns <- function(rho, s, t){\n",
    "    ARGRateMat <- ARGRateM(rho)\n",
    "    expm.s <- expm(ARGRateMat*s)\n",
    "    exp(-(t-s))*(expm.s[1,2]+expm.s[1,3])\n",
    "    \n",
    "}\n",
    "\n",
    "# Define the data frame with array of t\n",
    "# and different values of rho and base s\n",
    "n <- 1000\n",
    "t <- seq(from=0.001, to=4.0,length=n)  \n",
    "tab_dat <- expand.grid(\n",
    "        t_tib = t, \n",
    "        rho_tib = c(0.02, 2.5), \n",
    "        s_tib = c(0.5, 2)) %>% \n",
    "    # For each row\n",
    "    rowwise() %>%\n",
    "    mutate(\n",
    "        # Calculate numerator\n",
    "        den = \n",
    "            ifelse(\n",
    "                t_tib > s_tib, \n",
    "                ARGTrns(rho_tib, s_tib, t_tib),\n",
    "                ARGTrns(rho_tib, t_tib, s_tib)),\n",
    "        # Divide by denominator\n",
    "        den = \n",
    "            den/(exp(-s_tib)-expm(ARGRateM(rho_tib)*s_tib)[1,1])) %>%\n",
    "    ungroup() %>%\n",
    "    mutate(\n",
    "        Recombination = as.character(rho_tib),\n",
    "        s = as.character(s_tib)\n",
    "    )\n",
    "    \n",
    "plt <- tab_dat %>% \n",
    "    ggplot() + \n",
    "    geom_line(aes(t_tib, den, color = Recombination, linetype = s)) +\n",
    "    theme_minimal() +\n",
    "    ylab('Density') +\n",
    "    xlab('Right tree height (t)') +\n",
    "    ggtitle('Density of t conditional on being different from s')\n",
    "\n",
    "ggsave('images/plt_density_conditional.png', plt, width = 8, height = 5)"
   ]
  },
  {
   "cell_type": "markdown",
   "metadata": {},
   "source": [
    "<img src=\"images/plt_density_conditional.png\" alt=\"Drawing\" style=\"width: 8in;\"/>"
   ]
  },
  {
   "cell_type": "markdown",
   "metadata": {},
   "source": [
    "## Time discretization: setting up the finite state HMM"
   ]
  },
  {
   "cell_type": "code",
   "execution_count": 7,
   "metadata": {},
   "outputs": [],
   "source": [
    "%%R\n",
    "\n",
    "FastTransMat <- function(tm,rho){\n",
    "  # This produces a rate matrix which has an additional state,\n",
    "  # number 4, which represents states 4, 5, 6 and 7 of the \n",
    "  # 'slow' matrix. Thus, state 5 corresponds to the absorbing\n",
    "  # state, i.e. state 8 in the 'slow' matrix. \n",
    "  rate_mat <- matrix(c(-(1+rho),rho,0,0,1,\n",
    "                              1,-(3+rho/2),rho/2,2,0,             \n",
    "                              0,4,-6,2,0,\n",
    "                              0,0,0,-1,1,\n",
    "                              0,0,0,0,0),\n",
    "                            nrow=5,ncol=5,byrow=TRUE)\n",
    "  nInt <- length(tm) ## Number of intervals\n",
    "  tm0 <- c(0,tm) ## tm0 is tm with time 0 added\n",
    "  ##-------------------------------------\n",
    "  JointMat <- matrix(0,nrow=nInt,ncol=nInt) ## Joint prb matrix\n",
    "  for (j in 1:(nInt-1)){  ## Left state\n",
    "    for (k in j:nInt){  ## Right state\n",
    "      if (j<k){\n",
    "        JointMat[j,k] <-\n",
    "          expm(tm0[j]*rate_mat)[1,1:3]%*%\n",
    "          expm((tm[j]-tm0[j])*rate_mat)[1:3,4]*\n",
    "          exp(-(tm0[k]-tm[j]))*\n",
    "          # which is the same as \n",
    "          # expm((tm0[k]-tm[j])*rate_mat)[4,4]*0.5*\n",
    "            (1-exp(-(tm[k]-tm0[k])))*0.5\n",
    "            # which is the same as \n",
    "            # expm((tm[k]-tm0[k])*rate_mat)[4,5]\n",
    "            # but because expm can't handle infinity, \n",
    "            # we need to do a workaround \n",
    "        # Symmetrize\n",
    "        JointMat[k,j] <- JointMat[j,k]\n",
    "      }\n",
    "      if (j==k){\n",
    "        JointMat[j,k] <-\n",
    "          expm(tm0[j]*rate_mat)[1,1:3]%*%\n",
    "          expm((tm[j]-tm0[j])*rate_mat)[1:3,5]\n",
    "      }\n",
    "    }\n",
    "  }\n",
    "  ## Final entry\n",
    "  JointMat[nInt,nInt] <- sum(expm(tm0[nInt]*rate_mat)[1,1:3])\n",
    "  ## Again: expm can't handle infinity, and state 8 is absorbing\n",
    "  ## Transition matrix \n",
    "  TransMat <- JointMat/rowSums(JointMat)\n",
    "  return(TransMat)\n",
    "}\n"
   ]
  },
  {
   "cell_type": "code",
   "execution_count": 8,
   "metadata": {},
   "outputs": [
    {
     "name": "stdout",
     "output_type": "stream",
     "text": [
      " [1] 0.05129329 0.10536052 0.16251893 0.22314355 0.28768207 0.35667494\n",
      " [7] 0.43078292 0.51082562 0.59783700 0.69314718 0.79850770 0.91629073\n",
      "[13] 1.04982212 1.20397280 1.38629436 1.60943791 1.89711998 2.30258509\n",
      "[19] 2.99573227        Inf\n",
      " [1] 0.9951841 0.9857877 0.9764774 0.9672275 0.9580089 0.9487883 0.9395264\n",
      " [8] 0.9301772 0.9206851 0.9109823 0.9009846 0.8905853 0.8796464 0.8679849\n",
      "[15] 0.8553512 0.8413964 0.8256254 0.8073779 0.7864068 0.7864068\n",
      "[1] 20\n",
      "[1] 20\n"
     ]
    }
   ],
   "source": [
    "%%R\n",
    "\n",
    "nInt <- 20\n",
    "tm <- -log(1-1:(nInt)/nInt)\n",
    "rho <- 0.1*2\n",
    "TransM <- FastTransMat(tm, rho)\n",
    "\n",
    "print(tm)\n",
    "print(diag(TransM))\n",
    "print(length(tm))\n",
    "length(diag(TransM))"
   ]
  },
  {
   "cell_type": "code",
   "execution_count": null,
   "metadata": {},
   "outputs": [],
   "source": []
  },
  {
   "cell_type": "markdown",
   "metadata": {
    "tags": []
   },
   "source": [
    "# Simulation of the ancestral history"
   ]
  },
  {
   "cell_type": "markdown",
   "metadata": {},
   "source": [
    "We can now simulate the ancestral history of 2 haploid samples under the coalescent with recombination using msprime."
   ]
  },
  {
   "cell_type": "code",
   "execution_count": 9,
   "metadata": {},
   "outputs": [],
   "source": [
    "ts = msprime.sim_ancestry(\n",
    "    samples=2,\n",
    "    recombination_rate=0.1,\n",
    "    sequence_length=100_000,\n",
    "    random_seed = 19283,\n",
    "    population_size = 1,\n",
    "    ploidy = 1\n",
    ")\n",
    "# Visualise the simulated ancestral history.\n",
    "# SVG(ts.draw_svg())"
   ]
  },
  {
   "cell_type": "markdown",
   "metadata": {},
   "source": [
    "We can now calculate the number of sites belonging to each tree inferred by msprime, together with the number of transitions between the trees: "
   ]
  },
  {
   "cell_type": "code",
   "execution_count": 10,
   "metadata": {},
   "outputs": [],
   "source": [
    "# Create a matrix with 0 values\n",
    "trans_mat = np.zeros((ts.num_nodes-2, ts.num_nodes-2))\n",
    "first = True\n",
    "# For each tree\n",
    "for tree in ts.trees():\n",
    "    # If not the first iteration\n",
    "    if not first:\n",
    "        # Count transition\n",
    "        trans_mat[n_prev, tree.root-2] += 1\n",
    "    # Update previous iteration counter\n",
    "    n_prev = tree.root-2\n",
    "    first = False\n",
    "    # Add number of sites in that tree to diagonal\n",
    "    trans_mat[tree.root-2, tree.root-2] += tree.span-1"
   ]
  },
  {
   "cell_type": "code",
   "execution_count": 11,
   "metadata": {},
   "outputs": [
    {
     "data": {
      "text/plain": [
       "array([[573.,   0.,   0.,   0.,   0.,   0.,   0.,   0.,   0.],\n",
       "       [  0.,  18.,   0.,   0.,   0.,   0.,   0.,   0.,   0.],\n",
       "       [  0.,   0.,  63.,   0.,   0.,   0.,   0.,   0.,   0.],\n",
       "       [  0.,   0.,   0., 452.,   0.,   0.,   0.,   0.,   0.],\n",
       "       [  0.,   0.,   0.,   0.,  47.,   0.,   0.,   0.,   0.],\n",
       "       [  0.,   0.,   0.,   0.,   0., 336.,   0.,   0.,   0.],\n",
       "       [  0.,   0.,   0.,   0.,   0.,   0., 123.,   0.,   0.],\n",
       "       [  0.,   0.,   0.,   0.,   0.,   0.,   0., 160.,   0.],\n",
       "       [  0.,   0.,   0.,   0.,   0.,   0.,   0.,   0., 204.]])"
      ]
     },
     "execution_count": 11,
     "metadata": {},
     "output_type": "execute_result"
    }
   ],
   "source": [
    "trans_mat[1:10, 1:10]"
   ]
  },
  {
   "cell_type": "markdown",
   "metadata": {},
   "source": [
    "We can also recover the height  each tree in the simulation:"
   ]
  },
  {
   "cell_type": "code",
   "execution_count": 12,
   "metadata": {},
   "outputs": [
    {
     "data": {
      "text/plain": [
       "[0.029413799649010343,\n",
       " 0.031895199309473245,\n",
       " 0.033092924537862244,\n",
       " 0.03309581676433913,\n",
       " 0.033096701084145676,\n",
       " 0.03425193460033188,\n",
       " 0.03627158567740792,\n",
       " 0.037551594991322275,\n",
       " 0.037697582388468084]"
      ]
     },
     "execution_count": 12,
     "metadata": {},
     "output_type": "execute_result"
    }
   ],
   "source": [
    "tree_heights = ts.tables.nodes[2:].asdict()['time'].tolist()\n",
    "tree_heights[1:10]"
   ]
  },
  {
   "cell_type": "markdown",
   "metadata": {},
   "source": [
    "We now have all the ingredients to simplify the simulated transition matrix based on the cutpoints defined by the discretized times:"
   ]
  },
  {
   "cell_type": "code",
   "execution_count": 13,
   "metadata": {},
   "outputs": [
    {
     "name": "stdout",
     "output_type": "stream",
     "text": [
      "      [,1] [,2] [,3] [,4] [,5] [,6] [,7] [,8] [,9] [,10]\n",
      " [1,] 3246    1    2    0    0    1    1    1    1     1\n",
      " [2,]    3 4993    3    2    4    2    6    7    5     5\n",
      " [3,]    0    5 4472    2    9    3    5    7    6     4\n",
      " [4,]    0    2    1 5036   11    6   10   11    6     9\n",
      " [5,]    2    2   12   14 5093    9    8   11   14    12\n",
      " [6,]    1    4    6    9    5 4772   14   18   24     7\n",
      " [7,]    1    2    6   11   14   16 4996   15   22    26\n",
      " [8,]    0    6    7    7   12   13   23 4465   25    20\n",
      " [9,]    0    7    4   11   12   13   20   26 4651    29\n",
      "[10,]    1    2    4    3   14   18   18   17   25  4243\n"
     ]
    }
   ],
   "source": [
    "%%R -i trans_mat -i tree_heights\n",
    "\n",
    "# Import the tre heights as vector\n",
    "tree_heights <- unlist(tree_heights)\n",
    "\n",
    "# Create vector for assigning each simulated tree to an interval\n",
    "cut_vec <- cut(tree_heights, breaks = c(0,tm), labels = FALSE, right = FALSE)\n",
    "\n",
    "# Create empty matrix with the right dimensions\n",
    "discrete_mat <- matrix(0, length(tm), length(tm))\n",
    "\n",
    "# For each interval\n",
    "for (i in 1:length(tm)) {\n",
    "    # Save indices of trees belonging to interval i\n",
    "    vec_idx_i <- which(cut_vec == i)\n",
    "        # For each interval\n",
    "        for (j in 1:length(tm)) {\n",
    "            # Save indices of trees belonging to interval j\n",
    "            vec_idx_j <- which(cut_vec == j)\n",
    "            # If both indices are non-empty\n",
    "            if ((length(vec_idx_i) != 0) & (length(vec_idx_j) != 0)) {\n",
    "                # Save sum of the sub-matrix\n",
    "                discrete_mat[i, j] <- \n",
    "                    sum(trans_mat[vec_idx_i, vec_idx_j])   \n",
    "        }\n",
    "    }\n",
    "}\n",
    "\n",
    "\n",
    "print(discrete_mat[1:10, 1:10])"
   ]
  },
  {
   "cell_type": "markdown",
   "metadata": {},
   "source": [
    "In order to get the probabilities, we can divide by the total number per row. In theory, this should be the same as dividing it by the total number per column, but in the simulations there might be some differences due to the matrix not being completely symmetric. Just in case, we can compute the column sums after re-scaling by the row sums to check whether they are roughly the same:"
   ]
  },
  {
   "cell_type": "code",
   "execution_count": 14,
   "metadata": {},
   "outputs": [
    {
     "name": "stdout",
     "output_type": "stream",
     "text": [
      " [1] 1 1 1 1 1 1 1 1 1 1 1 1 1 1 1 1 1 1 1 1\n",
      " [1] 0.9978885 1.0003032 0.9976891 1.0003833 1.0016097 0.9992185 1.0025217\n",
      " [8] 0.9958251 0.9996184 0.9919288 0.9937481 0.9962931 0.9963169 1.0083009\n",
      "[15] 1.0044390 0.9997408 1.0151265 1.0088324 0.9860669 1.0041491\n"
     ]
    }
   ],
   "source": [
    "%%R\n",
    "\n",
    "# Divide by the row sums\n",
    "discrete_mat <- discrete_mat/rowSums(discrete_mat)\n",
    "\n",
    "# Check that  rowSums and colSums are roughly equal\n",
    "print(rowSums(discrete_mat))\n",
    "print(colSums(discrete_mat))"
   ]
  },
  {
   "cell_type": "markdown",
   "metadata": {},
   "source": [
    "We can start comparing the theoretical and the simulated matrices. First, we can compare the diagonal values. "
   ]
  },
  {
   "cell_type": "code",
   "execution_count": 15,
   "metadata": {},
   "outputs": [
    {
     "name": "stderr",
     "output_type": "stream",
     "text": [
      "R[write to console]: `geom_smooth()` using method = 'loess' and formula 'y ~ x'\n",
      "\n"
     ]
    }
   ],
   "source": [
    "%%R\n",
    "\n",
    "plt <- ggplot() +\n",
    "    geom_point(aes(tm, diag(discrete_mat), color = 'Empirical')) +\n",
    "    geom_smooth(aes(tm, diag(discrete_mat), color = 'Empirical')) +\n",
    "    geom_point(aes(tm, diag(TransM), color = 'Theoretical')) +\n",
    "    geom_step(aes(tm, diag(TransM), color = 'Theoretical'), direction=\"vh\") +\n",
    "    theme_bw() +\n",
    "    theme(legend.position = 'bottom') +\n",
    "    ylab(paste0('P(L = l, R = l)')) +\n",
    "    xlab(paste0('Left tree height (l)'))\n",
    "    \n",
    "ggsave('images/plt_P_diagonal.png', plt, width = 6, height = 5)"
   ]
  },
  {
   "cell_type": "markdown",
   "metadata": {},
   "source": [
    "<img src=\"images/plt_P_diagonal.png\" alt=\"Drawing\" style=\"width: 6in;\"/>"
   ]
  },
  {
   "cell_type": "markdown",
   "metadata": {},
   "source": [
    "Note that the x values for the points are the upper boundaries in tree height of each of the intervals. "
   ]
  },
  {
   "cell_type": "markdown",
   "metadata": {},
   "source": [
    "We can also compute the probability given a certain interval. For example, we can plot the probabilities for when the left tree height is in the interval number 10:"
   ]
  },
  {
   "cell_type": "code",
   "execution_count": 16,
   "metadata": {},
   "outputs": [
    {
     "name": "stderr",
     "output_type": "stream",
     "text": [
      "R[write to console]: `geom_smooth()` using method = 'loess' and formula 'y ~ x'\n",
      "\n"
     ]
    }
   ],
   "source": [
    "%%R\n",
    "\n",
    "interval <- 10\n",
    "\n",
    "plt <- ggplot() +\n",
    "    geom_point(aes(tm[-interval], discrete_mat[interval,][-interval], color = 'Empirical')) +\n",
    "    geom_smooth(aes(tm[-interval], discrete_mat[interval,][-interval], color = 'Empirical')) +\n",
    "    geom_step(aes(tm[-interval], TransM[interval,][-interval], color = 'Theoretical'), direction=\"vh\") +\n",
    "    geom_point(aes(c(0, tm[-interval]), c(0, TransM[interval,][-interval]), color = 'Theoretical')) +\n",
    "    theme_bw() +\n",
    "    theme(legend.position = 'bottom') +\n",
    "    ylab(paste0('P(L = l, R = r | d_l = ', interval, ')')) +\n",
    "    xlab(paste0('Left tree height (l)'))\n",
    "    \n",
    "ggsave('images/plt_P_given_10.png', plt, width = 6, height = 5)"
   ]
  },
  {
   "cell_type": "markdown",
   "metadata": {},
   "source": [
    "<img src=\"images/plt_P_given_10.png\" alt=\"Drawing\" style=\"width: 6in;\"/>"
   ]
  },
  {
   "cell_type": "markdown",
   "metadata": {},
   "source": [
    "Note that the x values for the points are the upper boundaries in tree height of each of the intervals. Also, the y value corresponding to the analyzed interval is also removed for simplicity. "
   ]
  },
  {
   "cell_type": "markdown",
   "metadata": {},
   "source": [
    "We can also compare the matrices as a whole by plotting them side by side. The color scale is log-transformed to be able to see the values off the diagonal. Also, those values in the simulated matrix with a probability of 0 (because they were not found) are defaulted to the lowest color in the scale:"
   ]
  },
  {
   "cell_type": "code",
   "execution_count": 31,
   "metadata": {},
   "outputs": [],
   "source": [
    "%%R\n",
    "\n",
    "plt <- melt(discrete_mat) %>% \n",
    "    mutate(type = 'Simulation') %>%\n",
    "    bind_rows(\n",
    "        mutate(\n",
    "            melt(TransM),\n",
    "            type = 'Theoretical'\n",
    "        )\n",
    "    ) %>%\n",
    "    ggplot() +\n",
    "    geom_tile(aes(Var2, Var1, fill = value)) +\n",
    "    scale_y_reverse(breaks = 1:20, expand = c(0, 0)) +\n",
    "    scale_x_continuous(breaks = 1:20, expand = c(0, 0)) +\n",
    "    facet_wrap(~type) +\n",
    "    theme_bw() +\n",
    "    scale_fill_viridis_c(\n",
    "        trans = 'log', \n",
    "        na.value = hcl.colors(1)\n",
    "    )\n",
    "\n",
    "ggsave('images/plt_matrix_heatmap.png', plt, width = 10, height = 5)\n"
   ]
  },
  {
   "cell_type": "markdown",
   "metadata": {},
   "source": [
    "<img src=\"images/plt_matrix_heatmap.png\" alt=\"Drawing\" style=\"width: 10in;\"/>"
   ]
  },
  {
   "cell_type": "code",
   "execution_count": null,
   "metadata": {},
   "outputs": [],
   "source": []
  },
  {
   "cell_type": "code",
   "execution_count": null,
   "metadata": {},
   "outputs": [],
   "source": []
  },
  {
   "cell_type": "code",
   "execution_count": null,
   "metadata": {},
   "outputs": [],
   "source": []
  },
  {
   "cell_type": "code",
   "execution_count": null,
   "metadata": {},
   "outputs": [],
   "source": []
  },
  {
   "cell_type": "code",
   "execution_count": null,
   "metadata": {},
   "outputs": [],
   "source": []
  },
  {
   "cell_type": "code",
   "execution_count": null,
   "metadata": {},
   "outputs": [],
   "source": []
  },
  {
   "cell_type": "code",
   "execution_count": null,
   "metadata": {},
   "outputs": [],
   "source": []
  },
  {
   "cell_type": "code",
   "execution_count": null,
   "metadata": {},
   "outputs": [],
   "source": []
  },
  {
   "cell_type": "markdown",
   "metadata": {
    "tags": []
   },
   "source": [
    "# Mutations"
   ]
  },
  {
   "cell_type": "code",
   "execution_count": 116,
   "metadata": {},
   "outputs": [
    {
     "data": {
      "image/svg+xml": [
       "<svg xmlns=\"http://www.w3.org/2000/svg\" xmlns:ev=\"http://www.w3.org/2001/xml-events\" xmlns:xlink=\"http://www.w3.org/1999/xlink\" baseProfile=\"full\" height=\"200\" version=\"1.1\" width=\"1600\"><defs><style type=\"text/css\"><![CDATA[.background path {fill: #808080; fill-opacity: 0}.background path:nth-child(odd) {fill-opacity: .1}.axes {font-size: 14px}.x-axis .tick .lab {font-weight: bold; dominant-baseline: hanging}.axes, .tree {font-size: 14px; text-anchor: middle}.axes line, .edge {stroke: black; fill: none}.y-axis .grid {stroke: #FAFAFA}.node > .sym {fill: black; stroke: none}.site > .sym {stroke: black}.mut text {fill: red; font-style: italic}.mut.extra text {fill: hotpink}.mut line {fill: none; stroke: none}.mut .sym {fill: none; stroke: red}.mut.extra .sym {stroke: hotpink}.node .mut .sym {stroke-width: 1.5px}.tree text, .tree-sequence text {dominant-baseline: central}.plotbox .lab.lft {text-anchor: end}.plotbox .lab.rgt {text-anchor: start}]]></style></defs><g class=\"tree-sequence\"><g class=\"background\"><path d=\"M20,0 l195,0 l0,138.2 l-192.504,25 l0,5 l-2.496,0 l0,-5 l0,-25 l0,-138.2z\"/><path d=\"M215,0 l195,0 l0,138.2 l-204.36,25 l0,5 l-183.144,0 l0,-5 l192.504,-25 l0,-138.2z\"/><path d=\"M410,0 l195,0 l0,138.2 l433.056,25 l0,5 l-832.416,0 l0,-5 l204.36,-25 l0,-138.2z\"/><path d=\"M605,0 l195,0 l0,138.2 l613.704,25 l0,5 l-375.648,0 l0,-5 l-433.056,-25 l0,-138.2z\"/><path d=\"M800,0 l195,0 l0,138.2 l473.304,25 l0,5 l-54.6,0 l0,-5 l-613.704,-25 l0,-138.2z\"/><path d=\"M995,0 l195,0 l0,138.2 l324.48,25 l0,5 l-46.176,0 l0,-5 l-473.304,-25 l0,-138.2z\"/><path d=\"M1190,0 l195,0 l0,138.2 l175.032,25 l0,5 l-45.552,0 l0,-5 l-324.48,-25 l0,-138.2z\"/><path d=\"M1385,0 l195,0 l0,138.2 l0,25 l0,5 l-19.968,0 l0,-5 l-175.032,-25 l0,-138.2z\"/></g><g class=\"axes\"><g class=\"x-axis\"><g transform=\"translate(800,200)\"><text class=\"lab\" text-anchor=\"middle\" transform=\"translate(0 -11)\">Genome position</text></g><line x1=\"20\" x2=\"1580\" y1=\"163.2\" y2=\"163.2\"/><g class=\"ticks\"><g class=\"tick\" transform=\"translate(20 163.2)\"><line x1=\"0\" x2=\"0\" y1=\"0\" y2=\"5\"/><g transform=\"translate(0,6)\"><text class=\"lab\">0</text></g></g><g class=\"tick\" transform=\"translate(22.496 163.2)\"><line x1=\"0\" x2=\"0\" y1=\"0\" y2=\"5\"/><g transform=\"translate(0,6)\"><text class=\"lab\">8</text></g></g><g class=\"tick\" transform=\"translate(205.64 163.2)\"><line x1=\"0\" x2=\"0\" y1=\"0\" y2=\"5\"/><g transform=\"translate(0,6)\"><text class=\"lab\">595</text></g></g><g class=\"tick\" transform=\"translate(1038.06 163.2)\"><line x1=\"0\" x2=\"0\" y1=\"0\" y2=\"5\"/><g transform=\"translate(0,6)\"><text class=\"lab\">3263</text></g></g><g class=\"tick\" transform=\"translate(1413.7 163.2)\"><line x1=\"0\" x2=\"0\" y1=\"0\" y2=\"5\"/><g transform=\"translate(0,6)\"><text class=\"lab\">4467</text></g></g><g class=\"tick\" transform=\"translate(1468.3 163.2)\"><line x1=\"0\" x2=\"0\" y1=\"0\" y2=\"5\"/><g transform=\"translate(0,6)\"><text class=\"lab\">4642</text></g></g><g class=\"tick\" transform=\"translate(1514.48 163.2)\"><line x1=\"0\" x2=\"0\" y1=\"0\" y2=\"5\"/><g transform=\"translate(0,6)\"><text class=\"lab\">4790</text></g></g><g class=\"tick\" transform=\"translate(1560.03 163.2)\"><line x1=\"0\" x2=\"0\" y1=\"0\" y2=\"5\"/><g transform=\"translate(0,6)\"><text class=\"lab\">4936</text></g></g><g class=\"tick\" transform=\"translate(1580 163.2)\"><line x1=\"0\" x2=\"0\" y1=\"0\" y2=\"5\"/><g transform=\"translate(0,6)\"><text class=\"lab\">5000</text></g></g></g><g class=\"site s0\" transform=\"translate(65.864 163.2)\"><line class=\"sym\" x1=\"0\" x2=\"0\" y1=\"0\" y2=\"-10\"/><g class=\"mut m0\"><polyline class=\"sym\" points=\"2.5,-6.5 0,-1.5 -2.5,-6.5\"/></g></g><g class=\"site s1\" transform=\"translate(114.536 163.2)\"><line class=\"sym\" x1=\"0\" x2=\"0\" y1=\"0\" y2=\"-10\"/><g class=\"mut m1\"><polyline class=\"sym\" points=\"2.5,-6.5 0,-1.5 -2.5,-6.5\"/></g></g><g class=\"site s2\" transform=\"translate(124.52 163.2)\"><line class=\"sym\" x1=\"0\" x2=\"0\" y1=\"0\" y2=\"-10\"/><g class=\"mut m2\"><polyline class=\"sym\" points=\"2.5,-6.5 0,-1.5 -2.5,-6.5\"/></g></g><g class=\"site s3\" transform=\"translate(175.688 163.2)\"><line class=\"sym\" x1=\"0\" x2=\"0\" y1=\"0\" y2=\"-10\"/><g class=\"mut m3\"><polyline class=\"sym\" points=\"2.5,-6.5 0,-1.5 -2.5,-6.5\"/></g></g><g class=\"site s4\" transform=\"translate(201.896 163.2)\"><line class=\"sym\" x1=\"0\" x2=\"0\" y1=\"0\" y2=\"-10\"/><g class=\"mut m4\"><polyline class=\"sym\" points=\"2.5,-6.5 0,-1.5 -2.5,-6.5\"/></g></g><g class=\"site s5\" transform=\"translate(489.248 163.2)\"><line class=\"sym\" x1=\"0\" x2=\"0\" y1=\"0\" y2=\"-10\"/><g class=\"mut m5\"><polyline class=\"sym\" points=\"2.5,-6.5 0,-1.5 -2.5,-6.5\"/></g></g><g class=\"site s6\" transform=\"translate(1059.58 163.2)\"><line class=\"sym\" x1=\"0\" x2=\"0\" y1=\"0\" y2=\"-10\"/><g class=\"mut m6\"><polyline class=\"sym\" points=\"2.5,-6.5 0,-1.5 -2.5,-6.5\"/></g></g><g class=\"site s7\" transform=\"translate(1081.74 163.2)\"><line class=\"sym\" x1=\"0\" x2=\"0\" y1=\"0\" y2=\"-10\"/><g class=\"mut m7\"><polyline class=\"sym\" points=\"2.5,-6.5 0,-1.5 -2.5,-6.5\"/></g></g><g class=\"site s8\" transform=\"translate(1086.42 163.2)\"><line class=\"sym\" x1=\"0\" x2=\"0\" y1=\"0\" y2=\"-10\"/><g class=\"mut m8\"><polyline class=\"sym\" points=\"2.5,-6.5 0,-1.5 -2.5,-6.5\"/></g></g><g class=\"site s9\" transform=\"translate(1168.47 163.2)\"><line class=\"sym\" x1=\"0\" x2=\"0\" y1=\"0\" y2=\"-10\"/><g class=\"mut m9\"><polyline class=\"sym\" points=\"2.5,-6.5 0,-1.5 -2.5,-6.5\"/></g></g><g class=\"site s10\" transform=\"translate(1467.99 163.2)\"><line class=\"sym\" x1=\"0\" x2=\"0\" y1=\"0\" y2=\"-10\"/><g class=\"mut m10\"><polyline class=\"sym\" points=\"2.5,-6.5 0,-1.5 -2.5,-6.5\"/></g></g><g class=\"site s11\" transform=\"translate(1468.3 163.2)\"><line class=\"sym\" x1=\"0\" x2=\"0\" y1=\"0\" y2=\"-10\"/><g class=\"mut m11\"><polyline class=\"sym\" points=\"2.5,-6.5 0,-1.5 -2.5,-6.5\"/></g></g></g></g><g class=\"plotbox trees\"><g class=\"tree t0\" transform=\"translate(20 0)\"><g class=\"plotbox\"><g class=\"c2 node n7 p0 root\" transform=\"translate(97.5 46.6952)\"><g class=\"a7 i0 leaf node n0 p0 sample\" transform=\"translate(-38.75 74.7048)\"><path class=\"edge\" d=\"M 0 0 V -74.7048 H 38.75\"/><rect class=\"sym\" height=\"6\" width=\"6\" x=\"-3\" y=\"-3\"/><text class=\"lab\" transform=\"translate(0 11)\">0</text></g><g class=\"a7 i0 leaf node n1 p0 sample\" transform=\"translate(38.75 74.7048)\"><path class=\"edge\" d=\"M 0 0 V -74.7048 H -38.75\"/><rect class=\"sym\" height=\"6\" width=\"6\" x=\"-3\" y=\"-3\"/><text class=\"lab\" transform=\"translate(0 11)\">1</text></g><circle class=\"sym\" cx=\"0\" cy=\"0\" r=\"3\"/><text class=\"lab\" transform=\"translate(0 -11)\">7</text></g></g></g><g class=\"tree t1\" transform=\"translate(215 0)\"><g class=\"plotbox\"><g class=\"c2 node n8 p0 root\" transform=\"translate(97.5 26.8)\"><g class=\"a8 i0 leaf m3 m4 node n0 p0 s3 s4 sample\" transform=\"translate(-38.75 94.6)\"><path class=\"edge\" d=\"M 0 0 V -94.6 H 38.75\"/><g class=\"mut m4 s4\" transform=\"translate(0 -92.2524)\"><line x1=\"0\" x2=\"0\" y1=\"0\" y2=\"92.2524\"/><path class=\"sym\" d=\"M -3,-3 l 6,6 M -3,3 l 6,-6\"/><text class=\"lab lft\" transform=\"translate(-5 0)\">4</text></g><g class=\"mut m3 s3\" transform=\"translate(0 -57.2707)\"><line x1=\"0\" x2=\"0\" y1=\"0\" y2=\"57.2707\"/><path class=\"sym\" d=\"M -3,-3 l 6,6 M -3,3 l 6,-6\"/><text class=\"lab lft\" transform=\"translate(-5 0)\">3</text></g><rect class=\"sym\" height=\"6\" width=\"6\" x=\"-3\" y=\"-3\"/><text class=\"lab\" transform=\"translate(0 11)\">0</text></g><g class=\"a8 i0 leaf m0 m1 m2 node n1 p0 s0 s1 s2 sample\" transform=\"translate(38.75 94.6)\"><path class=\"edge\" d=\"M 0 0 V -94.6 H -38.75\"/><g class=\"mut m0 s0\" transform=\"translate(0 -90.3933)\"><line x1=\"0\" x2=\"0\" y1=\"0\" y2=\"90.3933\"/><path class=\"sym\" d=\"M -3,-3 l 6,6 M -3,3 l 6,-6\"/><text class=\"lab rgt\" transform=\"translate(5 0)\">0</text></g><g class=\"mut m2 s2\" transform=\"translate(0 -86.5512)\"><line x1=\"0\" x2=\"0\" y1=\"0\" y2=\"86.5512\"/><path class=\"sym\" d=\"M -3,-3 l 6,6 M -3,3 l 6,-6\"/><text class=\"lab rgt\" transform=\"translate(5 0)\">2</text></g><g class=\"mut m1 s1\" transform=\"translate(0 -81.0373)\"><line x1=\"0\" x2=\"0\" y1=\"0\" y2=\"81.0373\"/><path class=\"sym\" d=\"M -3,-3 l 6,6 M -3,3 l 6,-6\"/><text class=\"lab rgt\" transform=\"translate(5 0)\">1</text></g><rect class=\"sym\" height=\"6\" width=\"6\" x=\"-3\" y=\"-3\"/><text class=\"lab\" transform=\"translate(0 11)\">1</text></g><circle class=\"sym\" cx=\"0\" cy=\"0\" r=\"3\"/><text class=\"lab\" transform=\"translate(0 -11)\">8</text></g></g></g><g class=\"tree t2\" transform=\"translate(410 0)\"><g class=\"plotbox\"><g class=\"c2 node n2 p0 root\" transform=\"translate(97.5 117.133)\"><g class=\"a2 i0 leaf m5 node n0 p0 s5 sample\" transform=\"translate(-38.75 4.26749)\"><path class=\"edge\" d=\"M 0 0 V -4.26749 H 38.75\"/><g class=\"mut m5 s5\" transform=\"translate(0 -3.30277)\"><line x1=\"0\" x2=\"0\" y1=\"0\" y2=\"3.30277\"/><path class=\"sym\" d=\"M -3,-3 l 6,6 M -3,3 l 6,-6\"/><text class=\"lab lft\" transform=\"translate(-5 0)\">5</text></g><rect class=\"sym\" height=\"6\" width=\"6\" x=\"-3\" y=\"-3\"/><text class=\"lab\" transform=\"translate(0 11)\">0</text></g><g class=\"a2 i0 leaf node n1 p0 sample\" transform=\"translate(38.75 4.26749)\"><path class=\"edge\" d=\"M 0 0 V -4.26749 H -38.75\"/><rect class=\"sym\" height=\"6\" width=\"6\" x=\"-3\" y=\"-3\"/><text class=\"lab\" transform=\"translate(0 11)\">1</text></g><circle class=\"sym\" cx=\"0\" cy=\"0\" r=\"3\"/><text class=\"lab\" transform=\"translate(0 -11)\">2</text></g></g></g><g class=\"tree t3\" transform=\"translate(605 0)\"><g class=\"plotbox\"><g class=\"c2 node n3 p0 root\" transform=\"translate(97.5 103.383)\"><g class=\"a3 i0 leaf m8 node n0 p0 s8 sample\" transform=\"translate(-38.75 18.0166)\"><path class=\"edge\" d=\"M 0 0 V -18.0166 H 38.75\"/><g class=\"mut m8 s8\" transform=\"translate(0 -7.91229)\"><line x1=\"0\" x2=\"0\" y1=\"0\" y2=\"7.91229\"/><path class=\"sym\" d=\"M -3,-3 l 6,6 M -3,3 l 6,-6\"/><text class=\"lab lft\" transform=\"translate(-5 0)\">8</text></g><rect class=\"sym\" height=\"6\" width=\"6\" x=\"-3\" y=\"-3\"/><text class=\"lab\" transform=\"translate(0 11)\">0</text></g><g class=\"a3 i0 leaf m6 m7 m9 node n1 p0 s6 s7 s9 sample\" transform=\"translate(38.75 18.0166)\"><path class=\"edge\" d=\"M 0 0 V -18.0166 H -38.75\"/><g class=\"mut m9 s9\" transform=\"translate(0 -14.9365)\"><line x1=\"0\" x2=\"0\" y1=\"0\" y2=\"14.9365\"/><path class=\"sym\" d=\"M -3,-3 l 6,6 M -3,3 l 6,-6\"/><text class=\"lab rgt\" transform=\"translate(5 0)\">9</text></g><g class=\"mut m7 s7\" transform=\"translate(0 -13.0352)\"><line x1=\"0\" x2=\"0\" y1=\"0\" y2=\"13.0352\"/><path class=\"sym\" d=\"M -3,-3 l 6,6 M -3,3 l 6,-6\"/><text class=\"lab rgt\" transform=\"translate(5 0)\">7</text></g><g class=\"mut m6 s6\" transform=\"translate(0 -9.61047)\"><line x1=\"0\" x2=\"0\" y1=\"0\" y2=\"9.61047\"/><path class=\"sym\" d=\"M -3,-3 l 6,6 M -3,3 l 6,-6\"/><text class=\"lab rgt\" transform=\"translate(5 0)\">6</text></g><rect class=\"sym\" height=\"6\" width=\"6\" x=\"-3\" y=\"-3\"/><text class=\"lab\" transform=\"translate(0 11)\">1</text></g><circle class=\"sym\" cx=\"0\" cy=\"0\" r=\"3\"/><text class=\"lab\" transform=\"translate(0 -11)\">3</text></g></g></g><g class=\"tree t4\" transform=\"translate(800 0)\"><g class=\"plotbox\"><g class=\"c2 node n5 p0 root\" transform=\"translate(97.5 84.6325)\"><g class=\"a5 i0 leaf m10 node n0 p0 s10 sample\" transform=\"translate(-38.75 36.7675)\"><path class=\"edge\" d=\"M 0 0 V -36.7675 H 38.75\"/><g class=\"mut m10 s10\" transform=\"translate(0 -3.30868)\"><line x1=\"0\" x2=\"0\" y1=\"0\" y2=\"3.30868\"/><path class=\"sym\" d=\"M -3,-3 l 6,6 M -3,3 l 6,-6\"/><text class=\"lab lft\" transform=\"translate(-5 0)\">10</text></g><rect class=\"sym\" height=\"6\" width=\"6\" x=\"-3\" y=\"-3\"/><text class=\"lab\" transform=\"translate(0 11)\">0</text></g><g class=\"a5 i0 leaf node n1 p0 sample\" transform=\"translate(38.75 36.7675)\"><path class=\"edge\" d=\"M 0 0 V -36.7675 H -38.75\"/><rect class=\"sym\" height=\"6\" width=\"6\" x=\"-3\" y=\"-3\"/><text class=\"lab\" transform=\"translate(0 11)\">1</text></g><circle class=\"sym\" cx=\"0\" cy=\"0\" r=\"3\"/><text class=\"lab\" transform=\"translate(0 -11)\">5</text></g></g></g><g class=\"tree t5\" transform=\"translate(995 0)\"><g class=\"plotbox\"><g class=\"c2 node n6 p0 root\" transform=\"translate(97.5 83.6299)\"><g class=\"a6 i0 leaf node n0 p0 sample\" transform=\"translate(-38.75 37.7701)\"><path class=\"edge\" d=\"M 0 0 V -37.7701 H 38.75\"/><rect class=\"sym\" height=\"6\" width=\"6\" x=\"-3\" y=\"-3\"/><text class=\"lab\" transform=\"translate(0 11)\">0</text></g><g class=\"a6 i0 leaf m11 node n1 p0 s11 sample\" transform=\"translate(38.75 37.7701)\"><path class=\"edge\" d=\"M 0 0 V -37.7701 H -38.75\"/><g class=\"mut m11 s11\" transform=\"translate(0 -28.2386)\"><line x1=\"0\" x2=\"0\" y1=\"0\" y2=\"28.2386\"/><path class=\"sym\" d=\"M -3,-3 l 6,6 M -3,3 l 6,-6\"/><text class=\"lab rgt\" transform=\"translate(5 0)\">11</text></g><rect class=\"sym\" height=\"6\" width=\"6\" x=\"-3\" y=\"-3\"/><text class=\"lab\" transform=\"translate(0 11)\">1</text></g><circle class=\"sym\" cx=\"0\" cy=\"0\" r=\"3\"/><text class=\"lab\" transform=\"translate(0 -11)\">6</text></g></g></g><g class=\"tree t6\" transform=\"translate(1190 0)\"><g class=\"plotbox\"><g class=\"c2 node n4 p0 root\" transform=\"translate(97.5 91.8576)\"><g class=\"a4 i0 leaf node n0 p0 sample\" transform=\"translate(-38.75 29.5424)\"><path class=\"edge\" d=\"M 0 0 V -29.5424 H 38.75\"/><rect class=\"sym\" height=\"6\" width=\"6\" x=\"-3\" y=\"-3\"/><text class=\"lab\" transform=\"translate(0 11)\">0</text></g><g class=\"a4 i0 leaf node n1 p0 sample\" transform=\"translate(38.75 29.5424)\"><path class=\"edge\" d=\"M 0 0 V -29.5424 H -38.75\"/><rect class=\"sym\" height=\"6\" width=\"6\" x=\"-3\" y=\"-3\"/><text class=\"lab\" transform=\"translate(0 11)\">1</text></g><circle class=\"sym\" cx=\"0\" cy=\"0\" r=\"3\"/><text class=\"lab\" transform=\"translate(0 -11)\">4</text></g></g></g><g class=\"tree t7\" transform=\"translate(1385 0)\"><g class=\"plotbox\"><g class=\"c2 node n6 p0 root\" transform=\"translate(97.5 83.6299)\"><g class=\"a6 i0 leaf node n0 p0 sample\" transform=\"translate(-38.75 37.7701)\"><path class=\"edge\" d=\"M 0 0 V -37.7701 H 38.75\"/><rect class=\"sym\" height=\"6\" width=\"6\" x=\"-3\" y=\"-3\"/><text class=\"lab\" transform=\"translate(0 11)\">0</text></g><g class=\"a6 i0 leaf node n1 p0 sample\" transform=\"translate(38.75 37.7701)\"><path class=\"edge\" d=\"M 0 0 V -37.7701 H -38.75\"/><rect class=\"sym\" height=\"6\" width=\"6\" x=\"-3\" y=\"-3\"/><text class=\"lab\" transform=\"translate(0 11)\">1</text></g><circle class=\"sym\" cx=\"0\" cy=\"0\" r=\"3\"/><text class=\"lab\" transform=\"translate(0 -11)\">6</text></g></g></g></g></g></svg>"
      ],
      "text/plain": [
       "<IPython.core.display.SVG object>"
      ]
     },
     "execution_count": 116,
     "metadata": {},
     "output_type": "execute_result"
    }
   ],
   "source": [
    "mutated_ts = msprime.sim_mutations(ts, rate=1e-8, random_seed=54300)\n",
    "SVG(mutated_ts.draw_svg())"
   ]
  },
  {
   "cell_type": "code",
   "execution_count": 65,
   "metadata": {},
   "outputs": [
    {
     "data": {
      "text/html": [
       "\n",
       "            <div>\n",
       "                <style scoped=\"\">\n",
       "                    .tskit-table tbody tr th:only-of-type {vertical-align: middle;}\n",
       "                    .tskit-table tbody tr th {vertical-align: top;}\n",
       "                    .tskit-table tbody td {text-align: right;padding: 0.5em 0.5em;}\n",
       "                    .tskit-table tbody th {padding: 0.5em 0.5em;}\n",
       "                </style>\n",
       "                <table border=\"1\" class=\"tskit-table\">\n",
       "                    <thead>\n",
       "                        <tr>\n",
       "                            <th>id</th><th>position</th><th>ancestral_state</th><th>metadata</th>\n",
       "                        </tr>\n",
       "                    </thead>\n",
       "                    <tbody>\n",
       "                        <tr><td>0</td><td>131.00000000</td><td>T</td><td>b''</td></tr>\n",
       "<tr><td>1</td><td>133.00000000</td><td>C</td><td>b''</td></tr>\n",
       "<tr><td>2</td><td>199.00000000</td><td>T</td><td>b''</td></tr>\n",
       "<tr><td>3</td><td>264.00000000</td><td>A</td><td>b''</td></tr>\n",
       "<tr><td>4</td><td>382.00000000</td><td>C</td><td>b''</td></tr>\n",
       "<tr><td>5</td><td>562.00000000</td><td>T</td><td>b''</td></tr>\n",
       "<tr><td>6</td><td>586.00000000</td><td>A</td><td>b''</td></tr>\n",
       "<tr><td>7</td><td>592.00000000</td><td>C</td><td>b''</td></tr>\n",
       "<tr><td>8</td><td>1741.00000000</td><td>A</td><td>b''</td></tr>\n",
       "<tr><td>9</td><td>2259.00000000</td><td>C</td><td>b''</td></tr>\n",
       "<tr><td>10</td><td>3760.00000000</td><td>A</td><td>b''</td></tr>\n",
       "\n",
       "                    </tbody>\n",
       "                </table>\n",
       "            </div>\n",
       "        "
      ],
      "text/plain": [
       "<tskit.tables.SiteTable at 0x2b656b8fd310>"
      ]
     },
     "execution_count": 65,
     "metadata": {},
     "output_type": "execute_result"
    }
   ],
   "source": [
    "mutated_ts.tables.sites"
   ]
  },
  {
   "cell_type": "code",
   "execution_count": 66,
   "metadata": {},
   "outputs": [
    {
     "data": {
      "text/html": [
       "\n",
       "            <div>\n",
       "                <style scoped=\"\">\n",
       "                    .tskit-table tbody tr th:only-of-type {vertical-align: middle;}\n",
       "                    .tskit-table tbody tr th {vertical-align: top;}\n",
       "                    .tskit-table tbody td {text-align: right;padding: 0.5em 0.5em;}\n",
       "                    .tskit-table tbody th {padding: 0.5em 0.5em;}\n",
       "                </style>\n",
       "                <table border=\"1\" class=\"tskit-table\">\n",
       "                    <thead>\n",
       "                        <tr>\n",
       "                            <th>id</th><th>site</th><th>node</th><th>time</th><th>derived_state</th><th>parent</th><th>metadata</th>\n",
       "                        </tr>\n",
       "                    </thead>\n",
       "                    <tbody>\n",
       "                        <tr><td>0</td><td>0</td><td>1</td><td>265107.50463664</td><td>A</td><td>-1</td><td>b''</td></tr>\n",
       "<tr><td>1</td><td>1</td><td>1</td><td>296295.37901648</td><td>T</td><td>-1</td><td>b''</td></tr>\n",
       "<tr><td>2</td><td>2</td><td>1</td><td>74972.25545749</td><td>C</td><td>-1</td><td>b''</td></tr>\n",
       "<tr><td>3</td><td>3</td><td>1</td><td>329837.96865893</td><td>T</td><td>-1</td><td>b''</td></tr>\n",
       "<tr><td>4</td><td>4</td><td>0</td><td>4392.31161098</td><td>A</td><td>-1</td><td>b''</td></tr>\n",
       "<tr><td>5</td><td>5</td><td>1</td><td>26648.88196045</td><td>G</td><td>-1</td><td>b''</td></tr>\n",
       "<tr><td>6</td><td>6</td><td>1</td><td>290594.82877199</td><td>G</td><td>-1</td><td>b''</td></tr>\n",
       "<tr><td>7</td><td>7</td><td>0</td><td>313563.10963315</td><td>T</td><td>-1</td><td>b''</td></tr>\n",
       "<tr><td>8</td><td>8</td><td>1</td><td>15258.51418614</td><td>T</td><td>-1</td><td>b''</td></tr>\n",
       "<tr><td>9</td><td>9</td><td>0</td><td>2983.32249000</td><td>A</td><td>-1</td><td>b''</td></tr>\n",
       "<tr><td>10</td><td>10</td><td>0</td><td>53922.52629644</td><td>C</td><td>-1</td><td>b''</td></tr>\n",
       "\n",
       "                    </tbody>\n",
       "                </table>\n",
       "            </div>\n",
       "        "
      ],
      "text/plain": [
       "<tskit.tables.MutationTable at 0x2b656b8fdee0>"
      ]
     },
     "execution_count": 66,
     "metadata": {},
     "output_type": "execute_result"
    }
   ],
   "source": [
    "mutated_ts.tables.mutations"
   ]
  },
  {
   "cell_type": "code",
   "execution_count": 67,
   "metadata": {},
   "outputs": [
    {
     "name": "stdout",
     "output_type": "stream",
     "text": [
      "Variant(site=Site(id=0, position=131.0, ancestral_state='T', mutations=[Mutation(id=0, site=0, node=1, derived_state='A', parent=-1, metadata=b'', time=265107.50463664)], metadata=b''), alleles=('T', 'A'), genotypes=array([0, 1], dtype=int8))\n",
      "Variant(site=Site(id=1, position=133.0, ancestral_state='C', mutations=[Mutation(id=1, site=1, node=1, derived_state='T', parent=-1, metadata=b'', time=296295.37901647814)], metadata=b''), alleles=('C', 'T'), genotypes=array([0, 1], dtype=int8))\n",
      "Variant(site=Site(id=2, position=199.0, ancestral_state='T', mutations=[Mutation(id=2, site=2, node=1, derived_state='C', parent=-1, metadata=b'', time=74972.25545748846)], metadata=b''), alleles=('T', 'C'), genotypes=array([0, 1], dtype=int8))\n",
      "Variant(site=Site(id=3, position=264.0, ancestral_state='A', mutations=[Mutation(id=3, site=3, node=1, derived_state='T', parent=-1, metadata=b'', time=329837.96865893266)], metadata=b''), alleles=('A', 'T'), genotypes=array([0, 1], dtype=int8))\n",
      "Variant(site=Site(id=4, position=382.0, ancestral_state='C', mutations=[Mutation(id=4, site=4, node=0, derived_state='A', parent=-1, metadata=b'', time=4392.311610979622)], metadata=b''), alleles=('C', 'A'), genotypes=array([1, 0], dtype=int8))\n",
      "Variant(site=Site(id=5, position=562.0, ancestral_state='T', mutations=[Mutation(id=5, site=5, node=1, derived_state='G', parent=-1, metadata=b'', time=26648.881960453444)], metadata=b''), alleles=('T', 'G'), genotypes=array([0, 1], dtype=int8))\n",
      "Variant(site=Site(id=6, position=586.0, ancestral_state='A', mutations=[Mutation(id=6, site=6, node=1, derived_state='G', parent=-1, metadata=b'', time=290594.82877199416)], metadata=b''), alleles=('A', 'G'), genotypes=array([0, 1], dtype=int8))\n",
      "Variant(site=Site(id=7, position=592.0, ancestral_state='C', mutations=[Mutation(id=7, site=7, node=0, derived_state='T', parent=-1, metadata=b'', time=313563.1096331488)], metadata=b''), alleles=('C', 'T'), genotypes=array([1, 0], dtype=int8))\n",
      "Variant(site=Site(id=8, position=1741.0, ancestral_state='A', mutations=[Mutation(id=8, site=8, node=1, derived_state='T', parent=-1, metadata=b'', time=15258.514186139515)], metadata=b''), alleles=('A', 'T'), genotypes=array([0, 1], dtype=int8))\n",
      "Variant(site=Site(id=9, position=2259.0, ancestral_state='C', mutations=[Mutation(id=9, site=9, node=0, derived_state='A', parent=-1, metadata=b'', time=2983.3224900007385)], metadata=b''), alleles=('C', 'A'), genotypes=array([1, 0], dtype=int8))\n",
      "Variant(site=Site(id=10, position=3760.0, ancestral_state='A', mutations=[Mutation(id=10, site=10, node=0, derived_state='C', parent=-1, metadata=b'', time=53922.52629644482)], metadata=b''), alleles=('A', 'C'), genotypes=array([1, 0], dtype=int8))\n"
     ]
    }
   ],
   "source": [
    "for variant in mutated_ts.variants():\n",
    "    print(variant)"
   ]
  },
  {
   "cell_type": "code",
   "execution_count": 70,
   "metadata": {},
   "outputs": [
    {
     "name": "stdout",
     "output_type": "stream",
     "text": [
      "  ID of diploid individual:    0   0\n",
      "       ID of (sample) node:    0   1\n",
      "Site 0 (ancestral state 'T') ['T' 'A']\n",
      "Site 1 (ancestral state 'C') ['C' 'T']\n",
      "Site 2 (ancestral state 'T') ['T' 'C']\n",
      "Site 3 (ancestral state 'A') ['A' 'T']\n",
      "Site 4 (ancestral state 'C') ['A' 'C']\n",
      "...\n"
     ]
    }
   ],
   "source": [
    "samp_ids = mutated_ts.samples()\n",
    "print(\"  ID of diploid individual: \", \" \".join([f\"{mutated_ts.node(s).individual:3}\" for s in samp_ids]))\n",
    "print(\"       ID of (sample) node: \", \" \".join([f\"{s:3}\" for s in samp_ids]))\n",
    "for v in mutated_ts.variants():\n",
    "    site = v.site\n",
    "    alleles = np.array(v.alleles)\n",
    "    print(f\"Site {site.id} (ancestral state '{site.ancestral_state}')\",  alleles[v.genotypes])\n",
    "    if site.id >= 4:  # only print up to site ID 4\n",
    "        print(\"...\")\n",
    "        break"
   ]
  },
  {
   "cell_type": "code",
   "execution_count": 113,
   "metadata": {},
   "outputs": [
    {
     "name": "stdout",
     "output_type": "stream",
     "text": [
      "GTATTGGCAATCTAGTAGAGGACCGGTAGCCCACAGGCGTGTGTGTTCCTTCAAGGATAGAGTAAAAAAATAGAGGCGTCGGTCCGCTAAGCTTAGCATAATCACTCGAGGGTCGACTCTGTAGGGGGCGGGTGCGCAGTCACTTCTACCGACTACTGACTTGAGTAAGATCCACGAGCAGAGGAAGCTCGTCTGGGAACTACATTCGAGCTCAACGGTCTCTGAAGGTAGAGGGATTAGATTATAACCATGTACCGTCAAATGGCGACATGCATGTTAGTTGTGCAGCAGGGCCATTTATTTACCAGTGCTATTTCGGGGCGGACACGTGTCCCCAGACGGGGTCAACAGACCTCCGCGTTGCTAAGAAAATACAACTAATTCGCATTTGTGGCATCTGGTGGTTACTTATGGGTAATTTCTAAAACCAGCGGCAATAGCGGCATAACGACACCGGTACAGGTAGGGCCTAGGTACAGACCATTAATCTACTAATCTGACTATTGCGGTCGTCAGTGTTTTTCCTTTGAGCACTTCATCTCACCGAGCATGATAGTACACTCCCCTTCCACTAGCGGTACCGCTCTCCCTAGAACCAAGTCTCCGCGAAAGGGCATAAATCGGTGCTATAATGAGCACAAGAACGACAGTGCCAAATCGTAGTTCACTTTTAAGACAATTACGATATTCAAACTGGCGAAAGGTAGGGGGAACCAATTTCCGTCACCTTAAGTCACCACAAATAGGATTAAGTGCGAACAGACGTACTATCCGGAATTCACAACTACTCAGTACAATTTCTAGCGGAGCTGGTAAGTTTCCGCTGTTGGATGGCGGACATAAGCACCGCCGTCGATGGAAAACCCCCGGTTAAAGGTAATCTTGGCCTCTGTAAAAACTTAACCAGGCTGCCCTTCATGTCTGGCTTGAAACTTATACACGGAGGCTTTGACCTGTAAGTTCTGTTTACCTAGCAGGCATTGCACCCCCGTTTCCGATG\n"
     ]
    }
   ],
   "source": [
    "import random\n",
    "\n",
    "def DNA(length):\n",
    "    return ''.join(random.choice('CGTA') for i in range(length))\n",
    "\n",
    "print(DNA(1000))"
   ]
  }
 ],
 "metadata": {
  "kernelspec": {
   "display_name": "Python 3 (ipykernel)",
   "language": "python",
   "name": "python3"
  },
  "language_info": {
   "codemirror_mode": {
    "name": "ipython",
    "version": 3
   },
   "file_extension": ".py",
   "mimetype": "text/x-python",
   "name": "python",
   "nbconvert_exporter": "python",
   "pygments_lexer": "ipython3",
   "version": "3.7.10"
  }
 },
 "nbformat": 4,
 "nbformat_minor": 4
}
